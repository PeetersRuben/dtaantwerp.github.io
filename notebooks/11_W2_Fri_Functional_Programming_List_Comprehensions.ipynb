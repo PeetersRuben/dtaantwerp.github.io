{
 "cells": [
  {
   "cell_type": "markdown",
   "metadata": {},
   "source": [
    "<div style=\"background-color:lightgrey;\n",
    "            padding:10px;\n",
    "            color:black;\n",
    "            border:black dashed 2px; \n",
    "            border-radius:5px;\n",
    "            margin: 20px 0;\">\n",
    "            \n",
    "            \n",
    "# Functional Programming & Comprehensions\n",
    "\n",
    "\n",
    "\n",
    "**Staff:** Walter Daelemans <br/>\n",
    "**Support Material:** [exercises](../exercises/Questions_2023/10_EX_functional_programming_list_comprehension.ipynb) <br/>\n",
    "**Support Sessions:**  Tuesday, October 10, 10:30AM\n",
    "\n",
    "</div>"
   ]
  },
  {
   "cell_type": "markdown",
   "metadata": {},
   "source": [
    "## Functional programming\n",
    "\n",
    "Some functions can have functions as arguments, some functions can return functions as output, some functions have no name (they are anonymous) and are created on the fly and forgotten afterwards. Some functions call themselves. Welcome to the world of functional programming.\n"
   ]
  },
  {
   "cell_type": "markdown",
   "metadata": {},
   "source": [
    "Let's start with the idea of functions as arguments. Let's say that depending on the outcome of a test, we want to call a different function. We have two functions, `whisper` and `shout`. In case `angry` is True, the function `compute_result` is called with `shout` as argument and `text` which is what has to be shouted and similar for whisper."
   ]
  },
  {
   "cell_type": "code",
   "execution_count": 3,
   "metadata": {},
   "outputs": [
    {
     "name": "stdout",
     "output_type": "stream",
     "text": [
      "I'M HAVING A FUNCTIONAL ARGUMENT !!!\n"
     ]
    }
   ],
   "source": [
    "def whisper (text):\n",
    "    print(text.lower())\n",
    "\n",
    "def shout (text):\n",
    "    print(text.upper() + ' !!!')\n",
    "\n",
    "def compute_result (fun, text):  # First argument is a function\n",
    "    return fun(text) # Apply the functional argument to the other argument\n",
    "\n",
    "angry = True # also try False\n",
    "\n",
    "if angry:\n",
    "    compute_result(shout, \"I'm having a Functional Argument\")\n",
    "else:\n",
    "    compute_result(whisper, \"I'm having a Functional Argument\")    "
   ]
  },
  {
   "cell_type": "markdown",
   "metadata": {},
   "source": [
    "There are also predefined functions in Python that take functions as arguments. They implement useful programming idioms like filters and maps. We will illustrate their behavior with a few examples, but it should be clear why they are useful.\n",
    "\n",
    "A **filter** takes a test and a sequence as input, and returns a filter that is a an iterator with all elements of the sequence that return True for the test.\n",
    "\n",
    "A **map** takes a function as argument and applies it to all elements in the sequence it gets as second argument. Result is an iterator.\n",
    "\n",
    "These functions are useful because they provide a short and efficient way of doing what otherwise should be done in a loop. That they deliver iterators is a bonus. But while these functions are very useful, they become as good as obsolete as soon as you know how to do comprehensions (we will describe these later in the notebook)..\n"
   ]
  },
  {
   "cell_type": "code",
   "execution_count": 6,
   "metadata": {},
   "outputs": [
    {
     "name": "stdout",
     "output_type": "stream",
     "text": [
      "<filter object at 0x00000233C08E29B0>\n"
     ]
    },
    {
     "data": {
      "text/plain": [
       "[1, 3, 5, 7, 9]"
      ]
     },
     "execution_count": 6,
     "metadata": {},
     "output_type": "execute_result"
    }
   ],
   "source": [
    "def odd (n):\n",
    "    return n%2 != 0       # return n%2 would also work, why? --> because zero and empty lists are false\n",
    "\n",
    "f = filter(odd, range(0, 10))\n",
    "print(f)\n",
    "\n",
    "list(f)"
   ]
  },
  {
   "cell_type": "code",
   "execution_count": 18,
   "metadata": {},
   "outputs": [
    {
     "name": "stdout",
     "output_type": "stream",
     "text": [
      "['Once', 'the', \"queen's\", 'head', 'is', 'severed', 'he', 'walks', 'away']\n",
      "<map object at 0x00000233C08E3BB0>\n",
      "[4, 3, 7, 4, 2, 7, 2, 5, 4]\n"
     ]
    }
   ],
   "source": [
    "mylist = \"Once the queen's head is severed he walks away\".split()\n",
    "print(mylist)\n",
    "\n",
    "m = map(len, mylist)\n",
    "print(m)\n",
    "\n",
    "list(m)\n",
    "\n"
   ]
  },
  {
   "cell_type": "code",
   "execution_count": 20,
   "metadata": {},
   "outputs": [
    {
     "name": "stdout",
     "output_type": "stream",
     "text": [
      "[4, 3, 7, 4, 2, 7, 2, 5, 4]\n"
     ]
    }
   ],
   "source": [
    "#in for loop\n",
    "m2 = []\n",
    "\n",
    "for element in mylist:\n",
    "    m2.append(len(element))\n",
    "print(m2)\n"
   ]
  },
  {
   "cell_type": "code",
   "execution_count": 21,
   "metadata": {},
   "outputs": [
    {
     "data": {
      "text/plain": [
       "[4, 3, 7, 4, 2, 7, 2, 5, 4]"
      ]
     },
     "execution_count": 21,
     "metadata": {},
     "output_type": "execute_result"
    }
   ],
   "source": [
    "# in function\n",
    "\n",
    "def compute_lengths (lst):\n",
    "    result = []\n",
    "    for word in lst:\n",
    "        result.append(len(word))\n",
    "    return result\n",
    "compute_lengths(mylist)"
   ]
  },
  {
   "cell_type": "markdown",
   "metadata": {},
   "source": [
    "## Recursive functions\n",
    "\n",
    "A recursive function is a function that calls itself (each time with different arguments) to solve a repetitive function. It is a functional alternative for the iterative solution that `for` and `while` loops provide. When designing a recursive function, you should think about a number of things:\n",
    "\n",
    "- How to end the recursion (when do you know you are finished and what should you return as a result: what are the end cases?)\n",
    "- How to get from a typical case to one of the end cases\n",
    "- How to combine intermediate results with the end result\n",
    "\n",
    "We give an example of an iterative loop solution and a recursive alternative."
   ]
  },
  {
   "cell_type": "code",
   "execution_count": 22,
   "metadata": {},
   "outputs": [
    {
     "data": {
      "text/plain": [
       "15"
      ]
     },
     "execution_count": 22,
     "metadata": {},
     "output_type": "execute_result"
    }
   ],
   "source": [
    "# Iterative\n",
    "def sum_it (list_of_numbers):\n",
    "    result = 0\n",
    "    for number in list_of_numbers:\n",
    "        result += number\n",
    "    return result\n",
    "\n",
    "sum_it([1, 2, 3, 4, 5])"
   ]
  },
  {
   "cell_type": "code",
   "execution_count": 35,
   "metadata": {},
   "outputs": [
    {
     "name": "stdout",
     "output_type": "stream",
     "text": [
      "[1, 2, 3, 4, 5]\n",
      "[2, 3, 4, 5]\n",
      "[3, 4, 5]\n",
      "[4, 5]\n",
      "[5]\n",
      "[]\n"
     ]
    },
    {
     "data": {
      "text/plain": [
       "15"
      ]
     },
     "execution_count": 35,
     "metadata": {},
     "output_type": "execute_result"
    }
   ],
   "source": [
    "# Recursive\n",
    "def sum_rec (list_of_numbers):\n",
    "    print(list_of_numbers)\n",
    "    if list_of_numbers == []:     # There is one end condition: we have done all numbers the list is empty\n",
    "        return False                  # in that case the result is 0 or False\n",
    "    else:\n",
    "        return list_of_numbers[0] + sum_rec(list_of_numbers[1:])  \n",
    "        # We add the first number of the sequence to the result of the recursive application of \n",
    "        # the function to the rest of the sequence\n",
    "        # in the end we will have done 1 + 2 + 3 + 4 + 5 + 0\n",
    "        \n",
    "sum_rec ([1, 2, 3, 4, 5])"
   ]
  },
  {
   "cell_type": "code",
   "execution_count": 46,
   "metadata": {},
   "outputs": [
    {
     "name": "stdout",
     "output_type": "stream",
     "text": [
      "['Once', 'the', \"queen's\", 'head', 'is', 'severed', 'he', 'walks', 'away']\n",
      "['the', \"queen's\", 'head', 'is', 'severed', 'he', 'walks', 'away']\n",
      "[\"queen's\", 'head', 'is', 'severed', 'he', 'walks', 'away']\n",
      "['head', 'is', 'severed', 'he', 'walks', 'away']\n",
      "['is', 'severed', 'he', 'walks', 'away']\n",
      "['severed', 'he', 'walks', 'away']\n",
      "['he', 'walks', 'away']\n",
      "['walks', 'away']\n",
      "['away']\n",
      "[]\n"
     ]
    },
    {
     "data": {
      "text/plain": [
       "[4, 3, 7, 4, 2, 7, 2, 5, 4]"
      ]
     },
     "execution_count": 46,
     "metadata": {},
     "output_type": "execute_result"
    }
   ],
   "source": [
    "lst  = \"Once the queen's head is severed he walks away\".split()\n",
    "\n",
    "# Recursive\n",
    "\n",
    "def len_rec (lst):\n",
    "    print(lst)\n",
    "    if lst == []:    \n",
    "        return []                 \n",
    "    else:\n",
    "        #r\n",
    "        return [len(lst[0])] + (len_rec(lst[1:]))\n",
    "       \n",
    "        \n",
    "len_rec(lst)"
   ]
  },
  {
   "cell_type": "markdown",
   "metadata": {},
   "source": [
    "## Lambda "
   ]
  },
  {
   "cell_type": "markdown",
   "metadata": {},
   "source": [
    "Lambda is used to define an **anonymous** function, one that has no name. Lambda allows us to define functions on the fly. Syntactically, they consist of the keyword lambda, followed by arguments (as in a normal funtion), followed by colon, followed by the function body.\n",
    "\n",
    "We'll illustrate first with `map`."
   ]
  },
  {
   "cell_type": "code",
   "execution_count": null,
   "metadata": {},
   "outputs": [],
   "source": [
    "# define a map that reverses every word in a sequence\n",
    "\n",
    "list(map(lambda x: x[::-1], ['The', 'word', 'palindrome', 'is', 'not', 'a', 'palindrome']))"
   ]
  },
  {
   "cell_type": "markdown",
   "metadata": {},
   "source": [
    "Of course we could have defined a function for reversing and have used that in the map, but in cases where we know we will not need that function anymore in our program, an 'on the fly' lambda is preferable."
   ]
  },
  {
   "cell_type": "code",
   "execution_count": null,
   "metadata": {},
   "outputs": [],
   "source": [
    "def reverse_word (word):\n",
    "    return word[::-1]\n",
    "\n",
    "list(map(reverse_word, ['The', 'word', 'palindrome', 'is', 'not', 'a', 'palindrome']))"
   ]
  },
  {
   "cell_type": "code",
   "execution_count": 50,
   "metadata": {},
   "outputs": [
    {
     "data": {
      "text/plain": [
       "['Elizabeth', 'Tudor', 'last', 'line', 'of', 'the', 'the', 'was']"
      ]
     },
     "execution_count": 50,
     "metadata": {},
     "output_type": "execute_result"
    }
   ],
   "source": [
    "# lambda is also useful in sorting\n",
    "\n",
    "mylist = \"Elizabeth was the last of the Tudor line\".split()\n",
    "sorted(mylist, reverse  = False)\n"
   ]
  },
  {
   "cell_type": "code",
   "execution_count": null,
   "metadata": {},
   "outputs": [],
   "source": [
    "sorted(mylist, key = lambda x: x[::-1])  # sorts on last letter"
   ]
  },
  {
   "cell_type": "code",
   "execution_count": null,
   "metadata": {},
   "outputs": [],
   "source": [
    "sorted(mylist, key = lambda x: x[1]) # sorts on second letter"
   ]
  },
  {
   "cell_type": "markdown",
   "metadata": {},
   "source": [
    "## Comprehensions\n",
    "\n",
    "Comprehensions, such a list comprehensions or tuple comprehensions or dictionary comprehensions provide an elegant and compact way to do what otherwise would have to be done in a loop. Typically, comprehensions can be written in a single line of Python code, which makes them both easy to write and easy to read once you get the hang of it.\n",
    "\n",
    "Let's start with an example of a `list comprehension`. We want to make a filter that extracts capitalized words from a list of words. We have seen how to do that with a `for loop`."
   ]
  },
  {
   "cell_type": "code",
   "execution_count": 51,
   "metadata": {},
   "outputs": [
    {
     "name": "stdout",
     "output_type": "stream",
     "text": [
      "['I', 'know', 'Lisp', 'and', 'Prolog', 'but', 'they', 'are', 'not', 'as', 'much', 'use', 'as', 'Python', 'apparently']\n"
     ]
    }
   ],
   "source": [
    "word_list = (\"I know Lisp and Prolog but they are not as much use as Python apparently\".split())\n",
    "print(word_list)"
   ]
  },
  {
   "cell_type": "code",
   "execution_count": 52,
   "metadata": {},
   "outputs": [
    {
     "data": {
      "text/plain": [
       "['I', 'Lisp', 'Prolog', 'Python']"
      ]
     },
     "execution_count": 52,
     "metadata": {},
     "output_type": "execute_result"
    }
   ],
   "source": [
    "result = []\n",
    "for word in word_list:\n",
    "    if word[0].isupper():   # the first letter is uppercase\n",
    "        result.append(word)\n",
    "result"
   ]
  },
  {
   "cell_type": "markdown",
   "metadata": {},
   "source": [
    "The corresponding comprehension would be the following:"
   ]
  },
  {
   "cell_type": "code",
   "execution_count": 53,
   "metadata": {},
   "outputs": [
    {
     "data": {
      "text/plain": [
       "['I', 'Lisp', 'Prolog', 'Python']"
      ]
     },
     "execution_count": 53,
     "metadata": {},
     "output_type": "execute_result"
    }
   ],
   "source": [
    "[w for w in word_list if w[0].isupper()]"
   ]
  },
  {
   "cell_type": "code",
   "execution_count": 57,
   "metadata": {},
   "outputs": [],
   "source": [
    "#[l for w in word_list for l in w] ##toy function"
   ]
  },
  {
   "cell_type": "markdown",
   "metadata": {},
   "source": [
    "By using square outer brackets, we indicate that the result will be a list. Inside the brackets are three parts: the output (`w`), the loop (`for w in word_list`), and the test to select the output `w[0].isupper()`. Suppose we don't want to filter the input list on the basis of a test but want to transform each element into something else (for example the length of the word. We could do the following."
   ]
  },
  {
   "cell_type": "code",
   "execution_count": 58,
   "metadata": {},
   "outputs": [
    {
     "data": {
      "text/plain": [
       "[1, 4, 4, 3, 6, 3, 4, 3, 3, 2, 4, 3, 2, 6, 10]"
      ]
     },
     "execution_count": 58,
     "metadata": {},
     "output_type": "execute_result"
    }
   ],
   "source": [
    "[len(w) for w in word_list]"
   ]
  },
  {
   "cell_type": "markdown",
   "metadata": {},
   "source": [
    "We can also do embedded loops. Write code that extracts all vowels from all words that are capitalized in a list of words. First the normal embedded loop, then the comprehension. Let's make the comprehension a tuple!"
   ]
  },
  {
   "cell_type": "code",
   "execution_count": 59,
   "metadata": {},
   "outputs": [
    {
     "data": {
      "text/plain": [
       "['I', 'i', 'o', 'o', 'o']"
      ]
     },
     "execution_count": 59,
     "metadata": {},
     "output_type": "execute_result"
    }
   ],
   "source": [
    "result = []\n",
    "for word in word_list:\n",
    "    if word[0].isupper():\n",
    "        for letter in word:\n",
    "            if letter in \"AEIOUaeiou\":\n",
    "                result.append (letter)\n",
    "result\n",
    "        "
   ]
  },
  {
   "cell_type": "code",
   "execution_count": 61,
   "metadata": {},
   "outputs": [
    {
     "data": {
      "text/plain": [
       "['I', 'i', 'o', 'o', 'o']"
      ]
     },
     "execution_count": 61,
     "metadata": {},
     "output_type": "execute_result"
    }
   ],
   "source": [
    "[letter for word in word_list if word[0].isupper() for letter in word if letter in \"AEIOUaeiou\"]"
   ]
  },
  {
   "cell_type": "markdown",
   "metadata": {},
   "source": [
    "This starts looking complex, but keep the structure in mind and you will be fine: always start with the output (here represented by `letter`) and look at each `for` expression from left to right as going from outer loop to inner loop. "
   ]
  },
  {
   "cell_type": "markdown",
   "metadata": {},
   "source": [
    "Comprehensions work well together with `zip` and `range`. For example make a list of the sums of the first 10 even and the first 10 odd numbers between 1 to 20. "
   ]
  },
  {
   "cell_type": "code",
   "execution_count": 72,
   "metadata": {},
   "outputs": [
    {
     "data": {
      "text/plain": [
       "[(2, 1),\n",
       " (4, 3),\n",
       " (6, 5),\n",
       " (8, 7),\n",
       " (10, 9),\n",
       " (12, 11),\n",
       " (14, 13),\n",
       " (16, 15),\n",
       " (18, 17),\n",
       " (20, 19)]"
      ]
     },
     "execution_count": 72,
     "metadata": {},
     "output_type": "execute_result"
    }
   ],
   "source": [
    "#zip combines two lists\n",
    "list(zip(evens, odds))\n",
    "#but returns tuples"
   ]
  },
  {
   "cell_type": "code",
   "execution_count": 71,
   "metadata": {},
   "outputs": [
    {
     "data": {
      "text/plain": [
       "[3, 7, 11, 15, 19, 23, 27, 31, 35, 39]"
      ]
     },
     "execution_count": 71,
     "metadata": {},
     "output_type": "execute_result"
    }
   ],
   "source": [
    "first_20_numbers = range(1, 21)\n",
    "evens = [n for n in first_20_numbers if n%2 == 0]\n",
    "odds = [n for n in first_20_numbers if n%2 != 0]\n",
    "[n1 + n2 for n1, n2 in zip(evens, odds)]\n",
    "\n"
   ]
  },
  {
   "cell_type": "markdown",
   "metadata": {},
   "source": [
    "Finally, it is even possible to create dictionaries with comprehensions. For example, use a comprehension to create a dictionary with words in an input list as keys and as values a representation of that word as a string consisting of a concatenation of the first letter and the length."
   ]
  },
  {
   "cell_type": "code",
   "execution_count": 73,
   "metadata": {},
   "outputs": [
    {
     "data": {
      "text/plain": [
       "{'I': 'I1',\n",
       " 'know': 'k4',\n",
       " 'Lisp': 'L4',\n",
       " 'and': 'a3',\n",
       " 'Prolog': 'P6',\n",
       " 'but': 'b3',\n",
       " 'they': 't4',\n",
       " 'are': 'a3',\n",
       " 'not': 'n3',\n",
       " 'as': 'a2',\n",
       " 'much': 'm4',\n",
       " 'use': 'u3',\n",
       " 'Python': 'P6',\n",
       " 'apparently': 'a10'}"
      ]
     },
     "execution_count": 73,
     "metadata": {},
     "output_type": "execute_result"
    }
   ],
   "source": [
    "{word : word[0]+str(len(word)) for word in word_list}"
   ]
  },
  {
   "cell_type": "markdown",
   "metadata": {},
   "source": [
    "Python even took into acount that in a dictionary keys should not be repeated, so 'as' which occurs twice in the input list  occurs only once in the dictionary! Compare this with an alternative list of lists comprehension."
   ]
  },
  {
   "cell_type": "code",
   "execution_count": 74,
   "metadata": {},
   "outputs": [
    {
     "data": {
      "text/plain": [
       "[['I', 'I1'],\n",
       " ['know', 'k4'],\n",
       " ['Lisp', 'L4'],\n",
       " ['and', 'a3'],\n",
       " ['Prolog', 'P6'],\n",
       " ['but', 'b3'],\n",
       " ['they', 't4'],\n",
       " ['are', 'a3'],\n",
       " ['not', 'n3'],\n",
       " ['as', 'a2'],\n",
       " ['much', 'm4'],\n",
       " ['use', 'u3'],\n",
       " ['as', 'a2'],\n",
       " ['Python', 'P6'],\n",
       " ['apparently', 'a10']]"
      ]
     },
     "execution_count": 74,
     "metadata": {},
     "output_type": "execute_result"
    }
   ],
   "source": [
    "[[word, word[0]+str(len(word))] for word in word_list]"
   ]
  },
  {
   "cell_type": "markdown",
   "metadata": {},
   "source": [
    "**Programming style**. Comprehensions and functional programming lead to compact programming idioms typical for Python (Pythonesk). Because they are  compact they are mostly easy to write, read and understand. But that is not always the case: compact can also be confusing and unclear. It always remains important to document your code, think about program decomposition,  and choose informative function and variable names."
   ]
  }
 ],
 "metadata": {
  "kernelspec": {
   "display_name": "Python 3 (ipykernel)",
   "language": "python",
   "name": "python3"
  },
  "language_info": {
   "codemirror_mode": {
    "name": "ipython",
    "version": 3
   },
   "file_extension": ".py",
   "mimetype": "text/x-python",
   "name": "python",
   "nbconvert_exporter": "python",
   "pygments_lexer": "ipython3",
   "version": "3.11.4"
  }
 },
 "nbformat": 4,
 "nbformat_minor": 4
}
