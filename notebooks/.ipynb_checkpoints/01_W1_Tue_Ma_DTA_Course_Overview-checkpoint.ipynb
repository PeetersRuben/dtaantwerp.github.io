{
 "cells": [
  {
   "cell_type": "markdown",
   "metadata": {},
   "source": [
    "<div style=\"background-color:lightgrey;\n",
    "            padding:10px;\n",
    "            color:black;\n",
    "            border:black dashed 2px; \n",
    "            border-radius:5px;\n",
    "            margin: 20px 0;\">\n",
    "            \n",
    "            \n",
    "# Ma DTA Course Overview\n",
    "\n",
    "\n",
    "\n",
    "**Staff:** Walter Daelemans <br/>\n",
    "**Support Material:** None <br/>\n",
    "**Support Sessions:**  None\n",
    "\n",
    "</div>"
   ]
  },
  {
   "cell_type": "markdown",
   "metadata": {},
   "source": [
    "# Introduction to Jupyter Notebook"
   ]
  },
  {
   "cell_type": "markdown",
   "metadata": {},
   "source": [
    "## 0. Jupyter Notebooks\n",
    "\n",
    "Jupyter notebooks are based on the idea of a [narrative](https://docs.jupyter.org/en/latest/use/use-cases/narrative-hub.html) or telling a story. Much like a scientist's notebook which contains data observations alongside analytic narrative, the Jupyter Notebook offers a way for writing text interspersed with Python code. The narrative and code are assembled underneath the hood using HTML and Javascript. You shouldn't need to worry about this, but it is good to know what's going on. \n",
    "\n",
    "The text you're reading now is written in what's known as [Markdown](https://github.com/adam-p/markdown-here/wiki/Markdown-Cheatsheet). The link there contains a cheatsheet about how to write pretty text in markdown. You can do things like add **bolded text** by wrapping text with double asterisks: `**your text here**`. Or you can indicate headings with a hashtag: `# A Primary Heading` or `## A Secondary Heading`. \n",
    "\n",
    "### Cells\n",
    "\n",
    "Jupyter notebooks are divided into \"cells\". These are boxes that you can arbitrarily add and sort according to your needs. This text is currently contained in a cell that is marked for \"Markdown\" text. You can see this by selecting this cell and looking at the label in the selector above:"
   ]
  },
  {
   "cell_type": "markdown",
   "metadata": {},
   "source": [
    "* Cells in a notebook contain code or text. If you run a cell, it will either run the code or render the text.\n",
    "* There are five ways to run a cell:\n",
    "    1. Click the \"play\" button next to the \"stop\" and \"refresh\" button in the toolbar.\n",
    "    2. `Alt` + `Enter` runs the current cell and creates a new cell.\n",
    "    3. `Ctrl` + `Enter` runs the current cell without creating a new cell. (= `Cmd` + `Enter` on a Mac.)\n",
    "    4. `Shift` + `Enter` runs the current cell and moves to the next one.\n",
    "    5. Use the menu and select `Run`/`Run selected cells` or `Run`/`Run all cells` to run the entire notebook (not recommended at this stage)."
   ]
  },
  {
   "cell_type": "markdown",
   "metadata": {},
   "source": [
    "* You can create a new cell by hitting the \"+\" button on top. "
   ]
  },
  {
   "cell_type": "markdown",
   "metadata": {},
   "source": [
    "* The instructions are written in Markdown. You can select whether a cell should contain markdown or code by clicking on the drop-down menue on top. [Here](https://github.com/adam-p/markdown-here/wiki/Markdown-Cheatsheet) is a nice Markdown cheatsheet if you want to write some more."
   ]
  },
  {
   "cell_type": "markdown",
   "metadata": {},
   "source": [
    "* Explore the menus for more options. And don't forget to save your work before closing a session, using the disk icon."
   ]
  },
  {
   "cell_type": "markdown",
   "metadata": {},
   "source": [
    "## 1. Getting started together\n",
    "\n",
    "\n",
    "### Hello, world!\n",
    "\n",
    "Let's start with something really simple. \n",
    "\n",
    "Every programming language is traditionally introduced with a \"Hello world\" example. Please run the following cell:"
   ]
  },
  {
   "cell_type": "code",
   "execution_count": null,
   "metadata": {},
   "outputs": [],
   "source": [
    "# this will print some text\n",
    "print(\"Hello, world!\")"
   ]
  },
  {
   "cell_type": "markdown",
   "metadata": {},
   "source": [
    "What happened here? \n",
    "\n",
    "Python has a large set of **built-in functions**, and **`print()`** is one of them. When you use this function, `print()` outputs its **argument** to the screen. 'Argument' is a fancy word for \"object you put in a function\". In this case, the argument is the string \"Hello, world!\". And **string** just means \"a sequence of characters\".\n",
    "\n",
    "Did you also notice the first line starting with a hash (`#`) character? This is called a **comment**. We use comments to document our code and explain what's happening. These lines are not executed in Python. We will use them a lot in this course to make our code easy to understand!"
   ]
  },
  {
   "cell_type": "markdown",
   "metadata": {},
   "source": [
    "Can you edit the block below in such a way that it will print out your own name?"
   ]
  },
  {
   "cell_type": "code",
   "execution_count": null,
   "metadata": {},
   "outputs": [],
   "source": [
    "print(\"Hello, world!\")"
   ]
  },
  {
   "cell_type": "markdown",
   "metadata": {},
   "source": [
    "## Returning vs Printing"
   ]
  },
  {
   "cell_type": "code",
   "execution_count": null,
   "metadata": {},
   "outputs": [],
   "source": [
    "\"Hello\""
   ]
  },
  {
   "cell_type": "code",
   "execution_count": null,
   "metadata": {},
   "outputs": [],
   "source": [
    "print('Hello')"
   ]
  },
  {
   "cell_type": "markdown",
   "metadata": {},
   "source": [
    "### Calculating\n",
    "Apart from printing some text to your screen, you can also use Python to do calculations."
   ]
  },
  {
   "cell_type": "code",
   "execution_count": null,
   "metadata": {},
   "outputs": [],
   "source": [
    "# summing\n",
    "print(3+2)"
   ]
  },
  {
   "cell_type": "code",
   "execution_count": null,
   "metadata": {},
   "outputs": [],
   "source": [
    "# subtracting\n",
    "print(7-1)"
   ]
  },
  {
   "cell_type": "code",
   "execution_count": null,
   "metadata": {},
   "outputs": [],
   "source": [
    "# multiplication\n",
    "print(3*3)\n",
    "\n",
    "# division\n",
    "print(10/3)"
   ]
  },
  {
   "cell_type": "code",
   "execution_count": null,
   "metadata": {},
   "outputs": [],
   "source": [
    "# power\n",
    "print(5**2)\n",
    "\n",
    "# combining stuff\n",
    "print(5*2-3+4/2)"
   ]
  },
  {
   "cell_type": "code",
   "execution_count": null,
   "metadata": {},
   "outputs": [],
   "source": [
    "#using brackets to tell python what to calculate first:\n",
    "print((5+5)*(8+2))\n",
    "# compared to:\n",
    "print(5+5*8+2)\n",
    "#Can you tell what is happening in these examples?"
   ]
  }
 ],
 "metadata": {
  "anaconda-cloud": {},
  "kernelspec": {
   "display_name": "Python 3 (ipykernel)",
   "language": "python",
   "name": "python3"
  },
  "language_info": {
   "codemirror_mode": {
    "name": "ipython",
    "version": 3
   },
   "file_extension": ".py",
   "mimetype": "text/x-python",
   "name": "python",
   "nbconvert_exporter": "python",
   "pygments_lexer": "ipython3",
   "version": "3.11.4"
  }
 },
 "nbformat": 4,
 "nbformat_minor": 4
}
