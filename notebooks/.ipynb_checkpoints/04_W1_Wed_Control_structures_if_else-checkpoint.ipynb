{
 "cells": [
  {
   "cell_type": "markdown",
   "metadata": {},
   "source": [
    "# Logical Expressions\n",
    "\n",
    "You may have touched on this in your last class, but logical expressions are an important part of `if` and `else` so we will go through it again.\n",
    "\n",
    "A logical expression is a test that resolves to a boolean value.\n",
    "\n",
    "A boolean value is either `True` or `False` and nothing else.\n",
    "\n",
    "In Python, we can test almost anything. Here are some of the main numerical tests that we will try out today:"
   ]
  },
  {
   "cell_type": "markdown",
   "metadata": {},
   "source": [
    "## Greater than and Less than"
   ]
  },
  {
   "cell_type": "markdown",
   "metadata": {},
   "source": [
    "<div style=\"background-color:lightgrey;\n",
    "            padding:10px;\n",
    "            color:black;\n",
    "            border:black dashed 2px; \n",
    "            border-radius:5px;\n",
    "            margin: 20px 0;\">\n",
    "            \n",
    "            \n",
    "# Control Structures: if & else\n",
    "\n",
    "\n",
    "\n",
    "**Staff:** Nooshin Asadi <br/>\n",
    "**Support Material:** [exercises](04_W1_Wed_Control_structures_if_else.ipynb)  <br/>\n",
    "**Support Sessions:**  Tuesday, October 3 at 10:30 AM\n",
    "\n",
    "</div>\n",
    "\n",
    "\n",
    "## Control Structures\n",
    "\n",
    "This is the first class in a series on **control structures**, which tell the computer how to interpret your code. They are essential to programming, because they allow to control when certain pieces of code get executed (or not).\n",
    "\n",
    "## Logic Structure\n",
    "\n",
    "**Control structures** all represent logic constructions. For example, for `if` and `else`:\n",
    "\n",
    "1. **If** it is raining, take an umbrella. **Else**, forget it.\n",
    "\n",
    "2. **If** the traffic light is red, stop. **Else**, go. (But what about an orange/amber traffic light? We'll come to that one!) \n",
    "\n",
    "<div style=\"background-color: lightgrey;\n",
    "color: black;\n",
    "padding: 10px;\n",
    "border: lightgrey 3px solid;\n",
    "border-radius: 10px;\n",
    "     width:50%\">\n",
    "    \n",
    "<h2> TIP: From prose to code (and vice versa) </h2>\n",
    "\n",
    "Converting code into prose (and vice versa) is a useful way of understanding what a system does. Python was designed to be easily read, and as you improve, you'll get more proficient at reading it. Eventually, it will feel less like 'translating'.\n",
    "\n",
    "</div>\n",
    "\n",
    "### Structure: if, test, do something\n",
    "\n",
    "All of these examples use a similar structure: **test something and then do an action** (depending on the outcome of the test). \n",
    "\n",
    "This is an important and recurring approach in programming, because it is reliable and predictable.\n",
    "\n",
    "## `if` and `else` in Python\n",
    "\n",
    "All programming languages use control structures and Python has its own way of doing it.\n",
    "\n",
    "To understand control structures, we need to understand three key concepts; **keywords**, **whitespace** (or indentation), and **logical expressions**. These are a really big deal in Python, so take your time to practice them and try to figure them out properly. \n",
    "\n",
    "### Keywords\n",
    "\n",
    "Keywords are a limited set of reserved terms that Python uses for specific actions. You already encountered a few, like `is`. Here is a handy [list of all Python keywords](https://www.w3schools.com/python/python_ref_keywords.asp).\n",
    "\n",
    "Today we will use three keywords: `if`, `else`, and their weird cousin `elif`.\n",
    "\n",
    "\n",
    "### Logical Expressions\n",
    "\n",
    "A logical expression is a statement that evaluates to `True` or `False`. In short, it is a test or a check. Some examples in prose are \"Is the traffic light green?\", \"Is it raining?\", or \"Is this number larger than 5?\", etc.\n",
    "\n",
    "\n",
    "### Whitespace\n",
    "\n",
    "Whitespace is pretty simple. It's the stuff that separates words. That could be tabs, newline symbols, or spaces. In Python, a tab signifies an entry into a **block of code**. This kind of whitespace is also called indentation.\n",
    "\n",
    "```python\n",
    "a_number = 5\n",
    "\n",
    "if a_number > 7:\n",
    "    print('Hello World')\n",
    "```\n",
    "\n",
    "In the example above, the tab before `print` separates that statement from the rest of the code (i.e., it separates the action from its condition). That is what we mean by \"whitespace\". The tab can be an actual tab character or 4 consecutive spaces. Jupyter uses 4 white spaces by default, which is also most common.\n",
    " \n",
    "The end of the indented block tells the interpreter that the `if` statement has ended. The interpreter will then handle all further code irrespective of the `if` statement.\n",
    "\n",
    "<div style=\"background-color: lightgrey;\n",
    "color: black;\n",
    "padding: 10px;\n",
    "border: lightgrey 3px solid;\n",
    "border-radius: 10px;\n",
    "     width:50%\">\n",
    "<h2> The beauty of Python: spaces hold meaning </h2>\n",
    "\n",
    "Python gives whitespace semantic meaning.\n",
    "    \n",
    "Most other programming languages don't treat whitespace in such a way.\n",
    "    \n",
    "Instead, they use a separate keyword like `endif` or punctuation like `}` to end the if statement. The proponents of those languages (you can call them haters if you want), say that Python is crazy. Python fans call it beautiful.\n",
    "\n",
    "</div>"
   ]
  },
  {
   "cell_type": "code",
   "execution_count": 1,
   "metadata": {},
   "outputs": [
    {
     "data": {
      "text/plain": [
       "False"
      ]
     },
     "execution_count": 1,
     "metadata": {},
     "output_type": "execute_result"
    }
   ],
   "source": [
    "2 > 3"
   ]
  },
  {
   "cell_type": "code",
   "execution_count": 2,
   "metadata": {},
   "outputs": [
    {
     "data": {
      "text/plain": [
       "True"
      ]
     },
     "execution_count": 2,
     "metadata": {},
     "output_type": "execute_result"
    }
   ],
   "source": [
    "2 < 3"
   ]
  },
  {
   "cell_type": "code",
   "execution_count": 3,
   "metadata": {},
   "outputs": [
    {
     "data": {
      "text/plain": [
       "False"
      ]
     },
     "execution_count": 3,
     "metadata": {},
     "output_type": "execute_result"
    }
   ],
   "source": [
    "1 > 2"
   ]
  },
  {
   "cell_type": "code",
   "execution_count": 4,
   "metadata": {},
   "outputs": [
    {
     "data": {
      "text/plain": [
       "True"
      ]
     },
     "execution_count": 4,
     "metadata": {},
     "output_type": "execute_result"
    }
   ],
   "source": [
    "1 < 2"
   ]
  },
  {
   "cell_type": "markdown",
   "metadata": {},
   "source": [
    "## Is equal to"
   ]
  },
  {
   "cell_type": "code",
   "execution_count": 5,
   "metadata": {},
   "outputs": [
    {
     "data": {
      "text/plain": [
       "True"
      ]
     },
     "execution_count": 5,
     "metadata": {},
     "output_type": "execute_result"
    }
   ],
   "source": [
    "3 == 3"
   ]
  },
  {
   "cell_type": "code",
   "execution_count": 6,
   "metadata": {},
   "outputs": [
    {
     "data": {
      "text/plain": [
       "False"
      ]
     },
     "execution_count": 6,
     "metadata": {},
     "output_type": "execute_result"
    }
   ],
   "source": [
    "3 == 4"
   ]
  },
  {
   "cell_type": "markdown",
   "metadata": {},
   "source": [
    "## Is not equal to"
   ]
  },
  {
   "cell_type": "code",
   "execution_count": null,
   "metadata": {},
   "outputs": [],
   "source": [
    "3 != 3"
   ]
  },
  {
   "cell_type": "code",
   "execution_count": null,
   "metadata": {},
   "outputs": [],
   "source": [
    "3 != 4"
   ]
  },
  {
   "cell_type": "markdown",
   "metadata": {},
   "source": [
    "## Is Equal to or Greater than "
   ]
  },
  {
   "cell_type": "code",
   "execution_count": 7,
   "metadata": {},
   "outputs": [
    {
     "data": {
      "text/plain": [
       "True"
      ]
     },
     "execution_count": 7,
     "metadata": {},
     "output_type": "execute_result"
    }
   ],
   "source": [
    "4 >= 4"
   ]
  },
  {
   "cell_type": "markdown",
   "metadata": {},
   "source": [
    "## Is Equal to or Less than"
   ]
  },
  {
   "cell_type": "code",
   "execution_count": 8,
   "metadata": {},
   "outputs": [
    {
     "data": {
      "text/plain": [
       "True"
      ]
     },
     "execution_count": 8,
     "metadata": {},
     "output_type": "execute_result"
    }
   ],
   "source": [
    "4 <= 4"
   ]
  },
  {
   "cell_type": "markdown",
   "metadata": {},
   "source": [
    "# `if`\n",
    "\n",
    "We will now combine these logical expressions with an `if` keyword. \n",
    "\n",
    "`if` involves a test.\n",
    "\n",
    "`if` involves a check. \n",
    "\n",
    "`if` implies a structured (and conditional) action: **if the test is true, then do an action (depending on the result of the test)**\n",
    "\n",
    "In Python, this test is a logical expression, like `3 > 4`, and the action that is to be performed is inside an indented block.\n",
    "\n",
    "<div style=\"background-color: lightgrey;\n",
    "color: black;\n",
    "padding: 10px;\n",
    "border: lightgrey 3px solid;\n",
    "border-radius: 10px;\n",
    "     width:50%\">\n",
    "<h2> Auto-complete </h2>\n",
    "    \n",
    "After the `if` key word and its test (logical expression) comes a colon `:`.\n",
    "\n",
    "After that colon, Jupyter will automatically add a tab and return. How handy...\n",
    "\n",
    "If you forget the colon (it happens to the best of us), no tab will be added. This is a useful way to spot something is not quite right. \n",
    "\n",
    "</div>"
   ]
  },
  {
   "cell_type": "code",
   "execution_count": 19,
   "metadata": {},
   "outputs": [],
   "source": [
    "if 2 > 3:"
   ]
  },
  {
   "cell_type": "markdown",
   "metadata": {},
   "source": [
    "We will now need **white space** and something to do!"
   ]
  },
  {
   "cell_type": "code",
   "execution_count": 20,
   "metadata": {},
   "outputs": [],
   "source": [
    "if 2 > 3:\n",
    "    print('Am I going crazy?')"
   ]
  },
  {
   "cell_type": "code",
   "execution_count": 21,
   "metadata": {},
   "outputs": [
    {
     "name": "stdout",
     "output_type": "stream",
     "text": [
      "All is fine!\n"
     ]
    }
   ],
   "source": [
    "if 2 > 1:\n",
    "    print('All is fine!')"
   ]
  },
  {
   "cell_type": "markdown",
   "metadata": {},
   "source": [
    "- In the first cell nothing was printed because **the test result was False** (2 is not greater than 3), thus **the condition was not met**\n",
    "- In the second cell \"All is fine!\" was printed because **the test result was True** (2 is greater than 1), thus **the condition was met**"
   ]
  },
  {
   "cell_type": "markdown",
   "metadata": {},
   "source": [
    "# *Class Exercise*    \n",
    "Using numerical logical expressions as above (e.g., `3 > 4`), make the following if statements.\n"
   ]
  },
  {
   "cell_type": "code",
   "execution_count": 22,
   "metadata": {},
   "outputs": [
    {
     "name": "stdout",
     "output_type": "stream",
     "text": [
      "5\n"
     ]
    }
   ],
   "source": [
    "# if a number is more than 3, print the number\n",
    "\n",
    "x = 5\n",
    "\n",
    "if x>3:\n",
    "    print(x)"
   ]
  },
  {
   "cell_type": "code",
   "execution_count": 25,
   "metadata": {},
   "outputs": [
    {
     "name": "stdout",
     "output_type": "stream",
     "text": [
      "same same\n"
     ]
    }
   ],
   "source": [
    "# if two numbers are the same print 'same same'\n",
    "\n",
    "x = 4\n",
    "y = 4\n",
    "\n",
    "# code here\n",
    "if x == y:\n",
    "    print('same same')\n",
    "    "
   ]
  },
  {
   "cell_type": "code",
   "execution_count": 34,
   "metadata": {},
   "outputs": [
    {
     "name": "stdout",
     "output_type": "stream",
     "text": [
      "not the same\n"
     ]
    }
   ],
   "source": [
    "# if two numbers are different print 'not the same'\n",
    "x = 4\n",
    "y = 5\n",
    "\n",
    "if x != y:\n",
    "    print(\"not the same\")"
   ]
  },
  {
   "cell_type": "code",
   "execution_count": 37,
   "metadata": {},
   "outputs": [
    {
     "name": "stdout",
     "output_type": "stream",
     "text": [
      "not same\n"
     ]
    }
   ],
   "source": [
    "# try some of your own ...\n",
    "x = 4\n",
    "y = 5\n",
    "\n",
    "if (x == y) == False:\n",
    "    print(\"not same\")\n"
   ]
  },
  {
   "cell_type": "markdown",
   "metadata": {},
   "source": [
    "<div style=\"background-color: lightgrey;\n",
    "color: black;\n",
    "padding: 10px;\n",
    "border: lightgrey 3px solid;\n",
    "border-radius: 10px;\n",
    "     width:50%\">\n",
    "<h2> Strings </h2>\n",
    "    \n",
    "We will now use strings to test our if statements.\n",
    "\n",
    "Remember that we signify strings with a `'`. \n",
    "\n",
    "Otherwise, Python will not recognise them.\n",
    "\n",
    "</div>\n",
    "\n",
    "\n",
    "## Nested Conditions\n",
    "\n",
    "We can also combine multiple tests. So we can 'nest' conditions that need to be met to perform actions."
   ]
  },
  {
   "cell_type": "code",
   "execution_count": 38,
   "metadata": {},
   "outputs": [],
   "source": [
    "age = 19\n",
    "location = 'us'\n",
    "\n",
    "if age > 18:\n",
    "    if location != 'us':\n",
    "        print('you can drink')\n",
    "        \n",
    "# If this is all you wanted to, \n",
    "# there's a more elegant way that we explore below"
   ]
  },
  {
   "cell_type": "markdown",
   "metadata": {},
   "source": [
    "# `else`\n",
    "\n",
    "`else` comes after `if` and cannot occur on its own.\n",
    "\n",
    "`else` is a *catch all* clause that catches any result other than `True` to the `if` statement."
   ]
  },
  {
   "cell_type": "code",
   "execution_count": 39,
   "metadata": {},
   "outputs": [
    {
     "name": "stdout",
     "output_type": "stream",
     "text": [
      "go\n"
     ]
    }
   ],
   "source": [
    "traffic_light = 'green'\n",
    "\n",
    "if traffic_light == 'red':\n",
    "    print('stop')\n",
    "else:\n",
    "    print('go')"
   ]
  },
  {
   "cell_type": "markdown",
   "metadata": {},
   "source": [
    "The `else` block is executed only when the `if` block is not."
   ]
  },
  {
   "cell_type": "markdown",
   "metadata": {},
   "source": [
    "# *Class Exercise*\n",
    "\n",
    "Add a nested if statement to your code above, for an orange/amber traffic light.\n",
    "    </div>"
   ]
  },
  {
   "cell_type": "code",
   "execution_count": 47,
   "metadata": {},
   "outputs": [
    {
     "name": "stdout",
     "output_type": "stream",
     "text": [
      "go fast!!!\n"
     ]
    }
   ],
   "source": [
    "traffic_light = 'orange'\n",
    "\n",
    "if traffic_light == 'red':\n",
    "     print('stop')\n",
    "else:\n",
    "    if traffic_light == 'orange':\n",
    "        print(\"go fast!!!\")\n",
    "    # something goes here ....\n",
    "    else: print('go')"
   ]
  },
  {
   "cell_type": "markdown",
   "metadata": {},
   "source": [
    "# `elif`\n",
    "\n",
    "`elif` is a hybrid of both `if` and `else` \n",
    "\n",
    "`elif` always follows `if` (it cannot be used on its own)\n",
    "\n",
    "`elif` performs a further test on the remainder of the `if`\n",
    "\n",
    "`elif` catches what's left from the first `if` and tests it again, for another condition\n",
    "\n",
    "`elif` is a way of implementing the nested `if` statement you added above\n",
    "\n",
    "`elif` can be used multiple times. Each time it tests on the remainder of the **previous** `if`"
   ]
  },
  {
   "cell_type": "code",
   "execution_count": 49,
   "metadata": {},
   "outputs": [
    {
     "name": "stdout",
     "output_type": "stream",
     "text": [
      "hurry up, almost REEEDDD!!!\n"
     ]
    }
   ],
   "source": [
    "traffic_light = 'amber'\n",
    "\n",
    "if traffic_light == 'red':\n",
    "    print('stop')\n",
    "elif traffic_light == 'amber':\n",
    "    print('hurry up, almost REEEDDD!!!')\n",
    "else:\n",
    "    print('go')"
   ]
  },
  {
   "cell_type": "markdown",
   "metadata": {},
   "source": [
    "We can use an `input` to make things a bit more dynamic"
   ]
  },
  {
   "cell_type": "code",
   "execution_count": null,
   "metadata": {},
   "outputs": [],
   "source": [
    "traffic_light = input('what colour is the traffic light?')\n",
    "\n",
    "if traffic_light == 'red':\n",
    "    print('stop')\n",
    "elif traffic_light == 'amber':\n",
    "    print('wait')\n",
    "elif traffic_light == \"green\":\n",
    "    print('go')\n",
    "else:\n",
    "    print('go slowly')"
   ]
  },
  {
   "cell_type": "markdown",
   "metadata": {},
   "source": [
    "## No overlap, and no loose ends!\n",
    "\n",
    "Good programming is always concise. The `if`-`elif`-`else` structure can introduce areas for vagueness in code. Each test should test something separate to the other test and the structure as a whole should deal with all possible cases.\n",
    "\n",
    "# *Class Exercise*\n",
    "The last traffic light code is flawed. What would happen to the car if there was a power cut?\n",
    "</div>\n",
    "\n",
    "### `>=` and `<=`\n",
    "\n",
    "**Is greater than or equal to** `>=` and its partner in crime **is less than or equal to** `<=` are a common source of unclear code when combined with `if`-`elif`-`else`. They create an overlap between the tests."
   ]
  },
  {
   "cell_type": "code",
   "execution_count": 57,
   "metadata": {},
   "outputs": [
    {
     "name": "stdout",
     "output_type": "stream",
     "text": [
      "elif-condition is met\n"
     ]
    }
   ],
   "source": [
    "a_number = 5\n",
    "\n",
    "if a_number <= 4:\n",
    "    print('if-condition is met')\n",
    "elif a_number > 4:\n",
    "    print('elif-condition is met')"
   ]
  },
  {
   "cell_type": "markdown",
   "metadata": {},
   "source": [
    "In the above example both logical expressions result to `True` but only the `if` gets printed because it came first (so the `elif` no longer gets tested!). Try to avoid such instances by planning for all possible results of a logical expressions. As a rule of thumb, do not use more than one of `<=` or `>=` in an `if`-`elif`-`else` structure. \n",
    "\n",
    "# *Class Exercise* \n",
    "Complete the code below.\n"
   ]
  },
  {
   "cell_type": "code",
   "execution_count": 59,
   "metadata": {},
   "outputs": [
    {
     "name": "stdout",
     "output_type": "stream",
     "text": [
      "steam\n"
     ]
    }
   ],
   "source": [
    "temperature = 100\n",
    "\n",
    "if temperature >= 100:\n",
    "    print('steam')\n",
    "elif temperature < 100:\n",
    "    print('elif')"
   ]
  },
  {
   "cell_type": "markdown",
   "metadata": {},
   "source": [
    "# *Class Exercise* \n",
    "Adapt the code below to deal with unkown answers.\n"
   ]
  },
  {
   "cell_type": "code",
   "execution_count": null,
   "metadata": {},
   "outputs": [],
   "source": [
    "traffic_light = input('what colour is the traffic light?')\n",
    "\n",
    "if traffic_light == 'red':\n",
    "    print('stop')\n",
    "elif traffic_light == 'amber':\n",
    "    print('wait')\n",
    "elif traffic_light == 'green':\n",
    "    print('go')\n",
    "else:    \n",
    "    print('drive slowly and look both ways.')"
   ]
  },
  {
   "cell_type": "markdown",
   "metadata": {},
   "source": [
    "# Testing, testing, testing\n",
    "\n",
    "The key to using `if`,`elif`, and `else` is effective testing. Now that you understand the basics of the `if` statement, we will explore some more tests."
   ]
  },
  {
   "cell_type": "markdown",
   "metadata": {},
   "source": [
    "## Logical Operaters\n",
    "\n",
    "Logical operators are mathematical signs to build tests. You've already used `>` , `<`, `==`, and `!=`, but there are more!\n",
    "\n",
    "Two key ones are `|` and `&`, or and and."
   ]
  },
  {
   "cell_type": "markdown",
   "metadata": {},
   "source": [
    "# `or`      `|`"
   ]
  },
  {
   "cell_type": "code",
   "execution_count": 1,
   "metadata": {},
   "outputs": [
    {
     "name": "stdout",
     "output_type": "stream",
     "text": [
      "what colour is the traffic light?red\n",
      "wait\n"
     ]
    }
   ],
   "source": [
    "traffic_light = input('what colour is the traffic light?')\n",
    "\n",
    "if (traffic_light == 'red') | (traffic_light == 'amber'):\n",
    "    print('wait')\n",
    "else: \n",
    "    print('go')"
   ]
  },
  {
   "cell_type": "markdown",
   "metadata": {},
   "source": [
    "There are two main things going on above. \n",
    "\n",
    "1. We have removed the `elif`.\n",
    "2. We have tested two things in one test. If the light is red. If the light is amber.\n",
    "3. We have used `(` and `)` to denote our expressions."
   ]
  },
  {
   "cell_type": "markdown",
   "metadata": {},
   "source": [
    "# `and`      &\n",
    "\n",
    "Like `or`, and allows us to expand our tests to have multiple criteria."
   ]
  },
  {
   "cell_type": "code",
   "execution_count": 2,
   "metadata": {},
   "outputs": [
    {
     "name": "stdout",
     "output_type": "stream",
     "text": [
      "Temperature : 980\n",
      "that ain't wet\n"
     ]
    }
   ],
   "source": [
    "temperature = int(input('Temperature : '))\n",
    "\n",
    "if (temperature > 0) & (temperature < 100):\n",
    "    print(\"that's wet\")\n",
    "else:\n",
    "    print(\"that ain't wet\")\n"
   ]
  },
  {
   "cell_type": "markdown",
   "metadata": {},
   "source": [
    "## More Keywords\n",
    "\n",
    "Some keywords can be used in logical expressions."
   ]
  },
  {
   "cell_type": "code",
   "execution_count": 3,
   "metadata": {},
   "outputs": [
    {
     "name": "stdout",
     "output_type": "stream",
     "text": [
      "what colour is the traffic light?red\n",
      "wait\n"
     ]
    }
   ],
   "source": [
    "traffic_light = input('what colour is the traffic light?')\n",
    "\n",
    "if (traffic_light == 'red') or (traffic_light == 'amber'):\n",
    "    print('wait')\n",
    "else:\n",
    "    print('go')"
   ]
  },
  {
   "cell_type": "code",
   "execution_count": 4,
   "metadata": {},
   "outputs": [
    {
     "name": "stdout",
     "output_type": "stream",
     "text": [
      "Temperature : 830\n",
      "that ain't wet\n"
     ]
    }
   ],
   "source": [
    "temperature = int(input('Temperature : '))\n",
    "\n",
    "if (temperature > 0) and (temperature < 100):\n",
    "    print(\"that's wet\")\n",
    "else:\n",
    "    print(\"that ain't wet\")"
   ]
  },
  {
   "cell_type": "markdown",
   "metadata": {},
   "source": [
    "# *Class Exercise* \n",
    "Use an `or` operator for the problem below.\n"
   ]
  },
  {
   "cell_type": "code",
   "execution_count": 9,
   "metadata": {},
   "outputs": [
    {
     "name": "stdout",
     "output_type": "stream",
     "text": [
      "Distance Home : 80\n",
      "Fuel Range : 20\n",
      "o no, need to tank!\n"
     ]
    }
   ],
   "source": [
    "distance_home = int(input('Distance Home : '))\n",
    "fuel_range= int(input('Fuel Range : '))\n",
    "distance_to_station = 100\n",
    "\n",
    "if (distance_home < fuel_range) | (distance_to_station < distance_home): # or the distance_to_station is less than the distance_home:\n",
    "    print(\"We're going home\")\n",
    "else:\n",
    "    print('o no, need to tank!')"
   ]
  },
  {
   "cell_type": "markdown",
   "metadata": {},
   "source": [
    "# References\n",
    "\n",
    "- [list of Python keywords](https://www.w3schools.com/python/python_ref_keywords.asp)"
   ]
  }
 ],
 "metadata": {
  "kernelspec": {
   "display_name": "Python 3 (ipykernel)",
   "language": "python",
   "name": "python3"
  },
  "language_info": {
   "codemirror_mode": {
    "name": "ipython",
    "version": 3
   },
   "file_extension": ".py",
   "mimetype": "text/x-python",
   "name": "python",
   "nbconvert_exporter": "python",
   "pygments_lexer": "ipython3",
   "version": "3.11.4"
  },
  "vscode": {
   "interpreter": {
    "hash": "96e0a4d32f1918f770291244863a4a1e044b05d1a3b8d455e2e179187e01062a"
   }
  }
 },
 "nbformat": 4,
 "nbformat_minor": 4
}
