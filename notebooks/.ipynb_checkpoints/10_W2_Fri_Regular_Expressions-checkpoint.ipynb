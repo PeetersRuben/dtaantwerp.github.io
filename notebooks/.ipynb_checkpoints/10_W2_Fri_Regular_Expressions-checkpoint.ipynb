{
 "cells": [
  {
   "cell_type": "markdown",
   "metadata": {},
   "source": [
    "<div style=\"background-color:lightgrey;\n",
    "            padding:10px;\n",
    "            color:black;\n",
    "            border:black dashed 2px; \n",
    "            border-radius:5px;\n",
    "            margin: 20px 0;\">\n",
    "            \n",
    "            \n",
    "# Regular Expressions (RegEx)\n",
    "\n",
    "\n",
    "\n",
    "**Staff:**  Paavo Van der Eecken  <br/>\n",
    "**Support Material:**<br/>\n",
    "- [Tool for constructing and debugging regular expressions](https://regex101.com/)\n",
    "- [Tutorial on RegEx](https://docs.python.org/3.8/howto/regex.html)\n",
    "- [Python RegEx cheat sheet](https://www.dataquest.io/blog/regex-cheatsheet/)\n",
    "- [Exercises](../exercises/Questions_2023/09_EX_regex.ipynb)\n",
    "\n",
    "**Support Sessions:**  Tuesday, October 10, 10:30AM\n",
    "\n",
    "</div>\n"
   ]
  },
  {
   "cell_type": "markdown",
   "metadata": {},
   "source": [
    "## 1. What are Regular Expressions?\n",
    "\n",
    "### Very general definition:\n",
    "\n",
    "**Regular expressions** are used to formalize patterns in character sequences. Any given character sequence (=any string) can be tested against a regular expression. If the pattern occurs in the string, we call this a **match**. In other words: **Regular expressions are used for pattern matching**.\n",
    "\n",
    "One of the most common use cases is the validation of input strings on web forms, e.g., to test if users entered a properly formatted e-mail address or birth date.\n",
    "\n",
    "### A more scientific definition:\n",
    "\"**Pattern matching** consists in finding a section of text that is\n",
    "described (matched) by a regular expression.\n",
    "\n",
    "A **regular expression** is a string containing a combination of normal characters and special metacharacters or metasequences. The normal characters match themselves.\n",
    "**Metacharacters** and metasequences are characters or sequences of characters that represent ideas such as quantity, locations, or types of characters.\"\n",
    "(Stubblebine, Tony. *Regular Expression Pocket Reference*. O'Reilly 2007 )\n",
    "\n",
    "## 2. First examples: have we already seen 'pattern matching' in this course?\n",
    "\n",
    "We have previously seen operations that allowed us to check if a string is contained in another string.\n",
    "\n",
    "### The comparison operator `in`\n",
    "The operator `in` searches for the string on its left side within the string on its right side. If the left side string is included in the right side, the comparison returns *TRUE*, else *FALSE*\n"
   ]
  },
  {
   "cell_type": "code",
   "execution_count": 1,
   "metadata": {},
   "outputs": [
    {
     "data": {
      "text/plain": [
       "True"
      ]
     },
     "execution_count": 1,
     "metadata": {},
     "output_type": "execute_result"
    }
   ],
   "source": [
    "'ab' in 'table'"
   ]
  },
  {
   "cell_type": "code",
   "execution_count": 2,
   "metadata": {},
   "outputs": [
    {
     "data": {
      "text/plain": [
       "False"
      ]
     },
     "execution_count": 2,
     "metadata": {},
     "output_type": "execute_result"
    }
   ],
   "source": [
    "'ab' in 'chair'"
   ]
  },
  {
   "cell_type": "code",
   "execution_count": 3,
   "metadata": {},
   "outputs": [
    {
     "name": "stdout",
     "output_type": "stream",
     "text": [
      "Cat has an a.\n"
     ]
    }
   ],
   "source": [
    "if (\"a\" in \"cat\"):\n",
    "    print (\"Cat has an a.\")\n",
    "else:\n",
    "    print (\"Deadend.\")"
   ]
  },
  {
   "cell_type": "markdown",
   "metadata": {},
   "source": [
    "### The String-Method `string.find(pattern)`\n",
    "Searches for a pattern in a given string. If the pattern is found, it returns the index of the first character (start position), first occurrence. In case of no occurrences, it returns -1.\n"
   ]
  },
  {
   "cell_type": "code",
   "execution_count": 8,
   "metadata": {},
   "outputs": [
    {
     "data": {
      "text/plain": [
       "1"
      ]
     },
     "execution_count": 8,
     "metadata": {},
     "output_type": "execute_result"
    }
   ],
   "source": [
    "'table'.find('a')"
   ]
  },
  {
   "cell_type": "code",
   "execution_count": 7,
   "metadata": {},
   "outputs": [
    {
     "data": {
      "text/plain": [
       "2"
      ]
     },
     "execution_count": 7,
     "metadata": {},
     "output_type": "execute_result"
    }
   ],
   "source": [
    "'table'.find('b')"
   ]
  },
  {
   "cell_type": "code",
   "execution_count": 6,
   "metadata": {},
   "outputs": [
    {
     "data": {
      "text/plain": [
       "2"
      ]
     },
     "execution_count": 6,
     "metadata": {},
     "output_type": "execute_result"
    }
   ],
   "source": [
    "'table'.find('ble')"
   ]
  },
  {
   "cell_type": "code",
   "execution_count": 5,
   "metadata": {},
   "outputs": [
    {
     "data": {
      "text/plain": [
       "-1"
      ]
     },
     "execution_count": 5,
     "metadata": {},
     "output_type": "execute_result"
    }
   ],
   "source": [
    "'table'.find('x') # no occurrence"
   ]
  },
  {
   "cell_type": "code",
   "execution_count": 4,
   "metadata": {},
   "outputs": [
    {
     "data": {
      "text/plain": [
       "1"
      ]
     },
     "execution_count": 4,
     "metadata": {},
     "output_type": "execute_result"
    }
   ],
   "source": [
    "'salad'.find('a') # returns first occurrence, not second one"
   ]
  },
  {
   "cell_type": "markdown",
   "metadata": {},
   "source": [
    "### Writing our own functions for pattern matching?\n",
    "We can write our own functions to find patterns in text strings. However, this is relatively laboursome. To illustrate this, look at the following example:"
   ]
  },
  {
   "cell_type": "code",
   "execution_count": 9,
   "metadata": {},
   "outputs": [],
   "source": [
    "# Does the pattern ('a' followed by anything, followed by 'b') match a string?\n",
    "\n",
    "def mymatch (x, y, text):\n",
    "    'x followed by y with anything in between'\n",
    "    for letter in text:\n",
    "        if letter == x:\n",
    "            pos = text.index(letter)\n",
    "            for letter in text[pos:]:\n",
    "                if letter == y:\n",
    "                    return True\n",
    "    return False"
   ]
  },
  {
   "cell_type": "code",
   "execution_count": 10,
   "metadata": {},
   "outputs": [
    {
     "data": {
      "text/plain": [
       "True"
      ]
     },
     "execution_count": 10,
     "metadata": {},
     "output_type": "execute_result"
    }
   ],
   "source": [
    "mymatch('a', 'b', 'zanzibar')"
   ]
  },
  {
   "cell_type": "markdown",
   "metadata": {},
   "source": [
    "## 3. The Python module \"re\"\n",
    "\n",
    "### 3.1 Importing the ``re`` module\n",
    "Regular expressions are implemented in most programming languages. The module `re` contains the functionality for Python's implementation of regular expressions. To use regular expressions for pattern matching in our code, we must first ``import re``.\n",
    "\n",
    "The following code is a first example that shows how ``re`` is imported and how the module function ``re.findall(pattern**, string)`` is used."
   ]
  },
  {
   "cell_type": "code",
   "execution_count": 11,
   "metadata": {},
   "outputs": [
    {
     "data": {
      "text/plain": [
       "['a', 'a']"
      ]
     },
     "execution_count": 11,
     "metadata": {},
     "output_type": "execute_result"
    }
   ],
   "source": [
    "import re\n",
    "\n",
    "result = re.findall('a', 'zanzibar')\n",
    "result  # result is a list of all matches! In this case 'a' occurs twice in 'zanzibar', therefore result contains a list with two 'a'"
   ]
  },
  {
   "cell_type": "markdown",
   "metadata": {},
   "source": [
    "Notes: \n",
    "- the module function ``re.findall()`` returns a list of all hits, but not their indexes within the string. \n",
    "- pattern\\*\\*: for now we will use static strings as pattern, i.e. we search for 'a' in 'zanzibar'. We will learn to search for abstract patterns (e.g. \"a two-digit number followed by a point\") later.\n",
    "\n",
    "### 3.2 Working with so-called match objects\n",
    "\n",
    "The list returned by ``re.findall()`` is not very powerful, as it tells us nothing about \"where these matches occured in the string\". For more powerful results, the `re` module provides functions that return so called 'match objects'. We will talk more about objects in week 3. For this session, we will try to understand 'match objects' simply by using them in examples.\n",
    "\n",
    "A first example to look at match objects is the module function ``re.match(pattern,string)``"
   ]
  },
  {
   "cell_type": "code",
   "execution_count": 21,
   "metadata": {},
   "outputs": [
    {
     "name": "stdout",
     "output_type": "stream",
     "text": [
      "<re.Match object; span=(0, 3), match='zan'>\n",
      "0\n",
      "8\n",
      "zanzibar\n",
      "0\n",
      "3\n",
      "(0, 3)\n",
      "zan\n"
     ]
    }
   ],
   "source": [
    "result = re.match('zan','zanzibar')\n",
    "\n",
    "\n",
    "print(result)\n",
    "print(result.pos) #index position of search-start\n",
    "print(result.endpos) #index position of search-end\n",
    "print(result.string) #entire string that was searched\n",
    "print(result.start()) #start index position of match\n",
    "print(result.end()) #end index position of match\n",
    "print(result.span()) # start and end position as a tuple\n",
    "print(result.group()) # returns the match as a group (here: the string 'zan')"
   ]
  },
  {
   "cell_type": "markdown",
   "metadata": {},
   "source": [
    "Match objects have numerous object properties, containing all the important information about the match(es). The example above gives a first impression and helps us to understand how the results can be accessed in our code. \n",
    "\n",
    "Note: In the example above there is a match. Therefore, properties like ``pos``, ``endpos``,``start``, ``end``, ``span`` and ``group`` are available. If there is no match, there is also no match object:"
   ]
  },
  {
   "cell_type": "code",
   "execution_count": 16,
   "metadata": {},
   "outputs": [
    {
     "ename": "AttributeError",
     "evalue": "'NoneType' object has no attribute 'pos'",
     "output_type": "error",
     "traceback": [
      "\u001b[1;31m---------------------------------------------------------------------------\u001b[0m",
      "\u001b[1;31mAttributeError\u001b[0m                            Traceback (most recent call last)",
      "Cell \u001b[1;32mIn[16], line 2\u001b[0m\n\u001b[0;32m      1\u001b[0m result \u001b[38;5;241m=\u001b[39m re\u001b[38;5;241m.\u001b[39mmatch(\u001b[38;5;124m'\u001b[39m\u001b[38;5;124mmiep\u001b[39m\u001b[38;5;124m'\u001b[39m,\u001b[38;5;124m'\u001b[39m\u001b[38;5;124mzanzibar\u001b[39m\u001b[38;5;124m'\u001b[39m, flags \u001b[38;5;241m=\u001b[39m \u001b[38;5;241m1\u001b[39m) \u001b[38;5;66;03m# we know that there is no match...\u001b[39;00m\n\u001b[1;32m----> 2\u001b[0m result\u001b[38;5;241m.\u001b[39mpos\n",
      "\u001b[1;31mAttributeError\u001b[0m: 'NoneType' object has no attribute 'pos'"
     ]
    }
   ],
   "source": [
    "result = re.match('miep','zanzibar') # we know that there is no match...\n",
    "result.pos"
   ]
  },
  {
   "cell_type": "markdown",
   "metadata": {},
   "source": [
    "### 3.3 Module functions of the ``re`` module\n",
    "\n",
    "The most important functions for this short introduction are:\n",
    "\n",
    "#### `re.findall(*pattern, string*)`\n",
    "- returns a list of matches (no match object, only the strings)\n",
    "- returns empty list when there is no match"
   ]
  },
  {
   "cell_type": "code",
   "execution_count": 22,
   "metadata": {},
   "outputs": [
    {
     "data": {
      "text/plain": [
       "['a', 'a', 'a', 'a']"
      ]
     },
     "execution_count": 22,
     "metadata": {},
     "output_type": "execute_result"
    }
   ],
   "source": [
    "text = \"am I a happy cat?\"\n",
    "pattern = \"a\"\n",
    "re.findall(pattern,text)"
   ]
  },
  {
   "cell_type": "markdown",
   "metadata": {},
   "source": [
    "#### `re.match(*pattern, string [,flags]*)`\n",
    "- looks for a match from the start position of the string\n",
    "- if a match is found: returns a match object (see above), \n",
    "- else: returns *None*\n",
    "- useful if you want to check whether a string starts with a pattern, or completely matches that pattern"
   ]
  },
  {
   "cell_type": "code",
   "execution_count": 23,
   "metadata": {},
   "outputs": [
    {
     "data": {
      "text/plain": [
       "(0, 4)"
      ]
     },
     "execution_count": 23,
     "metadata": {},
     "output_type": "execute_result"
    }
   ],
   "source": [
    "pattern = \"am I\"\n",
    "result = re.match(pattern,text)\n",
    "\n",
    "result.span() # (start, end) tuple of the match, where start is always 0 (re.match() matches from beginning!)"
   ]
  },
  {
   "cell_type": "markdown",
   "metadata": {},
   "source": [
    "#### `re.search(*pattern, string [,flags]*)`\n",
    "- searches the entire string (not like ``re.match()``, which searches only at the start)\n",
    "- stops with first/left-most match (finds only one match)\n",
    "- if a match is found: returns a match object (see above), \n",
    "- else: returns *None*\n",
    "- useful if you want to search within an entire string"
   ]
  },
  {
   "cell_type": "code",
   "execution_count": null,
   "metadata": {},
   "outputs": [],
   "source": [
    "pattern = \"happy\"\n",
    "result = re.search(pattern,text)\n",
    "result.span() # (start, end) tuple of the match. Note: search() searches in the entire string. while match() searches only at the beginning"
   ]
  },
  {
   "cell_type": "markdown",
   "metadata": {},
   "source": [
    "#### `re.finditer(*pattern, string*)`\n",
    "- used to find multiple matches\n",
    "- loop through (=iterate over) multiple matches, e.g. with for-loop\n",
    "- each match has a match object"
   ]
  },
  {
   "cell_type": "code",
   "execution_count": 30,
   "metadata": {},
   "outputs": [
    {
     "name": "stdout",
     "output_type": "stream",
     "text": [
      "The nr 1 match of 'a' is found at the position (0, 1).\n",
      "The nr 2 match of 'a' is found at the position (5, 6).\n",
      "The nr 3 match of 'a' is found at the position (8, 9).\n",
      "The nr 4 match of 'a' is found at the position (14, 15).\n"
     ]
    }
   ],
   "source": [
    "text = \"am I a happy cat?\"\n",
    "counter = 0 # iterators are lazy. They do not count/index the positions themselves :(\n",
    "pattern = \"a\"\n",
    "\n",
    "for match in re.finditer(pattern,text):\n",
    "    counter += 1\n",
    "    print(\"The nr {0} match of '{1}' is found at the position {2}.\".format(counter, match.group(), match.span()))\n",
    "    "
   ]
  },
  {
   "cell_type": "markdown",
   "metadata": {},
   "source": [
    "Notes:\n",
    "- *\\[,flags\\]* are optional parameters. More on those later.\n",
    "- The regular expression module ``re`` has many more module functions, but they can not be covered in this short lecture"
   ]
  },
  {
   "cell_type": "markdown",
   "metadata": {},
   "source": [
    "### 3.4 Patterns\n",
    "\n",
    "In all examples above, we either search for single characters or static character sequences. However, regular expressions become truly powerful only once we formalize more variable patterns. The following section will introduce the basic concepts of pattern design.\n",
    "\n",
    "**HOW TO SEARCH FOR:**"
   ]
  },
  {
   "cell_type": "markdown",
   "metadata": {},
   "source": [
    "#### Single characters ('a', 'f', ...)"
   ]
  },
  {
   "cell_type": "code",
   "execution_count": 32,
   "metadata": {},
   "outputs": [
    {
     "data": {
      "text/plain": [
       "(7, 8)"
      ]
     },
     "execution_count": 32,
     "metadata": {},
     "output_type": "execute_result"
    }
   ],
   "source": [
    "pattern = \"h\"\n",
    "text = \"I am a happy cat.\"\n",
    "result = re.search(pattern,text)\n",
    "result.span()"
   ]
  },
  {
   "cell_type": "markdown",
   "metadata": {},
   "source": [
    "#### Strings / concatenated characters ('ab', 'bar', ...)"
   ]
  },
  {
   "cell_type": "code",
   "execution_count": 31,
   "metadata": {},
   "outputs": [
    {
     "data": {
      "text/plain": [
       "(7, 12)"
      ]
     },
     "execution_count": 31,
     "metadata": {},
     "output_type": "execute_result"
    }
   ],
   "source": [
    "pattern = \"happy\"\n",
    "text = \"I am a happy cat.\"\n",
    "result = re.search(pattern,text)\n",
    "result.span()"
   ]
  },
  {
   "cell_type": "markdown",
   "metadata": {},
   "source": [
    "#### Either-or disjunctions ('a' or 'b'): 'a|b"
   ]
  },
  {
   "cell_type": "code",
   "execution_count": 25,
   "metadata": {},
   "outputs": [
    {
     "name": "stdout",
     "output_type": "stream",
     "text": [
      "please enter a single characterc\n",
      "You did not enter an 'a' or 'b'\n"
     ]
    }
   ],
   "source": [
    "pattern = \"a|b\"\n",
    "\n",
    "#ask user to input a character:\n",
    "inputstring = input(\"please enter a single character\")\n",
    "\n",
    "#check if input string is a or b (see pattern)\n",
    "result = re.match(pattern,inputstring)\n",
    "\n",
    "if (result):\n",
    "    print (\"You entered an 'a' or 'b'\")\n",
    "    # Let's retrieve from the match object, what was actually (specifically) entered:\n",
    "    print (\"Actually, you entered a letter '{0}'\".format(result.group()))\n",
    "else:\n",
    "    print (\"You did not enter an 'a' or 'b'\")"
   ]
  },
  {
   "cell_type": "markdown",
   "metadata": {},
   "source": [
    "#### Either-or with concatenations:  '(ab)|c'"
   ]
  },
  {
   "cell_type": "code",
   "execution_count": 33,
   "metadata": {},
   "outputs": [
    {
     "name": "stdout",
     "output_type": "stream",
     "text": [
      "please enter 'ab', then do it again with 'c', then do it again with 'abc'ac\n",
      "You did not enter 'ab' or 'c'\n"
     ]
    }
   ],
   "source": [
    "pattern = \"(ab)|c\"   # this is the same as \"ab|c\"\n",
    "\n",
    "#ask user to input a character:\n",
    "inputstring = input(\"please enter 'ab', then do it again with 'c', then do it again with 'abc'\")\n",
    "\n",
    "#check if input string is a or b (see pattern)\n",
    "result = re.match(pattern,inputstring)\n",
    "\n",
    "if (result):\n",
    "    print (\"You entered 'ab' or 'c'\")\n",
    "    # Let's retrieve from the match object, what was actually entered:\n",
    "    print (\"Actually, you entered '{0}'\".format(result.group()))\n",
    "else:\n",
    "    print (\"You did not enter 'ab' or 'c'\")\n"
   ]
  },
  {
   "cell_type": "markdown",
   "metadata": {},
   "source": [
    "Note: We matched with ``re.match()`` here. This means, we check if 'ab' or 'c' occurs at the beginning of the user input string. However, the user can enter much longer strings, and it will still create a match, if only they start either with 'ab' or 'c'"
   ]
  },
  {
   "cell_type": "markdown",
   "metadata": {},
   "source": [
    "#### Any option out of a *character set*"
   ]
  },
  {
   "cell_type": "code",
   "execution_count": 36,
   "metadata": {},
   "outputs": [
    {
     "name": "stdout",
     "output_type": "stream",
     "text": [
      "please enter 'ad', then do it again with 'bd', then do it again with 'abcd'abcd\n",
      "You entered 'ad' or 'bd' or 'cd'\n",
      "Actually, you entered 'cd'\n"
     ]
    }
   ],
   "source": [
    "pattern = \"[abc]d\" # any of a,b or c, followed by d\n",
    "\n",
    "inputstring = input(\"please enter 'ad', then do it again with 'bd', then do it again with 'abcd'\")\n",
    "result = re.match(pattern,inputstring)\n",
    "\n",
    "if (result):\n",
    "    print (\"You entered 'ad' or 'bd' or 'cd'\")\n",
    "    # Let's retrieve from the match object, what was actually entered:\n",
    "    print (\"Actually, you entered '{0}'\".format(result.group()))\n",
    "else:\n",
    "    print (\"You did not enter what I asked you to!\")\n",
    "\n",
    "    \n",
    "#Match starts looking from the start of the string\n"
   ]
  },
  {
   "cell_type": "markdown",
   "metadata": {},
   "source": [
    "- More *character sets*:\n",
    "    - ``[abc]``: 'a', 'b' or 'c' (any character listed or contained within a listed range in square brakets)\n",
    "    - ``[^abc]``: not 'a', 'b' or 'c' (any character **not** listed)\n",
    "    - ``[a-z]``: a character in the range a-z \n",
    "    - ``[a-zA-Z]``: a character in the range a-z or A-Z or write as ``[A-z]``\n",
    "    - ``[^a-zA-Z]``: a character NOT in the range a-z or A-Z\n",
    "    - ``[0-9]``: a number in the range 0 to 9\n",
    "   \n",
    "#### Special sequences for characters and character groups:\n",
    "- ``\\b``: backspace\n",
    "- ``\\n``: newline\n",
    "- ``\\t``: horizontal tab\n",
    "- ``\\v``: vertical tab\n",
    "- ``\\xhh``: general character escape by two-digit hexadecimal code. Replace the hh with the hexcode of the character in the following list:https://www.rapidtables.com/code/text/ascii-table.html. E.g. backslash \\ is escaped as ``\\x5C`` or ``\\\\``.\n",
    "- ``.``:  any character except new-line character\n",
    "- ``\\d``: any digit (equals ``[0-9]``)\n",
    "- ``\\D``: any Nondigit (any character but digits)\n",
    "- ``\\s``: all whitespace characters, including tabs etc. Short for: ``[\\t\\n\\r\\f\\v]``\n",
    "- ``\\S``: all Non-whitespace characters\n",
    "- ``\\w``: all word characters, Short for: ``[a-zA-Z0-9_]``\n",
    "- ``\\W``: all non-word characters\n",
    "- ``\\b``: all boundaries characters\n",
    "- ``\\B``: all non-boundaries characters\n",
    "\n",
    "#### Quantifiers (repeat x-times)\n",
    "- ``a?``: zero or one 'a'\n",
    "- ``a+``: one or more 'a'\n",
    "- ``a*``: zero or more 'a'\n",
    "- ``a{5}``: exactly 5 of 'a'\n",
    "\n",
    "Some examples for quantifiers:\n"
   ]
  },
  {
   "cell_type": "code",
   "execution_count": 44,
   "metadata": {},
   "outputs": [
    {
     "name": "stdout",
     "output_type": "stream",
     "text": [
      "Please enter a word with a double vowel:ea\n",
      "The double vowel in 'ea' is 'ea'.\n"
     ]
    }
   ],
   "source": [
    "# Ask user to enter a word with a double vowel ('aa' or 'ee' or 'ii' or 'oo' or 'uu'):\n",
    "word = input(\"Please enter a word with a double vowel:\")\n",
    "\n",
    "pattern = '[aeiou]{2}'\n",
    "result = re.search(pattern,word)\n",
    "\n",
    "print(\"The double vowel in '{0}' is '{1}'.\".format(word,result.group() )) if(result) else print(\"I could not find a double vowel in {0}\".format(word))\n",
    "\n"
   ]
  },
  {
   "cell_type": "code",
   "execution_count": null,
   "metadata": {},
   "outputs": [],
   "source": [
    "# extra exercise: correct year of birth, with four digits\n"
   ]
  },
  {
   "cell_type": "code",
   "execution_count": null,
   "metadata": {},
   "outputs": [],
   "source": [
    "# extra exercise: correct format for an email address\n"
   ]
  },
  {
   "cell_type": "markdown",
   "metadata": {},
   "source": [
    "#### Beginning and end of a string or a line\n",
    "\n",
    "\n",
    "- ``^``: start of string or line\n",
    "- ``\\$``: end of string or line\n",
    "   "
   ]
  },
  {
   "cell_type": "code",
   "execution_count": 47,
   "metadata": {},
   "outputs": [
    {
     "name": "stdout",
     "output_type": "stream",
     "text": [
      "Enter a word that starts with c and ends with t: chaterine_t\n",
      "chaterine_t is a correct answer.\n"
     ]
    }
   ],
   "source": [
    "# Pattern: a string that starts with c, followed by zero or more word characters, and ends with t\n",
    "pattern = \"^c\\w*t$\"\n",
    "\n",
    "#ask user to enter a string\n",
    "myword = input(\"Enter a word that starts with c and ends with t: \")\n",
    "\n",
    "print(\"{0} is a correct answer.\".format(myword)) if (re.search(pattern, myword)) else print(\"{0} is incorrect\".format(myword))"
   ]
  },
  {
   "cell_type": "markdown",
   "metadata": {},
   "source": [
    "### 3.5 Look Ahead (simple case): `?=`*expression*\n",
    "The following example illustrates that we sometimes need to *look ahead*. This is, for example, the case, when we want to match characters only until a certain character occurs - but without including that character into the match.\n",
    "\n",
    "Let's start the example by searching for all words in a tongue twister that start with 'b' and end with 'r'. Look at the word ```butter's``` in line 3 of the code and ```blisters``` in line 7. They do not end with an 'r', but they occur in the matches!"
   ]
  },
  {
   "cell_type": "code",
   "execution_count": 52,
   "metadata": {},
   "outputs": [
    {
     "data": {
      "text/plain": [
       "['Botter',\n",
       " 'butter',\n",
       " 'butter',\n",
       " 'bitter',\n",
       " 'batter',\n",
       " 'batter',\n",
       " 'bitter',\n",
       " 'better',\n",
       " 'butter',\n",
       " 'batter',\n",
       " 'better',\n",
       " 'better',\n",
       " 'Botter',\n",
       " 'better',\n",
       " 'butter',\n",
       " 'blister']"
      ]
     },
     "execution_count": 52,
     "metadata": {},
     "output_type": "execute_result"
    }
   ],
   "source": [
    "ttwister = '''\n",
    "Betty Botter bought some butter\n",
    "But she said the butter's bitter\n",
    "If I put it in my batter, it will make my batter bitter\n",
    "But a bit of better butter will make my batter better\n",
    "So 'twas better Betty Botter bought a bit of better butter\n",
    "blisters\n",
    "'''\n",
    "\n",
    "#we are looking 4 all words that start with b or B and end with an r.\n",
    "pattern = \"[bB]\\w+r\"\n",
    "result = re.findall(pattern,ttwister)\n",
    "result"
   ]
  },
  {
   "cell_type": "markdown",
   "metadata": {},
   "source": [
    "It helps here, to add ```\\W``` (i.e., followed by a non-word character) . However, now the non-word character is included in the matches, which is not what we wanted."
   ]
  },
  {
   "cell_type": "code",
   "execution_count": 53,
   "metadata": {
    "scrolled": true
   },
   "outputs": [
    {
     "data": {
      "text/plain": [
       "['Botter ',\n",
       " 'butter\\n',\n",
       " \"butter'\",\n",
       " 'bitter\\n',\n",
       " 'batter,',\n",
       " 'batter ',\n",
       " 'bitter\\n',\n",
       " 'better ',\n",
       " 'butter ',\n",
       " 'batter ',\n",
       " 'better\\n',\n",
       " 'better ',\n",
       " 'Botter ',\n",
       " 'better ',\n",
       " 'butter\\n']"
      ]
     },
     "execution_count": 53,
     "metadata": {},
     "output_type": "execute_result"
    }
   ],
   "source": [
    "#we are looking for all words that start with 'b' or 'B' and end with an 'r'.\n",
    "\n",
    "pattern = \"[bB]\\w+r\\W\" #followed by a non word character\n",
    "result = re.findall(pattern,ttwister)\n",
    "result\n",
    "\n",
    "\n"
   ]
  },
  {
   "cell_type": "markdown",
   "metadata": {},
   "source": [
    "To match the string only *until* the non-word character (```\\W```) occurs, we can use a so-called **look ahead**:\n",
    "\n",
    "```(?=\\W)```: the character following the match must be a non-word"
   ]
  },
  {
   "cell_type": "code",
   "execution_count": 56,
   "metadata": {},
   "outputs": [
    {
     "name": "stdout",
     "output_type": "stream",
     "text": [
      "['Botter', 'butter', 'butter', 'bitter', 'batter', 'batter', 'bitter', 'better', 'butter', 'batter', 'better', 'better', 'Botter', 'better', 'butter']\n",
      "['Botter', 'butter', 'butter', 'bitter', 'batter', 'batter', 'bitter', 'better', 'butter', 'batter', 'better', 'better', 'Botter', 'better', 'butter']\n"
     ]
    }
   ],
   "source": [
    "# we are looking for all words that start with 'b' or 'B' and end with an 'r'.\n",
    "\n",
    "pattern = \"[bB]\\w+r(?=\\W)\"\n",
    "result1 = re.findall(pattern,ttwister)\n",
    "print(result1)\n",
    "\n",
    "pattern = \"([bB]\\w+r)\\W\"\n",
    "result2 = re.findall(pattern,ttwister)\n",
    "print(result2)\n"
   ]
  },
  {
   "cell_type": "markdown",
   "metadata": {},
   "source": [
    "(for advanced RegEx examples with complex look aheads, see also this [link](http://www.rexegg.com/regex-disambiguation.html#lookaround))"
   ]
  },
  {
   "cell_type": "markdown",
   "metadata": {},
   "source": [
    "### 3.6 Some fun with more examples"
   ]
  },
  {
   "cell_type": "code",
   "execution_count": 57,
   "metadata": {},
   "outputs": [
    {
     "data": {
      "text/plain": [
       "['http://www.google.com', 'https://www.amazon.com']"
      ]
     },
     "execution_count": 57,
     "metadata": {},
     "output_type": "execute_result"
    }
   ],
   "source": [
    "# find a URL in a text\n",
    "mytext = '''This is a text with a URL hidden somewhere in between. \n",
    "        Let's see if we can find the URL http://www.google.com in this\n",
    "        multiline string with a regular expression. Maybe, instead of\n",
    "        this first URL, we can also find https://www.amazon.com, but this\n",
    "        is of course uncertain'''\n",
    "\n",
    "pattern = \"https?\\:\\/\\/www\\.\\w+\\.[a-zA-Z]{1,5}\"  #assumes top level domains have max 5 characters\n",
    "\n",
    "result = re.findall(pattern, mytext)\n",
    "result\n"
   ]
  },
  {
   "cell_type": "code",
   "execution_count": 58,
   "metadata": {},
   "outputs": [
    {
     "name": "stdout",
     "output_type": "stream",
     "text": [
      "['<html>', '<head>', '<title>', '<body>', '<p>']\n",
      "['</title>', '</head>', '</p>', '</body>', '</html>']\n"
     ]
    }
   ],
   "source": [
    "# find all XML-tags in this string:\n",
    "myXML = '''<html>\n",
    "                <head>\n",
    "                    <title>My first website</title>\n",
    "                </head>\n",
    "                <body>\n",
    "                    <p>Welcome to my first website</p>\n",
    "                </body>\n",
    "           </html>\n",
    "           '''\n",
    "# pattern for opening tags:\n",
    "patternOpen = \"\\<[a-zA-Z]+\\>\"\n",
    "result = re.findall(patternOpen, myXML)\n",
    "print(result)\n",
    "\n",
    "#pattern for closing tags:\n",
    "patternClose = \"\\<\\/[a-zA-Z]+\\>\"\n",
    "result = re.findall(patternClose, myXML)\n",
    "print(result)\n"
   ]
  },
  {
   "cell_type": "code",
   "execution_count": null,
   "metadata": {},
   "outputs": [],
   "source": [
    "# Can you make the previous example a bit more concise: 1 single pattern for all XML tags?\n"
   ]
  },
  {
   "cell_type": "code",
   "execution_count": null,
   "metadata": {},
   "outputs": [],
   "source": [
    "# Can you think of more examples?"
   ]
  },
  {
   "cell_type": "markdown",
   "metadata": {},
   "source": [
    "### 3.7 Gaining more efficiency in pattern matching: `re.compile(*pattern*)` \n",
    "\n",
    "The function ```re.compile(*pattern*)``` *compiles* the pattern before it is used for pattern matching. This means that the pattern is already translated into CPU instructions (imagine it like zeros and ones that the CPU can work with). When a pre-compiled pattern is used in the code, e.g., in a for- or while-loop, the Python interpreter does not need to compile it in every iteration of the loop and therefore saves time. In other words: matching against a compiled pattern takes the CPU less time and increases the runtime significantly. \n",
    "\n",
    "**Test Case:** In the following cells we monitor the runtime of the cell with ```%%time```. \n",
    "\n",
    "- At first, we match the *un-compiled* pattern 1 million times against a string (this is done in a while loop). \n",
    "- In a second approach, we compile the pattern first. Then again, we match the pattern 1 million times against the same string. \n",
    "\n",
    "Let's see if the runtime of the second example is signifantly shorter!"
   ]
  },
  {
   "cell_type": "code",
   "execution_count": 59,
   "metadata": {},
   "outputs": [
    {
     "data": {
      "text/plain": [
       "['12', '10', '1990']"
      ]
     },
     "execution_count": 59,
     "metadata": {},
     "output_type": "execute_result"
    }
   ],
   "source": [
    "# Compile a regular expression: find all numbers (any length) in a string\n",
    "\n",
    "p = re.compile('[0-9]+')\n",
    "p.findall('12/10/1990')\n",
    "\n"
   ]
  },
  {
   "cell_type": "code",
   "execution_count": null,
   "metadata": {},
   "outputs": [],
   "source": [
    "%%time\n",
    "\n",
    "n = 0\n",
    "while n < 1000000000:\n",
    "    re.findall('[0-9]+', '12/10/1990')\n",
    "    n += 1\n",
    "    "
   ]
  },
  {
   "cell_type": "code",
   "execution_count": 61,
   "metadata": {},
   "outputs": [
    {
     "name": "stdout",
     "output_type": "stream",
     "text": [
      "CPU times: total: 656 ms\n",
      "Wall time: 652 ms\n"
     ]
    }
   ],
   "source": [
    "%%time\n",
    "p = re.compile('[0-9]+')\n",
    "n = 0\n",
    "while n < 1000000000:\n",
    "    p.findall('12/10/1990')\n",
    "    n += 1\n"
   ]
  },
  {
   "cell_type": "code",
   "execution_count": null,
   "metadata": {},
   "outputs": [],
   "source": []
  }
 ],
 "metadata": {
  "kernelspec": {
   "display_name": "Python 3 (ipykernel)",
   "language": "python",
   "name": "python3"
  },
  "language_info": {
   "codemirror_mode": {
    "name": "ipython",
    "version": 3
   },
   "file_extension": ".py",
   "mimetype": "text/x-python",
   "name": "python",
   "nbconvert_exporter": "python",
   "pygments_lexer": "ipython3",
   "version": "3.11.4"
  }
 },
 "nbformat": 4,
 "nbformat_minor": 4
}
