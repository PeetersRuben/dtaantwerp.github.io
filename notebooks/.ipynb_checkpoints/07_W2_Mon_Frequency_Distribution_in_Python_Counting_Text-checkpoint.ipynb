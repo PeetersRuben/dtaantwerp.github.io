{
 "cells": [
  {
   "cell_type": "markdown",
   "metadata": {},
   "source": [
    "<div style=\"background-color:lightgrey;\n",
    "            padding:10px;\n",
    "            color:black;\n",
    "            border:black dashed 2px; \n",
    "            border-radius:5px;\n",
    "            margin: 20px 0;\">\n",
    "            \n",
    "            \n",
    "# Frequency distributions in Python\n",
    "\n",
    "\n",
    "\n",
    "**Staff:** Walter Daelemans <br/>\n",
    "**Support Material:** [exercises](../exercises/Questions_2023/06_EX_freq_distributions.ipynb) <br/>\n",
    "**Support Sessions:**  Tuesday, October 3, 10.30AM\n",
    "\n",
    "</div>"
   ]
  },
  {
   "cell_type": "markdown",
   "metadata": {},
   "source": [
    "## An evergreen"
   ]
  },
  {
   "cell_type": "markdown",
   "metadata": {},
   "source": [
    "Let's start this class with a recurrent exercise in every Python 101 course: constructing a character-level frequency distribution of a string, using a `dict`. Let's start from the first lines of Virgil's *Aeneid*:"
   ]
  },
  {
   "cell_type": "code",
   "execution_count": 10,
   "metadata": {
    "tags": []
   },
   "outputs": [
    {
     "data": {
      "text/plain": [
       "'Arma virumque cano, Troiae qui primus ab oris\\nItaliam fato profugus Lavinaque venit\\nlitora—multum ille et terris iactatus et alto\\nvi superum, saevae memorem Iunonis ob iram,\\n5 multa quoque et bello passus, dum conderet urbem\\ninferretque deos Latio; genus unde Latinum\\nAlbanique patres atque altae moenia Romae.\\nMusa, mihi causas memora, quo numine laeso\\nquidve dolens regina deum tot volvere casus\\n10 insignem pietate virum, tot adire labores\\nimpulerit. tantaene animis caelestibus irae?'"
      ]
     },
     "execution_count": 10,
     "metadata": {},
     "output_type": "execute_result"
    }
   ],
   "source": [
    "aeneid = \"\"\"Arma virumque cano, Troiae qui primus ab oris\n",
    "Italiam fato profugus Lavinaque venit\n",
    "litora—multum ille et terris iactatus et alto\n",
    "vi superum, saevae memorem Iunonis ob iram,\n",
    "5 multa quoque et bello passus, dum conderet urbem\n",
    "inferretque deos Latio; genus unde Latinum\n",
    "Albanique patres atque altae moenia Romae.\n",
    "Musa, mihi causas memora, quo numine laeso\n",
    "quidve dolens regina deum tot volvere casus\n",
    "10 insignem pietate virum, tot adire labores\n",
    "impulerit. tantaene animis caelestibus irae?\"\"\"\n",
    "\n",
    "aeneid"
   ]
  },
  {
   "cell_type": "markdown",
   "metadata": {},
   "source": [
    "Let us start with the simplest approach and explore some variations:"
   ]
  },
  {
   "cell_type": "code",
   "execution_count": 6,
   "metadata": {},
   "outputs": [
    {
     "name": "stdout",
     "output_type": "stream",
     "text": [
      "{'A': 2, 'r': 25, 'm': 26, 'a': 42, ' ': 63, 'v': 9, 'i': 36, 'u': 35, 'q': 10, 'e': 51, 'c': 6, 'n': 21, 'o': 25, ',': 7, 'T': 1, 'p': 7, 's': 26, 'b': 7, '\\n': 10, 'I': 2, 't': 30, 'l': 17, 'f': 3, 'g': 4, 'L': 3, '—': 1, '5': 1, 'd': 8, ';': 1, 'R': 1, '.': 2, 'M': 1, 'h': 1, '1': 1, '0': 1, '?': 1}\n"
     ]
    }
   ],
   "source": [
    "d = {}\n",
    "\n",
    "for char in aeneid:\n",
    "    if char in d:\n",
    "        d[char] += 1\n",
    "    else:\n",
    "        d[char] = 1\n",
    "\n",
    "print(d)"
   ]
  },
  {
   "cell_type": "markdown",
   "metadata": {},
   "source": [
    "Implement the following simple extensions, step by step:\n",
    "- make sure all characters are lowercased\n",
    "- ignore all punctuation symbols\n",
    "- ignore all whitespace characters\n",
    "- ignore digits (cf. line numbering)\n",
    "- print the three characters with the highest frequency"
   ]
  },
  {
   "cell_type": "code",
   "execution_count": 53,
   "metadata": {},
   "outputs": [
    {
     "name": "stdout",
     "output_type": "stream",
     "text": [
      "{'a': 44, 'r': 26, 'm': 27, 'v': 9, 'i': 38, 'u': 35, 'q': 10, 'e': 51, 'c': 6, 'n': 21, 'o': 25, 't': 31, 'p': 7, 's': 26, 'b': 7, 'l': 20, 'f': 3, 'g': 4, 'd': 8, 'h': 1}\n"
     ]
    },
    {
     "data": {
      "text/plain": [
       "[('i', 38), ('a', 44), ('e', 51)]"
      ]
     },
     "execution_count": 53,
     "metadata": {},
     "output_type": "execute_result"
    }
   ],
   "source": [
    "# code for variations here\n",
    "aeneid_low = aeneid.lower()\n",
    "\n",
    "\n",
    "d = {}\n",
    "\n",
    "for char in aeneid_low:\n",
    "    if char.isalpha():\n",
    "        if char in d:\n",
    "            d[char] += 1\n",
    "        else:\n",
    "            d[char] = 1\n",
    "\n",
    "print(d)\n",
    "\n",
    "\n",
    "sorted(d.items(), key = lambda x: x[1])[-3:]"
   ]
  },
  {
   "cell_type": "markdown",
   "metadata": {},
   "source": [
    "This exercise is important because, if you understand the components well, you can introduce minor adaptations to the code that will help you solve a wide range of related problems (like filtering). We will use this standard of block of code today to introduce two additional concepts in Python: (1) Exceptions and (2) Objects."
   ]
  },
  {
   "cell_type": "markdown",
   "metadata": {},
   "source": [
    "## Exceptions"
   ]
  },
  {
   "cell_type": "markdown",
   "metadata": {},
   "source": [
    "The `if`/`else` statement in our exercise is necessary, because we cannot increment the frequency for a particular character, if we didn't **initialize** that count in the first place:"
   ]
  },
  {
   "cell_type": "code",
   "execution_count": 58,
   "metadata": {},
   "outputs": [
    {
     "ename": "KeyError",
     "evalue": "'A'",
     "output_type": "error",
     "traceback": [
      "\u001b[1;31m---------------------------------------------------------------------------\u001b[0m",
      "\u001b[1;31mKeyError\u001b[0m                                  Traceback (most recent call last)",
      "Cell \u001b[1;32mIn[58], line 4\u001b[0m\n\u001b[0;32m      1\u001b[0m d \u001b[38;5;241m=\u001b[39m {}\n\u001b[0;32m      3\u001b[0m \u001b[38;5;28;01mfor\u001b[39;00m char \u001b[38;5;129;01min\u001b[39;00m aeneid:\n\u001b[1;32m----> 4\u001b[0m     d[char] \u001b[38;5;241m+\u001b[39m\u001b[38;5;241m=\u001b[39m \u001b[38;5;241m1\u001b[39m\n",
      "\u001b[1;31mKeyError\u001b[0m: 'A'"
     ]
    }
   ],
   "source": [
    "d = {}\n",
    "\n",
    "for char in aeneid:\n",
    "    d[char] += 1\n",
    "    "
   ]
  },
  {
   "cell_type": "markdown",
   "metadata": {},
   "source": [
    "\n",
    "Already in the very first iteration, something goes wrong, because `d` is empty and yet we try to **index** it for the non-existing key `'A'`. We run into a **KeyError** and the execution of our program gets **interrupted** -- that's technical term that you should remember. \n",
    "\n",
    "Another way this is commonly described, is that an **\"exception gets raised\"**. This means that the normal flow of the program gets disturbed because an \"exceptional\" situation is encountered. The problem isn't so much that you run into an error -- trust me, it's not like your computer will explode in such cases -- but more, that Python isn't explicitly instructed what to do in such situations. This is exactly why the program gets halted: **Python doesn't know what to do next**.\n",
    "\n",
    "### `try` and `except`\n",
    "\n",
    "Luckily, we can work around this by using a control structure with two new **key words** : `try` and `except`. They function similarly to `if` and `else`, but they test for errors rather than logical problems.\n",
    "\n",
    "If we anticipate that certain errors might come about, we can add explicit instructions to our scripts as to what needs to be done in these exceptional circumstances. That might sound a little abstract, so below goes a straightforward example of this:"
   ]
  },
  {
   "cell_type": "code",
   "execution_count": 56,
   "metadata": {},
   "outputs": [
    {
     "name": "stdout",
     "output_type": "stream",
     "text": [
      "{'A': 2, 'r': 25, 'm': 26, 'a': 42, ' ': 63, 'v': 9, 'i': 36, 'u': 35, 'q': 10, 'e': 51, 'c': 6, 'n': 21, 'o': 25, ',': 7, 'T': 1, 'p': 7, 's': 26, 'b': 7, '\\n': 10, 'I': 2, 't': 30, 'l': 17, 'f': 3, 'g': 4, 'L': 3, '—': 1, '5': 1, 'd': 8, ';': 1, 'R': 1, '.': 2, 'M': 1, 'h': 1, '1': 1, '0': 1, '?': 1}\n"
     ]
    }
   ],
   "source": [
    "d = {}\n",
    "\n",
    "for char in aeneid:\n",
    "    try:\n",
    "        d[char] += 1\n",
    "    except:\n",
    "        d[char] = 1\n",
    "\n",
    "print(d)"
   ]
  },
  {
   "cell_type": "markdown",
   "metadata": {},
   "source": [
    "In terms of syntax, there is nothing new under the sun because the `try` and `except` construction is very similar to the `if`/`else` that you already know. What does it do? In a way, Python tells you already: you instruct Python to `try` and execute the first indented block, `except` if something unexpected would happen, and in that case, the second block should be executed.\n",
    "\n",
    "This block is perfect for our problem: by default, our script will assume that a certain character is already present in `d` and it will `try` to augment its count. An exception will raised, however, when our script hits the `KeyError` which we anticipate, and in that case the second block will be executed (i.e. the instantiation of a new value:key pair). This behaviour is perfectly equivalent to our earlier solution with `if/else`."
   ]
  },
  {
   "cell_type": "markdown",
   "metadata": {},
   "source": [
    "> *Question: in many cases, especially for longer `for`-loops, the use of an `try/except` construction will be faster than using the more straightforward `if/else`* construction. Can you guess why?"
   ]
  },
  {
   "cell_type": "markdown",
   "metadata": {},
   "source": [
    "The previous code block will \"catch\" any exception/error. That seem easy, but typically that's considered bad practice. We want to be more specific and only catch the errors that we truly anticipate. If not, we might be ignoring really bad exceptions. Therefore, we want to be more explicit and name the actual exception, like so:"
   ]
  },
  {
   "cell_type": "code",
   "execution_count": 57,
   "metadata": {},
   "outputs": [
    {
     "name": "stdout",
     "output_type": "stream",
     "text": [
      "{'A': 2, 'r': 25, 'm': 26, 'a': 42, ' ': 63, 'v': 9, 'i': 36, 'u': 35, 'q': 10, 'e': 51, 'c': 6, 'n': 21, 'o': 25, ',': 7, 'T': 1, 'p': 7, 's': 26, 'b': 7, '\\n': 10, 'I': 2, 't': 30, 'l': 17, 'f': 3, 'g': 4, 'L': 3, '—': 1, '5': 1, 'd': 8, ';': 1, 'R': 1, '.': 2, 'M': 1, 'h': 1, '1': 1, '0': 1, '?': 1}\n"
     ]
    }
   ],
   "source": [
    "d = {}\n",
    "\n",
    "for char in aeneid:\n",
    "    try:\n",
    "        d[char] += 1\n",
    "    except KeyError: # more specific error catching!\n",
    "        d[char] = 1\n",
    "\n",
    "print(d)"
   ]
  },
  {
   "cell_type": "markdown",
   "metadata": {},
   "source": [
    "Here, we limit the \"emergency\" solutions to a more limited set of scenarios, which is safer."
   ]
  },
  {
   "cell_type": "markdown",
   "metadata": {},
   "source": [
    "> *Question: Exceptions come in many forms. Can you think of other exceptions that we've already encountered?*"
   ]
  },
  {
   "cell_type": "markdown",
   "metadata": {},
   "source": [
    "An **IndexError** is another commonly encountered error, which might be very inconvenients:"
   ]
  },
  {
   "cell_type": "code",
   "execution_count": 60,
   "metadata": {},
   "outputs": [
    {
     "name": "stdout",
     "output_type": "stream",
     "text": [
      "Arma virumque cano, Troiae qui primus ab oris\n",
      "Italiam fato profugus Lavinaque venit\n",
      "litora—multum ille et terris iactatus et alto\n",
      "vi superum, saevae memorem Iunonis ob iram,\n",
      "5 multa quoque et bello passus, dum conderet urbem\n",
      "inferretque deos Latio; genus unde Latinum\n",
      "Albanique patres atque altae moenia Romae.\n",
      "Musa, mihi causas memora, quo numine laeso\n",
      "quidve dolens regina deum tot volvere casus\n",
      "10 insignem pietate virum, tot adire labores\n",
      "impulerit. tantaene animis caelestibus irae?"
     ]
    }
   ],
   "source": [
    "cnt = 0\n",
    "while True:\n",
    "    try:\n",
    "        print(aeneid[cnt], end='')\n",
    "        cnt += 1\n",
    "    except IndexError:\n",
    "        break"
   ]
  },
  {
   "cell_type": "markdown",
   "metadata": {},
   "source": [
    "> *Question: change the code block above and jump out of the `while` loop once we have printed all characters.*"
   ]
  },
  {
   "cell_type": "markdown",
   "metadata": {},
   "source": [
    "Reading files is another context in which exceptions are often used. Often, if you work with large corpora, a small number of files will have encoding errors and you might want to ignore these. Catching the relevant exception (the `UnicodeEncodeError`) will save you a lot of troubles. Do you understand this dummy example?"
   ]
  },
  {
   "cell_type": "code",
   "execution_count": 61,
   "metadata": {},
   "outputs": [
    {
     "ename": "SyntaxError",
     "evalue": "invalid syntax (3430137131.py, line 1)",
     "output_type": "error",
     "traceback": [
      "\u001b[1;36m  Cell \u001b[1;32mIn[61], line 1\u001b[1;36m\u001b[0m\n\u001b[1;33m    ```python\u001b[0m\n\u001b[1;37m    ^\u001b[0m\n\u001b[1;31mSyntaxError\u001b[0m\u001b[1;31m:\u001b[0m invalid syntax\n"
     ]
    }
   ],
   "source": [
    "```python\n",
    "for filename in filenames:\n",
    "    try:\n",
    "        with open(filename) as f:\n",
    "            text = f.read()\n",
    "        print(filename, 'correctly parsed!')\n",
    "    except UnicodeEncodeError:\n",
    "        pass # do you know what this does?\n",
    "```"
   ]
  },
  {
   "cell_type": "markdown",
   "metadata": {},
   "source": [
    "As always, remember that errors are your friend in Python and you should always pay close attention to what they are saying. They might be annoying, but you can put them to use, using `try/except`. Remember that exeptions protect you from something even worse."
   ]
  },
  {
   "cell_type": "markdown",
   "metadata": {},
   "source": [
    "## The Secret Counter"
   ]
  },
  {
   "cell_type": "markdown",
   "metadata": {},
   "source": [
    "We've gone through the frequency dictionary exercise a couple of times by now. You might hate us for saying this, but there's a little secret that we haven't told you about before... Don't hate us, but we are about to tell about one of the best kept secrets in the Python universe:"
   ]
  },
  {
   "cell_type": "code",
   "execution_count": 72,
   "metadata": {},
   "outputs": [
    {
     "name": "stdout",
     "output_type": "stream",
     "text": [
      "Counter({' ': 63, 'e': 51, 'a': 42, 'i': 36, 'u': 35, 't': 30, 'm': 26, 's': 26, 'r': 25, 'o': 25, 'n': 21, 'l': 17, 'q': 10, '\\n': 10, 'v': 9, 'd': 8, ',': 7, 'p': 7, 'b': 7, 'c': 6, 'g': 4, 'f': 3, 'L': 3, 'A': 2, 'I': 2, '.': 2, 'T': 1, '—': 1, '5': 1, ';': 1, 'R': 1, 'M': 1, 'h': 1, '1': 1, '0': 1, '?': 1})\n"
     ]
    }
   ],
   "source": [
    "from collections import Counter\n",
    "\n",
    "cnt = Counter()\n",
    "cnt.update(aeneid)\n",
    "\n",
    "#cnt = Counter(aeneid) would also work\n",
    "\n",
    "print(cnt)"
   ]
  },
  {
   "cell_type": "code",
   "execution_count": 63,
   "metadata": {},
   "outputs": [
    {
     "name": "stdout",
     "output_type": "stream",
     "text": [
      "Counter({' ': 63, 'e': 51, 'a': 42, 'i': 36, 'u': 35, 't': 30, 'm': 26, 's': 26, 'r': 25, 'o': 25, 'n': 21, 'l': 17, 'q': 10, '\\n': 10, 'v': 9, 'd': 8, ',': 7, 'p': 7, 'b': 7, 'c': 6, 'g': 4, 'f': 3, 'L': 3, 'A': 2, 'I': 2, '.': 2, 'T': 1, '—': 1, '5': 1, ';': 1, 'R': 1, 'M': 1, 'h': 1, '1': 1, '0': 1, '?': 1})\n"
     ]
    }
   ],
   "source": [
    "cnt2 =  Counter(aeneid)\n",
    "print(cnt2)"
   ]
  },
  {
   "cell_type": "markdown",
   "metadata": {},
   "source": [
    "Wow, that's amazing! This gives us everything we need, in just two lines of code. We introduce it only now, because of two reasons, it's crucial to understand how low-level Python dictionaries work."
   ]
  },
  {
   "cell_type": "markdown",
   "metadata": {},
   "source": [
    "Note that we explicitly have to import `Counter` from the `collections` module in Python's Standard Library (which has many other really useful functions). After that, we can **instantiate** or **initialize** a Counter through what is know as the **constructor function**."
   ]
  },
  {
   "cell_type": "code",
   "execution_count": 73,
   "metadata": {},
   "outputs": [
    {
     "name": "stdout",
     "output_type": "stream",
     "text": [
      "<class 'collections.Counter'>\n"
     ]
    },
    {
     "data": {
      "text/plain": [
       "[(' ', 63), ('e', 51), ('a', 42)]"
      ]
     },
     "execution_count": 73,
     "metadata": {},
     "output_type": "execute_result"
    }
   ],
   "source": [
    "counter = Counter() # constructor\n",
    "print(type(counter))\n",
    "\n",
    "\n",
    "cnt.most_common(3)\n"
   ]
  },
  {
   "cell_type": "markdown",
   "metadata": {},
   "source": [
    "Our variable `counter` has a type that indicates that it's not of one of the primitive data types that we covered so far but a more specific kind of object. Using `help()`, we can find out about what it has to offer."
   ]
  },
  {
   "cell_type": "code",
   "execution_count": 64,
   "metadata": {},
   "outputs": [
    {
     "name": "stdout",
     "output_type": "stream",
     "text": [
      "Help on class Counter in module collections:\n",
      "\n",
      "class Counter(builtins.dict)\n",
      " |  Counter(iterable=None, /, **kwds)\n",
      " |  \n",
      " |  Dict subclass for counting hashable items.  Sometimes called a bag\n",
      " |  or multiset.  Elements are stored as dictionary keys and their counts\n",
      " |  are stored as dictionary values.\n",
      " |  \n",
      " |  >>> c = Counter('abcdeabcdabcaba')  # count elements from a string\n",
      " |  \n",
      " |  >>> c.most_common(3)                # three most common elements\n",
      " |  [('a', 5), ('b', 4), ('c', 3)]\n",
      " |  >>> sorted(c)                       # list all unique elements\n",
      " |  ['a', 'b', 'c', 'd', 'e']\n",
      " |  >>> ''.join(sorted(c.elements()))   # list elements with repetitions\n",
      " |  'aaaaabbbbcccdde'\n",
      " |  >>> sum(c.values())                 # total of all counts\n",
      " |  15\n",
      " |  \n",
      " |  >>> c['a']                          # count of letter 'a'\n",
      " |  5\n",
      " |  >>> for elem in 'shazam':           # update counts from an iterable\n",
      " |  ...     c[elem] += 1                # by adding 1 to each element's count\n",
      " |  >>> c['a']                          # now there are seven 'a'\n",
      " |  7\n",
      " |  >>> del c['b']                      # remove all 'b'\n",
      " |  >>> c['b']                          # now there are zero 'b'\n",
      " |  0\n",
      " |  \n",
      " |  >>> d = Counter('simsalabim')       # make another counter\n",
      " |  >>> c.update(d)                     # add in the second counter\n",
      " |  >>> c['a']                          # now there are nine 'a'\n",
      " |  9\n",
      " |  \n",
      " |  >>> c.clear()                       # empty the counter\n",
      " |  >>> c\n",
      " |  Counter()\n",
      " |  \n",
      " |  Note:  If a count is set to zero or reduced to zero, it will remain\n",
      " |  in the counter until the entry is deleted or the counter is cleared:\n",
      " |  \n",
      " |  >>> c = Counter('aaabbc')\n",
      " |  >>> c['b'] -= 2                     # reduce the count of 'b' by two\n",
      " |  >>> c.most_common()                 # 'b' is still in, but its count is zero\n",
      " |  [('a', 3), ('c', 1), ('b', 0)]\n",
      " |  \n",
      " |  Method resolution order:\n",
      " |      Counter\n",
      " |      builtins.dict\n",
      " |      builtins.object\n",
      " |  \n",
      " |  Methods defined here:\n",
      " |  \n",
      " |  __add__(self, other)\n",
      " |      Add counts from two counters.\n",
      " |      \n",
      " |      >>> Counter('abbb') + Counter('bcc')\n",
      " |      Counter({'b': 4, 'c': 2, 'a': 1})\n",
      " |  \n",
      " |  __and__(self, other)\n",
      " |      Intersection is the minimum of corresponding counts.\n",
      " |      \n",
      " |      >>> Counter('abbb') & Counter('bcc')\n",
      " |      Counter({'b': 1})\n",
      " |  \n",
      " |  __delitem__(self, elem)\n",
      " |      Like dict.__delitem__() but does not raise KeyError for missing values.\n",
      " |  \n",
      " |  __eq__(self, other)\n",
      " |      True if all counts agree. Missing counts are treated as zero.\n",
      " |  \n",
      " |  __ge__(self, other)\n",
      " |      True if all counts in self are a superset of those in other.\n",
      " |  \n",
      " |  __gt__(self, other)\n",
      " |      True if all counts in self are a proper superset of those in other.\n",
      " |  \n",
      " |  __iadd__(self, other)\n",
      " |      Inplace add from another counter, keeping only positive counts.\n",
      " |      \n",
      " |      >>> c = Counter('abbb')\n",
      " |      >>> c += Counter('bcc')\n",
      " |      >>> c\n",
      " |      Counter({'b': 4, 'c': 2, 'a': 1})\n",
      " |  \n",
      " |  __iand__(self, other)\n",
      " |      Inplace intersection is the minimum of corresponding counts.\n",
      " |      \n",
      " |      >>> c = Counter('abbb')\n",
      " |      >>> c &= Counter('bcc')\n",
      " |      >>> c\n",
      " |      Counter({'b': 1})\n",
      " |  \n",
      " |  __init__(self, iterable=None, /, **kwds)\n",
      " |      Create a new, empty Counter object.  And if given, count elements\n",
      " |      from an input iterable.  Or, initialize the count from another mapping\n",
      " |      of elements to their counts.\n",
      " |      \n",
      " |      >>> c = Counter()                           # a new, empty counter\n",
      " |      >>> c = Counter('gallahad')                 # a new counter from an iterable\n",
      " |      >>> c = Counter({'a': 4, 'b': 2})           # a new counter from a mapping\n",
      " |      >>> c = Counter(a=4, b=2)                   # a new counter from keyword args\n",
      " |  \n",
      " |  __ior__(self, other)\n",
      " |      Inplace union is the maximum of value from either counter.\n",
      " |      \n",
      " |      >>> c = Counter('abbb')\n",
      " |      >>> c |= Counter('bcc')\n",
      " |      >>> c\n",
      " |      Counter({'b': 3, 'c': 2, 'a': 1})\n",
      " |  \n",
      " |  __isub__(self, other)\n",
      " |      Inplace subtract counter, but keep only results with positive counts.\n",
      " |      \n",
      " |      >>> c = Counter('abbbc')\n",
      " |      >>> c -= Counter('bccd')\n",
      " |      >>> c\n",
      " |      Counter({'b': 2, 'a': 1})\n",
      " |  \n",
      " |  __le__(self, other)\n",
      " |      True if all counts in self are a subset of those in other.\n",
      " |  \n",
      " |  __lt__(self, other)\n",
      " |      True if all counts in self are a proper subset of those in other.\n",
      " |  \n",
      " |  __missing__(self, key)\n",
      " |      The count of elements not in the Counter is zero.\n",
      " |  \n",
      " |  __ne__(self, other)\n",
      " |      True if any counts disagree. Missing counts are treated as zero.\n",
      " |  \n",
      " |  __neg__(self)\n",
      " |      Subtracts from an empty counter.  Strips positive and zero counts,\n",
      " |      and flips the sign on negative counts.\n",
      " |  \n",
      " |  __or__(self, other)\n",
      " |      Union is the maximum of value in either of the input counters.\n",
      " |      \n",
      " |      >>> Counter('abbb') | Counter('bcc')\n",
      " |      Counter({'b': 3, 'c': 2, 'a': 1})\n",
      " |  \n",
      " |  __pos__(self)\n",
      " |      Adds an empty counter, effectively stripping negative and zero counts\n",
      " |  \n",
      " |  __reduce__(self)\n",
      " |      Helper for pickle.\n",
      " |  \n",
      " |  __repr__(self)\n",
      " |      Return repr(self).\n",
      " |  \n",
      " |  __sub__(self, other)\n",
      " |      Subtract count, but keep only results with positive counts.\n",
      " |      \n",
      " |      >>> Counter('abbbc') - Counter('bccd')\n",
      " |      Counter({'b': 2, 'a': 1})\n",
      " |  \n",
      " |  copy(self)\n",
      " |      Return a shallow copy.\n",
      " |  \n",
      " |  elements(self)\n",
      " |      Iterator over elements repeating each as many times as its count.\n",
      " |      \n",
      " |      >>> c = Counter('ABCABC')\n",
      " |      >>> sorted(c.elements())\n",
      " |      ['A', 'A', 'B', 'B', 'C', 'C']\n",
      " |      \n",
      " |      # Knuth's example for prime factors of 1836:  2**2 * 3**3 * 17**1\n",
      " |      >>> import math\n",
      " |      >>> prime_factors = Counter({2: 2, 3: 3, 17: 1})\n",
      " |      >>> math.prod(prime_factors.elements())\n",
      " |      1836\n",
      " |      \n",
      " |      Note, if an element's count has been set to zero or is a negative\n",
      " |      number, elements() will ignore it.\n",
      " |  \n",
      " |  most_common(self, n=None)\n",
      " |      List the n most common elements and their counts from the most\n",
      " |      common to the least.  If n is None, then list all element counts.\n",
      " |      \n",
      " |      >>> Counter('abracadabra').most_common(3)\n",
      " |      [('a', 5), ('b', 2), ('r', 2)]\n",
      " |  \n",
      " |  subtract(self, iterable=None, /, **kwds)\n",
      " |      Like dict.update() but subtracts counts instead of replacing them.\n",
      " |      Counts can be reduced below zero.  Both the inputs and outputs are\n",
      " |      allowed to contain zero and negative counts.\n",
      " |      \n",
      " |      Source can be an iterable, a dictionary, or another Counter instance.\n",
      " |      \n",
      " |      >>> c = Counter('which')\n",
      " |      >>> c.subtract('witch')             # subtract elements from another iterable\n",
      " |      >>> c.subtract(Counter('watch'))    # subtract elements from another counter\n",
      " |      >>> c['h']                          # 2 in which, minus 1 in witch, minus 1 in watch\n",
      " |      0\n",
      " |      >>> c['w']                          # 1 in which, minus 1 in witch, minus 1 in watch\n",
      " |      -1\n",
      " |  \n",
      " |  total(self)\n",
      " |      Sum of the counts\n",
      " |  \n",
      " |  update(self, iterable=None, /, **kwds)\n",
      " |      Like dict.update() but add counts instead of replacing them.\n",
      " |      \n",
      " |      Source can be an iterable, a dictionary, or another Counter instance.\n",
      " |      \n",
      " |      >>> c = Counter('which')\n",
      " |      >>> c.update('witch')           # add elements from another iterable\n",
      " |      >>> d = Counter('watch')\n",
      " |      >>> c.update(d)                 # add elements from another counter\n",
      " |      >>> c['h']                      # four 'h' in which, witch, and watch\n",
      " |      4\n",
      " |  \n",
      " |  ----------------------------------------------------------------------\n",
      " |  Class methods defined here:\n",
      " |  \n",
      " |  fromkeys(iterable, v=None) from builtins.type\n",
      " |      Create a new dictionary with keys from iterable and values set to value.\n",
      " |  \n",
      " |  ----------------------------------------------------------------------\n",
      " |  Data descriptors defined here:\n",
      " |  \n",
      " |  __dict__\n",
      " |      dictionary for instance variables (if defined)\n",
      " |  \n",
      " |  __weakref__\n",
      " |      list of weak references to the object (if defined)\n",
      " |  \n",
      " |  ----------------------------------------------------------------------\n",
      " |  Data and other attributes defined here:\n",
      " |  \n",
      " |  __hash__ = None\n",
      " |  \n",
      " |  ----------------------------------------------------------------------\n",
      " |  Methods inherited from builtins.dict:\n",
      " |  \n",
      " |  __contains__(self, key, /)\n",
      " |      True if the dictionary has the specified key, else False.\n",
      " |  \n",
      " |  __getattribute__(self, name, /)\n",
      " |      Return getattr(self, name).\n",
      " |  \n",
      " |  __getitem__(...)\n",
      " |      x.__getitem__(y) <==> x[y]\n",
      " |  \n",
      " |  __iter__(self, /)\n",
      " |      Implement iter(self).\n",
      " |  \n",
      " |  __len__(self, /)\n",
      " |      Return len(self).\n",
      " |  \n",
      " |  __reversed__(self, /)\n",
      " |      Return a reverse iterator over the dict keys.\n",
      " |  \n",
      " |  __ror__(self, value, /)\n",
      " |      Return value|self.\n",
      " |  \n",
      " |  __setitem__(self, key, value, /)\n",
      " |      Set self[key] to value.\n",
      " |  \n",
      " |  __sizeof__(...)\n",
      " |      D.__sizeof__() -> size of D in memory, in bytes\n",
      " |  \n",
      " |  clear(...)\n",
      " |      D.clear() -> None.  Remove all items from D.\n",
      " |  \n",
      " |  get(self, key, default=None, /)\n",
      " |      Return the value for key if key is in the dictionary, else default.\n",
      " |  \n",
      " |  items(...)\n",
      " |      D.items() -> a set-like object providing a view on D's items\n",
      " |  \n",
      " |  keys(...)\n",
      " |      D.keys() -> a set-like object providing a view on D's keys\n",
      " |  \n",
      " |  pop(...)\n",
      " |      D.pop(k[,d]) -> v, remove specified key and return the corresponding value.\n",
      " |      \n",
      " |      If the key is not found, return the default if given; otherwise,\n",
      " |      raise a KeyError.\n",
      " |  \n",
      " |  popitem(self, /)\n",
      " |      Remove and return a (key, value) pair as a 2-tuple.\n",
      " |      \n",
      " |      Pairs are returned in LIFO (last-in, first-out) order.\n",
      " |      Raises KeyError if the dict is empty.\n",
      " |  \n",
      " |  setdefault(self, key, default=None, /)\n",
      " |      Insert key with a value of default if key is not in the dictionary.\n",
      " |      \n",
      " |      Return the value for key if key is in the dictionary, else default.\n",
      " |  \n",
      " |  values(...)\n",
      " |      D.values() -> an object providing a view on D's values\n",
      " |  \n",
      " |  ----------------------------------------------------------------------\n",
      " |  Class methods inherited from builtins.dict:\n",
      " |  \n",
      " |  __class_getitem__(...) from builtins.type\n",
      " |      See PEP 585\n",
      " |  \n",
      " |  ----------------------------------------------------------------------\n",
      " |  Static methods inherited from builtins.dict:\n",
      " |  \n",
      " |  __new__(*args, **kwargs) from builtins.type\n",
      " |      Create and return a new object.  See help(type) for accurate signature.\n",
      "\n"
     ]
    }
   ],
   "source": [
    "help(Counter)"
   ]
  },
  {
   "cell_type": "markdown",
   "metadata": {},
   "source": [
    "Interestingly, the documentation tells us that `Counter` behaves like a standard `dict`, but one that is specialized in counting. Because it already expects the values to be integers (that's what counts are!), it will assume a default value of 0, whenever we try to access an element:"
   ]
  },
  {
   "cell_type": "code",
   "execution_count": 77,
   "metadata": {},
   "outputs": [
    {
     "name": "stdout",
     "output_type": "stream",
     "text": [
      "0\n",
      "0\n",
      "0\n"
     ]
    }
   ],
   "source": [
    "print(counter['a'])\n",
    "print(counter['b'])\n",
    "print(counter['c'])"
   ]
  },
  {
   "cell_type": "markdown",
   "metadata": {},
   "source": [
    "NOT. A. SINGLE. ERROR. GETS. THROWN. How cool is that? This explains why we *can* do the following:"
   ]
  },
  {
   "cell_type": "code",
   "execution_count": 78,
   "metadata": {},
   "outputs": [
    {
     "name": "stdout",
     "output_type": "stream",
     "text": [
      "Counter({' ': 63, 'e': 51, 'a': 42, 'i': 36, 'u': 35, 't': 30, 'm': 26, 's': 26, 'r': 25, 'o': 25, 'n': 21, 'l': 17, 'q': 10, '\\n': 10, 'v': 9, 'd': 8, ',': 7, 'p': 7, 'b': 7, 'c': 6, 'g': 4, 'f': 3, 'L': 3, 'A': 2, 'I': 2, '.': 2, 'T': 1, '—': 1, '5': 1, ';': 1, 'R': 1, 'M': 1, 'h': 1, '1': 1, '0': 1, '?': 1})\n"
     ]
    }
   ],
   "source": [
    "for char in aeneid:\n",
    "    counter[char] += 1\n",
    "\n",
    "print(counter)"
   ]
  },
  {
   "cell_type": "markdown",
   "metadata": {},
   "source": [
    "Amazing... And that is not all: remember how cumbersome it is in Python to sort a dictionary by its values. This is especially cumbersome for linguists, who often want frequency lists, showing the `.most_common()` items first. This is really easy with `Counter`:"
   ]
  },
  {
   "cell_type": "code",
   "execution_count": 84,
   "metadata": {},
   "outputs": [
    {
     "name": "stdout",
     "output_type": "stream",
     "text": [
      "[(' ', 63), ('e', 51), ('a', 42)]\n"
     ]
    }
   ],
   "source": [
    "print(counter.most_common(3))"
   ]
  },
  {
   "cell_type": "markdown",
   "metadata": {},
   "source": [
    "> *Questions*\n",
    "> - Can you analyze what is being returned by this function?\n",
    "> - What happens when you change the **argument value** `\"3\"`?\n",
    "> - What happens when you don't specify an argument at all, when calling the function?"
   ]
  },
  {
   "cell_type": "markdown",
   "metadata": {},
   "source": [
    "The `Counter` object is really useful."
   ]
  },
  {
   "cell_type": "code",
   "execution_count": 94,
   "metadata": {},
   "outputs": [
    {
     "name": "stdout",
     "output_type": "stream",
     "text": [
      "[('e', 3), (' ', 2), ('E', 1)]\n",
      "[('e', 7), (' ', 5), ('o', 4)]\n"
     ]
    }
   ],
   "source": [
    "s1 = \"Everyone likes R\"\n",
    "ct = Counter(s1)\n",
    "print(ct.most_common(3))\n",
    "\n",
    "\n",
    "s2 = \"Not everyones likes Python\"\n",
    "ct.update(s2)\n",
    "print(ct.most_common(3))\n"
   ]
  },
  {
   "cell_type": "code",
   "execution_count": 96,
   "metadata": {},
   "outputs": [
    {
     "name": "stdout",
     "output_type": "stream",
     "text": [
      "Counter({'likes': 2, 'Everyone': 1, 'Python': 1, 'nobody': 1, 'Prolog': 1})\n"
     ]
    }
   ],
   "source": [
    "l1 = [\"Everyone\", \"likes\", \"Python\", \"nobody\", \"likes\", \"Prolog\"]\n",
    "ct2 = Counter(l1)\n",
    "print(ct2)\n"
   ]
  }
 ],
 "metadata": {
  "kernelspec": {
   "display_name": "Python 3 (ipykernel)",
   "language": "python",
   "name": "python3"
  },
  "language_info": {
   "codemirror_mode": {
    "name": "ipython",
    "version": 3
   },
   "file_extension": ".py",
   "mimetype": "text/x-python",
   "name": "python",
   "nbconvert_exporter": "python",
   "pygments_lexer": "ipython3",
   "version": "3.11.4"
  }
 },
 "nbformat": 4,
 "nbformat_minor": 4
}
