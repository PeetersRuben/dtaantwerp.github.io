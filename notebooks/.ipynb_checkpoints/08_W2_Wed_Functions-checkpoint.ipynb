{
 "cells": [
  {
   "cell_type": "markdown",
   "metadata": {},
   "source": [
    "<div style=\"background-color:lightgrey;\n",
    "            padding:10px;\n",
    "            color:black;\n",
    "            border:black dashed 2px; \n",
    "            border-radius:5px;\n",
    "            margin: 20px 0;\">\n",
    "            \n",
    "            \n",
    "# Functions\n",
    "\n",
    "\n",
    "\n",
    "**Staff:** Walter Daelemans <br/>\n",
    "**Support Material:** [exercises](../exercises/Questions_2023/07_EX_functions.ipynb)  <br/>\n",
    "**Support Sessions:**  Thursday, October 5, 10:30AM\n",
    "\n",
    "</div>"
   ]
  },
  {
   "cell_type": "markdown",
   "metadata": {},
   "source": [
    "## Summary: what all programming languages have in common:\n",
    "\n",
    "- Datatypes and procedures operating on them\n",
    "    - `int`, `float`, `list`, `str`, `tuple`, `bool`, `dict`, ...\n",
    "- Tests and boolean operators combining them\n",
    "    - `==`, `in`, `<`, `>`, `and`, `or`, `not`, ...\n",
    "- Variables and values (cf. assignment)\n",
    "    - _name_ = _expression_\n",
    "- Input and Output (often abbreviated: I/O)\n",
    "    - `input()`, `print()`, `read()`, `write()`, ...\n",
    "- Control structures for conditions, loops etc.\n",
    "    - `if`, `elif`, `else`, `for`, `while`, `break`, `continue`, `pass`, ...\n",
    "- A way of **extending** the language with your own procedures (and datatypes)\n",
    "    - `def`"
   ]
  },
  {
   "cell_type": "markdown",
   "metadata": {},
   "source": [
    "Let's revisit a typical programming idiom: a filter consisting of a `for` loop and a `test`.\n",
    "Write code that takes a list of words as input and filters out a list of all 5-letter words starting with an 'a'."
   ]
  },
  {
   "cell_type": "code",
   "execution_count": 2,
   "metadata": {},
   "outputs": [
    {
     "data": {
      "text/plain": [
       "['apple', 'anton', 'almos']"
      ]
     },
     "execution_count": 2,
     "metadata": {},
     "output_type": "execute_result"
    }
   ],
   "source": [
    "words = ['abba', 'point', 'madam', 'feline', 'level', 'apple', 'google', \n",
    "         'anton', 'microsoft', 'facebook', 'goggle','amazon', 'oracle', 'almos']\n",
    "\n",
    "result = []\n",
    "for word in words:\n",
    "    if len(word) == 5 and word[0] == 'a':\n",
    "        result.append(word)\n",
    "        \n",
    "result"
   ]
  },
  {
   "cell_type": "markdown",
   "metadata": {},
   "source": [
    "We can define a function using `def` that will encapsulate a piece of code and make it known to Pyhon so that it can be reused. This means that it can be **called** or **invoked** with different arguments.\n",
    "\n",
    "The syntax is the following:\n",
    "\n",
    "```python\n",
    "def name(arguments):\n",
    "    body\n",
    "    return \n",
    "```\n",
    "\n",
    "We are free to choose a name for the function (make it informative!) and the names of the **arguments**. There can be no, one, or several arguments. The arguments can be used in the **body** of the function. In the body there will often be one or more `return` expressions that decide the output of a function call. However, a `return` expression is not obligatory, we can define functions that don't return any value, but do something nevertheless (e.g. printing a value).\n",
    "\n",
    "Let's look at an example function definition, we will make a function of the code for the filter we made."
   ]
  },
  {
   "cell_type": "code",
   "execution_count": 8,
   "metadata": {},
   "outputs": [],
   "source": [
    "def filter_words (word_list):\n",
    "    result = []\n",
    "    for word in word_list:\n",
    "        if len(word) == 5 and word[0] == 'a':\n",
    "            result.append(word)\n",
    "    return result"
   ]
  },
  {
   "cell_type": "code",
   "execution_count": 13,
   "metadata": {},
   "outputs": [],
   "source": [
    "lst2 = [filter_words(words)]"
   ]
  },
  {
   "cell_type": "markdown",
   "metadata": {},
   "source": [
    "As you can see the result of calling this new function `filter_words` with as input the variable `words` is exactly the same as the previous code. The value of the input `words` (the list of words), is linked to the variable `word_list`. This is an internal variable that only has it's value while the function is being called, afterwards it will be unbound again. In the end, the `return` expression provides the output of the function call, in this case the filtered list. We can also call the function directly with a list or with another variable bound to a list."
   ]
  },
  {
   "cell_type": "code",
   "execution_count": 6,
   "metadata": {},
   "outputs": [
    {
     "ename": "TypeError",
     "evalue": "filter_words() missing 2 required positional arguments: 'first_letter' and 'length'",
     "output_type": "error",
     "traceback": [
      "\u001b[1;31m---------------------------------------------------------------------------\u001b[0m",
      "\u001b[1;31mTypeError\u001b[0m                                 Traceback (most recent call last)",
      "Cell \u001b[1;32mIn[6], line 1\u001b[0m\n\u001b[1;32m----> 1\u001b[0m filter_words([\u001b[38;5;124m'\u001b[39m\u001b[38;5;124malbion\u001b[39m\u001b[38;5;124m'\u001b[39m, \u001b[38;5;124m'\u001b[39m\u001b[38;5;124malways\u001b[39m\u001b[38;5;124m'\u001b[39m, \u001b[38;5;124m'\u001b[39m\u001b[38;5;124manton\u001b[39m\u001b[38;5;124m'\u001b[39m, \u001b[38;5;124m'\u001b[39m\u001b[38;5;124manthony\u001b[39m\u001b[38;5;124m'\u001b[39m])\n",
      "\u001b[1;31mTypeError\u001b[0m: filter_words() missing 2 required positional arguments: 'first_letter' and 'length'"
     ]
    }
   ],
   "source": [
    "filter_words(['albion', 'always', 'anton', 'anthony'])"
   ]
  },
  {
   "cell_type": "code",
   "execution_count": 14,
   "metadata": {},
   "outputs": [
    {
     "data": {
      "text/plain": [
       "['apple']"
      ]
     },
     "execution_count": 14,
     "metadata": {},
     "output_type": "execute_result"
    }
   ],
   "source": [
    "words2 = ['a', 'basket', 'of', 'fruit', 'with', 'one', 'apple', 'and', 'one', 'banana']\n",
    "filter_words(words2)"
   ]
  },
  {
   "cell_type": "markdown",
   "metadata": {},
   "source": [
    "We can make our filter function more flexible by defining additional arguments for the initial letter and the length on the basis of which we will filter words."
   ]
  },
  {
   "cell_type": "code",
   "execution_count": 20,
   "metadata": {},
   "outputs": [],
   "source": [
    "def filter_words (w, first_letter, length):\n",
    "    result = []\n",
    "    if isinstance(w, str):\n",
    "        w = w.split()\n",
    "    for word in w:\n",
    "        if len(word) == length and word[0] == first_letter:\n",
    "            result.append(word)\n",
    "    return result"
   ]
  },
  {
   "cell_type": "code",
   "execution_count": 29,
   "metadata": {},
   "outputs": [
    {
     "data": {
      "text/plain": [
       "['basket', 'banana']"
      ]
     },
     "execution_count": 29,
     "metadata": {},
     "output_type": "execute_result"
    }
   ],
   "source": [
    "filter_words(words2, \"b\", 6)"
   ]
  },
  {
   "cell_type": "markdown",
   "metadata": {},
   "source": [
    "We can also define **default values** for arguments. In case the arguments are not provided, we can then use those values."
   ]
  },
  {
   "cell_type": "code",
   "execution_count": 23,
   "metadata": {},
   "outputs": [],
   "source": [
    "def filter_words (w, first_letter='a', length=5):\n",
    "    result = []\n",
    "    for word in w:\n",
    "        if len(word) == length and word[0] == first_letter:\n",
    "            result.append(word)\n",
    "    return result"
   ]
  },
  {
   "cell_type": "code",
   "execution_count": 24,
   "metadata": {},
   "outputs": [
    {
     "data": {
      "text/plain": [
       "['level']"
      ]
     },
     "execution_count": 24,
     "metadata": {},
     "output_type": "execute_result"
    }
   ],
   "source": [
    "filter_words(words, 'l') # 5-letter words is default"
   ]
  },
  {
   "cell_type": "code",
   "execution_count": 30,
   "metadata": {},
   "outputs": [
    {
     "data": {
      "text/plain": [
       "['basket', 'banana']"
      ]
     },
     "execution_count": 30,
     "metadata": {},
     "output_type": "execute_result"
    }
   ],
   "source": [
    "filter_words(words2, 'b', 6)"
   ]
  },
  {
   "cell_type": "markdown",
   "metadata": {},
   "source": [
    "The order of the arguments is important. Swapping the order of the initial letter and the length will lead to wrong output. "
   ]
  },
  {
   "cell_type": "code",
   "execution_count": 26,
   "metadata": {},
   "outputs": [
    {
     "data": {
      "text/plain": [
       "[]"
      ]
     },
     "execution_count": 26,
     "metadata": {},
     "output_type": "execute_result"
    }
   ],
   "source": [
    "filter_words(words, 6, 'g')"
   ]
  },
  {
   "cell_type": "markdown",
   "metadata": {},
   "source": [
    "In some cases it is clearer to work with explicit keyword arguments (also called `named` arguments), that make the order of the arguments irrelevant. In our latest definition, the arguments `length` and `first_letter` are defined as keywords (to make possible default values), so they can be used as such, `words` is not a keyword though, and should always be the first argument in a call to this function."
   ]
  },
  {
   "cell_type": "code",
   "execution_count": 34,
   "metadata": {},
   "outputs": [
    {
     "data": {
      "text/plain": [
       "['google', 'goggle']"
      ]
     },
     "execution_count": 34,
     "metadata": {},
     "output_type": "execute_result"
    }
   ],
   "source": [
    "filter_words(words, first_letter='g', length=6, )"
   ]
  },
  {
   "cell_type": "markdown",
   "metadata": {},
   "source": [
    "The fact that we didn't get an error message with\n",
    "\n",
    "```python\n",
    "filter_words(words, 6, 'g')\n",
    "```\n",
    "points to bad (or at least dangerous) code. We could believe here that there just aren't any 6-letter words starting with 'g'. We didn't get an error because the test used in the function definition works both with strings and integers, even if 'semantically' it doesn't make any sense. Python is a very flexible language, but the downside of that is that semantic errors are easy to make. In other languages, type checking is often used to make sure that functions are applied to the right type of arguments. We might consider doing a type check explicitly in our function definition:"
   ]
  },
  {
   "cell_type": "code",
   "execution_count": 52,
   "metadata": {},
   "outputs": [
    {
     "data": {
      "text/plain": [
       "['google', 'goggle']"
      ]
     },
     "execution_count": 52,
     "metadata": {},
     "output_type": "execute_result"
    }
   ],
   "source": [
    "def filter_words (w, first_letter='a', length=5):\n",
    "    \"\"\"this is the help line\"\"\"\n",
    "    if not(isinstance(first_letter, str)) or not(isinstance(length, int)):\n",
    "        return 'Wrong arguments!'\n",
    "    result = []\n",
    "    for word in w:\n",
    "        if len(word) == length and word[0] == first_letter:\n",
    "            result.append(word)\n",
    "    return result\n",
    "\n",
    "filter_words(words, length= 6, first_letter = 'g')"
   ]
  },
  {
   "cell_type": "code",
   "execution_count": 51,
   "metadata": {},
   "outputs": [
    {
     "name": "stdout",
     "output_type": "stream",
     "text": [
      "Help on function filter_words in module __main__:\n",
      "\n",
      "filter_words(w, first_letter='a', length=5)\n",
      "    \"this is the help line\n",
      "\n"
     ]
    }
   ],
   "source": [
    "help(filter_words)"
   ]
  },
  {
   "cell_type": "markdown",
   "metadata": {},
   "source": [
    "The type-checking condition delivered `True`, so we can avoid that error. This code also illustrates that it is possible to have several `return` expressions in a function definition. Whenever a `return` is executed, the rest of the function body is no longer executed."
   ]
  },
  {
   "cell_type": "markdown",
   "metadata": {},
   "source": [
    "##### Advanced argument usage:"
   ]
  },
  {
   "cell_type": "markdown",
   "metadata": {},
   "source": [
    "As a final variant, it is possible to work with a number of arguments that is previously not defined, indicated by `*args` in the arguments position of the function definition, and/or a number of keyword arguments that is previously undefined, indicated by `**kwargs`. When using both at the same time, the `*args` should precede the `**kwargs`. The `**kwargs` are available as a dictionary."
   ]
  },
  {
   "cell_type": "code",
   "execution_count": 53,
   "metadata": {},
   "outputs": [
    {
     "data": {
      "text/plain": [
       "(4, 6, 'apple')"
      ]
     },
     "execution_count": 53,
     "metadata": {},
     "output_type": "execute_result"
    }
   ],
   "source": [
    "def function_1 (*args):\n",
    "    return args\n",
    "\n",
    "function_1 (4, 6, 'apple')"
   ]
  },
  {
   "cell_type": "code",
   "execution_count": 57,
   "metadata": {},
   "outputs": [
    {
     "data": {
      "text/plain": [
       "{'a': 3, 'b': 6, 'c': 'apple'}"
      ]
     },
     "execution_count": 57,
     "metadata": {},
     "output_type": "execute_result"
    }
   ],
   "source": [
    "def function_2 (**kwargs):\n",
    "    return kwargs\n",
    "\n",
    "function_2(a=3, b=6, c='apple')"
   ]
  },
  {
   "cell_type": "markdown",
   "metadata": {},
   "source": [
    "Here's a possible use case for `*args`. We define a function that sums all its arguments, whatever the number of arguments."
   ]
  },
  {
   "cell_type": "code",
   "execution_count": 60,
   "metadata": {},
   "outputs": [
    {
     "name": "stdout",
     "output_type": "stream",
     "text": [
      "6\n",
      "10\n",
      "21\n"
     ]
    }
   ],
   "source": [
    "def my_own_sum (*args):\n",
    "    result = 0\n",
    "    for n in args:\n",
    "        result += n\n",
    "    return result\n",
    "    \n",
    "print(my_own_sum(1, 2, 3))\n",
    "print(my_own_sum(1, 2, 3, 4))\n",
    "print(my_own_sum(1, 2, 3, 4, 5, 6))"
   ]
  },
  {
   "cell_type": "markdown",
   "metadata": {},
   "source": [
    "### Local and global variables\n",
    "\n",
    "It often happens that function definitions use argument names that already exist in the environment. That is not a problem because variables used as argument names only live while the function is being called, after that the previous values are reinstated. "
   ]
  },
  {
   "cell_type": "code",
   "execution_count": 61,
   "metadata": {},
   "outputs": [
    {
     "name": "stdout",
     "output_type": "stream",
     "text": [
      "12\n",
      "21\n",
      "12\n"
     ]
    }
   ],
   "source": [
    "x = 12\n",
    "\n",
    "print(x)\n",
    "\n",
    "def myfunc (x):\n",
    "    return x\n",
    "\n",
    "print(myfunc (21))\n",
    "\n",
    "print(x)"
   ]
  },
  {
   "cell_type": "markdown",
   "metadata": {},
   "source": [
    "## Decomposition and abstraction\n",
    "\n",
    "When solving a programming problem, you will have to decompose that problem into subproblems until you reach subproblems that are easy to implement in a single function definition (*decomposition*). And whenever you find subproblems that can be reused in different parts of your code, you can give them a separate function definition (*abstraction*). Both processes lead to a situation where rather than having one big blob of code, you have a set of relatively short functions. So in summary:\n",
    "\n",
    "- Split up a complex piece of code into simpler pieces of code (decomposition, 'factoring')\n",
    "- Abstract over a reusable piece of code by giving it a name (e.g. a new function or test)\n",
    "- Improved clarity, ease of change and debugging, reusability, ...\n",
    "\n",
    "Let's have a look at a toy example."
   ]
  },
  {
   "cell_type": "code",
   "execution_count": 62,
   "metadata": {},
   "outputs": [
    {
     "name": "stdout",
     "output_type": "stream",
     "text": [
      "['I', 'like', 'the', 'words', 'serendipitous', 'and', 'fictitious']\n"
     ]
    }
   ],
   "source": [
    "# Problem: For each word in a list, check whether it is longer than 5 letters and if so, count the number of vowels\n",
    "\n",
    "sentence = \"I like the words serendipitous and fictitious\"\n",
    "words = sentence.split()\n",
    "words\n",
    "print(words)"
   ]
  },
  {
   "cell_type": "code",
   "execution_count": 64,
   "metadata": {},
   "outputs": [
    {
     "data": {
      "text/plain": [
       "[['serendipitous', 6], ['fictitious', 5]]"
      ]
     },
     "execution_count": 64,
     "metadata": {},
     "output_type": "execute_result"
    }
   ],
   "source": [
    "# The function should return a list of vowel counts\n",
    "result_list = []\n",
    "\n",
    "vowels = \"aeiou\"\n",
    "\n",
    "for word in words: # for each word\n",
    "    if len(word) > 5: # that is longer than 5 letters\n",
    "        vowelcount = 0 # we have to return a count\n",
    "        for letter in word: # for each letter in that word\n",
    "            if letter in vowels: # if a letter is a vowel\n",
    "                vowelcount += 1 # increment vowelcount\n",
    "        result_list.append([word, vowelcount]) # add the count to the list \n",
    "    \n",
    "result_list  "
   ]
  },
  {
   "cell_type": "markdown",
   "metadata": {},
   "source": [
    "Let's make this clearer, more reusable and more elegant through the mechanism of decomposition. \n",
    "\n",
    "- We will define a separate function to test whether a letter is a vowel\n",
    "- We will define a function that uses this test to count the number of vowels in a word\n",
    "- We will use the abstracted functions in our toplevel function that counts vowels in long words"
   ]
  },
  {
   "cell_type": "code",
   "execution_count": 65,
   "metadata": {},
   "outputs": [],
   "source": [
    "def is_vowel (letter):\n",
    "    \"Test to check whether a letter (input of type str, output of type bool) is a vowel\"\n",
    "    return letter in \"aeiou\""
   ]
  },
  {
   "cell_type": "code",
   "execution_count": 66,
   "metadata": {},
   "outputs": [
    {
     "data": {
      "text/plain": [
       "True"
      ]
     },
     "execution_count": 66,
     "metadata": {},
     "output_type": "execute_result"
    }
   ],
   "source": [
    "is_vowel(\"a\")"
   ]
  },
  {
   "cell_type": "code",
   "execution_count": 67,
   "metadata": {},
   "outputs": [],
   "source": [
    "def vowel_count (word):\n",
    "    \"Count the number of vowels in a word (input of type str, output of type int)\"\n",
    "    vowelcount = 0\n",
    "    for letter in word:\n",
    "        if is_vowel(letter):\n",
    "            vowelcount+= 1\n",
    "    return vowelcount"
   ]
  },
  {
   "cell_type": "code",
   "execution_count": 68,
   "metadata": {},
   "outputs": [
    {
     "data": {
      "text/plain": [
       "5"
      ]
     },
     "execution_count": 68,
     "metadata": {},
     "output_type": "execute_result"
    }
   ],
   "source": [
    "vowel_count(\"abracadabra\")"
   ]
  },
  {
   "cell_type": "code",
   "execution_count": 69,
   "metadata": {},
   "outputs": [],
   "source": [
    "# For each word in a list, check whether it is longer than 5 letters and if so, count the number of vowels\n",
    "\n",
    "def long_words_vowelcount (word_list, minimal_length=5):\n",
    "    \"Input a list of words and return a list of pairs of words longer \\\n",
    "    than 'minimal_length' with their number of vowels\"\n",
    "    result = []\n",
    "    for word in word_list:\n",
    "        if len(word) > minimal_length:\n",
    "            result.append([word, vowel_count(word)])\n",
    "    return result"
   ]
  },
  {
   "cell_type": "code",
   "execution_count": 70,
   "metadata": {},
   "outputs": [
    {
     "data": {
      "text/plain": [
       "[['serendipitous', 6], ['fictitious', 5]]"
      ]
     },
     "execution_count": 70,
     "metadata": {},
     "output_type": "execute_result"
    }
   ],
   "source": [
    "long_words_vowelcount(words)"
   ]
  },
  {
   "cell_type": "code",
   "execution_count": 75,
   "metadata": {},
   "outputs": [
    {
     "data": {
      "text/plain": [
       "[['like', 2], ['words', 1], ['serendipitous', 6], ['fictitious', 5]]"
      ]
     },
     "execution_count": 75,
     "metadata": {},
     "output_type": "execute_result"
    }
   ],
   "source": [
    "long_words_vowelcount(words, minimal_length = 3)"
   ]
  },
  {
   "cell_type": "markdown",
   "metadata": {},
   "source": [
    "Finally a word on function stacking. We can apply a function to the output of another function which was applied to the output of ... So we get a structure like this: f1(f2(f3(x))) with an arbitrary number of functions. Because of its compactness and convenience you will see this used a lot in AI and NLP. "
   ]
  },
  {
   "cell_type": "code",
   "execution_count": 76,
   "metadata": {},
   "outputs": [
    {
     "data": {
      "text/plain": [
       "6"
      ]
     },
     "execution_count": 76,
     "metadata": {},
     "output_type": "execute_result"
    }
   ],
   "source": [
    "# Take a string as input, convert it to a list of word tokens, find the length of each token and and return \n",
    "# the length of the longest word\n",
    "\n",
    "max(map(len, (\"the mirror and the light\".split())))"
   ]
  },
  {
   "cell_type": "code",
   "execution_count": 82,
   "metadata": {},
   "outputs": [
    {
     "name": "stdout",
     "output_type": "stream",
     "text": [
      "['the', 'mirror', 'and', 'the', 'light']\n",
      "[3, 6, 3, 3, 5]\n",
      "6\n"
     ]
    }
   ],
   "source": [
    "t = \"the mirror and the light\".split()\n",
    "t2 = list(map(len, t))\n",
    "t3 = max(t2)\n",
    "print(t)\n",
    "print(t2)\n",
    "print(t3)"
   ]
  },
  {
   "cell_type": "code",
   "execution_count": 105,
   "metadata": {},
   "outputs": [
    {
     "data": {
      "text/plain": [
       "[True, False, False, True, False]"
      ]
     },
     "execution_count": 105,
     "metadata": {},
     "output_type": "execute_result"
    }
   ],
   "source": [
    "list(map(lambda x: len(x)>2 and x[0] == 't', 'the mirror and the light'.split()))"
   ]
  },
  {
   "cell_type": "code",
   "execution_count": 107,
   "metadata": {},
   "outputs": [
    {
     "data": {
      "text/plain": [
       "[False,\n",
       " False,\n",
       " True,\n",
       " False,\n",
       " False,\n",
       " True,\n",
       " False,\n",
       " False,\n",
       " True,\n",
       " False,\n",
       " False,\n",
       " True,\n",
       " False,\n",
       " False,\n",
       " False,\n",
       " False,\n",
       " False,\n",
       " True,\n",
       " False,\n",
       " False,\n",
       " True,\n",
       " False,\n",
       " False,\n",
       " False]"
      ]
     },
     "execution_count": 107,
     "metadata": {},
     "output_type": "execute_result"
    }
   ],
   "source": [
    "list(map(is_vowel, \"the mirror and the light\"))"
   ]
  },
  {
   "cell_type": "markdown",
   "metadata": {},
   "source": [
    "## Modules"
   ]
  },
  {
   "cell_type": "markdown",
   "metadata": {},
   "source": [
    "Some Python functions, objects, and methods are available when you start up Python (e.g. `len`), others are available in modules that should be explicitly loaded into the Python system using `import`. The reason for this is efficiency, frequently needed stuff is always available, less frequently needed stuff only if needed by importing it.  A case in point is the `random` module that contains among others the `randint` function which generates random integers. Of course, you should know which modules have which functions and what their names are, but this is something you will gradually learn. Let's try the `random` module."
   ]
  },
  {
   "cell_type": "code",
   "execution_count": 83,
   "metadata": {},
   "outputs": [],
   "source": [
    "import random"
   ]
  },
  {
   "cell_type": "code",
   "execution_count": 85,
   "metadata": {},
   "outputs": [],
   "source": [
    "#help(random) #(lots of info)"
   ]
  },
  {
   "cell_type": "code",
   "execution_count": 86,
   "metadata": {},
   "outputs": [
    {
     "name": "stdout",
     "output_type": "stream",
     "text": [
      "Help on method randint in module random:\n",
      "\n",
      "randint(a, b) method of random.Random instance\n",
      "    Return random integer in range [a, b], including both end points.\n",
      "\n"
     ]
    }
   ],
   "source": [
    "help(random.randint)"
   ]
  },
  {
   "cell_type": "code",
   "execution_count": 102,
   "metadata": {},
   "outputs": [
    {
     "data": {
      "text/plain": [
       "7"
      ]
     },
     "execution_count": 102,
     "metadata": {},
     "output_type": "execute_result"
    }
   ],
   "source": [
    "random.randint(0, 10) # notice we have to specify the name of the module as well as the function name"
   ]
  },
  {
   "cell_type": "markdown",
   "metadata": {},
   "source": [
    "Another way to import from a module is to specify explicitly which functions you need with `from` ... `import`. In that case you can just use the function name without having to specify the module name,"
   ]
  },
  {
   "cell_type": "code",
   "execution_count": 103,
   "metadata": {},
   "outputs": [],
   "source": [
    "from random import randint"
   ]
  },
  {
   "cell_type": "code",
   "execution_count": 104,
   "metadata": {},
   "outputs": [
    {
     "data": {
      "text/plain": [
       "324"
      ]
     },
     "execution_count": 104,
     "metadata": {},
     "output_type": "execute_result"
    }
   ],
   "source": [
    "randint(0,1000)  # no need to specify the module name now"
   ]
  },
  {
   "cell_type": "raw",
   "metadata": {},
   "source": [
    "Yet another way to import is to provide an alias: `import` ... `as` ...  In that case the alias can be used instead of the module name."
   ]
  },
  {
   "cell_type": "code",
   "execution_count": null,
   "metadata": {},
   "outputs": [],
   "source": [
    "import random as r # use the alias name to refer to the module\n",
    "\n",
    "r.randint(0, 10)"
   ]
  },
  {
   "cell_type": "markdown",
   "metadata": {},
   "source": [
    "You can write your own modules as well, we will return to this later."
   ]
  }
 ],
 "metadata": {
  "kernelspec": {
   "display_name": "Python 3 (ipykernel)",
   "language": "python",
   "name": "python3"
  },
  "language_info": {
   "codemirror_mode": {
    "name": "ipython",
    "version": 3
   },
   "file_extension": ".py",
   "mimetype": "text/x-python",
   "name": "python",
   "nbconvert_exporter": "python",
   "pygments_lexer": "ipython3",
   "version": "3.11.4"
  }
 },
 "nbformat": 4,
 "nbformat_minor": 4
}
