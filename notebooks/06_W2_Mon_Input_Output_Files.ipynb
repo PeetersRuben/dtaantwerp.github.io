{
 "cells": [
  {
   "cell_type": "markdown",
   "metadata": {},
   "source": [
    "<div style=\"background-color:lightgrey;\n",
    "            padding:10px;\n",
    "            color:black;\n",
    "            border:black dashed 2px; \n",
    "            border-radius:5px;\n",
    "            margin: 20px 0;\">\n",
    "            \n",
    "            \n",
    "# Input / Output\n",
    "\n",
    "\n",
    "\n",
    "**Staff:** Luna De Bruyne <br/>\n",
    "**Support Material:** [exercises](06_W2_Mon_Input_Output_Files.ipynb) <br/>\n",
    "**Support Sessions:**  Tuesday, October 3, at 10:30 AM\n",
    "\n",
    "</div>\n",
    "\n",
    "\n",
    "\n",
    "## Introduction\n",
    "\n",
    "Programs cannot function on their own: just like people, they need to interact with the outside world and other programs. **I/O** (input-output) is a crucial concept in this respect and refers to how your program can load or read external data (e.g. from a file) and return information outside the script itself (e.g. by writing to a file). This chapter presents the following ways to work with external data:\n",
    "\n",
    "- **Keyboard input**: load information that a user types in\n",
    "- **Files**: reading and writing from and to files"
   ]
  },
  {
   "cell_type": "markdown",
   "metadata": {},
   "source": [
    "## Keyboard input\n",
    "\n",
    "You can request information from a user at runtime, i.e. when the program is running already. This is a fun way of interacting with your users and similar to the way an ATM terminal asks for a pin code. The function `input()` is the main workhorse here. Run the following cell for instance, type in your name, and click enter:"
   ]
  },
  {
   "cell_type": "code",
   "execution_count": null,
   "metadata": {},
   "outputs": [],
   "source": [
    "name = input('What is your name? ')\n",
    "print('Hello, ' + name + '!')"
   ]
  },
  {
   "cell_type": "markdown",
   "metadata": {},
   "source": [
    "Input will require the user to type something in -- although it will allow an empty answer. The inputted information will be fed back into Python as a string. In this example we store it in the variable `name`. Downstream in our program, we can make use of that variable in the same way as with any other string variable."
   ]
  },
  {
   "cell_type": "markdown",
   "metadata": {},
   "source": [
    "In some cases you'll want to be careful with the way you handle this information. In the example below, the user is asked for two numbers:"
   ]
  },
  {
   "cell_type": "code",
   "execution_count": null,
   "metadata": {},
   "outputs": [],
   "source": [
    "print('=== Addition ===')\n",
    "a = input('Give the first number: ')\n",
    "b = input('Give the second number: ')\n",
    "print('Sum:', a + b)"
   ]
  },
  {
   "cell_type": "markdown",
   "metadata": {},
   "source": [
    "In this case, we clearly want to work with numbers instead of strings, so we'll need casting:"
   ]
  },
  {
   "cell_type": "code",
   "execution_count": 12,
   "metadata": {},
   "outputs": [
    {
     "name": "stdout",
     "output_type": "stream",
     "text": [
      "=== Addition ===\n",
      "Give the first number: 8\n",
      "Give the second number: 9\n",
      "Sum: 17\n"
     ]
    }
   ],
   "source": [
    "print('=== Addition ===')\n",
    "a = int(input('Give the first number: '))\n",
    "b = int(input('Give the second number: '))\n",
    "print('Sum:', a + b)"
   ]
  },
  {
   "cell_type": "markdown",
   "metadata": {},
   "source": [
    "Additionally, you might want to check whether the information was inputted correctly. Suppose we would like to guard ourselves against empty strings. Enter an empty string in the example below:"
   ]
  },
  {
   "cell_type": "code",
   "execution_count": null,
   "metadata": {},
   "outputs": [],
   "source": [
    "name = input('What is your name?')\n",
    "if not name:\n",
    "    print('Incorrect input')\n",
    "else:\n",
    "    print('Hello, ' + name + '!')"
   ]
  },
  {
   "cell_type": "markdown",
   "metadata": {},
   "source": [
    "There's one additional new function that might useful in this context, namely `eval()`: you might want to turn an inputted string into a variable name. Suppose we have two variables, `x` and `y` in our script and we would like to print its value depending on the user's input:"
   ]
  },
  {
   "cell_type": "code",
   "execution_count": 13,
   "metadata": {},
   "outputs": [
    {
     "name": "stdout",
     "output_type": "stream",
     "text": [
      "Which variable would you like to print? x\n",
      "Mike\n"
     ]
    }
   ],
   "source": [
    "x = 'Mike'\n",
    "y = 'Tom'\n",
    "\n",
    "v = input('Which variable would you like to print? ')\n",
    "print(eval(v))"
   ]
  },
  {
   "cell_type": "markdown",
   "metadata": {},
   "source": [
    "As you can see, `eval()` allows you to turn a string into code and have Python interpret it as if it were actual code:"
   ]
  },
  {
   "cell_type": "code",
   "execution_count": 14,
   "metadata": {},
   "outputs": [
    {
     "name": "stdout",
     "output_type": "stream",
     "text": [
      "[1, 2, 3] <class 'list'>\n"
     ]
    }
   ],
   "source": [
    "l = [1, 2, 3]\n",
    "print(l, type(l))"
   ]
  },
  {
   "cell_type": "code",
   "execution_count": null,
   "metadata": {},
   "outputs": [],
   "source": [
    "l = '[1, 2, 3]'\n",
    "print(l, type(l))"
   ]
  },
  {
   "cell_type": "code",
   "execution_count": 15,
   "metadata": {},
   "outputs": [
    {
     "name": "stdout",
     "output_type": "stream",
     "text": [
      "[1, 2, 3] <class 'list'>\n"
     ]
    }
   ],
   "source": [
    "l = eval('[1, 2, 3]')\n",
    "print(l, type(l))"
   ]
  },
  {
   "cell_type": "markdown",
   "metadata": {},
   "source": [
    "To be honest, we would recommend against such an approach -- there's often ways to bypass `eval()` and using it is often bad practice. For capturing user input, specifically, there are serious **security concerns**, because you never know what an inputted string might contain in terms of malicious code. Therefore, you should know what `eval()` does but in general, try to stay away from it."
   ]
  },
  {
   "cell_type": "markdown",
   "metadata": {},
   "source": [
    "*Exercise*: generate a random number with this code:\n",
    "\n",
    "```python\n",
    "import random\n",
    "random_number = random.randint(1, 10)\n",
    "```\n",
    "\n",
    "With a loop, have the user guess what the number is and abort the program with a suitable message of joy when the correct number is guessed. Allow the user a maximum of 5 guesses before aborting."
   ]
  },
  {
   "cell_type": "code",
   "execution_count": 1,
   "metadata": {},
   "outputs": [
    {
     "name": "stdout",
     "output_type": "stream",
     "text": [
      "8\n",
      "Guess a number between 1 and 107\n",
      "try again\n",
      "Guess a number between 1 and 109\n",
      "try again\n",
      "Guess a number between 1 and 101\n",
      "try again\n",
      "Guess a number between 1 and 103\n",
      "try again\n",
      "Guess a number between 1 and 108\n",
      "correct!\n"
     ]
    }
   ],
   "source": [
    "##### code here\n",
    "import random\n",
    "random_number = random.randint(1, 10)\n",
    "print(random_number)\n",
    "\n",
    "\n",
    "counter = 0\n",
    "\n",
    "while counter < 5:\n",
    "    guess = int(input(\"Guess a number between 1 and 10\"))\n",
    "    if guess == random_number:\n",
    "        print(\"correct!\")\n",
    "        break\n",
    "    else:\n",
    "        print(\"try again\")\n",
    "    counter += 1\n",
    "   "
   ]
  },
  {
   "cell_type": "markdown",
   "metadata": {},
   "source": [
    "# File Input-Output"
   ]
  },
  {
   "cell_type": "markdown",
   "metadata": {},
   "source": [
    "Reading and writing to files is crucial when you work with Python. Note that calculations in Python will often depend on external data, since you don't want to manually enter your data all the time. Additionally, you'll want to save or **persist** the results of your calculations in files too, since these are lost whenever you end a Python session."
   ]
  },
  {
   "cell_type": "markdown",
   "metadata": {},
   "source": [
    "### Writing to files"
   ]
  },
  {
   "cell_type": "markdown",
   "metadata": {},
   "source": [
    "This is a magical moment: let's create your first text file. To do so, we'll need to open a **stream** or a connection with a file through which we can communicate with it. That goes as follows:"
   ]
  },
  {
   "cell_type": "code",
   "execution_count": 6,
   "metadata": {},
   "outputs": [
    {
     "name": "stdout",
     "output_type": "stream",
     "text": [
      "<class '_io.TextIOWrapper'>\n"
     ]
    }
   ],
   "source": [
    "outf = open('test.txt', 'w')\n",
    "print(type(outf))"
   ]
  },
  {
   "cell_type": "markdown",
   "metadata": {},
   "source": [
    "As you can see, the type of `outf` is something pretty abstract: it's important you realize that `outf` isn't the file itself, but rather the connection with it. Note that we provide two arguments to `open()`:\n",
    "- the path leading to our file -- this is a \"relative path\", which means that the file `test.txt` will be created in the same directory as your notebook\n",
    "- the `w` argument which stands for \"write\": this means that we'll be streaming to a new file (which is automatically created for us when we call `open()`)."
   ]
  },
  {
   "cell_type": "markdown",
   "metadata": {},
   "source": [
    "Once we've established the connection to this new file, we can start writing to it:"
   ]
  },
  {
   "cell_type": "code",
   "execution_count": 7,
   "metadata": {},
   "outputs": [],
   "source": [
    "outf.write('Here goes some text...We are writing some more');"
   ]
  },
  {
   "cell_type": "markdown",
   "metadata": {},
   "source": [
    "The last bit is crucial: we opened the file and streamed some textual content to it, but we still need to close this. This is extremely important: if Python would crash before we closed the connection, there a chance that we lose control over the file. Never ever forget to close a file! You can do that as follows:"
   ]
  },
  {
   "cell_type": "code",
   "execution_count": 8,
   "metadata": {},
   "outputs": [],
   "source": [
    "outf.close()"
   ]
  },
  {
   "cell_type": "markdown",
   "metadata": {},
   "source": [
    "Once we've closed the file, Python will refuse to write to it and it will throw an appropriate error:"
   ]
  },
  {
   "cell_type": "code",
   "execution_count": 5,
   "metadata": {},
   "outputs": [
    {
     "ename": "ValueError",
     "evalue": "I/O operation on closed file.",
     "output_type": "error",
     "traceback": [
      "\u001b[1;31m---------------------------------------------------------------------------\u001b[0m",
      "\u001b[1;31mValueError\u001b[0m                                Traceback (most recent call last)",
      "Cell \u001b[1;32mIn[5], line 1\u001b[0m\n\u001b[1;32m----> 1\u001b[0m outf\u001b[38;5;241m.\u001b[39mwrite(\u001b[38;5;124m'\u001b[39m\u001b[38;5;124mHere goes some text...\u001b[39m\u001b[38;5;124m'\u001b[39m)\n",
      "\u001b[1;31mValueError\u001b[0m: I/O operation on closed file."
     ]
    }
   ],
   "source": [
    "outf.write('Here goes some text...');"
   ]
  },
  {
   "cell_type": "markdown",
   "metadata": {},
   "source": [
    "Now, we are ready to look at the file: locate it in your Finder/Explorer and open it in a text editor. Did it get properly saved?"
   ]
  },
  {
   "cell_type": "markdown",
   "metadata": {},
   "source": [
    "<div style=\"background-color:lightgrey;\n",
    "            padding:10px;\n",
    "            color:black;\n",
    "            border:black dash 2px; \n",
    "            border-radius:5px;\n",
    "            margin: 20px 0;\">\n",
    "\n",
    "### Important note\n",
    "On some systems (typically the Windows operating system), you might have gotten an **encoding error**. These errors are very common but unfortunately rather nasty. As you will know, computers can only store information as binary \"bits\" at the rawest level. To store an alphabetical character, for instance, we'll need to know how we can translate the character symbol to a series of bits (and vice versa). While this will be covered in greater detail in the \"Text as data\" module, a character encoding does exactly that. **Unicode** is the most common, most inclusive and most widely supported encoding standard in the world nowadays. **UTF-8** is a common implementation of Unicode that supports a large subset of Unicode that is the default in the world of digital text. However, it could be that UTF-8 is not the default encoding on your specific computer and in this case, you have to make clear to Python that you're using a deviant encoding.\n",
    "    \n",
    "TL;DR: If you get this encoding error, this means that you will have to make explicit your encoding, each time you call `open()`. You can achieve that through explicitly adding the encoding argument: `outf = open('test.txt', 'w', encoding='utf8')`\n",
    "</div>"
   ]
  },
  {
   "cell_type": "markdown",
   "metadata": {},
   "source": [
    "When working with files, you'll have to be careful. Suppose we would again open the file like this:"
   ]
  },
  {
   "cell_type": "code",
   "execution_count": 10,
   "metadata": {},
   "outputs": [],
   "source": [
    "outf = open('test.txt', 'w')\n",
    "outf.close()"
   ]
  },
  {
   "cell_type": "markdown",
   "metadata": {},
   "source": [
    "You'll see that the contents of the file are completely erased! Because of the `\"w\"` argument, we open the file in the **write** mode, and the contents of the file will be automatically cleared. It's (surprisingly) easy to lose important files and information in this way -- and with Python, they don't get added to your Bin or so, so they'll be gone forever. Watch out!"
   ]
  },
  {
   "cell_type": "markdown",
   "metadata": {},
   "source": [
    "You can write everything to a file that you want, provided it belongs to the `str` type. That means that you'll have to cast everything to a string that isn't a string yet. Additional, if you would like to write information on separate lines, you'll need the special symbol `\"\\n\"`, which stands for a newline. Check this example:"
   ]
  },
  {
   "cell_type": "code",
   "execution_count": 14,
   "metadata": {},
   "outputs": [],
   "source": [
    "outf = open('test.txt', 'w')\n",
    "outf.write('This is the first line')\n",
    "outf.write('This is the second line')\n",
    "outf.write('This is the third line')\n",
    "outf.close()"
   ]
  },
  {
   "cell_type": "markdown",
   "metadata": {},
   "source": [
    "This doesn't yield the expected result, because unlike `print()`, `write()` doesn't automatically add a newline. You'll have to add that yourself (of course, you can automate that in a `for` loop):"
   ]
  },
  {
   "cell_type": "code",
   "execution_count": 18,
   "metadata": {},
   "outputs": [],
   "source": [
    "outf = open('test.txt', 'w')\n",
    "outf.write('This is the first line\\n')\n",
    "outf.write('This is the second line\\n')\n",
    "outf.write('This is the third line\\n')\n",
    "outf.close()"
   ]
  },
  {
   "cell_type": "markdown",
   "metadata": {},
   "source": [
    "Above we opened files in the **write mode**, which will:\n",
    "- create a blank file if it doesn't exist yet\n",
    "- erase the contents of the file if it existed already\n",
    "\n",
    "In some cases, you'll want to add to the existing content in a file. For this, we can open the file stream in the **append mode**, which we signal with an `\"a\"` argument:"
   ]
  },
  {
   "cell_type": "code",
   "execution_count": 19,
   "metadata": {},
   "outputs": [],
   "source": [
    "outf = open('test.txt', 'a')\n",
    "outf.write('This is the fourth line\\n')\n",
    "outf.write('This is the fifth line\\n')\n",
    "outf.close()"
   ]
  },
  {
   "cell_type": "markdown",
   "metadata": {},
   "source": [
    "Open the file: did that work out as expected?"
   ]
  },
  {
   "cell_type": "markdown",
   "metadata": {},
   "source": [
    "### Reading from files"
   ]
  },
  {
   "cell_type": "markdown",
   "metadata": {},
   "source": [
    "Reading from files can be done in a very similar way, but in this case, we should open a file in the **read** mode, meaning that we can't erase or modife the file's content:"
   ]
  },
  {
   "cell_type": "code",
   "execution_count": 20,
   "metadata": {},
   "outputs": [
    {
     "name": "stdout",
     "output_type": "stream",
     "text": [
      "<class '_io.TextIOWrapper'>\n"
     ]
    }
   ],
   "source": [
    "outf = open('test.txt', 'r')\n",
    "print(type(outf))"
   ]
  },
  {
   "cell_type": "markdown",
   "metadata": {},
   "source": [
    "Once we've established the stream, we can read from it:"
   ]
  },
  {
   "cell_type": "code",
   "execution_count": 21,
   "metadata": {},
   "outputs": [
    {
     "data": {
      "text/plain": [
       "'This is the first line\\nThis is the second line\\nThis is the third line\\nThis is the fourth line\\nThis is the fifth line\\n'"
      ]
     },
     "execution_count": 21,
     "metadata": {},
     "output_type": "execute_result"
    }
   ],
   "source": [
    "outf.read()"
   ]
  },
  {
   "cell_type": "markdown",
   "metadata": {},
   "source": [
    "Here, we print the raw cell so that you can notice the linebreaks -- that are obviously still in there, because we put them there ourselved. These are \"hidden\" from us if we print `contents` in the notebook."
   ]
  },
  {
   "cell_type": "code",
   "execution_count": 22,
   "metadata": {},
   "outputs": [
    {
     "name": "stdout",
     "output_type": "stream",
     "text": [
      "This is the first line\n",
      "This is the second line\n",
      "This is the third line\n",
      "This is the fourth line\n",
      "This is the fifth line\n",
      "\n"
     ]
    }
   ],
   "source": [
    "outf = open('test.txt', 'r')\n",
    "contents = outf.read()\n",
    "print(contents)"
   ]
  },
  {
   "cell_type": "markdown",
   "metadata": {},
   "source": [
    "Here too, don't forget to close the file when you're done with it!"
   ]
  },
  {
   "cell_type": "code",
   "execution_count": 23,
   "metadata": {},
   "outputs": [],
   "source": [
    "outf.close()"
   ]
  },
  {
   "cell_type": "markdown",
   "metadata": {},
   "source": [
    "What we get back from `read` is a giant string:"
   ]
  },
  {
   "cell_type": "code",
   "execution_count": 24,
   "metadata": {},
   "outputs": [
    {
     "name": "stdout",
     "output_type": "stream",
     "text": [
      "<class 'str'> 117\n"
     ]
    }
   ],
   "source": [
    "print(type(contents), len(contents))"
   ]
  },
  {
   "cell_type": "markdown",
   "metadata": {},
   "source": [
    "Often, you'll want to iterate over the individual lines however. There's a couple of ways to do that. First, you can hard-code it and split the text yourself:"
   ]
  },
  {
   "cell_type": "code",
   "execution_count": 25,
   "metadata": {},
   "outputs": [
    {
     "name": "stdout",
     "output_type": "stream",
     "text": [
      "['This is the first line', 'This is the second line', 'This is the third line', 'This is the fourth line', 'This is the fifth line', '']\n"
     ]
    }
   ],
   "source": [
    "outf = open('test.txt', 'r')\n",
    "text = outf.read()\n",
    "lines = text.split('\\n')\n",
    "print(lines)"
   ]
  },
  {
   "cell_type": "markdown",
   "metadata": {},
   "source": [
    "Secondly, there's an alternative function `readlines`:"
   ]
  },
  {
   "cell_type": "code",
   "execution_count": 26,
   "metadata": {},
   "outputs": [
    {
     "name": "stdout",
     "output_type": "stream",
     "text": [
      "['This is the first line\\n', 'This is the second line\\n', 'This is the third line\\n', 'This is the fourth line\\n', 'This is the fifth line\\n']\n"
     ]
    }
   ],
   "source": [
    "outf = open('test.txt', 'r')\n",
    "lines = outf.readlines()\n",
    "outf.close()\n",
    "print(lines)"
   ]
  },
  {
   "cell_type": "markdown",
   "metadata": {},
   "source": [
    "(Note that this will give you the linebreak dangling at the end.)"
   ]
  },
  {
   "cell_type": "markdown",
   "metadata": {},
   "source": [
    "The last option is super-cool: file streams are **iterable** in python and when you run a `for` loop over them, you'll find that your iterating over the individual lines:"
   ]
  },
  {
   "cell_type": "code",
   "execution_count": 27,
   "metadata": {},
   "outputs": [
    {
     "name": "stdout",
     "output_type": "stream",
     "text": [
      "This is the first line\n",
      "\n",
      "This is the second line\n",
      "\n",
      "This is the third line\n",
      "\n",
      "This is the fourth line\n",
      "\n",
      "This is the fifth line\n",
      "\n"
     ]
    }
   ],
   "source": [
    "outf = open('test.txt', 'r')\n",
    "for line in outf:\n",
    "    print(line)\n",
    "outf.close()"
   ]
  },
  {
   "cell_type": "markdown",
   "metadata": {},
   "source": [
    "How cool is that?! (Question: where do the empty lines come from?)"
   ]
  },
  {
   "cell_type": "markdown",
   "metadata": {},
   "source": [
    "#### with"
   ]
  },
  {
   "cell_type": "markdown",
   "metadata": {},
   "source": [
    "Above we explained handling files with `open` and `close` so that you know what is going on. However, this is potentially dangerous when you forget to close files. There is a recommended practice to avoid such situations, and that's using the `with` keyword. The syntax is as follows:"
   ]
  },
  {
   "cell_type": "code",
   "execution_count": 28,
   "metadata": {},
   "outputs": [
    {
     "name": "stdout",
     "output_type": "stream",
     "text": [
      "This is the first line\n",
      "This is the second line\n",
      "This is the third line\n",
      "This is the fourth line\n",
      "This is the fifth line\n",
      "\n"
     ]
    }
   ],
   "source": [
    "with open('test.txt') as f:\n",
    "    print(f.read())"
   ]
  },
  {
   "cell_type": "markdown",
   "metadata": {},
   "source": [
    "The syntax is clear: the `with` keyword is followed by the open() function, `as` and then a variable name of your choice. After the colon, an indented block follows, in which you have the file stream available as `f`? The nice thing about this construction is that your file is **automatically closed** once you exit the indented block. We recommend you to work with files in this way because it's less coding work and much safer."
   ]
  },
  {
   "cell_type": "markdown",
   "metadata": {},
   "source": []
  },
  {
   "cell_type": "markdown",
   "metadata": {},
   "source": [
    "(We won't cover the other data file types discussed in the book, since we'll cover those in  the classes on `pandas`)."
   ]
  },
  {
   "cell_type": "markdown",
   "metadata": {},
   "source": [
    "##### Exercise"
   ]
  },
  {
   "cell_type": "markdown",
   "metadata": {},
   "source": [
    "Download *Alice in Wonderland* from Project Gutenberg as plain text (mind the `.txt` extension): http://www.gutenberg.org/cache/epub/19033/pg19033.txt\n",
    "\n",
    "Solve the following questions:\n",
    "- What is the length of this text in characters?\n",
    "- How many lines are in this text?\n",
    "- Create a sorted list of the unique characters/letter in it.\n",
    "- How often does the name of the protagonist 'Alice' appear?"
   ]
  },
  {
   "cell_type": "markdown",
   "metadata": {},
   "source": [
    "Continue working on the file which you just downloaded. Load the file again and replace the protagonist's name with your own name. (Hint: you can use: `replace()` for this. Look up online how to use this function.) Create a new file to save the adapted text, and make sure that the new filename has your name in it (e.g. \", starring Mike\"). Make sure to keep the right extension!"
   ]
  },
  {
   "cell_type": "code",
   "execution_count": 83,
   "metadata": {},
   "outputs": [
    {
     "name": "stdout",
     "output_type": "stream",
     "text": [
      "72947\n",
      "1696\n",
      "1696\n",
      "['\\n', ' ', '!', '\"', '#', '$', '%', '&', \"'\", '(', ')', '*', ',', '-', '.', '/', '0', '1', '2', '3', '4', '5', '6', '7', '8', '9', ':', ';', '?', 'A', 'B', 'C', 'D', 'E', 'F', 'G', 'H', 'I', 'J', 'K', 'L', 'M', 'N', 'O', 'P', 'Q', 'R', 'S', 'T', 'U', 'V', 'W', 'X', 'Y', '[', ']', '_', 'a', 'b', 'c', 'd', 'e', 'f', 'g', 'h', 'i', 'j', 'k', 'l', 'm', 'n', 'o', 'p', 'q', 'r', 's', 't', 'u', 'v', 'w', 'x', 'y', 'z', 'ù', '—', '‘', '’', '“', '”', '•', '™', '\\ufeff']\n",
      "176\n"
     ]
    }
   ],
   "source": [
    "#CODE HERE\n",
    "\n",
    "with open('alice.txt', encoding='utf8') as a:\n",
    "    book = a.read()\n",
    "\n",
    "#nr of characters\n",
    "print(len(book))\n",
    "\n",
    "#nr of lines\n",
    "nlines = book.count(\"\\n\")\n",
    "print(nlines)\n",
    "\n",
    "#alt nr of lines\n",
    "lines = book.split('\\n')\n",
    "print(int(len(lines))-1) #minus one, because it counts the empty line at the bottom\n",
    "\n",
    "\n",
    "#sorted list of unique characters\n",
    "sort = sorted(set(book))\n",
    "print(sort)\n",
    "\n",
    "#Count Alice\n",
    "nalice = book.lower().count(\"alice\") #make all lower,to also count the upper case alices\n",
    "print(nalice)\n",
    "\n",
    "#Replace Alice with my own name\n",
    "book_ruben = book.replace(\"Alice\", \"Ruben\")\n",
    "book_ruben = book_ruben.replace(\"ALICE\", \"RUBEN\")\n",
    "book_ruben = book_ruben.replace(\"her\", \"him\")\n",
    "book_ruben = book_ruben.replace(\"hers\", \"his\")\n",
    "book_ruben = book_ruben.replace(\"she\", \"he\")\n",
    "book_ruben = book_ruben.replace(\"She\", \"He\")\n",
    "\n",
    "\n",
    "outf = open('Ruben in Wonderland.txt', 'w', encoding='utf8')\n",
    "outf.write(book_ruben)\n",
    "outf.close()\n",
    "\n",
    "#with open('Ruben in Wonderland.txt', 'w', encoding='utf8') as outf:\n",
    "#    outf.write(book_ruben)"
   ]
  },
  {
   "cell_type": "code",
   "execution_count": null,
   "metadata": {},
   "outputs": [],
   "source": []
  }
 ],
 "metadata": {
  "kernelspec": {
   "display_name": "Python 3 (ipykernel)",
   "language": "python",
   "name": "python3"
  },
  "language_info": {
   "codemirror_mode": {
    "name": "ipython",
    "version": 3
   },
   "file_extension": ".py",
   "mimetype": "text/x-python",
   "name": "python",
   "nbconvert_exporter": "python",
   "pygments_lexer": "ipython3",
   "version": "3.11.4"
  },
  "vscode": {
   "interpreter": {
    "hash": "96e0a4d32f1918f770291244863a4a1e044b05d1a3b8d455e2e179187e01062a"
   }
  }
 },
 "nbformat": 4,
 "nbformat_minor": 4
}
