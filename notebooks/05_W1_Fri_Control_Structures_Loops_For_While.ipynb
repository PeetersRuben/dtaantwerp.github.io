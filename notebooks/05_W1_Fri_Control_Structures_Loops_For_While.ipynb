{
 "cells": [
  {
   "cell_type": "markdown",
   "metadata": {},
   "source": [
    "<div style=\"background-color:lightgrey;\n",
    "            padding:10px;\n",
    "            color:black;\n",
    "            border:black dashed 2px; \n",
    "            border-radius:5px;\n",
    "            margin: 20px 0;\">\n",
    "            \n",
    "            \n",
    "# Control Structures: Loops (`for` `while` `break` `continue`)\n",
    "\n",
    "**Staff:** Walter Daelemans  <br/>\n",
    "**Support Material:** [exercises](../exercises/Questions_2023/04_EX_loops.ipynb) <br/>\n",
    "**Support Sessions:** Tuesday, October 4 at 10:30 AM\n",
    "\n",
    "</div>"
   ]
  },
  {
   "cell_type": "markdown",
   "metadata": {},
   "source": [
    "An essential programming cliché is the **loop**.\n",
    "\n",
    "\n",
    "Suppose you want to take a list of words as input, and print out the length of each word of that list. \n",
    "\n",
    "```\n",
    "Input: ['cheese', 'and', 'onions']\n",
    "Output: \n",
    "6\n",
    "3\n",
    "6\n",
    "```\n",
    "\n",
    "How would you handle this?"
   ]
  },
  {
   "cell_type": "code",
   "execution_count": 4,
   "metadata": {},
   "outputs": [
    {
     "name": "stdout",
     "output_type": "stream",
     "text": [
      "6\n",
      "3\n",
      "6\n"
     ]
    }
   ],
   "source": [
    "# One very onerous way to do this would be the following:\n",
    "\n",
    "wordlist = ['cheese', 'and', 'onions']\n",
    "#print(len(wordlist[0]))\n",
    "#print(len(wordlist[1]))\n",
    "#print(len(wordlist[2]))\n",
    "\n",
    "# Imagine doing this for a 1000-word list!\n",
    "for word in wordlist:\n",
    "    print(len(word))"
   ]
  },
  {
   "cell_type": "markdown",
   "metadata": {},
   "source": [
    "## `for` loop"
   ]
  },
  {
   "cell_type": "markdown",
   "metadata": {},
   "source": [
    "Luckily, there are more efficient ways to do this in Python.\n",
    "\n",
    "Whenever you see a problem where the same thing (here: computing length) has to be done iteratively to all elements in an input list, string or any sequence, you should think **for loop**. Let's do the previous problem as a loop.\n",
    "\n",
    "The syntax of a **for loop** is easy: you start with the python keyword `for` followed by a variable name of your own choice, followed by the python keyword `in` followed by the input sequence, terminated by colon (:)\n",
    "\n",
    "```python\n",
    "for w in ['cheese', 'and', 'onions']:\n",
    "```\n",
    "The name of the variable (`w`) is your own choice, it will be bound iteratively to each word in the list until the end of the list is reached.\n",
    "\n",
    "Then we specify what to do each iteration with w consecutively bound to each word in the list. This part of the code will be executed as many times as there are elements in the sequence.\n",
    "\n",
    "```python\n",
    "print(len(w))\n",
    "```\n",
    "\n",
    "Remember that `w` will be bound consecutively to 'cheese', 'and', 'onions' and the program will stop after that.\n",
    "\n",
    "So, a for loop does something for each element in a sequence.\n",
    "\n",
    "Let's see what this gives:"
   ]
  },
  {
   "cell_type": "code",
   "execution_count": 6,
   "metadata": {},
   "outputs": [
    {
     "name": "stdout",
     "output_type": "stream",
     "text": [
      "6\n",
      "3\n",
      "6\n",
      "3\n",
      "4\n"
     ]
    }
   ],
   "source": [
    "for word in ['cheese', 'and', 'onions', 'and', 'more']:\n",
    "     print(len(word))"
   ]
  },
  {
   "cell_type": "code",
   "execution_count": 5,
   "metadata": {},
   "outputs": [
    {
     "name": "stdout",
     "output_type": "stream",
     "text": [
      "W\n",
      "o\n",
      "l\n",
      "f\n"
     ]
    }
   ],
   "source": [
    "# Let's see a few more examples and use cases\n",
    "\n",
    "# We can do a for loop on any sequence, so also on strings.\n",
    "\n",
    "for letter in \"Wolf\":\n",
    "    print(letter)"
   ]
  },
  {
   "cell_type": "code",
   "execution_count": 9,
   "metadata": {},
   "outputs": [
    {
     "name": "stdout",
     "output_type": "stream",
     "text": [
      "False\n",
      "True\n",
      "True\n",
      "False\n"
     ]
    }
   ],
   "source": [
    "for x in ['A', 'b', 'c', 'D']:\n",
    "    print(x.islower())   # str.islower() checks whether a string is in lowercase"
   ]
  },
  {
   "cell_type": "code",
   "execution_count": 10,
   "metadata": {},
   "outputs": [
    {
     "name": "stdout",
     "output_type": "stream",
     "text": [
      "4\n",
      "6\n",
      "8\n"
     ]
    }
   ],
   "source": [
    "list_of_numbers = range(4, 10, 2)    # all integers starting with 4 up to 10 (not included) in steps of 2\n",
    "for number in list_of_numbers:\n",
    "    print(number)"
   ]
  },
  {
   "cell_type": "markdown",
   "metadata": {},
   "source": [
    "A very useful `for` programming cliché is to do something for each element of a sequence, collect the results in a result variable and do something with that variable.\n",
    "\n",
    "For example, compute the average length of all the words in a list."
   ]
  },
  {
   "cell_type": "code",
   "execution_count": 11,
   "metadata": {},
   "outputs": [
    {
     "name": "stdout",
     "output_type": "stream",
     "text": [
      "5.0\n"
     ]
    }
   ],
   "source": [
    "title = [\"The\", \"Physics\", \"of\", \"Climate\", \"Change\"]\n",
    "\n",
    "cumulated_length = 0\n",
    "\n",
    "for w in title:   \n",
    "    cumulated_length += len(w)   # Recall: a += 1 is the same as a = a + 1\n",
    "\n",
    "print(cumulated_length / len(title))\n"
   ]
  },
  {
   "cell_type": "markdown",
   "metadata": {},
   "source": [
    "Sometimes it is useful to \"trace\" how the values of variables change in each iteration of the loop. A simple way to do that is adding a print."
   ]
  },
  {
   "cell_type": "code",
   "execution_count": 12,
   "metadata": {},
   "outputs": [
    {
     "name": "stdout",
     "output_type": "stream",
     "text": [
      "cumulated_length after word The is 3\n",
      "cumulated_length after word Physics is 10\n",
      "cumulated_length after word of is 12\n",
      "cumulated_length after word Climate is 19\n",
      "cumulated_length after word Change is 25\n",
      "5.0\n"
     ]
    }
   ],
   "source": [
    "title = [\"The\", \"Physics\", \"of\", \"Climate\", \"Change\"]\n",
    "\n",
    "cumulated_length = 0\n",
    "\n",
    "for w in title:   \n",
    "    cumulated_length += len(w)   # Recall: a += 1 is the same as a = a + 1\n",
    "    print(f'cumulated_length after word {w} is {cumulated_length}') # here the variables are being placed into the string\n",
    "\n",
    "print(cumulated_length / len(title))"
   ]
  },
  {
   "cell_type": "markdown",
   "metadata": {},
   "source": [
    "Another useful programming idiom is to combine `for` with a test to create a **filter** on a list.\n",
    "\n",
    "`for` loop + test = filter"
   ]
  },
  {
   "cell_type": "code",
   "execution_count": 15,
   "metadata": {},
   "outputs": [
    {
     "name": "stdout",
     "output_type": "stream",
     "text": [
      "[2, 4, 6, 8, 10, 12, 14, 16, 18, 20, 22, 24, 26, 28, 30, 32, 34, 36, 38, 40, 42, 44, 46, 48, 50, 52, 54, 56, 58, 60, 62, 64, 66, 68, 70, 72, 74, 76, 78, 80, 82, 84, 86, 88, 90, 92, 94, 96, 98, 100]\n"
     ]
    }
   ],
   "source": [
    "# Filter all even numbers from the list of integers from 1 to 100\n",
    "\n",
    "result = []\n",
    "for n in range(1, 101):  # why 101?\n",
    "    if n % 2 == 0:   # an even number has 0 remainder when divided by 2\n",
    "        result.append(n)\n",
    "print(result)\n"
   ]
  },
  {
   "cell_type": "code",
   "execution_count": null,
   "metadata": {},
   "outputs": [],
   "source": [
    "### Class exercise\n",
    "\n",
    "### Let's combine the two previous programming idioms:\n",
    "### Compute how many numbers there are between 1 and 100 that are divisible by 4 and 5\n",
    "\n",
    "result = [] \n",
    "for n in range(1, 101):\n",
    "    if n % 4 == 0 and n % 5 == 0:\n",
    "        result.append(n)\n",
    "print(result)\n",
    "len(result)\n"
   ]
  },
  {
   "cell_type": "code",
   "execution_count": 16,
   "metadata": {},
   "outputs": [
    {
     "name": "stdout",
     "output_type": "stream",
     "text": [
      "['i', 'i', 'i', 'o', 'u']\n"
     ]
    },
    {
     "data": {
      "text/plain": [
       "5"
      ]
     },
     "execution_count": 16,
     "metadata": {},
     "output_type": "execute_result"
    }
   ],
   "source": [
    "### Class exercise\n",
    "# Count the number of vowels in a word string\n",
    "\n",
    "vowels = \"aeiou\"\n",
    "word = \"fictitious\"\n",
    "\n",
    "result = []\n",
    "for letter in word:\n",
    "    if letter in vowels:\n",
    "        result.append(letter)\n",
    "print(result)\n",
    "len(result)"
   ]
  },
  {
   "cell_type": "code",
   "execution_count": 17,
   "metadata": {},
   "outputs": [
    {
     "data": {
      "text/plain": [
       "5"
      ]
     },
     "execution_count": 17,
     "metadata": {},
     "output_type": "execute_result"
    }
   ],
   "source": [
    "### or more directly:\n",
    "\n",
    "count = 0\n",
    "for letter in word:\n",
    "    if letter in vowels:\n",
    "        count += 1\n",
    "count\n"
   ]
  },
  {
   "cell_type": "code",
   "execution_count": 18,
   "metadata": {},
   "outputs": [
    {
     "data": {
      "text/plain": [
       "[['serendipitous', 6], ['fictitious', 5]]"
      ]
     },
     "execution_count": 18,
     "metadata": {},
     "output_type": "execute_result"
    }
   ],
   "source": [
    "# Class exercise\n",
    "# Embedded loops and ifs\n",
    "\n",
    "# For each word in a list, check whether it is longer than 5 letters and if so, count the number of vowels in that word\n",
    "\n",
    "words = ['I', 'like', 'the', 'words', 'serendipitous', 'and', 'fictitious', 'best']\n",
    "vowels = \"aeiou\"\n",
    "\n",
    "# result = [['serendipitous', 6], ['fictitious', 5]]\n",
    "\n",
    "result = []\n",
    "for word in words:\n",
    "    if len(word) > 5:\n",
    "        counter = 0\n",
    "        for letter in word:\n",
    "            if letter in vowels:\n",
    "                counter += 1\n",
    "        result.append([word, counter])\n",
    "\n",
    "result\n",
    "                \n"
   ]
  },
  {
   "cell_type": "code",
   "execution_count": null,
   "metadata": {},
   "outputs": [],
   "source": [
    "# Let's trace the variables result and counter by printing their value at specific places in the loop\n",
    "\n",
    "words = ['I', 'like', 'the', 'words', 'serendipitous', 'and', 'fictitious', 'best']\n",
    "vowels = \"aeiou\"\n",
    "\n",
    "# result = [['serendipitous', 6], ['fictitious', 5]]\n",
    "\n",
    "result = []\n",
    "for word in words:\n",
    "    print(f'word: {word}')\n",
    "    if len(word) > 5:\n",
    "        counter = 0\n",
    "        for letter in word:\n",
    "            if letter in vowels:\n",
    "                counter += 1\n",
    "                print(f'counter: {counter}')\n",
    "        result.append([word, counter])\n",
    "\n",
    "\n",
    "result"
   ]
  },
  {
   "cell_type": "markdown",
   "metadata": {},
   "source": [
    "## `while` loop"
   ]
  },
  {
   "cell_type": "markdown",
   "metadata": {},
   "source": [
    "Another way to implement an iteration is the `while` loop which, conceptually, is a combination of an `if` construction and a `for` loop. The syntax is very similar to an `if` block: a Python keyword (`while`) is followed by a test. After that, a colon follows and an indented code block:\n",
    "\n",
    "```python\n",
    "while a < 6:\n",
    "    print(a)\n",
    "```\n",
    "\n",
    "Like with `if`, the associated code block will be executed *if and only if* the expression holds true. The catch, however, is that the block will keep on getting executed **indefinitely** or at least until the logical expression no longer holds `True`. In this, `while` constructions resemble `for` constructions, which are also iterative."
   ]
  },
  {
   "cell_type": "markdown",
   "metadata": {},
   "source": [
    "DANGER !!!: `while` loops can be a nightmare because they keep going on until the test returns False, if that never happens, you get stuck in an endless loop. \n",
    "\n",
    "- If you can solve the problem with a `for` loop, use that. All `for` loops can be expressed as a `while` loop, but the reverse is not true, so there will be cases where you need a `while`.\n",
    "- Make sure that the test turns to False at some point before testing it out.\n",
    "- If the 'infinite loop' does happen, use Interrupt Kernel or Restart Kernel in your Jupyter notebook environment. In a Terminal, you can use `Ctrl + C`. It is also possible that Python itself throws an error if some stack gets too big.\n"
   ]
  },
  {
   "cell_type": "code",
   "execution_count": 20,
   "metadata": {},
   "outputs": [
    {
     "name": "stdout",
     "output_type": "stream",
     "text": [
      "1\n",
      "2\n",
      "3\n",
      "4\n",
      "5\n",
      "6\n",
      "7\n",
      "8\n",
      "9\n",
      "10\n"
     ]
    }
   ],
   "source": [
    "counter = 1 \n",
    "while counter < 11:\n",
    "    print(counter)\n",
    "    counter += 1"
   ]
  },
  {
   "cell_type": "markdown",
   "metadata": {},
   "source": [
    "We initialize a variable with value `1`. Starting the `while` loop, `counter < 11` will return `True`, so the code block after the test will be executed: the current value of counter will be printed and it's value will be incremented by one. By incrementing the counter in each iteration, we know the test will at some point return `False`, and the execution will stop, i.e., we will jump out of the `while` loop and continue with what follows if there is anything following."
   ]
  },
  {
   "cell_type": "markdown",
   "metadata": {},
   "source": [
    "\n",
    "## `break`"
   ]
  },
  {
   "cell_type": "markdown",
   "metadata": {},
   "source": [
    "A useful way to make sure that a `while` loop ends is to use `break`, another Python keyword. You can insert it inside the indented block of a `while` loop and it will have the effect that the current loop gets halted immediately."
   ]
  },
  {
   "cell_type": "code",
   "execution_count": 21,
   "metadata": {},
   "outputs": [
    {
     "name": "stdout",
     "output_type": "stream",
     "text": [
      "1\n",
      "2\n",
      "3\n",
      "4\n",
      "5\n",
      "6\n",
      "7\n",
      "8\n",
      "9\n",
      "10\n"
     ]
    }
   ],
   "source": [
    "counter = 0\n",
    "\n",
    "while True: # recipe for an endless loop\n",
    "    counter += 1\n",
    "    print(counter)\n",
    "    if counter == 10:\n",
    "        break # saved by a break"
   ]
  },
  {
   "cell_type": "markdown",
   "metadata": {},
   "source": [
    "- the `break` keyword is **nested** inside an `if` statement that is itself part of a `while` loop. Python knows that it has to stop the nearest loop (the smallest enclosing loop) in cases where there might be several loops embedded.\n",
    "- Note that with `while True:` the loop is intentionally set up to be an infinite loop, the test can never become `False`, so make sure you have a `break` in that case. "
   ]
  },
  {
   "cell_type": "markdown",
   "metadata": {},
   "source": [
    "### Class Exercise\n",
    "\n",
    "Make a program  that prints \"water is not yet boiling\", up until 100 degrees, then it says 'water is boiling'."
   ]
  },
  {
   "cell_type": "code",
   "execution_count": 26,
   "metadata": {},
   "outputs": [
    {
     "name": "stdout",
     "output_type": "stream",
     "text": [
      "water not yet boiling: 20 degrees\n",
      "water not yet boiling: 40 degrees\n",
      "water not yet boiling: 60 degrees\n",
      "water not yet boiling: 80 degrees\n",
      "water not yet boiling: 100 degrees\n",
      "water is boiling\n"
     ]
    }
   ],
   "source": [
    "# current temp\n",
    "water_temp = 0\n",
    "\n",
    "# start a loop\n",
    "while True:\n",
    "    water_temp += 20\n",
    "    # up until higher than 100 degrees\n",
    "    if water_temp > 100:\n",
    "        # then it says 'water is boiling'\n",
    "        print('water is boiling')\n",
    "        break # and stop the computation\n",
    "    # otherwise prints water is not yet boiling\n",
    "    print(f'water not yet boiling: {water_temp} degrees')\n",
    "        "
   ]
  },
  {
   "cell_type": "markdown",
   "metadata": {},
   "source": [
    "Interestingly, `break` can also be used in `for`-loops and there it has the same effect: it will terminate the `for` loop immediately. Have a look at this example, in which we search through a sentence until we find the first occurrence of the word \"sleep\"."
   ]
  },
  {
   "cell_type": "code",
   "execution_count": 25,
   "metadata": {},
   "outputs": [
    {
     "name": "stdout",
     "output_type": "stream",
     "text": [
      "colourless\n",
      "green\n",
      "ideas\n",
      "sleep\n",
      "found it!\n"
     ]
    }
   ],
   "source": [
    "sentence = ['colourless', 'green', 'ideas', 'sleep', 'furiously']\n",
    "\n",
    "for word in sentence:\n",
    "    print(word)\n",
    "    if word == 'sleep':\n",
    "        print(\"found it!\")\n",
    "        break\n",
    "    "
   ]
  },
  {
   "cell_type": "markdown",
   "metadata": {},
   "source": [
    "We iterate over each word in the sentence and when we come across \"sleep\", we halt the `for`-loop. Note that the last word in the sentence doesn't get printed anymore: we can effectively skip the rest of the loop because we've already found what we were looking for. This is a classic use of `break`: in many cases you'll want to avoid unnecessary computations."
   ]
  },
  {
   "cell_type": "markdown",
   "metadata": {},
   "source": [
    "However, watch out with nesting: the `break` keyword will always also kill a single loop, that is: the nearest or latest loop that Python starting when hitting the `break` keyword."
   ]
  },
  {
   "cell_type": "markdown",
   "metadata": {},
   "source": [
    "Suppose that we want to search our sentence for the first occurrence of the letter \"d\":"
   ]
  },
  {
   "cell_type": "code",
   "execution_count": 65,
   "metadata": {},
   "outputs": [
    {
     "name": "stdout",
     "output_type": "stream",
     "text": [
      "\n",
      "c o l o u r l e s s \n",
      "g r e e n \n",
      "i d \n",
      "Found a 'd'!\n"
     ]
    }
   ],
   "source": [
    "found = False\n",
    "\n",
    "for word in sentence: # outer, sentence-level for-loop\n",
    "    if found:\n",
    "        break\n",
    "    print('')\n",
    "    for letter in word: # inner, word-level for-loop\n",
    "        print(letter, end=' ') # variant of print without the implicit \\n\n",
    "        if letter == 'd':\n",
    "            found = True\n",
    "            print(\"\\nFound a 'd'!\")\n",
    "            break"
   ]
  },
  {
   "cell_type": "markdown",
   "metadata": {},
   "source": [
    "Note that this method only halts the inner for-loop that we started (so that the rest of the current word, \"idea\", isn't searched anymore after finding the \"d\"). The outer `for` loop happily keeps on running however. You will typically need a break per loop in such situations."
   ]
  },
  {
   "cell_type": "markdown",
   "metadata": {},
   "source": [
    "### `while` plus `else`\n",
    "\n",
    "Note that you can also have an `else`-statement, wrapping up a `while` loop. The syntax is as follows:\n",
    "\n",
    "```python\n",
    "while test:\n",
    "    code block\n",
    "else:\n",
    "    code block\n",
    "```\n",
    "This can be useful in cases where you use `break` (considered an 'abnormal exit') and you want only to do something when the test returns `False` and the `break` was not used. An example will make this clearer."
   ]
  },
  {
   "cell_type": "code",
   "execution_count": 42,
   "metadata": {},
   "outputs": [
    {
     "name": "stdout",
     "output_type": "stream",
     "text": [
      "c\n",
      "o\n",
      "l\n",
      "o\n",
      "u\n",
      "r\n",
      "Found one!\n"
     ]
    }
   ],
   "source": [
    "word = 'colourless'\n",
    "query = 'r' # also try 'x'\n",
    "counter = 0\n",
    "\n",
    "while counter < len(word):\n",
    "    letter = word[counter]\n",
    "    print(letter)\n",
    "    if letter == query:\n",
    "        print('Found one!')\n",
    "        break\n",
    "    counter += 1\n",
    "else:\n",
    "    print('No results found.')"
   ]
  },
  {
   "cell_type": "markdown",
   "metadata": {},
   "source": [
    "## `continue`"
   ]
  },
  {
   "cell_type": "markdown",
   "metadata": {},
   "source": [
    "The keyword `break` is tightly linked to another keyword: `continue`. This keyword  works in `for`-loops as well as `while`-loops: when the Python interpreter encounters it in a loop it will read it as an instruction \"to skip the rest of the current loop\" (but keep looping after that). It means: \"move on to the next iteration\". A simple illustration:"
   ]
  },
  {
   "cell_type": "code",
   "execution_count": 46,
   "metadata": {},
   "outputs": [
    {
     "name": "stdout",
     "output_type": "stream",
     "text": [
      "l\n",
      "p\n",
      "h\n",
      "b\n",
      "e\n",
      "t\n"
     ]
    }
   ],
   "source": [
    "word = 'alphabet'\n",
    "for letter in word:\n",
    "    if letter == 'a':\n",
    "        continue # move on to the next iteration\n",
    "    print(letter)"
   ]
  },
  {
   "cell_type": "markdown",
   "metadata": {},
   "source": [
    "All letters are printed, but the a is skipped: this is because encountering the `continue` will take you right back again to the start of the *next* iteration. To make this more concrete, let's look at a more complex application that is discussed in the book."
   ]
  },
  {
   "cell_type": "markdown",
   "metadata": {},
   "source": [
    "Suppose that we have the following consonants and vowels:"
   ]
  },
  {
   "cell_type": "code",
   "execution_count": 49,
   "metadata": {},
   "outputs": [],
   "source": [
    "vowels = 'aeiou'\n",
    "consonants = 'ptkbdg'"
   ]
  },
  {
   "cell_type": "markdown",
   "metadata": {},
   "source": [
    "How can we generate all consonant-vowel combinations? "
   ]
  },
  {
   "cell_type": "code",
   "execution_count": 51,
   "metadata": {},
   "outputs": [
    {
     "name": "stdout",
     "output_type": "stream",
     "text": [
      "pa ta ka ba da ga pe te ke be de ge pi ti ki bi di gi po to ko bo do go pu tu ku bu du gu "
     ]
    }
   ],
   "source": [
    "for v in vowels:\n",
    "    for c in consonants:\n",
    "        print(c, v, sep='', end=' ') # sep gives control over what is between different printed arguments, default = space"
   ]
  },
  {
   "cell_type": "markdown",
   "metadata": {},
   "source": [
    "How could we extend this to a CVC skeleton?"
   ]
  },
  {
   "cell_type": "code",
   "execution_count": 54,
   "metadata": {},
   "outputs": [
    {
     "name": "stdout",
     "output_type": "stream",
     "text": [
      "pap pat pak pab pad pag pep pet pek peb ped peg pip pit pik pib pid pig pop pot pok pob pod pog pup put puk pub pud pug tap tat tak tab tad tag tep tet tek teb ted teg tip tit tik tib tid tig top tot tok tob tod tog tup tut tuk tub tud tug kap kat kak kab kad kag kep ket kek keb ked keg kip kit kik kib kid kig kop kot kok kob kod kog kup kut kuk kub kud kug bap bat bak bab bad bag bep bet bek beb bed beg bip bit bik bib bid big bop bot bok bob bod bog bup but buk bub bud bug dap dat dak dab dad dag dep det dek deb ded deg dip dit dik dib did dig dop dot dok dob dod dog dup dut duk dub dud dug gap gat gak gab gad gag gep get gek geb ged geg gip git gik gib gid gig gop got gok gob god gog gup gut guk gub gud gug "
     ]
    }
   ],
   "source": [
    "for o in consonants: # o for onset\n",
    "    for v in vowels: \n",
    "        for c in consonants: # c for coda\n",
    "            print(o, v, c, sep='', end=' ')"
   ]
  },
  {
   "cell_type": "markdown",
   "metadata": {},
   "source": [
    "Now, let's exclude cases where the two consonants are not the same (keeping only words like \"dod\" or \"bab\"). Can we use `continue` for this?"
   ]
  },
  {
   "cell_type": "code",
   "execution_count": 57,
   "metadata": {},
   "outputs": [
    {
     "name": "stdout",
     "output_type": "stream",
     "text": [
      "pap pep pip pop pup tat tet tit tot tut kak kek kik kok kuk bab beb bib bob bub dad ded did dod dud gag geg gig gog gug "
     ]
    }
   ],
   "source": [
    "for o in consonants:\n",
    "    for v in vowels:\n",
    "        for c in consonants:\n",
    "            if o != c:\n",
    "                continue  # looks at all constructions just doesn't advance to the print if the test succeeds\n",
    "            print(o, v, c, sep='', end=' ')"
   ]
  },
  {
   "cell_type": "markdown",
   "metadata": {},
   "source": [
    "Could we use `break` here? Why (not)?\n",
    "\n",
    "Remember:\n",
    "- A `break` exits from the smallest / nearest enclosing `for` or `while` loop.\n",
    "- A `contrinue` exits *the current iteration* of the smallest / nearest enclosing `for` or `while` loop.\n"
   ]
  },
  {
   "cell_type": "code",
   "execution_count": 62,
   "metadata": {},
   "outputs": [
    {
     "name": "stdout",
     "output_type": "stream",
     "text": [
      "pap pep pip pop pup "
     ]
    }
   ],
   "source": [
    "for o in consonants:\n",
    "    for v in vowels:\n",
    "        for c in consonants:\n",
    "            if o != c:\n",
    "                break  # gives up the complete iteration with that coda as soon as the test succeeds\n",
    "            print(o, v, c, sep='', end=' ')"
   ]
  }
 ],
 "metadata": {
  "interpreter": {
   "hash": "9da3b7829be3afbfbdd9c3e1f833c63ce1a70a941a19c659862fa9867ce6ef88"
  },
  "kernelspec": {
   "display_name": "Python 3 (ipykernel)",
   "language": "python",
   "name": "python3"
  },
  "language_info": {
   "codemirror_mode": {
    "name": "ipython",
    "version": 3
   },
   "file_extension": ".py",
   "mimetype": "text/x-python",
   "name": "python",
   "nbconvert_exporter": "python",
   "pygments_lexer": "ipython3",
   "version": "3.11.4"
  }
 },
 "nbformat": 4,
 "nbformat_minor": 4
}
