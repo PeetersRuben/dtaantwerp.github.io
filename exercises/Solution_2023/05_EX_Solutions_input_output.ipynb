{
 "cells": [
  {
   "cell_type": "markdown",
   "metadata": {},
   "source": [
    "# Exercise notebook 5 - Input and output files"
   ]
  },
  {
   "cell_type": "markdown",
   "metadata": {},
   "source": [
    "This exercise notebook complements the notebook of **input and output files**. <br> Use this [notebook](https://github.com/dtaantwerp/dtaantwerp.github.io/blob/53c91013df4514a943a9fad441fb5f28dc6f6bab/notebooks/06_W2_Mon_Input_Output_Files.ipynb) for a complete explanation of the theory.\n",
    "\n",
    "Try to prepare the <ins>underlined exercises</ins> for the exercise session. "
   ]
  },
  {
   "cell_type": "markdown",
   "metadata": {},
   "source": [
    "1. <ins> Remember the user input()? Write a piece of code that asks the user to give two numbers and then returns the largest of the two numbers. </ins> <br> <br> Make sure that the numbers of the user input are interpreted as integers."
   ]
  },
  {
   "cell_type": "code",
   "execution_count": null,
   "metadata": {},
   "outputs": [],
   "source": [
    "#SOLUTION\n",
    "\n",
    "number_1 = int(input('Give me a number.'))\n",
    "number_2 = int(input('Give me another number.'))\n",
    "\n",
    "if number_1 > number_2:\n",
    "    print(f'The largest number is {number_1}.')\n",
    "elif number_2 > number_1:\n",
    "    print(f'The largest number is {number_2}.')\n",
    "else:\n",
    "    print('It is the same number')"
   ]
  },
  {
   "cell_type": "markdown",
   "metadata": {},
   "source": [
    "2. <ins> Write a piece of code that stores a random number between one and five into the variable 'random_number'. <br>\n",
    "</ins> <br>Hint: you first need to import something for this."
   ]
  },
  {
   "cell_type": "code",
   "execution_count": null,
   "metadata": {},
   "outputs": [],
   "source": [
    "import random\n",
    "\n",
    "random_number = random.randint(1, 5)\n",
    "print(random_number)"
   ]
  },
  {
   "cell_type": "markdown",
   "metadata": {},
   "source": [
    "3. <ins> Create a guessing game based on random numbers:\n",
    "- Similar to the previous exercise, store a random number (between one and five) in a variable marked as 'correct_number'.\n",
    "- Create a counter variable and set it to 0.\n",
    "- Ask the user to guess the right number by making use of the input() function, make sure that the input is interpreted as an integer.\n",
    "- If the number is the correct number print \"you have won!\" and stop the game.\n",
    "- If it is not correct, increment the counter with +1.\n",
    "- Make sure that the game breaks once the counter hits 3."
   ]
  },
  {
   "cell_type": "code",
   "execution_count": null,
   "metadata": {},
   "outputs": [],
   "source": [
    "#SOLUTION\n",
    "\n",
    "correct_number = random.randint(0,5)\n",
    "counter = 0\n",
    "\n",
    "while counter < 3:\n",
    "    guessed_number = int(input('pick a number between 0 and 5'))\n",
    "    if guessed_number == correct_number:\n",
    "        print('Huge congratters, you have won!')\n",
    "        break\n",
    "    else:\n",
    "        counter += 1  \n",
    "        print('Nope, Guess again!')      \n",
    "        \n",
    "else:\n",
    "    print('you have used up all your guesses')\n",
    "    \n",
    "        \n"
   ]
  },
  {
   "cell_type": "markdown",
   "metadata": {},
   "source": [
    "4. <ins> Download _The Adventures of Sherlock Holmes_ by Arthur Conan Doyle from Project Gutenberg: https://www.gutenberg.org/ebooks/1661 <br>\n",
    " and load the text."
   ]
  },
  {
   "cell_type": "code",
   "execution_count": null,
   "metadata": {},
   "outputs": [],
   "source": [
    "#SOLUTION\n",
    "\n",
    "outf = open(\"Sherlock.txt\", 'r')\n",
    "text = outf.read()"
   ]
  },
  {
   "cell_type": "markdown",
   "metadata": {},
   "source": [
    "5. <ins> Split the text on the newline characters (\\n) in order to obtain the lines. \n",
    "- Print the first line. \n",
    "- How many lines are there in the novel?"
   ]
  },
  {
   "cell_type": "code",
   "execution_count": null,
   "metadata": {},
   "outputs": [],
   "source": [
    "#SOLUTION\n",
    "\n",
    "lines = text.split('\\n')\n",
    "\n",
    "print(lines[0])\n",
    "print(len(lines))"
   ]
  },
  {
   "cell_type": "markdown",
   "metadata": {},
   "source": [
    "6. <ins> Print the first ten lines. You'll notice that there are some empty lines, remove those from the list using the .remove() method. How many lines remain?"
   ]
  },
  {
   "cell_type": "code",
   "execution_count": null,
   "metadata": {},
   "outputs": [],
   "source": [
    "#SOLUTION\n",
    "\n",
    "for line in lines:\n",
    "    if len(line) == 0:\n",
    "        lines.remove(line)\n",
    "\n",
    "len(lines)"
   ]
  },
  {
   "cell_type": "markdown",
   "metadata": {},
   "source": [
    "7. <ins> Write a piece of code that lowercases the entire text."
   ]
  },
  {
   "cell_type": "code",
   "execution_count": null,
   "metadata": {},
   "outputs": [],
   "source": [
    "#SOLUTION\n",
    "\n",
    "lower_lines = []\n",
    "\n",
    "for line in lines:\n",
    "    lower_lines.append(line.lower())\n",
    "\n",
    "print(lower_lines[0])\n"
   ]
  },
  {
   "cell_type": "code",
   "execution_count": null,
   "metadata": {},
   "outputs": [],
   "source": [
    "#you could also do the following:\n",
    "lower_text = text.lower()"
   ]
  },
  {
   "cell_type": "markdown",
   "metadata": {},
   "source": [
    "8. <ins> Count how often the name 'Sherlock' is mentioned in the text."
   ]
  },
  {
   "cell_type": "code",
   "execution_count": null,
   "metadata": {},
   "outputs": [],
   "source": [
    "#SOLUTION\n",
    "\n",
    "counter = 0\n",
    "\n",
    "keyword = 'sherlock'\n",
    "for word in lower_text.split():\n",
    "    if keyword in word: #we do this rather than \"if keyword == word:\", because this also includes constructions such as Sherlock's \n",
    "        counter += 1\n",
    "print(counter)"
   ]
  },
  {
   "cell_type": "markdown",
   "metadata": {},
   "source": [
    "9. <ins>Write a piece of code that removes the punctuation of the string below."
   ]
  },
  {
   "cell_type": "code",
   "execution_count": null,
   "metadata": {},
   "outputs": [],
   "source": [
    "punc = '''!()-[]{};:'\"\\,<>./?@#$%^&*”_~“'''\n",
    "\n",
    "opening = \"\"\"Alice was beginning to get very tired of sitting by her sister on the bank, \n",
    "        and of having nothing to do: once or twice she had peeped into the book her \n",
    "        sister was reading, but it had no pictures or conversations in it, “and what is \n",
    "        the use of a book,” thought Alice, “without pictures or conversation?”\"\"\"\n",
    "\n",
    "#SOLUTION\n",
    "\n",
    "for char in opening:\n",
    "    if char in punc:\n",
    "        opening = opening.replace(char, '')\n",
    "\n",
    "print(opening)\n",
    "\n",
    "            \n"
   ]
  },
  {
   "cell_type": "markdown",
   "metadata": {},
   "source": [
    "10. Create a rock-paper-scissors game.\n",
    "- Make the computer choose a random move (either rock, paper or scissors).\n",
    "- Store the choice of the user in a variable (by  using the input() function).\n",
    "- Remember the rules:\n",
    "    - Rock beats scissors\n",
    "    - Scissors beats paper\n",
    "    - Paper beats rock\n",
    "- Make sure that there are three possible outcomes in the game:\n",
    "    - The user wins.\n",
    "    - The computer wins.\n",
    "    - It's a tie!"
   ]
  },
  {
   "cell_type": "code",
   "execution_count": null,
   "metadata": {},
   "outputs": [],
   "source": [
    "#SOLUTION\n",
    "\n",
    "pc = random.choice(['R', 'P', 'S'])\n",
    "user = input('choose rock (R), paper (P) or scissors (S)')\n",
    "\n",
    "\n",
    "\n",
    "if user == \"R\" and pc == \"S\":\n",
    "    print('you win! Rock beats scissors.')\n",
    "elif user == 'R' and pc == 'P':\n",
    "    print('the computer wins, paper beats rock.')\n",
    "elif user == 'S' and pc == 'R':\n",
    "    print('You lose! Rock beats scissors.')\n",
    "elif user == 'S' and pc == 'P':\n",
    "    print('you win, scissors beats scissors')\n",
    "elif user == 'P' and pc == 'R':\n",
    "    print('you win, rock beats paper.')\n",
    "elif user == 'P' and pc == 'S':\n",
    "    print('you lose, scissors beats paper')\n",
    "elif user == pc:\n",
    "    print('it is a tie!')\n",
    "\n",
    "\n"
   ]
  },
  {
   "cell_type": "markdown",
   "metadata": {},
   "source": [
    "11. Create a new txt-file."
   ]
  },
  {
   "cell_type": "code",
   "execution_count": null,
   "metadata": {},
   "outputs": [],
   "source": [
    "#SOLUTION\n",
    "\n",
    "outf = open('exercise.txt', 'w')\n"
   ]
  },
  {
   "cell_type": "markdown",
   "metadata": {},
   "source": [
    "12. Iterate over the lines of the Sherlock novel. If the line starts with 'Sherlock', store the line in your newly created txt-file. <br>\n",
    "Make sure you close te file when the loop has finished.\n",
    "\n",
    "Hint: make sure that the empty lines in the Sherlock file are removed."
   ]
  },
  {
   "cell_type": "code",
   "execution_count": null,
   "metadata": {},
   "outputs": [],
   "source": [
    "#SOLUTION\n",
    "\n",
    "for line in lines:\n",
    "    if len(line) == 0:\n",
    "        lines.remove(line)\n",
    "\n",
    "for line in lines:\n",
    "    if line.split()[0] == 'Sherlock':\n",
    "        outf.write(line + '\\n')\n",
    "outf.close()"
   ]
  },
  {
   "cell_type": "markdown",
   "metadata": {},
   "source": [
    "13. Look up online what the round() function does. Can you round the float below to 2 decimals?"
   ]
  },
  {
   "cell_type": "code",
   "execution_count": null,
   "metadata": {},
   "outputs": [],
   "source": [
    "number = 7.983862\n",
    "\n",
    "#SOLUTION\n",
    "\n",
    "print(round(number, 2))"
   ]
  },
  {
   "cell_type": "markdown",
   "metadata": {},
   "source": [
    "14. In the cell below, we created a frequency dictionary (more of that in the next notebook). It is a dictionary that keeps track how often each word occurs in the text. \n",
    "- Create a list called 'common_words' in which you store all the words that occur more than 1000 times. \n",
    "- You will need to iterate over the frequency dictionary in order to do this.\n",
    "- if the **value** of an item in the dictionary is higher or equal to 1000,\n",
    "- You need to store the **key** in the list of 'common_words'."
   ]
  },
  {
   "cell_type": "code",
   "execution_count": 1,
   "metadata": {},
   "outputs": [
    {
     "ename": "NameError",
     "evalue": "name 'text' is not defined",
     "output_type": "error",
     "traceback": [
      "\u001b[1;31m---------------------------------------------------------------------------\u001b[0m",
      "\u001b[1;31mNameError\u001b[0m                                 Traceback (most recent call last)",
      "Cell \u001b[1;32mIn[1], line 2\u001b[0m\n\u001b[0;32m      1\u001b[0m freq_dic \u001b[38;5;241m=\u001b[39m {}\n\u001b[1;32m----> 2\u001b[0m \u001b[38;5;28;01mfor\u001b[39;00m word \u001b[38;5;129;01min\u001b[39;00m text\u001b[38;5;241m.\u001b[39msplit():\n\u001b[0;32m      3\u001b[0m     \u001b[38;5;28;01mif\u001b[39;00m word \u001b[38;5;129;01min\u001b[39;00m freq_dic:\n\u001b[0;32m      4\u001b[0m         freq_dic[word] \u001b[38;5;241m+\u001b[39m\u001b[38;5;241m=\u001b[39m \u001b[38;5;241m1\u001b[39m\n",
      "\u001b[1;31mNameError\u001b[0m: name 'text' is not defined"
     ]
    }
   ],
   "source": [
    "freq_dic = {}\n",
    "for word in text.split():\n",
    "    if word in freq_dic:\n",
    "        freq_dic[word] += 1\n",
    "    else:\n",
    "        freq_dic[word] = 1\n",
    "\n",
    "common_words = []\n",
    "\n",
    "for key, value in freq_dic.items(): #we iterate over the dictionary.\n",
    "    if value >= 1000:\n",
    "        common_words.append(key)\n"
   ]
  },
  {
   "cell_type": "markdown",
   "metadata": {},
   "source": [
    "15. Check if the file MT.txt is empty, without printing or opening the file."
   ]
  },
  {
   "cell_type": "code",
   "execution_count": 2,
   "metadata": {},
   "outputs": [
    {
     "ename": "FileNotFoundError",
     "evalue": "[Errno 2] No such file or directory: 'MT.txt'",
     "output_type": "error",
     "traceback": [
      "\u001b[1;31m---------------------------------------------------------------------------\u001b[0m",
      "\u001b[1;31mFileNotFoundError\u001b[0m                         Traceback (most recent call last)",
      "Cell \u001b[1;32mIn[2], line 3\u001b[0m\n\u001b[0;32m      1\u001b[0m \u001b[38;5;66;03m#SOLUTION\u001b[39;00m\n\u001b[1;32m----> 3\u001b[0m file \u001b[38;5;241m=\u001b[39m \u001b[38;5;28mopen\u001b[39m(\u001b[38;5;124m'\u001b[39m\u001b[38;5;124mMT.txt\u001b[39m\u001b[38;5;124m'\u001b[39m, \u001b[38;5;124m'\u001b[39m\u001b[38;5;124mr\u001b[39m\u001b[38;5;124m'\u001b[39m)\n\u001b[0;32m      4\u001b[0m file \u001b[38;5;241m=\u001b[39m file\u001b[38;5;241m.\u001b[39mread()\n\u001b[0;32m      6\u001b[0m \u001b[38;5;28;01mif\u001b[39;00m \u001b[38;5;28mlen\u001b[39m(file) \u001b[38;5;241m==\u001b[39m \u001b[38;5;241m0\u001b[39m:\n",
      "File \u001b[1;32m~\\AppData\\Local\\anaconda3\\Lib\\site-packages\\IPython\\core\\interactiveshell.py:286\u001b[0m, in \u001b[0;36m_modified_open\u001b[1;34m(file, *args, **kwargs)\u001b[0m\n\u001b[0;32m    279\u001b[0m \u001b[38;5;28;01mif\u001b[39;00m file \u001b[38;5;129;01min\u001b[39;00m {\u001b[38;5;241m0\u001b[39m, \u001b[38;5;241m1\u001b[39m, \u001b[38;5;241m2\u001b[39m}:\n\u001b[0;32m    280\u001b[0m     \u001b[38;5;28;01mraise\u001b[39;00m \u001b[38;5;167;01mValueError\u001b[39;00m(\n\u001b[0;32m    281\u001b[0m         \u001b[38;5;124mf\u001b[39m\u001b[38;5;124m\"\u001b[39m\u001b[38;5;124mIPython won\u001b[39m\u001b[38;5;124m'\u001b[39m\u001b[38;5;124mt let you open fd=\u001b[39m\u001b[38;5;132;01m{\u001b[39;00mfile\u001b[38;5;132;01m}\u001b[39;00m\u001b[38;5;124m by default \u001b[39m\u001b[38;5;124m\"\u001b[39m\n\u001b[0;32m    282\u001b[0m         \u001b[38;5;124m\"\u001b[39m\u001b[38;5;124mas it is likely to crash IPython. If you know what you are doing, \u001b[39m\u001b[38;5;124m\"\u001b[39m\n\u001b[0;32m    283\u001b[0m         \u001b[38;5;124m\"\u001b[39m\u001b[38;5;124myou can use builtins\u001b[39m\u001b[38;5;124m'\u001b[39m\u001b[38;5;124m open.\u001b[39m\u001b[38;5;124m\"\u001b[39m\n\u001b[0;32m    284\u001b[0m     )\n\u001b[1;32m--> 286\u001b[0m \u001b[38;5;28;01mreturn\u001b[39;00m io_open(file, \u001b[38;5;241m*\u001b[39margs, \u001b[38;5;241m*\u001b[39m\u001b[38;5;241m*\u001b[39mkwargs)\n",
      "\u001b[1;31mFileNotFoundError\u001b[0m: [Errno 2] No such file or directory: 'MT.txt'"
     ]
    }
   ],
   "source": [
    "#SOLUTION\n",
    "\n",
    "file = open('MT.txt', 'r')\n",
    "file = file.read()\n",
    "\n",
    "if len(file) == 0:\n",
    "    print('it is empty')\n",
    "else:\n",
    "    print('there is something in it')\n",
    "\n"
   ]
  },
  {
   "cell_type": "markdown",
   "metadata": {},
   "source": [
    "16. Check if the following words are in the txt-file:\n",
    "- storm\n",
    "- perfect\n",
    "- trooper\n",
    "<br><br>Keep in mind that some of the words in the text can be uppercase."
   ]
  },
  {
   "cell_type": "code",
   "execution_count": null,
   "metadata": {},
   "outputs": [],
   "source": [
    "#SOLUTION\n",
    "\n",
    "keywords = ['storm', 'perfect', 'trooper']\n",
    "\n",
    "for item in keywords: \n",
    "    if item in file.lower():\n",
    "        print(f'{item} is in the txt-file')\n",
    "    else:\n",
    "        print(f'{item} is not in txt-file')"
   ]
  },
  {
   "cell_type": "markdown",
   "metadata": {},
   "source": [
    "17. Count how many lines there are in the text."
   ]
  },
  {
   "cell_type": "code",
   "execution_count": null,
   "metadata": {},
   "outputs": [],
   "source": [
    "#SOLUTION\n",
    "\n",
    "counter = 0\n",
    "for line in file.split('\\n'):\n",
    "    counter += 1\n",
    "\n",
    "print(counter)"
   ]
  },
  {
   "cell_type": "markdown",
   "metadata": {},
   "source": [
    "18. Create a list of all the unique words in the text."
   ]
  },
  {
   "cell_type": "code",
   "execution_count": null,
   "metadata": {},
   "outputs": [],
   "source": [
    "#SOLUTION 1\n",
    "\n",
    "all_words = []\n",
    "for word in file.split():\n",
    "    all_words.append(word.lower())\n",
    "\n",
    "result = list(set(all_words))\n",
    "print(len(result))"
   ]
  },
  {
   "cell_type": "code",
   "execution_count": null,
   "metadata": {},
   "outputs": [],
   "source": [
    "#SOLUTION 2\n",
    "\n",
    "all_words = []\n",
    "for word in file.split():\n",
    "    if word.lower() not in all_words:\n",
    "        all_words.append(word.lower())\n",
    "    else:\n",
    "        continue\n",
    "\n",
    "len(all_words)"
   ]
  },
  {
   "cell_type": "markdown",
   "metadata": {},
   "source": [
    "19. Accept two input values from the user in one input() call."
   ]
  },
  {
   "cell_type": "code",
   "execution_count": null,
   "metadata": {},
   "outputs": [],
   "source": [
    "#SOLUTION\n",
    "\n",
    "x, y = input('give me two things (seperate them by a space)').split()\n",
    "print(x)\n",
    "print(y)\n"
   ]
  }
 ],
 "metadata": {
  "kernelspec": {
   "display_name": "Python 3 (ipykernel)",
   "language": "python",
   "name": "python3"
  },
  "language_info": {
   "codemirror_mode": {
    "name": "ipython",
    "version": 3
   },
   "file_extension": ".py",
   "mimetype": "text/x-python",
   "name": "python",
   "nbconvert_exporter": "python",
   "pygments_lexer": "ipython3",
   "version": "3.11.4"
  },
  "vscode": {
   "interpreter": {
    "hash": "96e0a4d32f1918f770291244863a4a1e044b05d1a3b8d455e2e179187e01062a"
   }
  }
 },
 "nbformat": 4,
 "nbformat_minor": 2
}
