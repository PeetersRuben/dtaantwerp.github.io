{
 "cells": [
  {
   "cell_type": "markdown",
   "metadata": {},
   "source": [
    "# Exercise notebook 3 - If & Else "
   ]
  },
  {
   "cell_type": "markdown",
   "metadata": {},
   "source": [
    "This exercise notebook complements the notebook of **Control structures - If & else statements**. <br> Use this [notebook](https://github.com/dtaantwerp/dtaantwerp.github.io/blob/53c91013df4514a943a9fad441fb5f28dc6f6bab/notebooks/04_W1_Wed_Control_structures_if_else.ipynb) for a complete explanation of the theory.\n",
    "\n",
    "Try to prepare the <ins>underlined exercises</ins> for the exercise session. "
   ]
  },
  {
   "cell_type": "markdown",
   "metadata": {},
   "source": [
    "1. <ins> Create a cell in which a statement is printed if the number is higher or equal to 10."
   ]
  },
  {
   "cell_type": "code",
   "execution_count": 92,
   "metadata": {},
   "outputs": [
    {
     "name": "stdout",
     "output_type": "stream",
     "text": [
      "it's higher or equal to 10\n"
     ]
    }
   ],
   "source": [
    "nr = 11\n",
    "\n",
    "#SOLUTION\n",
    "\n",
    "if nr >= 10:\n",
    "    print(\"it's higher or equal to 10\")\n"
   ]
  },
  {
   "cell_type": "markdown",
   "metadata": {},
   "source": [
    "2. <ins> Create a piece of code that checks if the letter is in the string. <br> If it's in the string print 'found it!', if it's not in the string, print 'it is not in the string'. <ins>"
   ]
  },
  {
   "cell_type": "code",
   "execution_count": 93,
   "metadata": {},
   "outputs": [
    {
     "name": "stdout",
     "output_type": "stream",
     "text": [
      "found it!\n"
     ]
    }
   ],
   "source": [
    "letter = 'a'\n",
    "sentence = 'does this sentence contain the letter?'\n",
    "\n",
    "#SOLUTION\n",
    "\n",
    "if letter in sentence:\n",
    "    print('found it!')\n",
    "else:\n",
    "    print('it is not in the string')"
   ]
  },
  {
   "cell_type": "markdown",
   "metadata": {},
   "source": [
    "3. <ins> Write a piece of code that prints \"they are the same\", if the variable x is equal to the variable of y."
   ]
  },
  {
   "cell_type": "code",
   "execution_count": 94,
   "metadata": {},
   "outputs": [
    {
     "name": "stdout",
     "output_type": "stream",
     "text": [
      "they are the same\n"
     ]
    }
   ],
   "source": [
    "x = 3\n",
    "y = 6 * 2 / 3 -1\n",
    "\n",
    "# SOLUTION\n",
    "if x == y:\n",
    "    print('they are the same')"
   ]
  },
  {
   "cell_type": "markdown",
   "metadata": {},
   "source": [
    "4. <ins> Write a piece of code that prints 'they are not the same', if the variable x is **not** equal to the variable of y."
   ]
  },
  {
   "cell_type": "code",
   "execution_count": null,
   "metadata": {},
   "outputs": [
    {
     "name": "stdout",
     "output_type": "stream",
     "text": [
      "they are not the same\n"
     ]
    }
   ],
   "source": [
    "x = 3\n",
    "y = 6 * 2 / 3 \n",
    "\n",
    "# SOLUTION\n",
    "if x != y: #you could also do if x is not y:\n",
    "    print('they are not the same')\n"
   ]
  },
  {
   "cell_type": "markdown",
   "metadata": {},
   "source": [
    "5. <ins> A couple wants to go on holiday, but they cannot go over their budget of 1000 euros and they have a fear of flying. <br> Write a piece of code that:\n",
    "- <ins> checks if the cost is smaller or equal to the budget.\n",
    "- <ins> checks if the way_of_travel is not by 'aeroplane'.\n",
    "- <ins> if both conditions are met, print a statement that says 'Bon voyage!'\n",
    "- <ins> if one of these conditions is not met, print 'choose another destination'."
   ]
  },
  {
   "cell_type": "code",
   "execution_count": 6,
   "metadata": {},
   "outputs": [
    {
     "name": "stdout",
     "output_type": "stream",
     "text": [
      "Choose another destination\n"
     ]
    }
   ],
   "source": [
    "budget = 1000\n",
    "way_of_travel = 'aeroplane'\n",
    "cost = 800\n",
    "\n",
    "#SOLUTION\n",
    "\n",
    "if cost <= budget: \n",
    "    if way_of_travel != 'aeroplane':\n",
    "        print('Bon voyage!')\n",
    "    else:\n",
    "        print('Choose another destination')"
   ]
  },
  {
   "cell_type": "markdown",
   "metadata": {},
   "source": [
    "6. <ins>Check if the guest is on the guestlist. If they are on the guestlist greet them, if not print a statement that tells them they are not invited.<ins>"
   ]
  },
  {
   "cell_type": "code",
   "execution_count": 97,
   "metadata": {},
   "outputs": [
    {
     "name": "stdout",
     "output_type": "stream",
     "text": [
      "Welcome, Sofie!\n"
     ]
    }
   ],
   "source": [
    "guestlist = ['Stephanie', 'John', 'Gordon', 'Roger', 'Elisabeth', 'Theresa', 'Sofie']\n",
    "guest = 'Sofie'\n",
    "\n",
    "if guest in guestlist:\n",
    "    print(f'Welcome, {guest}!')\n",
    "else:\n",
    "    print('You are not invited')"
   ]
  },
  {
   "cell_type": "markdown",
   "metadata": {},
   "source": [
    "7. <ins>Write a block of code that:\n",
    "- prints A if the score is higher than 90\n",
    "- prints B if it's higher than 60 \n",
    "- prints C if it's higher than 50.\n",
    "- In all other cases, F should be printed."
   ]
  },
  {
   "cell_type": "code",
   "execution_count": 98,
   "metadata": {},
   "outputs": [
    {
     "name": "stdout",
     "output_type": "stream",
     "text": [
      "B\n"
     ]
    }
   ],
   "source": [
    "score = 75\n",
    "\n",
    "if score > 90:\n",
    "    print('A')\n",
    "elif score > 60:\n",
    "    print('B')\n",
    "elif score > 50:\n",
    "    print('C')\n",
    "else:\n",
    "    print('F')"
   ]
  },
  {
   "cell_type": "markdown",
   "metadata": {},
   "source": [
    "8. <ins> Write a block of code that asks the user for a season by using the input() function, and store this in a variable \"season\":\n",
    "<br>for each given season make sure that the start date for that season is printed:\n",
    "- summer starts on June 21st\n",
    "- fall starts on September 23rd\n",
    "- spring starts on march 20th\n",
    "- winter starts on December 21st.\n"
   ]
  },
  {
   "cell_type": "code",
   "execution_count": 1,
   "metadata": {},
   "outputs": [
    {
     "name": "stdout",
     "output_type": "stream",
     "text": [
      "Please write a seasonsummer\n",
      "June 21st\n"
     ]
    }
   ],
   "source": [
    "season = input('Please write a season').lower()\n",
    "\n",
    "if season == 'summer': \n",
    "    print('June 21st')\n",
    "elif season == 'fall': \n",
    "    print('September 23rd')\n",
    "elif season == 'spring':\n",
    "    print('March 20th')\n",
    "elif season == 'winter':\n",
    "    print('December 21')    "
   ]
  },
  {
   "cell_type": "markdown",
   "metadata": {},
   "source": [
    "9. <ins> Change the previous block of code in such a way that it also accepts 'autumn' as a season. <br></ins> <br>\n",
    "Hint: use the 'or' operator. "
   ]
  },
  {
   "cell_type": "code",
   "execution_count": 112,
   "metadata": {},
   "outputs": [],
   "source": [
    "#SOLUTION\n",
    "season = input('Please write a season').lower()\n",
    "\n",
    "if season == 'summer': \n",
    "    print('June 21st')\n",
    "elif season == 'fall' or season == 'autumn': \n",
    "    print('September 23rd')\n",
    "elif season == 'spring':\n",
    "    print('March 20th')\n",
    "elif season == 'winter':\n",
    "    print('December 21')"
   ]
  },
  {
   "cell_type": "markdown",
   "metadata": {},
   "source": [
    "10. <ins>Create a piece code that checks if the suspect is guilty. The person is only guilty if all three conditions are True. <br> If that's not the case, print 'innocent until proven otherwise'."
   ]
  },
  {
   "cell_type": "code",
   "execution_count": 2,
   "metadata": {},
   "outputs": [
    {
     "name": "stdout",
     "output_type": "stream",
     "text": [
      "Innocent... until proven otherwise\n"
     ]
    }
   ],
   "source": [
    "means = True\n",
    "motive = False\n",
    "opportunity = True\n",
    "\n",
    "# SOLUTION\n",
    "\n",
    "if means == True and motive == True and opportunity == True:\n",
    "    print(\"GUILTY!\")\n",
    "else:\n",
    "    print('Innocent... until proven otherwise')\n",
    "    \n",
    "#you could also use the boolean properties\n",
    "# if means and motive and opportunity:"
   ]
  },
  {
   "cell_type": "markdown",
   "metadata": {},
   "source": [
    "11. <ins> Recreate the code, but this time ask for the user's input to obtain the variables means, motive and opportunity. You get the first one as an example."
   ]
  },
  {
   "cell_type": "code",
   "execution_count": 7,
   "metadata": {},
   "outputs": [
    {
     "name": "stdout",
     "output_type": "stream",
     "text": [
      "GUILTY!\n"
     ]
    }
   ],
   "source": [
    "means = input('Did the suspect have the means [yes/no]?').lower()\n",
    "motive = input('Did the suspect have a motive [yes/no]?').lower()\n",
    "opportunity = input('Did the suspect have an opportunity [yes/no]?').lower()\n",
    "\n",
    "#SOLUTION\n",
    "\n",
    "if means == 'yes' and motive == 'yes' and opportunity == 'yes':\n",
    "    print(\"GUILTY!\")\n",
    "else:\n",
    "    print('Innocent... until proven otherwise')\n",
    "\n"
   ]
  },
  {
   "cell_type": "markdown",
   "metadata": {},
   "source": [
    "12. Write a block of code that prints which generation someone belongs to based on their year of birth.\n",
    "- Gen Z = People born between 1997 and 2012\n",
    "- Millenials are people born between 1997 and 1980\n",
    "- Gen X are people born between 1980 and 1960\n",
    "- Baby boomers are people born between 1945 and 1960\n"
   ]
  },
  {
   "cell_type": "code",
   "execution_count": 103,
   "metadata": {},
   "outputs": [
    {
     "name": "stdout",
     "output_type": "stream",
     "text": [
      "you are gen Z\n"
     ]
    }
   ],
   "source": [
    "#check in what decade someone was born\n",
    "year_of_birth = 1998\n",
    "\n",
    "#SOLUTION\n",
    "\n",
    "if year_of_birth >= 1997 and year_of_birth < 2012:\n",
    "    print('you are Gen Z')\n",
    "if year_of_birth <1997 and year_of_birth >= 1980:\n",
    "    print('you are a Millenial')\n",
    "if year_of_birth < 1980 and year_of_birth >= 1960:\n",
    "    print('you are Gen X')\n",
    "if year_of_birth <1960 and year_of_birth >= 1945:\n",
    "    print('you are a boomer')\n",
    "\n"
   ]
  },
  {
   "cell_type": "markdown",
   "metadata": {},
   "source": [
    "13. Look at the code before running it. Which statement(s) will be printed?"
   ]
  },
  {
   "cell_type": "code",
   "execution_count": 104,
   "metadata": {},
   "outputs": [
    {
     "name": "stdout",
     "output_type": "stream",
     "text": [
      "statement 2\n"
     ]
    }
   ],
   "source": [
    "x = 9\n",
    "\n",
    "if x <= 10 and x < 5:\n",
    "    print('statement 1')\n",
    "if x >= 8:\n",
    "    print('statement 2')\n",
    "elif x == 9:\n",
    "    print('statement 3')\n",
    "else:\n",
    "    print('statement 4')"
   ]
  },
  {
   "cell_type": "markdown",
   "metadata": {},
   "source": [
    "14. Create a list of numbers (using range), then create an if else statement checking if variable a is in the list."
   ]
  },
  {
   "cell_type": "code",
   "execution_count": 11,
   "metadata": {},
   "outputs": [
    {
     "name": "stdout",
     "output_type": "stream",
     "text": [
      "It's not in the list!\n"
     ]
    }
   ],
   "source": [
    "#SOLUTION\n",
    "\n",
    "list_of_numbers = list(range(0, 100))\n",
    "a = 100\n",
    "\n",
    "if a in list_of_numbers:\n",
    "    print(\"It's in the list\")\n",
    "else: \n",
    "    print(\"It's not in the list!\")"
   ]
  },
  {
   "cell_type": "markdown",
   "metadata": {},
   "source": [
    "15. Ask the user for their age and check if they are elligible for either a student discount (under 26 years old) or a senior discount (above 65).\n",
    "\n",
    "Hint: make sure that the input is interpreted as an integer by making use of int()."
   ]
  },
  {
   "cell_type": "code",
   "execution_count": 12,
   "metadata": {},
   "outputs": [
    {
     "name": "stdout",
     "output_type": "stream",
     "text": [
      "You get a senior discount!\n"
     ]
    }
   ],
   "source": [
    "#SOLUTION\n",
    "\n",
    "age = int(input('what is your age?'))\n",
    "\n",
    "if age < 26:\n",
    "    print('you get a student discount!')\n",
    "elif age > 65:\n",
    "    print('You get a senior discount!')\n",
    "else:\n",
    "    print('you pay full price!')"
   ]
  },
  {
   "cell_type": "markdown",
   "metadata": {},
   "source": [
    "16. Check if a number is even or odd.\n",
    "\n",
    "    Hint: use the %-operator"
   ]
  },
  {
   "cell_type": "code",
   "execution_count": 107,
   "metadata": {},
   "outputs": [
    {
     "name": "stdout",
     "output_type": "stream",
     "text": [
      "it is an even number\n"
     ]
    }
   ],
   "source": [
    "nr = 6\n",
    "\n",
    "if nr%2 == 0:\n",
    "    print('it is an even number')\n",
    "else: \n",
    "    print('it is an odd number')"
   ]
  },
  {
   "cell_type": "markdown",
   "metadata": {},
   "source": [
    "17. Write a piece of code that checks if the number ..\n",
    "- is divisible by three AND two\n",
    "- is only divisible by two\n",
    "- is only divisible by three\n",
    "- is not divisible by two nor three."
   ]
  },
  {
   "cell_type": "code",
   "execution_count": 116,
   "metadata": {},
   "outputs": [
    {
     "name": "stdout",
     "output_type": "stream",
     "text": [
      "it is not divisible by three or two\n"
     ]
    }
   ],
   "source": [
    "# write a piece of\n",
    "\n",
    "nr = 17\n",
    "\n",
    "if nr%2 == 0 and nr%3 ==0:\n",
    "    print('it is divisible by three and two')\n",
    "elif nr%2 ==0:\n",
    "    print('it is only divisible by two')\n",
    "elif nr%3 ==0:\n",
    "    print('it is only divisible by three')\n",
    "else:\n",
    "    print('it is not divisible by three or two')"
   ]
  },
  {
   "cell_type": "markdown",
   "metadata": {},
   "source": [
    "18. Input the age of three people and store them in three variables. Then only display the youngest one using an if-else statement."
   ]
  },
  {
   "cell_type": "code",
   "execution_count": 16,
   "metadata": {},
   "outputs": [
    {
     "name": "stdout",
     "output_type": "stream",
     "text": [
      "Harald 1\n"
     ]
    }
   ],
   "source": [
    "Fred = int(input('How old are you, Fred?'))\n",
    "Harald = int(input('How old are you, Harald?'))\n",
    "Sofie = int(input('How old are you, Sofie?'))\n",
    "\n",
    "#SOLUTION\n",
    "\n",
    "if Sofie < Fred and Sofie < Harald:\n",
    "    print('Sofie', Sofie)\n",
    "elif Harald < Sofie and Harald < Fred:\n",
    "    print('Harald', Harald)\n",
    "else: \n",
    "    print('Fred', Fred)"
   ]
  },
  {
   "cell_type": "markdown",
   "metadata": {},
   "source": [
    "19. Write a piece of code that checks if a letter is a vowel or not."
   ]
  },
  {
   "cell_type": "code",
   "execution_count": null,
   "metadata": {},
   "outputs": [
    {
     "name": "stdout",
     "output_type": "stream",
     "text": [
      "it is a consonant\n"
     ]
    }
   ],
   "source": [
    "vowels = 'aeiou'\n",
    "letter = 'b'\n",
    "\n",
    "#SOLUTION\n",
    "if letter in vowels:\n",
    "    print('it is a vowel')\n",
    "else: \n",
    "    print('it is a consonant')"
   ]
  },
  {
   "cell_type": "markdown",
   "metadata": {},
   "source": [
    "20. Change the if-else statements below so that only the first statement is printed."
   ]
  },
  {
   "cell_type": "code",
   "execution_count": 34,
   "metadata": {},
   "outputs": [
    {
     "name": "stdout",
     "output_type": "stream",
     "text": [
      "This should be printed\n"
     ]
    }
   ],
   "source": [
    "number = 6\n",
    "\n",
    "if number < 9:\n",
    "    print('This should be printed')\n",
    "elif number > 18:\n",
    "    print('This should not print')\n",
    "else:\n",
    "    print('This should not be printed')"
   ]
  },
  {
   "cell_type": "code",
   "execution_count": null,
   "metadata": {},
   "outputs": [],
   "source": []
  }
 ],
 "metadata": {
  "kernelspec": {
   "display_name": "Python 3 (ipykernel)",
   "language": "python",
   "name": "python3"
  },
  "language_info": {
   "codemirror_mode": {
    "name": "ipython",
    "version": 3
   },
   "file_extension": ".py",
   "mimetype": "text/x-python",
   "name": "python",
   "nbconvert_exporter": "python",
   "pygments_lexer": "ipython3",
   "version": "3.11.4"
  },
  "vscode": {
   "interpreter": {
    "hash": "96e0a4d32f1918f770291244863a4a1e044b05d1a3b8d455e2e179187e01062a"
   }
  }
 },
 "nbformat": 4,
 "nbformat_minor": 2
}
