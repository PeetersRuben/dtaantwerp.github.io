{
 "cells": [
  {
   "cell_type": "markdown",
   "metadata": {},
   "source": [
    "# Exercises on Datatypes\n",
    "\n",
    "This exercise notebook complements the notebook of **Datatypes**. Use this [notebook](https://github.com/dtaantwerp/dtaantwerp.github.io/blob/DTA_Bootcamp_2021_students/notebooks/03_W1_Wed_Data_Types_Lists_Dictionaries.ipynb) for a complete explanation of the theory.\n",
    "\n",
    "Try to prepare the <ins>underlined exercises</ins> for the exercise session. "
   ]
  },
  {
   "cell_type": "markdown",
   "metadata": {},
   "source": [
    "1. <ins> What are the datatypes of the variables below? Check if you were right, using the type() function."
   ]
  },
  {
   "cell_type": "code",
   "execution_count": 3,
   "metadata": {},
   "outputs": [
    {
     "name": "stdout",
     "output_type": "stream",
     "text": [
      "<class 'bool'>\n",
      "<class 'tuple'>\n",
      "<class 'int'>\n",
      "<class 'float'>\n",
      "<class 'list'>\n",
      "<class 'float'>\n",
      "<class 'int'>\n"
     ]
    }
   ],
   "source": [
    "A = False\n",
    "B = ('Hello', 'there')\n",
    "C = 24601\n",
    "D = 3.14\n",
    "E = ['Hello', False, 24601, 3.14]\n",
    "F = 5 + 1.0\n",
    "G = 15 - 20\n",
    "\n",
    "## SOLUTION\n",
    "\n",
    "print(type(A))\n",
    "print(type(B))\n",
    "print(type(C))\n",
    "print(type(D))\n",
    "print(type(E))\n",
    "print(type(F))\n",
    "print(type(G))"
   ]
  },
  {
   "cell_type": "markdown",
   "metadata": {},
   "source": [
    "2. <ins> Convert temperature from Celsius to Fahrenheit. Use the following formula: f = 9/5*c+32. <br>What will be the datatype of the output?"
   ]
  },
  {
   "cell_type": "code",
   "execution_count": 4,
   "metadata": {},
   "outputs": [
    {
     "name": "stdout",
     "output_type": "stream",
     "text": [
      "53.6 <class 'float'>\n"
     ]
    }
   ],
   "source": [
    "C = 12\n",
    "\n",
    "# SOLUTION\n",
    "F = 9/5*C+32\n",
    "print(F, type(F))"
   ]
  },
  {
   "cell_type": "markdown",
   "metadata": {},
   "source": [
    "3. <ins> Indexing a string </ins>\n",
    "- Print the first letter of the string.\n",
    "- Print the last letter of the string.\n",
    "- Print only 'men'.\n",
    "- Print everything except the last letter.\n",
    "\n",
    "    "
   ]
  },
  {
   "cell_type": "code",
   "execution_count": 5,
   "metadata": {},
   "outputs": [
    {
     "name": "stdout",
     "output_type": "stream",
     "text": [
      "T\n",
      "t\n",
      "men\n",
      "Three men in a boa\n"
     ]
    }
   ],
   "source": [
    "title = 'Three men in a boat'\n",
    "\n",
    "#SOLUTION\n",
    "\n",
    "print(title[0])\n",
    "print(title[-1])\n",
    "print(title[6:9])\n",
    "print(title[:-1])"
   ]
  },
  {
   "cell_type": "markdown",
   "metadata": {},
   "source": [
    "4. <ins>Indexing a dictionary; print the **values** of the following keys to find their capitals: </ins>\n",
    "- New Mexico\n",
    "- Maine\n",
    "- Oregon\n"
   ]
  },
  {
   "cell_type": "code",
   "execution_count": 225,
   "metadata": {},
   "outputs": [
    {
     "name": "stdout",
     "output_type": "stream",
     "text": [
      "Santa Fe\n",
      "Augusta\n",
      "Salem\n"
     ]
    }
   ],
   "source": [
    "states = {'California':'Sacramento', 'Arizona':'Phoenix', 'Maine':'Augusta', 'New Jersey':'Trenton',\n",
    "      'New Mexico':'Santa Fe', 'Oregon':'Salem', 'Texas':'Austin', 'Wyoming':'Cheyenne'}\n",
    "\n",
    "\n",
    "#SOLUTION\n",
    "print(states['New Mexico'])\n",
    "print(states['Maine'])\n",
    "print(states['Oregon'])"
   ]
  },
  {
   "cell_type": "markdown",
   "metadata": {},
   "source": [
    "5. <ins> Boolean operators: change the statement so that the output will be True<ins>"
   ]
  },
  {
   "cell_type": "code",
   "execution_count": 226,
   "metadata": {},
   "outputs": [
    {
     "data": {
      "text/plain": [
       "True"
      ]
     },
     "execution_count": 226,
     "metadata": {},
     "output_type": "execute_result"
    }
   ],
   "source": [
    "x = 3\n",
    "isinstance(x, float)\n",
    "\n",
    "## SOLUTION\n",
    "\n",
    "x = 3.0\n",
    "isinstance(x, float) \n",
    "#Or change the isinstance statement to isinstance(x, int)"
   ]
  },
  {
   "cell_type": "code",
   "execution_count": 227,
   "metadata": {},
   "outputs": [
    {
     "data": {
      "text/plain": [
       "True"
      ]
     },
     "execution_count": 227,
     "metadata": {},
     "output_type": "execute_result"
    }
   ],
   "source": [
    "capitals= {'Belgium': 'Brussels', 'Barbados': 'Bridgetown', 'Lithuania': 'Vilnius'}\n",
    "isinstance(capitals, list)\n",
    "\n",
    "## SOLUTION  \n",
    "isinstance(capitals, dict)"
   ]
  },
  {
   "cell_type": "code",
   "execution_count": 228,
   "metadata": {},
   "outputs": [
    {
     "data": {
      "text/plain": [
       "True"
      ]
     },
     "execution_count": 228,
     "metadata": {},
     "output_type": "execute_result"
    }
   ],
   "source": [
    "flag = {'red', 'white', 'blue'}\n",
    "isinstance(flag, list)\n",
    "\n",
    "## SOLUTION\n",
    "\n",
    "isinstance(flag, set) \n",
    "#alternatively, change the variable to flag = ['red', 'white', 'blue']\n"
   ]
  },
  {
   "cell_type": "markdown",
   "metadata": {},
   "source": [
    "6. <ins> Turn the string into a list. Check if the variable x and variably y is in the list. <br> \n",
    "- Remove the last element from the list, using the pop() function.\n",
    "- Append another item to the list.\n",
    "- Sort the list, so that the letters are in alphabetical order.\n",
    "\n"
   ]
  },
  {
   "cell_type": "code",
   "execution_count": 229,
   "metadata": {},
   "outputs": [
    {
     "name": "stdout",
     "output_type": "stream",
     "text": [
      "True\n",
      "False\n",
      "[' ', ' ', ' ', ' ', ' ', 'a', 'c', 'e', 'e', 'e', 'h', 'i', 'i', 'i', 'l', 'n', 'n', 'n', 'n', 'o', 'p', 'r', 's', 's', 's', 't', 't', 't', 't', 'u']\n"
     ]
    }
   ],
   "source": [
    "sentence = 'turn this sentence into a list'\n",
    "x = 't'\n",
    "y = 'y'\n",
    "\n",
    "#SOLUTION\n",
    "\n",
    "#turn the sentence into a list\n",
    "sentence = list(sentence)\n",
    "\n",
    "#check if the variables are in the list.\n",
    "print(x in sentence)\n",
    "print(y in sentence)\n",
    "\n",
    "#remove the last element of the list.\n",
    "sentence.pop()\n",
    "\n",
    "#add another element to the list.\n",
    "sentence.append('p')\n",
    "\n",
    "#sort the list.\n",
    "sentence = sorted(sentence) #alternatively sentence.sort()\n",
    "\n",
    "#Check if it all worked accordingly\n",
    "print(sentence)\n",
    "\n"
   ]
  },
  {
   "cell_type": "markdown",
   "metadata": {},
   "source": [
    "7a. <ins> Change the print statement so that the variable is printed between quotation marks. <br>\n",
    "i.e. the output should be *\"Polly\"* rather than *Polly* </ins>"
   ]
  },
  {
   "cell_type": "code",
   "execution_count": 230,
   "metadata": {},
   "outputs": [
    {
     "name": "stdout",
     "output_type": "stream",
     "text": [
      "Polly\n",
      "\"Polly\"\n"
     ]
    }
   ],
   "source": [
    "dog = \"Polly\"\n",
    "print(dog)\n",
    "\n",
    "## SOLUTION\n",
    "\n",
    "print('\"'+ dog + '\"')"
   ]
  },
  {
   "cell_type": "markdown",
   "metadata": {},
   "source": [
    "7b. <ins> print the variable dog, but this time make sure that everything is in lowercase </ins><br>\n",
    "<br>Hint: use the .lower() method we saw in the theory notebook."
   ]
  },
  {
   "cell_type": "code",
   "execution_count": 33,
   "metadata": {},
   "outputs": [
    {
     "name": "stdout",
     "output_type": "stream",
     "text": [
      "polly\n"
     ]
    }
   ],
   "source": [
    "#SOLUTION\n",
    "print(dog.lower())"
   ]
  },
  {
   "cell_type": "markdown",
   "metadata": {},
   "source": [
    "<ins>8. Create a variable which prints the following statement: </ins> <br>\n",
    "<br> *Welcome to Python club \"PHILEAS FOGG\" We are happy to have you with us!* <br>\n",
    "<br> Hint: use the .upper() method to make the first and lastname uppercase. You will have to insert the spaces."
   ]
  },
  {
   "cell_type": "code",
   "execution_count": 2,
   "metadata": {},
   "outputs": [
    {
     "name": "stdout",
     "output_type": "stream",
     "text": [
      "Welcome to Python club \"PHILEAS FOGG\" We are happy to have you with us!\n"
     ]
    }
   ],
   "source": [
    "first_name = 'Phileas'\n",
    "last_name = 'Fogg'\n",
    "part_1 = 'Welcome to Python club'\n",
    "part_2 = 'We are happy to have you with us!'\n",
    "\n",
    "\n",
    "#SOLUTION\n",
    "\n",
    "greeting = part_1 + ' ' + '\"' + first_name.upper() + ' ' + last_name.upper() + '\"' + ' ' + part_2 \n",
    "print(greeting)\n"
   ]
  },
  {
   "cell_type": "markdown",
   "metadata": {},
   "source": [
    "9. <ins> Create a list of numbers using range(): </ins>\n",
    "- Create a list of all numbers between 0 and 10 (10 should be included in the list).\n",
    "- Create a list of numbers between one and twenty, only consisting of uneven numbers.\n",
    "- Create another list in which the following sequence is generated: [0, 3, 6, 9, 12, 15]."
   ]
  },
  {
   "cell_type": "code",
   "execution_count": 6,
   "metadata": {},
   "outputs": [
    {
     "name": "stdout",
     "output_type": "stream",
     "text": [
      "[0, 1, 2, 3, 4, 5, 6, 7, 8, 9, 10]\n",
      "[1, 3, 5, 7, 9, 11, 13, 15, 17, 19]\n",
      "[0, 3, 6, 9, 12, 15]\n"
     ]
    }
   ],
   "source": [
    "#SOLUTION\n",
    "\n",
    "A = list(range(11))\n",
    "print(A)\n",
    "\n",
    "B = list(range(1, 21, 2))\n",
    "print(B)\n",
    "\n",
    "C = list(range(0, 16, 3))\n",
    "print(C)\n",
    "\n"
   ]
  },
  {
   "cell_type": "markdown",
   "metadata": {},
   "source": [
    "10. <ins> Count how often the character \"w\" occurs in the sentences below. <br> </ins>\n",
    "\n",
    "Make sure that you find both the uppercase and lowercase w's."
   ]
  },
  {
   "cell_type": "code",
   "execution_count": 57,
   "metadata": {},
   "outputs": [
    {
     "name": "stdout",
     "output_type": "stream",
     "text": [
      "6\n",
      "6\n"
     ]
    }
   ],
   "source": [
    "sentence1 = \"How much wood would a woodchuck chuck if a woodchuck could chuck wood?\"\n",
    "sentence2 = \"Where now? Who now? When now?\"\n",
    "\n",
    "# SOLUTION\n",
    "\n",
    "print(sentence1.lower().count('w'))\n",
    "print(sentence2.lower().count('w'))"
   ]
  },
  {
   "cell_type": "markdown",
   "metadata": {},
   "source": [
    "11. <ins>implement the variables into the string using the *.format()* method."
   ]
  },
  {
   "cell_type": "code",
   "execution_count": 86,
   "metadata": {},
   "outputs": [
    {
     "name": "stdout",
     "output_type": "stream",
     "text": [
      "on Sundays, I walk my dog and after I go to the cinema\n"
     ]
    }
   ],
   "source": [
    "activity = 'cinema'\n",
    "pet = 'dog'\n",
    "\n",
    "#SOLUTION\n",
    "\n",
    "print('on Sundays, I walk my {} and after I go to the {}.'.format(pet, activity))\n"
   ]
  },
  {
   "cell_type": "code",
   "execution_count": 92,
   "metadata": {},
   "outputs": [
    {
     "name": "stdout",
     "output_type": "stream",
     "text": [
      "My grandma turned 101 years old last week\n"
     ]
    }
   ],
   "source": [
    "person = 'grandma'\n",
    "age = 101\n",
    "\n",
    "#SOLUTION\n",
    "\n",
    "print('My {} turned {} years old last week.'.format(person, age))"
   ]
  },
  {
   "cell_type": "markdown",
   "metadata": {},
   "source": [
    "12. Recreate the previous two string, but this time use the f'string method."
   ]
  },
  {
   "cell_type": "code",
   "execution_count": 106,
   "metadata": {},
   "outputs": [
    {
     "name": "stdout",
     "output_type": "stream",
     "text": [
      "on Sundays, I walk my dog and after I go to the cinema\n",
      "My grandma turned 101 years old last week.\n"
     ]
    }
   ],
   "source": [
    "activity = 'cinema'\n",
    "pet = 'dog'\n",
    "\n",
    "#SOLUTION\n",
    "\n",
    "print(f'On Sundays, I walk my {pet} and after I go to the {activity}')\n",
    "\n",
    "person = 'grandma'\n",
    "age = 101\n",
    "\n",
    "print(f'My {person} turned {age} years old last week.')"
   ]
  },
  {
   "cell_type": "markdown",
   "metadata": {},
   "source": [
    "13. What is wrong with this print-statement? Change it so that the following output is printed: <br> \n",
    "<br>*all 4 1, and 1 4 all* <br>\n",
    "<br>Hint: use the str() function to make sure that the integers are interpreted as strings."
   ]
  },
  {
   "cell_type": "code",
   "execution_count": 232,
   "metadata": {},
   "outputs": [
    {
     "name": "stdout",
     "output_type": "stream",
     "text": [
      "all 4 1, and 1 4 all\n"
     ]
    }
   ],
   "source": [
    "#print('all ' + 4 + ' ' + 1 + ', and ' + 1 + ' '+ 4 + ' all')\n",
    "\n",
    "#SOLUTION\n",
    "print ('all ' + str(4) + ' ' + str(1) + ', and ' + str(1) + ' '+ str(4) + ' all')"
   ]
  },
  {
   "cell_type": "markdown",
   "metadata": {},
   "source": [
    "14. Before running the cel, think about what the output will be. What is the value and type of x? "
   ]
  },
  {
   "cell_type": "code",
   "execution_count": 233,
   "metadata": {},
   "outputs": [],
   "source": [
    "x = '9'\n",
    "x = float(x)\n",
    "x = str(x/2)\n",
    "x = int(float(x))\n",
    "\n",
    "#SOLUTION\n",
    "\n",
    "#print(x)\n",
    "#print(type(x))"
   ]
  },
  {
   "cell_type": "markdown",
   "metadata": {},
   "source": [
    "15. Write a script that counts the relative frequency of any given character in a text. It should take both the uppercase and lowercase occurences of the character into account."
   ]
  },
  {
   "cell_type": "code",
   "execution_count": 234,
   "metadata": {},
   "outputs": [
    {
     "data": {
      "text/plain": [
       "0.05543710021321962"
      ]
     },
     "execution_count": 234,
     "metadata": {},
     "output_type": "execute_result"
    }
   ],
   "source": [
    "text = '''And for this reason, I said, money and honour have no attraction for them; good men do not wish to be openly demanding payment for governing and so to get the name of hirelings, nor by secretly helping themselves out of the public revenues to get the name of thieves. And not being ambitious they do not care about honour. Wherefore necessity must be laid upon them, and they must be induced to serve from the fear of punishment. And this, as I imagine, is the reason why the forwardness to take office, instead of waiting to be compelled, has been deemed dishonourable. Now the worst part of the punishment is that he who refuses to rule is liable to be ruled by one who is worse than himself. And the fear of this, as I conceive, induces the good to take office, not because they would, but because they cannot help --not under the idea that they are going to have any benefit or enjoyment themselves, but as a necessity, and because they are not able to commit the task of ruling to any one who is better than themselves, or indeed as good. For there is reason to think that if a city were composed entirely of good men, then to avoid office would be as much an object of contention as to obtain office is at present; then we should have plain proof that the true ruler is not meant by nature to regard his own interest, but that of his subjects; and every one who knew this would choose rather to receive a benefit from another than to have the trouble of conferring one. So far am I from agreeing with Thrasymachus that justice is the interest of the stronger. This latter question need not be further discussed at present; but when Thrasymachus says that the life of the unjust is more advantageous than that of the just, his new statement appears to me to be of a far more serious character. Which of us has spoken truly? And which sort of life, Glaucon, do you prefer?'''\n",
    "character = 'a'\n",
    "\n",
    "rel_freq = text.lower().count(character)/len(text)\n",
    "rel_freq"
   ]
  },
  {
   "cell_type": "markdown",
   "metadata": {},
   "source": [
    "16. Write a program that assigns the result of `9.5 * 4.5 - 2.5 * 345.5 - 3.5` to a variable. Print this variable. Use round brackets to indicate 'operator precedence' and make sure that subtractions are performed before multiplications. When you convert the outcome to a string, how many characters does it count?"
   ]
  },
  {
   "cell_type": "code",
   "execution_count": 235,
   "metadata": {},
   "outputs": [
    {
     "name": "stdout",
     "output_type": "stream",
     "text": [
      "6498.0 6\n"
     ]
    }
   ],
   "source": [
    "result = 9.5* (4.5 - 2.5) * (345.5 - 3.5)\n",
    "\n",
    "print(result, len(str(result)))"
   ]
  },
  {
   "cell_type": "markdown",
   "metadata": {},
   "source": [
    "17. Calculate how many shipping boxes can fit in a shipping container\n",
    "\n",
    "    Shipping container size: w = 2.43m, l = 6.06m, h = 2.59m  \n",
    "    Box size: w = 33cm, l = 48cm , h = 32cm\n",
    "\n",
    "    1. Calculate container volume;\n",
    "    2. Calculate box volume (convert cm to m);\n",
    "    3. Calculate how many boxes can fit in one container. Keep in mind that this should be a round number, since we cannot ship half a box."
   ]
  },
  {
   "cell_type": "code",
   "execution_count": 236,
   "metadata": {},
   "outputs": [
    {
     "data": {
      "text/plain": [
       "752"
      ]
     },
     "execution_count": 236,
     "metadata": {},
     "output_type": "execute_result"
    }
   ],
   "source": [
    "# SOLUTION\n",
    "w_con = 2.43\n",
    "l_con = 6.06\n",
    "h_con = 2.59\n",
    "\n",
    "w_box = 0.33\n",
    "l_box = 0.48\n",
    "h_box = 0.32\n",
    "\n",
    "volume_container = (w_con * h_con * l_con)\n",
    "volume_box = (w_box * h_box * l_box)\n",
    "\n",
    "result = int(volume_container / volume_box)\n",
    "result"
   ]
  },
  {
   "cell_type": "markdown",
   "metadata": {},
   "source": [
    "18. Index a list:\n",
    "- Print the first element of the list.\n",
    "- Print the last element of the list.\n",
    "- Print the last letter of the third element in the list.\n",
    "- Print the second, third and fourth element of the list.\n",
    "- Print the first, third, fifth and seventh item (all uneven items).\n",
    "- Print the second, fourth and sixth item (all even items)."
   ]
  },
  {
   "cell_type": "code",
   "execution_count": 141,
   "metadata": {},
   "outputs": [
    {
     "name": "stdout",
     "output_type": "stream",
     "text": [
      "Abu Dhabi\n",
      "Gdnask\n",
      "a\n",
      "['Boston', 'Cremona', 'Douz']\n",
      "['Abu Dhabi', 'Cremona', 'Edinburgh', 'Gdnask']\n",
      "['Boston', 'Douz', 'Fitton']\n"
     ]
    }
   ],
   "source": [
    "Cities = ['Abu Dhabi', 'Boston', 'Cremona', 'Douz', 'Edinburgh', 'Fitton', 'Gdnask']\n",
    "\n",
    "#SOLUTION\n",
    "print(Cities[0])\n",
    "print(Cities[-1])\n",
    "print(Cities[2][-1])\n",
    "print(Cities[1:4])\n",
    "print(Cities[::2])\n",
    "print(Cities[1:-1:2])\n"
   ]
  },
  {
   "cell_type": "markdown",
   "metadata": {},
   "source": [
    "19. Before running the cell, what do you think the output will be? Check if you were right."
   ]
  },
  {
   "cell_type": "code",
   "execution_count": 9,
   "metadata": {},
   "outputs": [
    {
     "name": "stdout",
     "output_type": "stream",
     "text": [
      "<class 'list'>\n"
     ]
    }
   ],
   "source": [
    "word = 'addressee'\n",
    "word = set(word)\n",
    "word = sorted(word)\n",
    "print(type(word))\n"
   ]
  },
  {
   "cell_type": "markdown",
   "metadata": {},
   "source": [
    "20. Reformat the string below so that the output looks like this: \n",
    "\n",
    "Line one <br>\n",
    "&emsp;   &emsp; &emsp;Line two <br>\n",
    "Line Three"
   ]
  },
  {
   "cell_type": "code",
   "execution_count": 11,
   "metadata": {},
   "outputs": [
    {
     "name": "stdout",
     "output_type": "stream",
     "text": [
      "Line one\n",
      "\tLine two\n",
      "Line Three\n"
     ]
    }
   ],
   "source": [
    "reformat = 'Line one Line two Line Three'\n",
    "\n",
    "\n",
    "# SOLUTION\n",
    "\n",
    "reformat = 'Line one\\n\\tLine two\\nLine Three'\n",
    "print(reformat)"
   ]
  },
  {
   "cell_type": "markdown",
   "metadata": {},
   "source": [
    "## 21. If you have extra time, you can try this (slightly larger) exercise."
   ]
  },
  {
   "cell_type": "markdown",
   "metadata": {},
   "source": [
    "21a. Below you will find three recipes (three lists). \n",
    "\n",
    "1. Add 'white pepper' to lasagna ingredients\n",
    "2. Remove 'black pepper' from lasagna ingredients\n",
    "3. Obtain index on 'vegetable oil' in chicken_fajitas;\n",
    "4. Replace 'vegetable oil' in chicken_fajitas list with 'olive oil';\n",
    "5. Sort chicken_fajitas list in alphabetical order;\n",
    "6. Print every third ingredient of chicken_fajitas list;\n",
    "7. Reverse list chicken_fajitas;\n",
    "8. Create a list of all recipes, i.e. a list of lists\n",
    "9. Print the first five ingredients of the first recipe in recipes."
   ]
  },
  {
   "cell_type": "code",
   "execution_count": 202,
   "metadata": {},
   "outputs": [],
   "source": [
    "lasagna = [\n",
    "    'chicken breast', \n",
    "    'italian seasoning', \n",
    "    'garlic powder',\n",
    "    'marinara sauce',\n",
    "    'grated parmesan cheese',\n",
    "    'mozzarella cheese',\n",
    "    'ricotta cheese',\n",
    "    'eggs',\n",
    "    'parsley',\n",
    "    'salt',\n",
    "    'black pepper']\n",
    "\n",
    "roasted_veggies = [\n",
    "    'red onion',\n",
    "    'red bell pepper',\n",
    "    'broccoli',\n",
    "    'yellow squash',\n",
    "    'zucchini squash',\n",
    "    'garlic',\n",
    "    'olive oil',\n",
    "    'garlic powder',\n",
    "    'salt',\n",
    "    'black pepper']\n",
    "\n",
    "chicken_fajitas = [\n",
    "    'chicken breast',\n",
    "    'fajita seasoning',\n",
    "    'vegetable oil',\n",
    "    'lime',\n",
    "    'green bell pepper',\n",
    "    'red bell pepper',\n",
    "    'yellow onion',\n",
    "    'butter',\n",
    "    'garlic']"
   ]
  },
  {
   "cell_type": "code",
   "execution_count": 203,
   "metadata": {},
   "outputs": [
    {
     "name": "stdout",
     "output_type": "stream",
     "text": [
      "['butter', 'garlic', 'olive oil']\n",
      "['yellow onion', 'red bell pepper', 'olive oil', 'lime', 'green bell pepper', 'garlic', 'fajita seasoning', 'chicken breast', 'butter']\n"
     ]
    }
   ],
   "source": [
    "#1\n",
    "\n",
    "#SOLUTION\n",
    "lasagna.append('white pepper')\n"
   ]
  },
  {
   "cell_type": "code",
   "execution_count": null,
   "metadata": {},
   "outputs": [],
   "source": [
    "#2\n",
    "\n",
    "#SOLUTION\n",
    "lasagna.remove('black pepper')"
   ]
  },
  {
   "cell_type": "code",
   "execution_count": null,
   "metadata": {},
   "outputs": [],
   "source": [
    "#3\n",
    "\n",
    "#SOLUTION\n",
    "print(chicken_fajitas.index('vegetable oil'))"
   ]
  },
  {
   "cell_type": "code",
   "execution_count": null,
   "metadata": {},
   "outputs": [],
   "source": [
    "#4\n",
    "\n",
    "#SOLUTION\n",
    "chicken_fajitas[2] = 'olive oil'\n"
   ]
  },
  {
   "cell_type": "code",
   "execution_count": null,
   "metadata": {},
   "outputs": [],
   "source": [
    "#5\n",
    "\n",
    "#SOLUTION\n",
    "chicken_fajitas = sorted(chicken_fajitas)"
   ]
  },
  {
   "cell_type": "code",
   "execution_count": null,
   "metadata": {},
   "outputs": [],
   "source": [
    "#6\n",
    "\n",
    "#SOLUTION\n",
    "print(chicken_fajitas[::3])"
   ]
  },
  {
   "cell_type": "code",
   "execution_count": null,
   "metadata": {},
   "outputs": [],
   "source": [
    "#7\n",
    "\n",
    "#SOLUTION\n",
    "print(chicken_fajitas[::-1])"
   ]
  },
  {
   "cell_type": "code",
   "execution_count": null,
   "metadata": {},
   "outputs": [],
   "source": [
    "#8\n",
    "\n",
    "#SOLUTION\n",
    "all_recipes = []\n",
    "all_recipes.append(chicken_fajitas)\n",
    "all_recipes.append(lasagna)\n",
    "all_recipes.append(roasted_veggies)\n",
    "#you could also do ->   all_recipes = [chicken_fajitas, lasagna, roasted_veggies]"
   ]
  },
  {
   "cell_type": "code",
   "execution_count": null,
   "metadata": {},
   "outputs": [],
   "source": [
    "#9\n",
    "\n",
    "#SOLUTION\n",
    "all_recipes[0][0:5]\n"
   ]
  },
  {
   "cell_type": "markdown",
   "metadata": {},
   "source": [
    "21b.  Create a shopping list from the list of ingredients for recipes.\n",
    "   \n",
    "The list should consist only of unique ingredients, sorted in alphabetical order.\n",
    "\n",
    "To-do:  \n",
    "1. Combine all ingredients into one list (not a list of lists);\n",
    "2. Obtain unique items;\n",
    "3. Sort list of ingredients alphabetically from A-Z;\n",
    "4. Print shopping list."
   ]
  },
  {
   "cell_type": "code",
   "execution_count": 219,
   "metadata": {},
   "outputs": [
    {
     "data": {
      "text/plain": [
       "['black pepper',\n",
       " 'broccoli',\n",
       " 'butter',\n",
       " 'chicken breast',\n",
       " 'eggs',\n",
       " 'fajita seasoning',\n",
       " 'garlic',\n",
       " 'garlic powder',\n",
       " 'grated parmesan cheese',\n",
       " 'green bell pepper',\n",
       " 'italian seasoning',\n",
       " 'lime',\n",
       " 'marinara sauce',\n",
       " 'mozzarella cheese',\n",
       " 'olive oil',\n",
       " 'parsley',\n",
       " 'red bell pepper',\n",
       " 'red onion',\n",
       " 'ricotta cheese',\n",
       " 'salt',\n",
       " 'white pepper',\n",
       " 'yellow onion',\n",
       " 'yellow squash',\n",
       " 'zucchini squash']"
      ]
     },
     "execution_count": 219,
     "metadata": {},
     "output_type": "execute_result"
    }
   ],
   "source": [
    "#SOLUTION\n",
    "\n",
    "ingredients = lasagna + chicken_fajitas + roasted_veggies\n",
    "ingredients = sorted(set(ingredients))\n",
    "ingredients"
   ]
  }
 ],
 "metadata": {
  "kernelspec": {
   "display_name": "Python 3 (ipykernel)",
   "language": "python",
   "name": "python3"
  },
  "language_info": {
   "codemirror_mode": {
    "name": "ipython",
    "version": 3
   },
   "file_extension": ".py",
   "mimetype": "text/x-python",
   "name": "python",
   "nbconvert_exporter": "python",
   "pygments_lexer": "ipython3",
   "version": "3.11.4"
  },
  "vscode": {
   "interpreter": {
    "hash": "96e0a4d32f1918f770291244863a4a1e044b05d1a3b8d455e2e179187e01062a"
   }
  }
 },
 "nbformat": 4,
 "nbformat_minor": 4
}
