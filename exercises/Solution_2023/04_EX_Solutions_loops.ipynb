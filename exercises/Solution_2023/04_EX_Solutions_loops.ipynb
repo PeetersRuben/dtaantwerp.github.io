{
 "cells": [
  {
   "cell_type": "markdown",
   "metadata": {},
   "source": [
    "# Exercise notebook 4 - Loops"
   ]
  },
  {
   "cell_type": "markdown",
   "metadata": {},
   "source": [
    "This exercise notebook complements the notebook of **Control structures - for and while loops**. <br> Use this [notebook](https://github.com/dtaantwerp/dtaantwerp.github.io/blob/53c91013df4514a943a9fad441fb5f28dc6f6bab/notebooks/05_W1_Fri_Control_Structures_Loops_For_While.ipynb) for a complete explanation of the theory.\n",
    "\n",
    "Try to prepare the <ins>underlined exercises</ins> for the exercise session. "
   ]
  },
  {
   "cell_type": "markdown",
   "metadata": {},
   "source": [
    "1. <ins> Print every element of this list below, using a for-loop."
   ]
  },
  {
   "cell_type": "code",
   "execution_count": null,
   "metadata": {},
   "outputs": [],
   "source": [
    "fruit = ['apple', 'pear', 'banana', 'kiwi', 'melon']\n",
    "\n",
    "#SOLUTION\n",
    "\n",
    "for item in fruit:\n",
    "    print(item)"
   ]
  },
  {
   "cell_type": "markdown",
   "metadata": {},
   "source": [
    "2. <ins>For each element in the list check if the element contains the letter 'i'."
   ]
  },
  {
   "cell_type": "code",
   "execution_count": null,
   "metadata": {},
   "outputs": [],
   "source": [
    "words = ['This', 'is', 'a', 'list', 'of', 'words']\n",
    "\n",
    "#SOLUTION\n",
    "\n",
    "for item in words:\n",
    "    print('i' in item)\n",
    "\n",
    "#Alternatively:\n",
    "\n",
    "#for word in words:\n",
    "#   if 'i' in word:\n",
    "#        print(word)"
   ]
  },
  {
   "cell_type": "markdown",
   "metadata": {},
   "source": [
    "3. <ins> Count how many characters the following list of words contains and store this in the variable 'total_words'."
   ]
  },
  {
   "cell_type": "code",
   "execution_count": 1,
   "metadata": {},
   "outputs": [
    {
     "name": "stdout",
     "output_type": "stream",
     "text": [
      "101\n"
     ]
    }
   ],
   "source": [
    "opening = ['In', 'the', 'beginning', 'the', 'Universe', 'was', 'created,', 'this', 'had', 'made', 'many', 'people', 'very', 'angry', 'and', 'has', 'been', 'widely', 'regarded', 'as', 'a', 'bad', 'move.']\n",
    "total_words = 0\n",
    "\n",
    "#SOLUTION\n",
    "\n",
    "for word in opening:\n",
    "    total_words += len(word)\n",
    "\n",
    "print(total_words)"
   ]
  },
  {
   "cell_type": "markdown",
   "metadata": {},
   "source": [
    "4. <ins>Combine a for-loop with a condition (if-statement): loop over the letters in the list, but only print the letter if it's uppercase."
   ]
  },
  {
   "cell_type": "code",
   "execution_count": 2,
   "metadata": {},
   "outputs": [
    {
     "name": "stdout",
     "output_type": "stream",
     "text": [
      "Y\n",
      "M\n",
      "C\n",
      "A\n"
     ]
    }
   ],
   "source": [
    "letters = ['a', 'n', 'Y', 'e', 'm','M', 'o', 'C', 'n', 'A', 'e']\n",
    "\n",
    "#SOLUTION\n",
    "\n",
    "for item in letters:\n",
    "    if item.isupper():\n",
    "        print(item)"
   ]
  },
  {
   "cell_type": "markdown",
   "metadata": {},
   "source": [
    "5. <ins> Loop over the letters again, but this time store all lowercase letters in an empty list. Then print the list to see if it worked."
   ]
  },
  {
   "cell_type": "code",
   "execution_count": 3,
   "metadata": {},
   "outputs": [
    {
     "name": "stdout",
     "output_type": "stream",
     "text": [
      "['a', 'n', 'e', 'm', 'o', 'n', 'e']\n"
     ]
    }
   ],
   "source": [
    "letters = ['a', 'n', 'Y', 'e', 'm','M', 'o', 'C', 'n', 'A', 'e']\n",
    "\n",
    "lowercase = []\n",
    "\n",
    "#SOLUTION\n",
    "\n",
    "for letter in letters:\n",
    "    if letter.islower():\n",
    "        lowercase.append(letter)\n",
    "print(lowercase)"
   ]
  },
  {
   "cell_type": "markdown",
   "metadata": {},
   "source": [
    "6. <ins> Print the first letter of each word in the phonetic alphabet."
   ]
  },
  {
   "cell_type": "code",
   "execution_count": 4,
   "metadata": {},
   "outputs": [
    {
     "name": "stdout",
     "output_type": "stream",
     "text": [
      "A\n",
      "B\n",
      "C\n",
      "D\n",
      "E\n",
      "F\n"
     ]
    }
   ],
   "source": [
    "phonetic_alphabet = [[\"Alpha\", \"Bravo\", \"Charlie\"],[\"Delta\", \"Echo\", \"Foxtrot\"]]\n",
    "\n",
    "#SOLUTION\n",
    "\n",
    "for a_list in phonetic_alphabet: \n",
    "    for word in a_list:\n",
    "        print(word[0])"
   ]
  },
  {
   "cell_type": "markdown",
   "metadata": {},
   "source": [
    "7. <ins> Create a for-loop that checks the length of the word and adds that number of characters to the counter. Use the 'continue' statement so that the for-loop skips words that consist of only one or two letters.\n",
    "\n",
    "By the end of the for-loop the counter should be 40. "
   ]
  },
  {
   "cell_type": "code",
   "execution_count": 5,
   "metadata": {},
   "outputs": [
    {
     "name": "stdout",
     "output_type": "stream",
     "text": [
      "40\n"
     ]
    }
   ],
   "source": [
    "opening = ['I', 'think', 'this', 'is', 'the', 'beginning', 'of', 'a', 'beautiful', 'friendship']\n",
    "counter = 0 \n",
    "\n",
    "#SOLUTION\n",
    "\n",
    "for word in opening:\n",
    "    \n",
    "    if len(word) < 3: #alternatively if len(word) <= 2\n",
    "        continue\n",
    "    else:\n",
    "        counter += len(word)\n",
    "\n",
    "print(counter)\n",
    "\n"
   ]
  },
  {
   "cell_type": "markdown",
   "metadata": {},
   "source": [
    "8. <ins>For each word in the list, if the word begins with a vowel, print the word along with the length of that word. <br>\n",
    "**The output should look like this:** \n",
    "- Alpha 5\n",
    "- Echo 4\n",
    "- Indiana 7"
   ]
  },
  {
   "cell_type": "code",
   "execution_count": null,
   "metadata": {},
   "outputs": [],
   "source": [
    "test = [[\"Alpha\", \"Bravo\", \"Charlie\"],[\"Delta\", \"Echo\", \"Foxtrot\"], [\"Golf\", \"Hotel\", \"Indiana\", \"Juliet\", \"Kilo\"],[\"Lima\", \"November\", \"Mike\"]]\n",
    "\n",
    "#SOLUTION\n",
    "\n",
    "for l in test:\n",
    "    for word in l:\n",
    "        if word.lower()[0] in 'aeiou': #you could also do \"if word[0] in 'AEIOU':\"\n",
    "            print(word,len(word))"
   ]
  },
  {
   "cell_type": "markdown",
   "metadata": {},
   "source": [
    "9. <ins> Create a while-loop that prints how many letters there are in every item of this list."
   ]
  },
  {
   "cell_type": "code",
   "execution_count": null,
   "metadata": {},
   "outputs": [],
   "source": [
    "counter = 0\n",
    "a_sentence = [\"I\", 'want', 'to', 'fly']\n",
    "\n",
    "#SOLUTION\n",
    "\n",
    "while counter < len(a_sentence):\n",
    "    print(len(a_sentence[counter]))\n",
    "    counter += 1"
   ]
  },
  {
   "cell_type": "markdown",
   "metadata": {},
   "source": [
    "10. <ins> Create a while-loop that prints a statement while the counter is lower than 10 (increment the counter with + 1 after each loop).\n",
    "<br> Make sure that the while-loop breaks when the counter hits a multiple of five.\n"
   ]
  },
  {
   "cell_type": "code",
   "execution_count": 7,
   "metadata": {},
   "outputs": [
    {
     "name": "stdout",
     "output_type": "stream",
     "text": [
      "still looping\n",
      "still looping\n",
      "still looping\n",
      "still looping\n",
      "the counter is now a multiple of five\n"
     ]
    }
   ],
   "source": [
    "counter = 1\n",
    "\n",
    "#SOLUTION\n",
    "\n",
    "while counter < 10:\n",
    "    \n",
    "    if counter % 5 == 0:\n",
    "        print('the counter is now a multiple of five')\n",
    "        break  \n",
    "    else: \n",
    "        print('still looping')  \n",
    "    counter+=1"
   ]
  },
  {
   "cell_type": "markdown",
   "metadata": {},
   "source": [
    "11. <ins> Write a for-loop that prints a statement every time it comes across the letter 's' in de list.\n",
    "- rewrite the for-loop to make sure that the loop stops after it finds the first 's'.\n"
   ]
  },
  {
   "cell_type": "code",
   "execution_count": 8,
   "metadata": {},
   "outputs": [
    {
     "name": "stdout",
     "output_type": "stream",
     "text": [
      "I found an \"s\"\n",
      "I found an \"s\"\n",
      "I found an \"s\"\n",
      "============================\n",
      "I found an \"s\"\n"
     ]
    }
   ],
   "source": [
    "dwarves = ['happy', 'angry', 'sleepy', 'sneezy', 'dopey', 'bashful', 'doc']\n",
    "\n",
    "for dwarf in dwarves:\n",
    "    if 's' in dwarf:\n",
    "        print('I found an \"s\"')\n",
    "        \n",
    "print('============================')\n",
    "\n",
    "for dwarf in dwarves:\n",
    "    if 's' in dwarf:\n",
    "        print('I found an \"s\"')\n",
    "        break"
   ]
  },
  {
   "cell_type": "markdown",
   "metadata": {},
   "source": [
    "12. There are two groups of dancers, those who like to lead and those who like to follow. Can you create a for-loop that pairs each leader with a follower. Make sure that every leader has danced with every follower."
   ]
  },
  {
   "cell_type": "code",
   "execution_count": null,
   "metadata": {},
   "outputs": [],
   "source": [
    "leaders = ['Lisa', 'Tom', 'Jane', 'John']\n",
    "followers = ['Fred', 'Nick', 'Layla', 'Samantha']\n",
    "\n",
    "#SOLUTION\n",
    "\n",
    "for leader in leaders:\n",
    "    for follower in followers:\n",
    "        print(leader, '+', follower)\n"
   ]
  },
  {
   "cell_type": "markdown",
   "metadata": {},
   "source": [
    "13. Store the correct Batmen and Catwomen in the correct list of the corresponding director.\n",
    "- Christian Bale and Anne Hathaway should be stored in 'Nolan'\n",
    "- Michael Kaeton and Michelle Pfeiffer should be stored in 'Burton'\n",
    "- Robert Pattinson and Zoë Kravitz should be stored in 'Reeves'\n",
    "\n",
    "the output should look like this: ['Christian Bale', 'Anne Hathaway'] ['Michael Keaton', 'Michelle Pfeiffer'] ['Robert Pattinson', 'Zoë Kravitz']"
   ]
  },
  {
   "cell_type": "code",
   "execution_count": null,
   "metadata": {},
   "outputs": [],
   "source": [
    "batman = [['Christian Bale', 'Michael Keaton', 'Robert Pattinson'],['Anne Hathaway', 'Michelle Pfeiffer', 'Zoë Kravitz']]\n",
    "\n",
    "Nolan = []\n",
    "Burton = []\n",
    "Reeves = []\n",
    "\n",
    "#SOLUTION\n",
    "\n",
    "for l in batman:\n",
    "    Nolan.append(l[0])\n",
    "    Burton.append(l[1])\n",
    "    Reeves.append(l[2])\n",
    "\n",
    "print(Nolan, Burton, Reeves)"
   ]
  },
  {
   "cell_type": "markdown",
   "metadata": {},
   "source": [
    "14. Combine a for-loop with a condition: for each word in the list, print the word if the first letter of the word is uppercase."
   ]
  },
  {
   "cell_type": "code",
   "execution_count": null,
   "metadata": {},
   "outputs": [],
   "source": [
    "country = ['pizza', 'Pisa', 'Italy', 'Giovanni', 'wine', 'pasta', 'Rome']\n",
    "\n",
    "#SOLUTION\n",
    "\n",
    "for item in country:\n",
    "    if item[0].isupper():\n",
    "        print(item)"
   ]
  },
  {
   "cell_type": "markdown",
   "metadata": {},
   "source": [
    "15. Print each letter seperately of the first item of the list using a for loop."
   ]
  },
  {
   "cell_type": "code",
   "execution_count": null,
   "metadata": {},
   "outputs": [],
   "source": [
    "fruit = ['apple', 'pear', 'banana', 'kiwi', 'melon']\n",
    "\n",
    "#SOLUTION\n",
    "\n",
    "for letter in fruit[0]:\n",
    "    print(letter)"
   ]
  },
  {
   "cell_type": "markdown",
   "metadata": {},
   "source": [
    "16. Below you will find a shopping list\n",
    "- Loop over the ingredients in the shopping list\n",
    "- Print \"Add {ingredient} to bowl\"\n",
    "- Skip the milk for now using \"continue\""
   ]
  },
  {
   "cell_type": "code",
   "execution_count": null,
   "metadata": {},
   "outputs": [],
   "source": [
    "shopping_list = ['flour', 'sugar', 'eggs', 'milk', 'butter', 'vanilla']\n",
    "\n",
    "for item in shopping_list:\n",
    "    if item == 'milk':\n",
    "        continue\n",
    "    else:\n",
    "        print(f'add {item} to bowl')\n"
   ]
  },
  {
   "cell_type": "markdown",
   "metadata": {},
   "source": [
    "17. Add the milk in steps of 100ml\n",
    "- First create a variable that says how much ml you added (starting with 0)\n",
    "- Initiate a loop that stops if you added 450ml of milk or more\n",
    "- Use the loop to add milk in steps of 100ml\n",
    "- At each step, test whether you used more than 450ml in total\n",
    "- Break the loop if this is the case and print \"You used too much milk!\""
   ]
  },
  {
   "cell_type": "code",
   "execution_count": null,
   "metadata": {},
   "outputs": [],
   "source": [
    "ml = 0\n",
    "\n",
    "while ml < 450:\n",
    "    ml += 100\n",
    "    print(f'you have used {ml} ml of milk')\n",
    "    if ml >= 450:\n",
    "        print('you have used too much milk')\n",
    "        break"
   ]
  },
  {
   "cell_type": "markdown",
   "metadata": {},
   "source": [
    "18. Turn this sentence into a list of words using the .split() method. "
   ]
  },
  {
   "cell_type": "code",
   "execution_count": null,
   "metadata": {},
   "outputs": [],
   "source": [
    "paragraph = '''October arrived, spreading a damp chill over the grounds and into the castle. \n",
    "    Madam Pomfrey, the nurse, was kept busy by a sudden spate of colds among the staff and students. \n",
    "    Her Pepperup potion worked instantly, though it left the drinker smoking at the ears for several \n",
    "    hours afterward. Ginny Weasley, who had been looking pale, was bullied into taking some by Percy. \n",
    "    The steam pouring from under her vivid hair gave the impression that her whole head was on fire.'''"
   ]
  },
  {
   "cell_type": "code",
   "execution_count": null,
   "metadata": {},
   "outputs": [],
   "source": [
    "paragraph = paragraph.split()\n",
    "print(paragraph)"
   ]
  },
  {
   "cell_type": "markdown",
   "metadata": {},
   "source": [
    "19. Calculate the average wordlength of the paragraph of the previous exercise"
   ]
  },
  {
   "cell_type": "code",
   "execution_count": 1,
   "metadata": {},
   "outputs": [
    {
     "ename": "NameError",
     "evalue": "name 'paragraph' is not defined",
     "output_type": "error",
     "traceback": [
      "\u001b[1;31m---------------------------------------------------------------------------\u001b[0m",
      "\u001b[1;31mNameError\u001b[0m                                 Traceback (most recent call last)",
      "Cell \u001b[1;32mIn[1], line 5\u001b[0m\n\u001b[0;32m      1\u001b[0m total_letters \u001b[38;5;241m=\u001b[39m \u001b[38;5;241m0\u001b[39m\n\u001b[0;32m      3\u001b[0m \u001b[38;5;66;03m#SOLUTION\u001b[39;00m\n\u001b[1;32m----> 5\u001b[0m \u001b[38;5;28;01mfor\u001b[39;00m word \u001b[38;5;129;01min\u001b[39;00m paragraph:\n\u001b[0;32m      6\u001b[0m     total_letters \u001b[38;5;241m+\u001b[39m\u001b[38;5;241m=\u001b[39m \u001b[38;5;28mlen\u001b[39m(word)\n\u001b[0;32m      7\u001b[0m     average \u001b[38;5;241m=\u001b[39m total_letters\u001b[38;5;241m/\u001b[39m\u001b[38;5;28mlen\u001b[39m(paragraph)\n",
      "\u001b[1;31mNameError\u001b[0m: name 'paragraph' is not defined"
     ]
    }
   ],
   "source": [
    "total_letters = 0\n",
    "\n",
    "#SOLUTION\n",
    "\n",
    "for word in paragraph:\n",
    "    total_letters += len(word)\n",
    "    average = total_letters/len(paragraph)\n",
    "\n",
    "average"
   ]
  },
  {
   "cell_type": "code",
   "execution_count": null,
   "metadata": {},
   "outputs": [],
   "source": []
  }
 ],
 "metadata": {
  "kernelspec": {
   "display_name": "Python 3 (ipykernel)",
   "language": "python",
   "name": "python3"
  },
  "language_info": {
   "codemirror_mode": {
    "name": "ipython",
    "version": 3
   },
   "file_extension": ".py",
   "mimetype": "text/x-python",
   "name": "python",
   "nbconvert_exporter": "python",
   "pygments_lexer": "ipython3",
   "version": "3.11.4"
  },
  "vscode": {
   "interpreter": {
    "hash": "96e0a4d32f1918f770291244863a4a1e044b05d1a3b8d455e2e179187e01062a"
   }
  }
 },
 "nbformat": 4,
 "nbformat_minor": 2
}
