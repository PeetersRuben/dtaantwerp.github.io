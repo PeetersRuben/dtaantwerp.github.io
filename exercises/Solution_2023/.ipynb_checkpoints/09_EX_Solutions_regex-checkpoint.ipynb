{
 "cells": [
  {
   "cell_type": "markdown",
   "metadata": {},
   "source": [
    "# Exercise notebook 9 - Regular expressions"
   ]
  },
  {
   "cell_type": "markdown",
   "metadata": {},
   "source": [
    "This exercise notebook complements the notebook of **regular expressions**. <br> Use this [notebook](https://github.com/dtaantwerp/dtaantwerp.github.io/blob/53c91013df4514a943a9fad441fb5f28dc6f6bab/notebooks/10_W2_Fri_Regular_Expressions.ipynb) for a complete explanation of the theory.\n",
    "\n",
    "#\n",
    "\n",
    "Try to prepare the <ins>underlined exercises</ins> for the exercise session. \n",
    "\n",
    "==============================================================================="
   ]
  },
  {
   "cell_type": "markdown",
   "metadata": {},
   "source": [
    "First of all, you'll have to import the re module."
   ]
  },
  {
   "cell_type": "code",
   "execution_count": 5,
   "metadata": {},
   "outputs": [],
   "source": [
    "import re"
   ]
  },
  {
   "cell_type": "markdown",
   "metadata": {},
   "source": [
    "1. <ins> Use \"re.findall()\" to find all substrings in  \"My nr. 1 childhood song is 'Supercalifragilisticexpialidocious'!!!\" that match </ins>\n",
    "    1.  \"i\"\n",
    "    2. \"song\"\n",
    "    3. \"nr.\"\n",
    "    4. \"a\" or \"o\"\n",
    "    5. any vowel\n",
    "    6. any character that is not a vowel\n",
    "    7. any  number (use \"[]\")\n",
    "    8. any  number (use a special character)\n",
    "    9. any two-digit number\n",
    "    10. any single lowercase alphabetical character\n",
    "    11. any single uppercase alphabetical character\n",
    "    12. any single upper- or lowercase alphabetical character (no numbers)\n",
    "    13. any single alphanumerical character\n",
    "    14. any single non-alphanumerical character\n",
    "    15. any whitespace character\n",
    "    16. any non-whitespace character\n",
    "    17. any sequence consisting of at least one non-alphanumerical character\n",
    "    18. any sequence consisting of one uppercase letter followed one or more lowercase letter(s)\n",
    "\n",
    "First, assign a variable name to the string  so that you can refer to it more easily."
   ]
  },
  {
   "cell_type": "code",
   "execution_count": 57,
   "metadata": {},
   "outputs": [],
   "source": [
    "x = \"My nr. 1 childhood song is 'Supercalifragilisticexpialidocious'!!!\""
   ]
  },
  {
   "cell_type": "code",
   "execution_count": 58,
   "metadata": {},
   "outputs": [
    {
     "data": {
      "text/plain": [
       "['i', 'i', 'i', 'i', 'i', 'i', 'i', 'i', 'i']"
      ]
     },
     "execution_count": 58,
     "metadata": {},
     "output_type": "execute_result"
    }
   ],
   "source": [
    "#A SOLUTION\n",
    "re.findall('i', x)"
   ]
  },
  {
   "cell_type": "code",
   "execution_count": 59,
   "metadata": {},
   "outputs": [
    {
     "data": {
      "text/plain": [
       "['song']"
      ]
     },
     "execution_count": 59,
     "metadata": {},
     "output_type": "execute_result"
    }
   ],
   "source": [
    "#B SOLUTION\n",
    "re.findall('song', x)"
   ]
  },
  {
   "cell_type": "code",
   "execution_count": 60,
   "metadata": {},
   "outputs": [
    {
     "data": {
      "text/plain": [
       "['nr.']"
      ]
     },
     "execution_count": 60,
     "metadata": {},
     "output_type": "execute_result"
    }
   ],
   "source": [
    "#C SOLUTION\n",
    "re.findall('nr.', x)"
   ]
  },
  {
   "cell_type": "code",
   "execution_count": 61,
   "metadata": {},
   "outputs": [
    {
     "data": {
      "text/plain": [
       "['o', 'o', 'o', 'a', 'a', 'a', 'o', 'o']"
      ]
     },
     "execution_count": 61,
     "metadata": {},
     "output_type": "execute_result"
    }
   ],
   "source": [
    "#D SOLUTION\n",
    "re.findall('a|o', x, re.IGNORECASE)"
   ]
  },
  {
   "cell_type": "code",
   "execution_count": 62,
   "metadata": {},
   "outputs": [
    {
     "data": {
      "text/plain": [
       "['i',\n",
       " 'o',\n",
       " 'o',\n",
       " 'o',\n",
       " 'i',\n",
       " 'u',\n",
       " 'e',\n",
       " 'a',\n",
       " 'i',\n",
       " 'a',\n",
       " 'i',\n",
       " 'i',\n",
       " 'i',\n",
       " 'e',\n",
       " 'i',\n",
       " 'a',\n",
       " 'i',\n",
       " 'o',\n",
       " 'i',\n",
       " 'o',\n",
       " 'u']"
      ]
     },
     "execution_count": 62,
     "metadata": {},
     "output_type": "execute_result"
    }
   ],
   "source": [
    "#E SOLUTION\n",
    "re.findall(\"[aeiou]\", x, re.IGNORECASE) #you could also do [AaEeIiOoUu]"
   ]
  },
  {
   "cell_type": "code",
   "execution_count": 63,
   "metadata": {},
   "outputs": [
    {
     "data": {
      "text/plain": [
       "['M',\n",
       " 'y',\n",
       " ' ',\n",
       " 'n',\n",
       " 'r',\n",
       " '.',\n",
       " ' ',\n",
       " '1',\n",
       " ' ',\n",
       " 'c',\n",
       " 'h',\n",
       " 'l',\n",
       " 'd',\n",
       " 'h',\n",
       " 'd',\n",
       " ' ',\n",
       " 's',\n",
       " 'n',\n",
       " 'g',\n",
       " ' ',\n",
       " 's',\n",
       " ' ',\n",
       " \"'\",\n",
       " 'S',\n",
       " 'p',\n",
       " 'r',\n",
       " 'c',\n",
       " 'l',\n",
       " 'f',\n",
       " 'r',\n",
       " 'g',\n",
       " 'l',\n",
       " 's',\n",
       " 't',\n",
       " 'c',\n",
       " 'x',\n",
       " 'p',\n",
       " 'l',\n",
       " 'd',\n",
       " 'c',\n",
       " 's',\n",
       " \"'\",\n",
       " '!',\n",
       " '!',\n",
       " '!']"
      ]
     },
     "execution_count": 63,
     "metadata": {},
     "output_type": "execute_result"
    }
   ],
   "source": [
    "#F SOLUTION\n",
    "re.findall(\"[^aeiou]\", x, re.IGNORECASE)"
   ]
  },
  {
   "cell_type": "code",
   "execution_count": 66,
   "metadata": {},
   "outputs": [
    {
     "data": {
      "text/plain": [
       "['1']"
      ]
     },
     "execution_count": 66,
     "metadata": {},
     "output_type": "execute_result"
    }
   ],
   "source": [
    "#G SOLUTION\n",
    "re.findall('[0-9]', x)"
   ]
  },
  {
   "cell_type": "code",
   "execution_count": 67,
   "metadata": {},
   "outputs": [
    {
     "data": {
      "text/plain": [
       "['1']"
      ]
     },
     "execution_count": 67,
     "metadata": {},
     "output_type": "execute_result"
    }
   ],
   "source": [
    "#H SOLUTION\n",
    "re.findall('\\d', x)"
   ]
  },
  {
   "cell_type": "code",
   "execution_count": 68,
   "metadata": {},
   "outputs": [
    {
     "data": {
      "text/plain": [
       "[]"
      ]
     },
     "execution_count": 68,
     "metadata": {},
     "output_type": "execute_result"
    }
   ],
   "source": [
    "#I SOLUTION\n",
    "re.findall('[0-9]{2}', x)"
   ]
  },
  {
   "cell_type": "code",
   "execution_count": 16,
   "metadata": {},
   "outputs": [
    {
     "data": {
      "text/plain": [
       "['y',\n",
       " 'n',\n",
       " 'r',\n",
       " 'c',\n",
       " 'h',\n",
       " 'i',\n",
       " 'l',\n",
       " 'd',\n",
       " 'h',\n",
       " 'o',\n",
       " 'o',\n",
       " 'd',\n",
       " 's',\n",
       " 'o',\n",
       " 'n',\n",
       " 'g',\n",
       " 'i',\n",
       " 's',\n",
       " 'u',\n",
       " 'p',\n",
       " 'e',\n",
       " 'r',\n",
       " 'c',\n",
       " 'a',\n",
       " 'l',\n",
       " 'i',\n",
       " 'f',\n",
       " 'r',\n",
       " 'a',\n",
       " 'g',\n",
       " 'i',\n",
       " 'l',\n",
       " 'i',\n",
       " 's',\n",
       " 't',\n",
       " 'i',\n",
       " 'c',\n",
       " 'e',\n",
       " 'x',\n",
       " 'p',\n",
       " 'i',\n",
       " 'a',\n",
       " 'l',\n",
       " 'i',\n",
       " 'd',\n",
       " 'o',\n",
       " 'c',\n",
       " 'i',\n",
       " 'o',\n",
       " 'u',\n",
       " 's']"
      ]
     },
     "execution_count": 16,
     "metadata": {},
     "output_type": "execute_result"
    }
   ],
   "source": [
    "#J SOLUTION\n",
    "re.findall('[a-z]', x)"
   ]
  },
  {
   "cell_type": "code",
   "execution_count": null,
   "metadata": {},
   "outputs": [],
   "source": [
    "#K SOLUTION\n",
    "re.findall('[A-Z]', x)"
   ]
  },
  {
   "cell_type": "code",
   "execution_count": null,
   "metadata": {},
   "outputs": [],
   "source": [
    "#L SOLUTION\n",
    "re.findall(\"[aA-zZ]\", x) #you could also do [a-z], x, re.IGNORECASE"
   ]
  },
  {
   "cell_type": "code",
   "execution_count": null,
   "metadata": {},
   "outputs": [],
   "source": [
    "#M SOLUTION\n",
    "re.findall('\\w', x) #re.findall('[0-9A-Za-z]', string)"
   ]
  },
  {
   "cell_type": "code",
   "execution_count": null,
   "metadata": {},
   "outputs": [],
   "source": [
    "#N SOLUTION\n",
    "re.findall('\\s', x)"
   ]
  },
  {
   "cell_type": "code",
   "execution_count": null,
   "metadata": {},
   "outputs": [],
   "source": [
    "#O SOLUTION\n",
    "re.findall('\\S', x)"
   ]
  },
  {
   "cell_type": "code",
   "execution_count": null,
   "metadata": {},
   "outputs": [],
   "source": [
    "#P SOLUTION\n",
    "re.findall('\\W+', x)"
   ]
  },
  {
   "cell_type": "code",
   "execution_count": null,
   "metadata": {},
   "outputs": [],
   "source": [
    "#Q SOLUTION\n",
    "re.findall('[A-Z][a-z]+', x)"
   ]
  },
  {
   "cell_type": "markdown",
   "metadata": {},
   "source": [
    "2. <ins> Look for the occurence of first 'a' and then 'w' using re.match() and re.search(). What is the difference between re.match() and re.search()? <ins>"
   ]
  },
  {
   "cell_type": "code",
   "execution_count": null,
   "metadata": {},
   "outputs": [],
   "source": [
    "y = 'what is the difference between match and search?'\n",
    "\n",
    "#SOLUTION\n",
    "\n",
    "a_match = re.match('a', y)\n",
    "a_search = re.search('a', y)\n",
    "\n",
    "print(a_match)\n",
    "print(a_search)\n",
    "\n",
    "a_match = re.match('w', y)\n",
    "a_search = re.search('w', y)\n",
    "\n",
    "print(a_match)\n",
    "print(a_search)\n",
    "\n",
    "#re.match() searches for a pattern at the beginning of a string.\n",
    "#If the pattern is found at the beginning of the string, it returns a match object.\n",
    "#If the pattern is not found at the beginning of the string, it returns None.\n",
    "#re.search() on the other hand searches for a pattern anywhere in the string and returns the match object."
   ]
  },
  {
   "cell_type": "markdown",
   "metadata": {},
   "source": [
    "3. <ins> Write a function that accepts a pattern and a string as input and returns the span of the first occurence of the match if the pattern occurs in the string <ins> \n",
    "- First, define a function `get_span(pattern, search_string)`  and its arguments\n",
    "- Then, determine which regex function is the most appropriate for finding the first occurence of a pattern in a string (findall(), match(), search() or finditer()) and write the function\n",
    "- If there is a match, return the span of the match. If not, return \"No match was found\"\n",
    "- Test whether your function works by searching the following patterns in the string below:\n",
    "    - expression that matches \"Dursley\" or \"Dursleys\"\n",
    "    - expression that matches \"Harry\" or \"Harry Potter\"\n",
    "    - expression that matches \"Mr.\" or \"Mrs.\""
   ]
  },
  {
   "cell_type": "code",
   "execution_count": 69,
   "metadata": {},
   "outputs": [],
   "source": [
    "string = \"\"\"Mr. and Mrs. Dursley, of number four, Privet Drive, were proud to say\n",
    "that they were perfectly normal, thank you very much. They were the last people\n",
    "you’d expect to be involved in anything strange or mysterious, because they just\n",
    "didn’t hold with such nonsense.\"\"\""
   ]
  },
  {
   "cell_type": "code",
   "execution_count": 70,
   "metadata": {},
   "outputs": [],
   "source": [
    "#SOLUTION\n",
    "\n",
    "def get_span (pattern, search_string):\n",
    "\n",
    "    result = re.search(pattern, search_string)\n",
    "\n",
    "    if result : #if there is a match found.\n",
    "        return result.span()\n",
    "    \n",
    "    else:\n",
    "\n",
    "        return 'No match was found'"
   ]
  },
  {
   "cell_type": "code",
   "execution_count": 71,
   "metadata": {},
   "outputs": [
    {
     "name": "stdout",
     "output_type": "stream",
     "text": [
      "(13, 20)\n",
      "No match was found\n",
      "(0, 3)\n"
     ]
    }
   ],
   "source": [
    "#Let's try it out\n",
    "print(get_span(\"Dursleys?\", string))\n",
    "print(get_span('Harry (Potter)?', string))\n",
    "print(get_span('Mrs?\\.', string))"
   ]
  },
  {
   "cell_type": "markdown",
   "metadata": {},
   "source": [
    "4. <ins> Recreate the function of the previous exercise, but make sure it returns a list of all matching spans in the string."
   ]
  },
  {
   "cell_type": "code",
   "execution_count": null,
   "metadata": {},
   "outputs": [],
   "source": [
    "#SOLUTION\n",
    "\n",
    "def get_span2(pattern, search_string):\n",
    "    matches = re.finditer(pattern, search_string)\n",
    "    \n",
    "    spans = []\n",
    "    \n",
    "    for item in matches:\n",
    "        spans.append(item.span())\n",
    "        \n",
    "    if spans:\n",
    "        return spans\n",
    "    else:\n",
    "        print(\"No match was found\")\n",
    "        "
   ]
  },
  {
   "cell_type": "code",
   "execution_count": null,
   "metadata": {},
   "outputs": [],
   "source": [
    "#Try it out.\n",
    "get_span2(\"Dursleys?\", string)"
   ]
  },
  {
   "cell_type": "code",
   "execution_count": null,
   "metadata": {},
   "outputs": [],
   "source": [
    "get_span2('Harry (Potter)?', string)"
   ]
  },
  {
   "cell_type": "code",
   "execution_count": null,
   "metadata": {},
   "outputs": [],
   "source": [
    "get_span2('Mrs?\\.', string)"
   ]
  },
  {
   "cell_type": "markdown",
   "metadata": {},
   "source": [
    "5. <ins> Write a regular expression that finds all the email adresses in the string below."
   ]
  },
  {
   "cell_type": "code",
   "execution_count": 72,
   "metadata": {},
   "outputs": [],
   "source": [
    "x = \"\"\" I wanted to follow up on our meeting from last week and see if you had any further questions.\n",
    "        If so, please don't hesitate to reach out to me at my email address, john_doe1234@gmail.com.\n",
    "        Also, I wanted to let you know about an upcoming event that my friend is organising (RitaFraser@gmail.com).\n",
    "        It's a networking event for professionals in our industry and it will be held on March 25th. \n",
    "        If you're interested in attending, please RSVP to events@industrypros.com.\"\"\""
   ]
  },
  {
   "cell_type": "code",
   "execution_count": 73,
   "metadata": {},
   "outputs": [
    {
     "data": {
      "text/plain": [
       "['john_doe1234@gmail.com', 'RitaFraser@gmail.com', 'events@industrypros.com']"
      ]
     },
     "execution_count": 73,
     "metadata": {},
     "output_type": "execute_result"
    }
   ],
   "source": [
    "#SOLUTION (but there are several ways to do this)\n",
    "\n",
    "re.findall(r'\\w+@[a-zA-Z]+\\.[a-z]+', x) \n",
    "\n",
    "#\\w matches any alphanumeric character (i.e. letters, numbers, but also underscores), \n",
    "# we add a + because they occur several times.\n",
    "#That should be followed by an @, which is present in every email adresse. \n",
    "#This is followed by one or more upper or lowercase characters \n",
    "#and then a full stop . which we have to escape so that we don't trigger the meta-character '.'.\n",
    "#followed by one or more lowercase characters."
   ]
  },
  {
   "cell_type": "markdown",
   "metadata": {},
   "source": [
    "6. Write a regex that finds all the punctuation in the string above."
   ]
  },
  {
   "cell_type": "code",
   "execution_count": null,
   "metadata": {},
   "outputs": [],
   "source": [
    "#SOLUTION\n",
    "print(re.findall(r'[^\\w|\\s]', x))"
   ]
  },
  {
   "cell_type": "markdown",
   "metadata": {},
   "source": [
    "7. Find all the words in the text below that occur before a word that starts with the letter \"a\"?\n",
    "\n",
    "- the output should look like this:  ['there', 'South', 'who', 'West', 'East', 'I', 'going', 'from', 'Attila', 'Carpathians']\n",
    "        "
   ]
  },
  {
   "cell_type": "code",
   "execution_count": null,
   "metadata": {},
   "outputs": [],
   "source": [
    "Stoker = '''In the population of Transylvania there are four distinct nationalities:\n",
    "Saxons in the South, and mixed with them the Wallachs, who are the\n",
    "descendants of the Dacians; Magyars in the West, and Szekelys in the\n",
    "East and North. I am going among the latter, who claim to be descended\n",
    "from Attila and the Huns. This may be so, for when the Magyars conquered\n",
    "the country in the eleventh century they found the Huns settled in it. I\n",
    "read that every known superstition in the world is gathered into the\n",
    "horseshoe of the Carpathians, as if it were the centre of some sort of\n",
    "imaginative whirlpool; if so my stay may be very interesting.'''"
   ]
  },
  {
   "cell_type": "code",
   "execution_count": null,
   "metadata": {},
   "outputs": [],
   "source": [
    "#SOLUTION\n",
    "\n",
    "pattern = r'\\w+(?=,?\\s[Aa])'\n",
    "\n",
    "x = re.findall(pattern, Stoker)\n",
    "print(x)\n",
    "\n",
    "#one or more alphanumeric character \\w+\n",
    "#that is followed by (?=) an optional comma (,?), a whitespace (\\s) and an upper- or lowercase 'a' [Aa]"
   ]
  },
  {
   "cell_type": "markdown",
   "metadata": {},
   "source": [
    "8. Create a regex that extracts all the word that begin with 'p' and end with 'l' from the sentence below. Only words that are four characters or less should be extracted.\n",
    "*Hint: you can use a range in the quantifier -> {0, 2} in order to only extract words that are four characters or less.*"
   ]
  },
  {
   "cell_type": "code",
   "execution_count": null,
   "metadata": {},
   "outputs": [],
   "source": [
    "test = 'After I peal an organge and pedal to Paul, I am going to the pool with my playful pall!'\n",
    "\n",
    "#SOLUTION\n",
    "\n",
    "pattern = r'\\b[p|P][a-z]{0,2}l\\b'\n",
    "\n",
    "x = re.findall(pattern, test)"
   ]
  },
  {
   "cell_type": "markdown",
   "metadata": {},
   "source": [
    "9. Look for all the words that contain three consecutive vowels."
   ]
  },
  {
   "cell_type": "code",
   "execution_count": 75,
   "metadata": {},
   "outputs": [],
   "source": [
    "Oliver = '''The pace at which they went, was such a very lazy, ill-looking saunter, that Oliver soon began \n",
    "to think his companions were going to deceive the old gentleman, by not going to work at all. \n",
    "The Dodger had a vicious propensity, too, of pulling the caps from the heads of small boys and tossing them down areas; \n",
    "while Charley Bates exhibited some very loose notions concerning the rights of property, by pilfering divers apples \n",
    "and onions from the stalls at the kennel sides, and thrusting them into pockets which were so surprisingly capacious, \n",
    "that they seemed to undermine his whole suit of clothes in every direction. These things looked so bad, \n",
    "that Oliver was on the point of declaring his intention of seeking his way back, in the best way he could; \n",
    "when his thoughts were suddenly directed into another channel, by a very mysterious change of behaviour on the part of the Dodger.'''"
   ]
  },
  {
   "cell_type": "code",
   "execution_count": 76,
   "metadata": {},
   "outputs": [
    {
     "data": {
      "text/plain": [
       "['vicious', 'capacious', 'mysterious', 'behaviour']"
      ]
     },
     "execution_count": 76,
     "metadata": {},
     "output_type": "execute_result"
    }
   ],
   "source": [
    "#SOLUTION\n",
    "re.findall(r'[a-z]+[aeiou]{3}[a-z]+', Oliver, re.IGNORECASE)"
   ]
  },
  {
   "cell_type": "markdown",
   "metadata": {},
   "source": [
    "10. Find all the words before a linebreak. <br>\n",
    "The output should look like this:\n",
    "['began', 'all', 'areas', 'apples', 'capacious', 'bad', 'could']"
   ]
  },
  {
   "cell_type": "code",
   "execution_count": 77,
   "metadata": {},
   "outputs": [
    {
     "data": {
      "text/plain": [
       "['began', 'all', 'areas', 'apples', 'capacious', 'bad', 'could']"
      ]
     },
     "execution_count": 77,
     "metadata": {},
     "output_type": "execute_result"
    }
   ],
   "source": [
    "#SOLUTION\n",
    "re.findall(r'[a-z]+(?=\\W+\\n)', Oliver, re.IGNORECASE)"
   ]
  },
  {
   "cell_type": "code",
   "execution_count": null,
   "metadata": {},
   "outputs": [],
   "source": []
  }
 ],
 "metadata": {
  "kernelspec": {
   "display_name": "Python 3 (ipykernel)",
   "language": "python",
   "name": "python3"
  },
  "language_info": {
   "codemirror_mode": {
    "name": "ipython",
    "version": 3
   },
   "file_extension": ".py",
   "mimetype": "text/x-python",
   "name": "python",
   "nbconvert_exporter": "python",
   "pygments_lexer": "ipython3",
   "version": "3.11.4"
  },
  "vscode": {
   "interpreter": {
    "hash": "96e0a4d32f1918f770291244863a4a1e044b05d1a3b8d455e2e179187e01062a"
   }
  }
 },
 "nbformat": 4,
 "nbformat_minor": 2
}
