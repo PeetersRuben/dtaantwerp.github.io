{
 "cells": [
  {
   "cell_type": "markdown",
   "metadata": {},
   "source": [
    "# Exercise notebook 8 - String manipulations"
   ]
  },
  {
   "cell_type": "markdown",
   "metadata": {},
   "source": [
    "This exercise notebook complements the notebook of **string manipulations**. <br> Use this [notebook](notebooks\\09_W2_Wed_String_Manipulation.ipynb) for a complete explanation of the theory.\n",
    "\n",
    "#\n",
    "\n",
    "Try to prepare the <ins>underlined exercises</ins> for the exercise session. \n",
    "\n",
    "==============================================================================="
   ]
  },
  {
   "cell_type": "markdown",
   "metadata": {},
   "source": [
    "1. <ins> Create a function that takes two strings as input and concatenates them."
   ]
  },
  {
   "cell_type": "code",
   "execution_count": null,
   "metadata": {},
   "outputs": [],
   "source": [
    "#SOLUTION\n",
    "\n",
    "def concatenator (s1, s2):\n",
    "    return s1 + ' ' + s2\n",
    "\n",
    "concatenator('a string', 'and another one')"
   ]
  },
  {
   "cell_type": "markdown",
   "metadata": {},
   "source": [
    "2. <ins>Think of the output before running the cell. What is the difference between print and return?"
   ]
  },
  {
   "cell_type": "code",
   "execution_count": null,
   "metadata": {},
   "outputs": [],
   "source": [
    "def I_print(statement):\n",
    "    print(statement)\n",
    "\n",
    "def I_return(statement):\n",
    "    return statement\n",
    "\n",
    "I_print(\"Hey,\\nI printed\")\n",
    "I_return(\"Hey,\\nI returned\")\n"
   ]
  },
  {
   "cell_type": "markdown",
   "metadata": {},
   "source": [
    "3. <ins> Change the function so that the concatenated string is printed 4 times, seperated by a newline."
   ]
  },
  {
   "cell_type": "code",
   "execution_count": null,
   "metadata": {},
   "outputs": [],
   "source": [
    "def concatenator (s1, s2):\n",
    "    return s1 + ' ' + s2\n",
    "\n",
    "concatenator('a string', 'and another one')"
   ]
  },
  {
   "cell_type": "markdown",
   "metadata": {},
   "source": [
    "4. <ins> Without using a for-loop, count how often 'b' appears in the string below"
   ]
  },
  {
   "cell_type": "code",
   "execution_count": null,
   "metadata": {},
   "outputs": [],
   "source": [
    "sentence = '''For those who love solitude, a walk in the early morning is equivalent\n",
    "to a stroll by night, with the cheerfulness of nature added. The\n",
    "streets are deserted and the birds are singing. Cosette, a bird\n",
    "herself, liked to rise early. These matutinal excursions were planned\n",
    "on the preceding evening. He proposed, and she agreed. It was arranged\n",
    "like a plot, they set out before daybreak, and these trips were so many\n",
    "small delights for Cosette. These innocent eccentricities please young\n",
    "people.'''\n",
    "\n",
    "#SOLUTION\n",
    "\n",
    "sentence.count('b')"
   ]
  },
  {
   "cell_type": "markdown",
   "metadata": {},
   "source": [
    "5. <ins>Write a function that takes a string as input and removes all the whitespace characters from the string. <br>\n",
    "*Hint: the .join() method could help you with this one*"
   ]
  },
  {
   "cell_type": "code",
   "execution_count": null,
   "metadata": {},
   "outputs": [],
   "source": [
    "#SOLUTION 1\n",
    "def whitespace_gone(text):\n",
    "    return ''.join(text.split())\n",
    "\n",
    "whitespace_gone(sentence)"
   ]
  },
  {
   "cell_type": "code",
   "execution_count": null,
   "metadata": {},
   "outputs": [],
   "source": [
    "#SOLUTION 2\n",
    "#This one will only remove whitespaces, no tabs or linebreaks.\n",
    "def whitespace_gone (text):\n",
    "    output = ''\n",
    "    for char in text:\n",
    "        if char == ' ':\n",
    "            continue\n",
    "        else:\n",
    "            output+= char\n",
    "    return output\n",
    "\n",
    "whitespace_gone(sentence)"
   ]
  },
  {
   "cell_type": "markdown",
   "metadata": {},
   "source": [
    "6. <ins>Write a function that takes a string as input and replaces all the occurrences of a given character with another character."
   ]
  },
  {
   "cell_type": "code",
   "execution_count": null,
   "metadata": {},
   "outputs": [],
   "source": [
    "#SOLUTION\n",
    "def replace_char(text, to_replace, replacement):\n",
    "    return text.replace(to_replace, replacement)\n",
    "\n",
    "#Let's try it out\n",
    "\n",
    "replace_char(sentence, 'a', 'o')"
   ]
  },
  {
   "cell_type": "markdown",
   "metadata": {},
   "source": [
    "7. <ins> Create a function that takes a list of strings as input, and prints out a message for each string using string formatting. The message should include the string's index in the list.\n",
    "\n",
    "<br>*Hint: the `enumerate()` function might come in handy with this one. It allows you to iterate over a sequence (like a list or tuple) while keeping track of the index of each element in the sequence. It generates pairs of (index, element) tuples for each element in the sequence.*\n",
    "\n",
    "<br>\n",
    "Example input:\n",
    "<br> [\"apple\", \"banana\", \"orange\"]<br>\n",
    "<br>\n",
    "Example output:\n",
    "<br>\n",
    "\"String 0 is apple.\" <br>\n",
    "\"String 1 is banana.\"<br>\n",
    "\"String 2 is orange.<br>"
   ]
  },
  {
   "cell_type": "code",
   "execution_count": null,
   "metadata": {},
   "outputs": [],
   "source": [
    "fruits =  [\"apple\", \"banana\", \"orange\"]\n",
    "\n",
    "#SOLUTION\n",
    "\n",
    "def ex_7(items):\n",
    "    for item in enumerate(items):\n",
    "        print((\"string {0} is {1}\".format(item[0], item[1])))\n",
    "    \n",
    "ex_7(fruits)"
   ]
  },
  {
   "cell_type": "markdown",
   "metadata": {},
   "source": [
    "8. Write a function that takes two strings as input and checks whether one string is an anagram of the other string."
   ]
  },
  {
   "cell_type": "code",
   "execution_count": null,
   "metadata": {},
   "outputs": [],
   "source": [
    "#SOLUTION\n",
    "\n",
    "def is_anagram(str1, str2):\n",
    "    if sorted(str1.lower()) == sorted(str2.lower()):\n",
    "        print(f'{str1} is an anagram of {str2}')\n",
    "    else:\n",
    "        print('They are not anagrams.')\n",
    "\n",
    "#Let's try it out\n",
    "\n",
    "is_anagram('listen', 'silent')\n",
    "is_anagram('Bearded', 'dreaded')"
   ]
  },
  {
   "cell_type": "markdown",
   "metadata": {},
   "source": [
    "9. Write a function that capitalizes the first letter of each word in a sentence."
   ]
  },
  {
   "cell_type": "code",
   "execution_count": null,
   "metadata": {},
   "outputs": [],
   "source": [
    "#SOLUTION\n",
    "def capitalise (text):\n",
    "    output = ''\n",
    "    words = text.split()\n",
    "    for word in words:\n",
    "        word = word.capitalize()\n",
    "        output += word + ' '\n",
    "    return output\n",
    "\n",
    "#let's try it out\n",
    "capitalise(sentence)  "
   ]
  },
  {
   "cell_type": "markdown",
   "metadata": {},
   "source": [
    "10. Replace all occurrences of Alice with your own name in the string below."
   ]
  },
  {
   "cell_type": "code",
   "execution_count": null,
   "metadata": {},
   "outputs": [],
   "source": [
    "sub = '''Alice started to her feet, for it flashed across her mind that she\n",
    "had never before seen a rabbit with either a waistcoat-pocket, or a\n",
    "watch to take out of it, and burning with curiosity, she ran across the\n",
    "field after it, and fortunately was just in time to see it pop down a\n",
    "large rabbit-hole under the hedge. In another moment down went Alice after it, never once considering how\n",
    "in the world she was to get out again. The rabbit-hole went straight on like a tunnel for some way, and then\n",
    "dipped suddenly down, so suddenly that Alice had not a moment to think\n",
    "about stopping herself before she found herself falling down a very\n",
    "deep well. '''\n",
    "\n",
    "#SOLUTION\n",
    "\n",
    "sub = sub.replace('Alice', 'Mona')\n",
    "sub"
   ]
  },
  {
   "cell_type": "markdown",
   "metadata": {},
   "source": [
    "11. Write a Python program to find the longest palindrome in a sentence."
   ]
  },
  {
   "cell_type": "code",
   "execution_count": null,
   "metadata": {},
   "outputs": [],
   "source": [
    "#SOLUTION\n",
    "\n",
    "def long_palindrome(sentence):\n",
    "    longest = ''\n",
    "    for word in sentence.lower().split():\n",
    "        if word == word[::-1] and len(word) > len(longest):\n",
    "            longest = word   \n",
    "    return longest\n",
    "\n",
    "\n",
    "s = \"I kayak to meetups with Hannah at noon and often refer to my friends' vehicle as a racecar\"\n",
    "long_palindrome(s)"
   ]
  },
  {
   "cell_type": "markdown",
   "metadata": {},
   "source": [
    "12. Write a Python program to check if a string contains only digits."
   ]
  },
  {
   "cell_type": "code",
   "execution_count": null,
   "metadata": {},
   "outputs": [],
   "source": [
    "#SOLUTION\n",
    "\n",
    "def all_numbers(a_string):\n",
    "    if a_string.isdigit():\n",
    "        print(\"only digits\")\n",
    "    else:\n",
    "        print(\"not only digits\")\n",
    "\n",
    "all_numbers('78979879')\n",
    "all_numbers('789687567Yh678')"
   ]
  },
  {
   "cell_type": "markdown",
   "metadata": {},
   "source": [
    "13. Write a Python program to find words that end and start with the same letter. \n",
    "- Make sure you exclude one-letter words.\n"
   ]
  },
  {
   "cell_type": "code",
   "execution_count": null,
   "metadata": {},
   "outputs": [],
   "source": [
    "#SOLUTION\n",
    "\n",
    "def first_last (text):\n",
    "    output = []\n",
    "    for word in text.split():\n",
    "        if word[0] == word[-1] and len(word) > 1:\n",
    "            output.append(word)\n",
    "    return output\n",
    "\n",
    "first_last(sentence)\n"
   ]
  },
  {
   "cell_type": "markdown",
   "metadata": {},
   "source": [
    "14. Write a python function that takes a list of strings as input and returns the last letter of the last item of the string, without using a for-loop. "
   ]
  },
  {
   "cell_type": "code",
   "execution_count": null,
   "metadata": {},
   "outputs": [],
   "source": [
    "#SOLUTION\n",
    "\n",
    "def last_one (a_list):\n",
    "    return a_list[-1][-1]\n",
    "\n",
    "test = ['down', 'these', 'wicked', 'streets']\n",
    "last_one(test)"
   ]
  },
  {
   "cell_type": "markdown",
   "metadata": {},
   "source": [
    "15. Write a Python program to remove the nth index character from a string using slicing. For example, if the string is \"Hello, World!\" and n is 7, the output should be \"Hello, orld!\"."
   ]
  },
  {
   "cell_type": "code",
   "execution_count": null,
   "metadata": {},
   "outputs": [],
   "source": [
    "#SOLUTION\n",
    "\n",
    "def remove (a_string, index):\n",
    "    output = ''\n",
    "    output += a_string[0:index] + a_string[index+1:]\n",
    "    return output\n",
    "\n",
    "remove('test', 1)"
   ]
  },
  {
   "cell_type": "markdown",
   "metadata": {},
   "source": [
    "16. Create a function that takes a list of tuples containing a person's name and age, and prints out a message for each person using string formatting. <br> \n",
    "\n",
    "Example input: <br>\n",
    "[(\"Rex\", 25), (\"Jane\", 30), (\"Bob\", 40)]\n",
    "<br>\n",
    "\n",
    "Example output:<br>\n",
    "<br>\"Hello, Rex! You are 25 years old.\"\n",
    "<br>\"Hello, Jane! You are 30 years old.\"\n",
    "<br>\"Hello, Bob! You are 40 years old.\""
   ]
  },
  {
   "cell_type": "code",
   "execution_count": null,
   "metadata": {},
   "outputs": [],
   "source": [
    "names = [(\"Rex\", 25), (\"Jane\", 30), (\"Bob\", 40)]\n",
    "\n",
    "#SOLUTION\n",
    "\n",
    "def greetings (names):\n",
    "    for tup in names:\n",
    "        name = tup[0]\n",
    "        age = tup[1]\n",
    "        print('Hello {0}, you are {1} years old'.format(name, age))\n",
    "\n",
    "greetings(names)"
   ]
  },
  {
   "cell_type": "markdown",
   "metadata": {},
   "source": [
    "17. Create a function that capitalises every first letter from every word in a sentence."
   ]
  },
  {
   "cell_type": "code",
   "execution_count": null,
   "metadata": {},
   "outputs": [],
   "source": [
    "sentence = 'do androids dream of electric sheep?'\n",
    "\n",
    "#SOLUTION \n",
    "\n",
    "def make_title (a_string):\n",
    "    return a_string.title()\n",
    "\n",
    "make_title(sentence)"
   ]
  },
  {
   "cell_type": "markdown",
   "metadata": {},
   "source": [
    "18. Create a function that swaps the casing of a string, without using `.swapcase()`."
   ]
  },
  {
   "cell_type": "code",
   "execution_count": null,
   "metadata": {},
   "outputs": [],
   "source": [
    "#SOLUTION\n",
    "def my_swapcase (a_string):\n",
    "    output = ''\n",
    "    for char in a_string:\n",
    "        if char.isupper():\n",
    "            output += char.lower()\n",
    "        elif char.islower():\n",
    "            output += char.upper()\n",
    "        else: #this catches whitespaces and punctuation\n",
    "            output += char\n",
    "    return output\n",
    "\n",
    "#Let's try it out\n",
    "my_swapcase('Do Androids Dream Of Electric Sheep?')"
   ]
  },
  {
   "cell_type": "markdown",
   "metadata": {},
   "source": [
    "19. Create a function that adds leading zeroes to a list of integers so that all the numbers are as long as the longest number."
   ]
  },
  {
   "cell_type": "code",
   "execution_count": null,
   "metadata": {},
   "outputs": [],
   "source": [
    "nrs = [678, 345678, 90867456, 6790, 8, 3543, 5677536, 46738]\n",
    "\n",
    "#SOLUTION\n",
    "\n",
    "def zeroes (numbers):\n",
    "    output = []\n",
    "    longest = len(str(max(numbers)))\n",
    "    for nr in numbers:\n",
    "        output.append(str(nr).zfill(longest))\n",
    "    return output\n",
    "\n",
    "zeroes(nrs)\n"
   ]
  },
  {
   "cell_type": "markdown",
   "metadata": {},
   "source": [
    "20. Upgrade the echo() function below to reduce the number of characters in a text after each repetition\n",
    "\n",
    "Input parameters: text: str, times: int, reduction_rate: float   \n",
    "Output parameters: text: str\n",
    "\n",
    "Format the output text in such a way that a given text always starts from a new line.  \n",
    "\n",
    "To-do:\n",
    "1. Modify the function definition to take as an input a new parameter ('reduction_rate');\n",
    "2. Initialize 'new_text' variable that will accumulate reduced texts;\n",
    "3. Implement 'for loop' to iterate over the number of repetitions;\n",
    "4. Calculate the length of text after each reduction (e.g. text lenght=100, reduction_rate=0.7, new length after reduction = 70 (100*0.7);\n",
    "5. Cast the calculated length to an integer;\n",
    "6. Reduce the number of characters to a given length;  \n",
    "7. Add reduced text with a new line character to the variable that accumulates reduced texts; \n",
    "8. Print output of the function for a given 'text', 'times', and 'reduction_rate' variables.\n",
    "\n",
    "<br>The output should look like this:<br>\n",
    "\n",
    "Around the world, the<br>\n",
    "Around the world<br>\n",
    "Around the w<br>\n",
    "Around th<br>\n",
    "Around <br>\n",
    "Aroun<br>\n",
    "Arou<br>\n",
    "Aro<br>\n",
    "Ar<br>\n",
    "A"
   ]
  },
  {
   "cell_type": "code",
   "execution_count": null,
   "metadata": {},
   "outputs": [],
   "source": [
    "def echo(text, times):\n",
    "    text = text+'\\n'\n",
    "    text = text*times\n",
    "    \n",
    "    print(text)\n",
    "\n",
    "echo('Around the world, the world', 10)"
   ]
  },
  {
   "cell_type": "code",
   "execution_count": null,
   "metadata": {},
   "outputs": [],
   "source": [
    "#SOLUTION\n",
    "\n",
    "def echo(text, times, reduction_rate):\n",
    "    \n",
    "    new_text = ''\n",
    "\n",
    "    for time in range(times):\n",
    "        text_length = int(len(text) * reduction_rate)\n",
    "        text = text[:text_length]\n",
    "        new_text += text+'\\n'\n",
    "        \n",
    "    print(new_text)\n",
    "\n",
    "reduction_rate = 0.8\n",
    "echo('Around the world, the world', 10, reduction_rate)"
   ]
  }
 ],
 "metadata": {
  "kernelspec": {
   "display_name": "Python 3 (ipykernel)",
   "language": "python",
   "name": "python3"
  },
  "language_info": {
   "codemirror_mode": {
    "name": "ipython",
    "version": 3
   },
   "file_extension": ".py",
   "mimetype": "text/x-python",
   "name": "python",
   "nbconvert_exporter": "python",
   "pygments_lexer": "ipython3",
   "version": "3.11.4"
  },
  "vscode": {
   "interpreter": {
    "hash": "96e0a4d32f1918f770291244863a4a1e044b05d1a3b8d455e2e179187e01062a"
   }
  }
 },
 "nbformat": 4,
 "nbformat_minor": 2
}
