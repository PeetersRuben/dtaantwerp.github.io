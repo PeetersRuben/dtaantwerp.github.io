{
 "cells": [
  {
   "cell_type": "markdown",
   "metadata": {},
   "source": [
    "# Exercise notebook 6 - Frequency distributions"
   ]
  },
  {
   "cell_type": "markdown",
   "metadata": {},
   "source": [
    "This exercise notebook complements the notebook of **Frequency Distributions in Python Counting**. <br> Use this [notebook](https://github.com/dtaantwerp/dtaantwerp.github.io/blob/53c91013df4514a943a9fad441fb5f28dc6f6bab/notebooks/07_W2_Mon_Frequency_Distribution_in_Python_Counting_Text.ipynb) for a complete explanation of the theory.\n",
    "\n",
    "Try to prepare the <ins>underlined exercises</ins> for the exercise session. \n",
    "<br>\n",
    "<br>\n",
    "<br>\n",
    "\n",
    "We know it's helpful, but we ask you to only use the `Counter()` object if it is specified in the exercise."
   ]
  },
  {
   "cell_type": "markdown",
   "metadata": {},
   "source": [
    "1. <ins> Create a **character-based** frequency dictionary of the string below. \n",
    "- Make sure that uppercase and lowercase letters are interpreted as the same letter.\n"
   ]
  },
  {
   "cell_type": "code",
   "execution_count": null,
   "metadata": {},
   "outputs": [],
   "source": [
    "Dorian = '''The artist is the creator of beautiful things. To reveal art and\n",
    "conceal the artist is art’s aim. The critic is he who can translate\n",
    "into another manner or a new material his impression of beautiful\n",
    "things.\n",
    "\n",
    "The highest as the lowest form of criticism is a mode of autobiography.\n",
    "Those who find ugly meanings in beautiful things are corrupt without\n",
    "being charming. This is a fault.\n",
    "\n",
    "Those who find beautiful meanings in beautiful things are the\n",
    "cultivated. For these there is hope. They are the elect to whom\n",
    "beautiful things mean only beauty.\n",
    "\n",
    "There is no such thing as a moral or an immoral book. Books are well\n",
    "written, or badly written. That is all.\n",
    "\n",
    "The nineteenth century dislike of realism is the rage of Caliban seeing\n",
    "his own face in a glass.'''\n",
    "\n",
    "#SOLUTION\n",
    "\n",
    "letters = {}\n",
    "\n",
    "for char in Dorian.lower():\n",
    "    if char in letters:\n",
    "        letters[char] += 1\n",
    "    else:\n",
    "        letters[char] = 1\n"
   ]
  },
  {
   "cell_type": "markdown",
   "metadata": {},
   "source": [
    "2. <ins> Create another frequency dictionary in which  you count **only the uppercase** letters in the text above."
   ]
  },
  {
   "cell_type": "code",
   "execution_count": null,
   "metadata": {},
   "outputs": [],
   "source": [
    "#SOLUTION\n",
    "\n",
    "uppercase = {}\n",
    "for char in Dorian:\n",
    "    if char.isupper():\n",
    "        if char in uppercase:\n",
    "            uppercase[char] += 1\n",
    "        else:\n",
    "            uppercase[char] = 1\n",
    "\n",
    "uppercase"
   ]
  },
  {
   "cell_type": "markdown",
   "metadata": {},
   "source": [
    "3. <ins> Create another character-level frequency dictionary based on the Dorian excerpt but this time:\n",
    "- make sure that uppercase and lowercase characters are interpreted as the same,\n",
    "- ignore punctuation,\n",
    "- ignore whitespaces and linebreaks."
   ]
  },
  {
   "cell_type": "code",
   "execution_count": null,
   "metadata": {},
   "outputs": [],
   "source": [
    "#SOLUTION 1\n",
    "punct = \"\"\"!\"#$%&'()*+,-./:;<=>?@[\\]^_`{|}~’\"\"\"\n",
    "freq_dic = {}\n",
    "\n",
    "for char in Dorian.lower():\n",
    "    if char not in punct and char != ' ' and char != '\\n':\n",
    "        if char in freq_dic:\n",
    "            freq_dic[char] += 1\n",
    "        else:\n",
    "            freq_dic[char] = 1\n",
    "      \n",
    "        "
   ]
  },
  {
   "cell_type": "code",
   "execution_count": null,
   "metadata": {},
   "outputs": [],
   "source": [
    "#SOLUTION 2\n",
    "result = {}\n",
    "for char in Dorian.lower():\n",
    "    if char in 'abcedefghijklmnopqrstuvwxyz':\n",
    "        if char in result:\n",
    "            result[char] += 1\n",
    "        else:\n",
    "            result[char] = 1\n",
    "result\n"
   ]
  },
  {
   "cell_type": "markdown",
   "metadata": {},
   "source": [
    "4. <ins> Write a piece of code that identifies all the letters of the alphabet that **do not** occur in the text."
   ]
  },
  {
   "cell_type": "code",
   "execution_count": null,
   "metadata": {},
   "outputs": [],
   "source": [
    "#SOLUTION\n",
    "\n",
    "letters = set(Dorian.lower())\n",
    "alphabet = set('abcdefghijklmnopqrstuvwxyz')\n",
    "\n",
    "absent = alphabet - letters\n",
    "\n",
    "print(absent)"
   ]
  },
  {
   "cell_type": "markdown",
   "metadata": {},
   "source": [
    "5. <ins> Can you recreate the piece of code you wrote in exercise 1, but this time using 'try' and 'except' statements?"
   ]
  },
  {
   "cell_type": "code",
   "execution_count": null,
   "metadata": {},
   "outputs": [],
   "source": [
    "#SOLUTION\n",
    "\n",
    "result = {}\n",
    "for char in Dorian.lower():\n",
    "    try:\n",
    "        result[char]+= 1\n",
    "    except:\n",
    "        result[char] = 1\n",
    "\n",
    "\n"
   ]
  },
  {
   "cell_type": "markdown",
   "metadata": {},
   "source": [
    "6. <ins> Create a **word-based** frequency dictionary of the following string."
   ]
  },
  {
   "cell_type": "code",
   "execution_count": null,
   "metadata": {},
   "outputs": [],
   "source": [
    "Seuss = \"\"\"Congratulations! Today is your day. You're off to Great Places! You're off and away! \n",
    "            You have brains in your head. You have feet in your shoes. You can steer yourself Any direction you choose.\n",
    "            You're on your own. And you know what you know. And YOU are the guy who'll decide where to go.\n",
    "            You'll look up and down streets. Look 'em over with care.About some you will say, \"I don't choose to go there.\"\n",
    "            With your head full of brains and your shoes full of feet, You're too smart to go down any not-so-good street.\n",
    "            And you may not find any You'll want to go down. In that case, of course, You'll head straight out of town.\"\"\"\n",
    "\n",
    "#SOLUTION\n",
    "\n",
    "words = {}\n",
    "\n",
    "for word in Seuss.lower().split():\n",
    "    if word in words:\n",
    "        words[word] += 1\n",
    "    else:\n",
    "        words[word] = 1\n"
   ]
  },
  {
   "cell_type": "markdown",
   "metadata": {},
   "source": [
    "6. Below you'll find a list of strings, try to convert each item in the list to an integer. You'll notice that this will raise an error. Try to work your way around the error by using 'except'."
   ]
  },
  {
   "cell_type": "code",
   "execution_count": null,
   "metadata": {},
   "outputs": [],
   "source": [
    "a_list = ['9', '5', 'N/A', '6', '8']\n",
    "converted_list = []\n",
    "\n",
    "#SOLUTION \n",
    "\n",
    "for item in a_list:\n",
    "    try:  \n",
    "        converted_list.append(int(item))\n",
    "    except ValueError:\n",
    "        converted_list.append(item)\n",
    "\n",
    "converted_list\n"
   ]
  },
  {
   "cell_type": "markdown",
   "metadata": {},
   "source": [
    "7. By making use of the Counter() object, count how often each character occurs in the Seuss excerpt. "
   ]
  },
  {
   "cell_type": "code",
   "execution_count": null,
   "metadata": {},
   "outputs": [],
   "source": [
    "#SOLUTION\n",
    "\n",
    "from collections import Counter\n",
    "count = Counter()\n",
    "count.update(Seuss.lower())\n",
    "print(count)"
   ]
  },
  {
   "cell_type": "markdown",
   "metadata": {},
   "source": [
    "8. Update the counter with the characters of the Dorian excerpt. "
   ]
  },
  {
   "cell_type": "code",
   "execution_count": null,
   "metadata": {},
   "outputs": [],
   "source": [
    "#SOLUTION\n",
    "count.update(Dorian.lower())"
   ]
  },
  {
   "cell_type": "markdown",
   "metadata": {},
   "source": [
    "9. Print the five most common characters of the culminated count of the Dorian and Seuss excerpts."
   ]
  },
  {
   "cell_type": "code",
   "execution_count": null,
   "metadata": {},
   "outputs": [],
   "source": [
    "#SOLUTION\n",
    "print(count.most_common(5))"
   ]
  },
  {
   "cell_type": "markdown",
   "metadata": {},
   "source": [
    "10. *A bit more difficult*: create a word-based frequency dictionary of the following text. \n",
    "- Lowercase the text\n",
    "- Make sure that the punctuation is seperatad from the word, i.e. the word 'accent' in the first line should be interpreted as the word 'accent' and a comma and not \"accent,\".\n",
    "- Once the preprocessing steps are completed you can create the frequency dictionary with the Counter object.\n",
    "- Print the 10 most common tokens in the text. \n",
    "\n",
    "The output should look like this: \n",
    "`[(',', 22),\n",
    " ('the', 20),\n",
    " ('of', 9),\n",
    " ('and', 7),\n",
    " ('in', 7),\n",
    " (';', 6),\n",
    " ('has', 4),\n",
    " ('to', 4),\n",
    " ('a', 4),\n",
    " ('is', 4)]`"
   ]
  },
  {
   "cell_type": "code",
   "execution_count": null,
   "metadata": {},
   "outputs": [],
   "source": [
    "text = \"\"\"The hour when history speaks with its free and venerable accent, has\n",
    "not yet sounded for him; the moment has not come to pronounce a\n",
    "definite judgment on this king; the austere and illustrious historian\n",
    "Louis Blanc has himself recently softened his first verdict; Louis\n",
    "Philippe was elected by those two almosts which are called the 221\n",
    "and 1830, that is to say, by a half-Parliament, and a half-revolution;\n",
    "and in any case, from the superior point of view where philosophy must\n",
    "place itself, we cannot judge him here, as the reader has seen above,\n",
    "except with certain reservations in the name of the absolute democratic\n",
    "principle; in the eyes of the absolute, outside these two rights, the\n",
    "right of man in the first place, the right of the people in the second,\n",
    "all is usurpation; but what we can say, even at the present day, that\n",
    "after making these reserves is, that to sum up the whole, and in\n",
    "whatever manner he is considered, Louis Philippe, taken in himself, and\n",
    "from the point of view of human goodness, will remain, to use the\n",
    "antique language of ancient history, one of the best princes who ever\n",
    "sat on a throne.\"\"\"\n",
    "\n",
    "#SOLUTION\n",
    "\n",
    "all_words = []\n",
    "\n",
    "for word in text.lower().split():\n",
    "    if word[-1] not in 'abcdefghijklmnopqrstuvwxyz':\n",
    "        all_words.append(word[0:-1])\n",
    "        all_words.append(word[-1])\n",
    "    else:\n",
    "        all_words.append(word)\n",
    "\n",
    "word_freqs = Counter(all_words)\n",
    "word_freqs.most_common(10)"
   ]
  },
  {
   "cell_type": "markdown",
   "metadata": {},
   "source": [
    "11. Write a piece of code that takes in a list of integers and returns a dictionary where the keys are the unique integers in the list and the values are their frequency in the list."
   ]
  },
  {
   "cell_type": "code",
   "execution_count": null,
   "metadata": {},
   "outputs": [],
   "source": [
    "#SOLUTION\n",
    "\n",
    "the_nrs = input('Give me some random numbers seperataed by a whitespace').split()\n",
    "freq_count = {}\n",
    "\n",
    "for item in the_nrs:\n",
    "    if item in freq_count:\n",
    "        freq_count[item] += 1\n",
    "    else:\n",
    "        freq_count[item] = 1\n",
    "\n",
    "print(freq_count)"
   ]
  },
  {
   "cell_type": "markdown",
   "metadata": {},
   "source": [
    "12. Convert frequency dictionary to relative frequency dictionary\n",
    "\n",
    "- Create a character level frequency dictionary of the text below. \n",
    "- Make a copy of the frequency dictionary. Use copy() method; \n",
    "- Calculate the number of all characters in the text;\n",
    "- Iterate over the frequency dictionary to update a count to relative frequency;\n",
    "- Print relative frequency."
   ]
  },
  {
   "cell_type": "code",
   "execution_count": null,
   "metadata": {},
   "outputs": [],
   "source": [
    "flowers = \"\"\"I can buy myself flowers\n",
    "Write my name in the sand\n",
    "Talk to myself for hours\n",
    "Say things you don't understand\n",
    "I can take myself dancing\n",
    "And I can hold my own hand\n",
    "Yeah, I can love me better than you can\"\"\"\n",
    "\n",
    "#SOLUTION\n",
    "\n",
    "freq_dic = {}\n",
    "\n",
    "for char in flowers.lower():\n",
    "    if char in freq_dic:\n",
    "        freq_dic[char] += 1\n",
    "    else:\n",
    "        freq_dic[char] = 1\n",
    "\n",
    "print(freq_dic)\n",
    "\n",
    "relative_frequency = freq_dic.copy()\n",
    "size = len(flowers)\n",
    "\n",
    "for c in freq_dic:\n",
    "    relative_frequency[c] /= size\n",
    "    \n",
    "print(relative_frequency)"
   ]
  },
  {
   "cell_type": "markdown",
   "metadata": {},
   "source": [
    "13. Recreate the frequency dictionary from te previous exercise using the Counter() object and then print the 5 least common letters."
   ]
  },
  {
   "cell_type": "code",
   "execution_count": null,
   "metadata": {},
   "outputs": [],
   "source": [
    "#SOLUTION\n",
    "\n",
    "freq_dic = Counter(flowers)\n",
    "\n",
    "print(freq_dic.most_common()[-5:])"
   ]
  },
  {
   "cell_type": "markdown",
   "metadata": {},
   "source": [
    "14. Write a piece of code that takes in a list of words and returns the length of the longest word in the list."
   ]
  },
  {
   "cell_type": "code",
   "execution_count": null,
   "metadata": {},
   "outputs": [],
   "source": [
    "#SOLUTION\n",
    "\n",
    "the_list = input('give me some random words seperated by a whitespace').split()\n",
    "lenghts = []\n",
    "\n",
    "for item in the_list:\n",
    "    lenghts.append(len(item))\n",
    "\n",
    "print(max(lenghts))\n"
   ]
  },
  {
   "cell_type": "code",
   "execution_count": null,
   "metadata": {},
   "outputs": [],
   "source": []
  }
 ],
 "metadata": {
  "kernelspec": {
   "display_name": "Python 3 (ipykernel)",
   "language": "python",
   "name": "python3"
  },
  "language_info": {
   "codemirror_mode": {
    "name": "ipython",
    "version": 3
   },
   "file_extension": ".py",
   "mimetype": "text/x-python",
   "name": "python",
   "nbconvert_exporter": "python",
   "pygments_lexer": "ipython3",
   "version": "3.11.4"
  },
  "vscode": {
   "interpreter": {
    "hash": "96e0a4d32f1918f770291244863a4a1e044b05d1a3b8d455e2e179187e01062a"
   }
  }
 },
 "nbformat": 4,
 "nbformat_minor": 2
}
