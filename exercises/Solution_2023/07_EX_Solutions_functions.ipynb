{
 "cells": [
  {
   "cell_type": "markdown",
   "metadata": {},
   "source": [
    "# Exercise notebook 7 - Functions"
   ]
  },
  {
   "cell_type": "markdown",
   "metadata": {},
   "source": [
    "This exercise notebook complements the notebook of **Functions**. <br> Use this [notebook](https://github.com/dtaantwerp/dtaantwerp.github.io/blob/53c91013df4514a943a9fad441fb5f28dc6f6bab/notebooks/08_W2_Wed_Functions.ipynb) for a complete explanation of the theory.\n",
    "\n",
    "#\n",
    "\n",
    "Try to prepare the <ins>underlined exercises</ins> for the exercise session. \n",
    "\n",
    "==============================================================================="
   ]
  },
  {
   "cell_type": "markdown",
   "metadata": {},
   "source": [
    "Remember that the syntax of a function is always roughly the same:\n",
    "\n",
    "```python\n",
    "def name(arguments):\n",
    "    body\n",
    "    return \n",
    "```"
   ]
  },
  {
   "cell_type": "markdown",
   "metadata": {},
   "source": [
    "1. <ins> Can you rewrite the following piece of code as a function called 'acrostic'. Check if your function worked by applying it on the first and second excerpt."
   ]
  },
  {
   "cell_type": "code",
   "execution_count": null,
   "metadata": {},
   "outputs": [],
   "source": [
    "excerpt1 = '''How the Chimney-sweepers cry\n",
    "Every blackning Church appalls,\n",
    "And the hapless Soldiers sigh\n",
    "Runs in blood down Palace walls'''\n",
    "\n",
    "excerpt2 = '''On the shore, I stand and gaze\n",
    "Crystal clear waves, my mind ablaze\n",
    "Endlessly stretching, vast and blue\n",
    "A world beneath, unexplored and new\n",
    "Nature's force, powerful and grand'''\n",
    "\n",
    "result = ''\n",
    "\n",
    "for item in excerpt1.split('\\n'):\n",
    "    result += item[0]\n",
    "print(result)"
   ]
  },
  {
   "cell_type": "code",
   "execution_count": null,
   "metadata": {},
   "outputs": [],
   "source": [
    "#SOLUTION\n",
    "def acrostic (text):\n",
    "    result = ''\n",
    "    for item in text.split('\\n'):\n",
    "        result += item[0]\n",
    "    return result\n",
    "\n",
    "#Let's try it out!\n",
    "\n",
    "print(acrostic(excerpt1))\n",
    "print(acrostic(excerpt2))"
   ]
  },
  {
   "cell_type": "markdown",
   "metadata": {},
   "source": [
    "2.  <ins> Write a function that searches a given text for words that meet two conditions: \n",
    "- they are longer than a specified minimum length, \n",
    "- they start with a specified letter. \n",
    "\n",
    "However, the function should  allow easy customization of these parameters, so that they can be changed to search for words of a different minimum length and starting with a different letter. For example, the function should be flexible enough to search for words longer than 3 characters and starting with 'c', simply by changing the parameters passed to it.\n"
   ]
  },
  {
   "cell_type": "code",
   "execution_count": null,
   "metadata": {},
   "outputs": [],
   "source": [
    "#SOLUTION\n",
    "def ex_2(text:str, length:int, letter:str): #With the colons I indicate the datatypes that the parameters should be in. This way, I would get an error is I were to pass an integer as 'text'.\n",
    "    for word in text.lower().split():\n",
    "        if len(word) > length and word[0] == letter.lower():\n",
    "            return word\n",
    "\n",
    "#Let's try it out!        \n",
    "ex_2(excerpt1, 3, \"a\")"
   ]
  },
  {
   "cell_type": "markdown",
   "metadata": {},
   "source": [
    "3. <ins> Rewrite the function of the previous exercise, but make sure that the default-settings are words longer than 4 characters and starting with 's'. Try it out on the two excerpts of exercise 1."
   ]
  },
  {
   "cell_type": "code",
   "execution_count": null,
   "metadata": {},
   "outputs": [],
   "source": [
    "#SOLUTION\n",
    "def ex_3(text:str, length:int = 4, letter:str = 's'):\n",
    "    for word in text.lower().split():\n",
    "        if len(word) > length and word[0] == letter.lower():\n",
    "            return word\n",
    "\n",
    "#Let's try it out! \n",
    "print(ex_3(excerpt1))\n",
    "print(ex_3(excerpt2))"
   ]
  },
  {
   "cell_type": "markdown",
   "metadata": {},
   "source": [
    "4. <ins> What will happen if you run the function you wrote in exercise 3, without passing any arguments?"
   ]
  },
  {
   "cell_type": "code",
   "execution_count": null,
   "metadata": {},
   "outputs": [],
   "source": [
    "ex_3()\n",
    "\n",
    "#You do not necessarily have to pass the default arguments when calling the function.\n",
    "#However, the 'text' argument has no default setting and should therefore always be specified.\n",
    "#If you do not specify this when calling the argument, it will throw a TypeError 'missing x required prepositional argument'"
   ]
  },
  {
   "cell_type": "markdown",
   "metadata": {},
   "source": [
    "5. <ins> Create a function in which the alphabet dictionary is updated with the C and D, using the **kwargs argument.\n",
    " - C for charlie\n",
    " - D for delta"
   ]
  },
  {
   "cell_type": "code",
   "execution_count": null,
   "metadata": {},
   "outputs": [],
   "source": [
    "alphabet = {'A': 'alpha', 'B': 'bravo'}\n",
    "\n",
    "#SOLUTION\n",
    "\n",
    "def updater(**kwargs):\n",
    "   alphabet.update(kwargs)\n",
    "   return alphabet\n",
    "\n",
    "#Let's try it out!\n",
    "\n",
    "updater(C = 'charlie', D = 'delta')"
   ]
  },
  {
   "cell_type": "markdown",
   "metadata": {},
   "source": [
    "6. <ins> Think about the output before running the cell. What will be printed?"
   ]
  },
  {
   "cell_type": "code",
   "execution_count": null,
   "metadata": {},
   "outputs": [],
   "source": [
    "import math\n",
    "nr = 9\n",
    "\n",
    "def toy_function (nr):\n",
    "    nr = math.sqrt(nr)\n",
    "    return nr + 1\n",
    "\n",
    "print(toy_function(nr))\n",
    "print(nr)"
   ]
  },
  {
   "cell_type": "markdown",
   "metadata": {},
   "source": [
    "7. <ins>Replicate the \"len()\" function: the function should take an iterable as its only argument and return the length of that iterable (without using \"len()\"). <br>Test whether your function works by applying it to a string, list, dictionary and tuple."
   ]
  },
  {
   "cell_type": "code",
   "execution_count": null,
   "metadata": {},
   "outputs": [],
   "source": [
    "#SOLUTION \n",
    "def my_len(iterable):\n",
    "    counter = 0\n",
    "    for item in iterable:\n",
    "        counter += 1\n",
    "    return counter"
   ]
  },
  {
   "cell_type": "code",
   "execution_count": null,
   "metadata": {},
   "outputs": [],
   "source": [
    "#Let's try it out.\n",
    "\n",
    "print(my_len('word'))\n",
    "print(my_len(['this', 'is', 'a', 'tokenized', 'sentence']))\n",
    "print(my_len({0: 'this', 1: 'is', 2: 'a', 3: 'tokenized', 4: 'sentence', 5: 'with', 6:'token', 7:'positions'}))\n",
    "print(my_len(('this', 'is', 'a', 'tuple')))"
   ]
  },
  {
   "cell_type": "markdown",
   "metadata": {},
   "source": [
    "8. Replicate the \"sum()\" function. <br>\n",
    "Define a function that takes a list of numbers as its only argument and that returns the sum of the numbers in that list (do not use \"sum()\" itself)"
   ]
  },
  {
   "cell_type": "code",
   "execution_count": null,
   "metadata": {},
   "outputs": [],
   "source": [
    "#SOLUTION\n",
    "def my_sum (nrs):\n",
    "    total = 0\n",
    "    for item in nrs:\n",
    "        total += item\n",
    "    return total\n",
    "\n",
    "#Let's try it out.\n",
    "\n",
    "my_sum([1, 2, 3, 4, 5]) "
   ]
  },
  {
   "cell_type": "markdown",
   "metadata": {},
   "source": [
    "9. Recreate your own sum-function of the previous exercises, but this time using *args."
   ]
  },
  {
   "cell_type": "code",
   "execution_count": null,
   "metadata": {},
   "outputs": [],
   "source": [
    "#SOLUTION\n",
    "def summer (*args): \n",
    "    total = 0\n",
    "    for item in args:\n",
    "        total += item\n",
    "    return total\n",
    "\n",
    "#Let's try it out.\n",
    "\n",
    "summer(1, 2, 3, 4, 5)"
   ]
  },
  {
   "cell_type": "markdown",
   "metadata": {},
   "source": [
    "10. Write a function that takes three numbers as input and returns the largest of those number (without using \"max()\").\n"
   ]
  },
  {
   "cell_type": "code",
   "execution_count": null,
   "metadata": {},
   "outputs": [],
   "source": [
    "#SOLUTION\n",
    "def biggest (nr1, nr2, nr3):\n",
    "    if nr1 > nr2 and nr1 > nr3:\n",
    "        return nr1\n",
    "    if nr2 > nr3:\n",
    "        return nr2\n",
    "    else:\n",
    "        return nr3\n",
    "\n",
    "#Let's try it out.\n",
    "\n",
    "biggest(13, 12, 15)"
   ]
  },
  {
   "cell_type": "markdown",
   "metadata": {},
   "source": [
    "11. Recreate the max() function in order to identify the largest number in any series of numbers."
   ]
  },
  {
   "cell_type": "code",
   "execution_count": null,
   "metadata": {},
   "outputs": [],
   "source": [
    "#SOLUTION 1\n",
    "def my_max (nrs):\n",
    "    largest_number = nrs[0]\n",
    "    for number in nrs:\n",
    "        if number > largest_number:\n",
    "            largest_number = number\n",
    "    return largest_number\n",
    "\n",
    "#Let's try it out.\n",
    "my_max([7, 5, 8, 16, 0, 3, 9])"
   ]
  },
  {
   "cell_type": "code",
   "execution_count": null,
   "metadata": {},
   "outputs": [],
   "source": [
    "#SOLUTION 2\n",
    "\n",
    "def my_max(*args):\n",
    "    largest_number = args[0]\n",
    "    for number in args:\n",
    "        if number > largest_number:\n",
    "            largest_number = number\n",
    "    return largest_number\n",
    "\n",
    "#Let's try it out.\n",
    "my_max(315, 9, 1008, 7, 8, 6)"
   ]
  },
  {
   "cell_type": "markdown",
   "metadata": {},
   "source": [
    "12. Create a function that behaves similarly to the .pop() list method\n",
    "- Define a function that takes a list as input\n",
    "- Modify the list so that the last item  is removed (without using \"pop()\")\n",
    "- Return a tuple containing the modified list and the deleted element"
   ]
  },
  {
   "cell_type": "code",
   "execution_count": null,
   "metadata": {},
   "outputs": [],
   "source": [
    "#SOLUTION\n",
    "def my_pop (a_list):\n",
    "    index = -1\n",
    "    new_list = a_list[0:index]\n",
    "    return tuple(new_list), a_list[-1]\n",
    "\n",
    "\n",
    "#Let's try it out.\n",
    "x = [1, 2, 3, 4, 5, 6]\n",
    "my_pop(x)"
   ]
  },
  {
   "cell_type": "markdown",
   "metadata": {},
   "source": [
    "13. Write a function you can use to greet any number of people by printing \"Hello there, {name}!\""
   ]
  },
  {
   "cell_type": "code",
   "execution_count": null,
   "metadata": {},
   "outputs": [],
   "source": [
    "#SOLUTION\n",
    "def greeting (*people):\n",
    "    for person in people:\n",
    "        print(f'Well hello there, {person}!')\n",
    "\n",
    "#Let's try it out.\n",
    "greeting('Nathan', 'Ine', 'Leonardo')"
   ]
  },
  {
   "cell_type": "markdown",
   "metadata": {},
   "source": [
    "14. Preprocess text data using decomposition and functions within functions. Assume you want to preprocess a corpus of text. Below, you can find the first lines of the first Harry Potter novel to experiment.\n",
    "- Create a function that accepts a sentence as input and returns a tokenized sentence (split across whitespace)\n",
    "- Create a function that accepts a sentence as input and returns a lowercased sentence\n",
    "- Create a function that accepts a list of sentences as input and that returns a list of preprocessed sentences (use the functions created in step 1 and 2)\n",
    "- The preprocessing function should allow you to pass arguments that determine whether you want to lowercase and/or tokenize (or not)\n",
    "- Make sure to include a description of your function so that \"help(your_function)\" displays information about how your function works"
   ]
  },
  {
   "cell_type": "code",
   "execution_count": null,
   "metadata": {},
   "outputs": [],
   "source": [
    "corpus = [\"\"\"Mr. and Mrs. Dursley, of number four, Privet Drive, were proud to say that they were perfectly normal, \n",
    "thank you very much.\"\"\", \"\"\"They were the last people you’d expect to be involved in anything strange or mysterious,\n",
    "because they just didn’t hold with such nonsense.\"\"\", \"\"\"Mr. Dursley was the director of a firm called Grunnings,\n",
    "which made drills.\"\"\", \"\"\"He was a big, beefy man with hardly any neck, although he did have a very large mustache.\"\"\",\n",
    "\"\"\"Mrs. Dursley was thin and blonde and had nearly twice the usual amount of neck, \n",
    "which came in very useful as she spent so much of hertime craning over garden fences, spying on the neighbors.\"\"\", \n",
    "\"\"\"The Dursleys had a small son called Dudley and in their opinion there was no finer boy anywhere.\"\"\"]"
   ]
  },
  {
   "cell_type": "code",
   "execution_count": null,
   "metadata": {},
   "outputs": [],
   "source": [
    "#SOLUTION\n",
    "def tokenize (text):\n",
    "    return text.split()\n",
    "\n",
    "def lowercase (text):\n",
    "    return text.lower()\n",
    "\n",
    "def preprocessed(text, token = False, lower = True):\n",
    "    \"\"\"This function accepts a list of sentences as arguments and preprocesses them.\n",
    "    Preprocessing by default consists of lowercasing and tokenization.\"\"\"\n",
    "\n",
    "    output = []\n",
    "\n",
    "    for item in text:\n",
    "        if lower == True:\n",
    "            item = lowercase(item)\n",
    "\n",
    "        if token ==  True:\n",
    "            item = tokenize(item)\n",
    "        \n",
    "        output.append(item)\n",
    "    return output"
   ]
  },
  {
   "cell_type": "code",
   "execution_count": null,
   "metadata": {},
   "outputs": [],
   "source": [
    "#Let's try it out.\n",
    "\n",
    "preprocessed(corpus)\n",
    "help(preprocessed)"
   ]
  },
  {
   "cell_type": "markdown",
   "metadata": {},
   "source": [
    "15. Import the random-module as r and create a function that takes two integers as input and returns a random integer within the range of those two integers."
   ]
  },
  {
   "cell_type": "code",
   "execution_count": null,
   "metadata": {},
   "outputs": [],
   "source": [
    "#SOLUTION\n",
    "import random as r\n",
    "\n",
    "def random_nr (nr1, nr2):\n",
    "    return r.randint(nr1, nr2) \n",
    "\n",
    "#Let's try it out.\n",
    "\n",
    "random_nr(1,6)"
   ]
  },
  {
   "cell_type": "markdown",
   "metadata": {},
   "source": [
    "16. Create a function that takes a list of items as input and returns the list in a random order."
   ]
  },
  {
   "cell_type": "code",
   "execution_count": null,
   "metadata": {},
   "outputs": [],
   "source": [
    "#SOLUTION\n",
    "def my_shuffle (items):\n",
    "    r.shuffle(items)\n",
    "    return items\n",
    "\n",
    "#Let's try it out.\n",
    "\n",
    "songs = ['Toxic', 'Smells like teen spirit', 'The Chain', 'Come on Eileen', 'Shape of You']\n",
    "\n",
    "my_shuffle(songs)"
   ]
  },
  {
   "cell_type": "markdown",
   "metadata": {},
   "source": [
    "17. Create a function that takes a random sample from a list. \n",
    "- Make sure that the number of samples taken from the list is easily customised, but the default is 1."
   ]
  },
  {
   "cell_type": "code",
   "execution_count": null,
   "metadata": {},
   "outputs": [],
   "source": [
    "#SOLUTION\n",
    "def sample (options, samples = 1):\n",
    "    x = r.sample(options, samples)\n",
    "    return x\n",
    "\n",
    "#Let's try it out.\n",
    "\n",
    "cards = ['8 of clubs', 'nine of hearts', '7 of diamonds', 'Queen of spades', 'Ace of spades', 'Jack of hearts']\n",
    "sample(cards)\n"
   ]
  },
  {
   "cell_type": "markdown",
   "metadata": {},
   "source": [
    "18. Create a function that takes a string as input and returns the nr of vowels, consonantans and punctuations.\n",
    "- Make sure you ignore whitespaces.\n",
    "- Include a description of your function. "
   ]
  },
  {
   "cell_type": "code",
   "execution_count": null,
   "metadata": {},
   "outputs": [],
   "source": [
    "#SOLUTION\n",
    "def sound_count (sentence):\n",
    "\n",
    "    '''The function sound_count(sentence) counts the number of vowels, \n",
    "    consonants, and punctuation characters in a given sentence and \n",
    "    returns a formatted string with the counts.'''\n",
    "    \n",
    "    vowels = 0\n",
    "    consontants = 0\n",
    "    puncts = 0\n",
    "\n",
    "    for char in sentence.lower():\n",
    "        if char in 'aeieo':\n",
    "            vowels += 1\n",
    "\n",
    "        elif char in 'bcdfghjklmnpqrstvwxyz':\n",
    "            consontants += 1\n",
    "\n",
    "        elif char == ' ':\n",
    "            continue\n",
    "\n",
    "        else:\n",
    "            puncts += 1\n",
    "\n",
    "    return (f'there are {vowels} vowels, {puncts} punctuation characters and {consontants} consonants in the string')\n",
    "\n",
    "#Let's try it out.\n",
    "\n",
    "x = 'Whenever I get gloomy with the state of the world, I think about the arrivals gate at Heathrow Airport. General opinion’s starting to make out that we live in a world of hatred and greed, but I don’t see that. It seems to me that love is everywhere.'\n",
    "sound_count(x)\n"
   ]
  },
  {
   "cell_type": "markdown",
   "metadata": {},
   "source": [
    "19. Write a Python function that takes a string as an argument and returns True if the string is a palindrome (i.e., reads the same backward as forward) and False otherwise."
   ]
  },
  {
   "cell_type": "code",
   "execution_count": null,
   "metadata": {},
   "outputs": [],
   "source": [
    "#SOLUTION\n",
    "def palindrome_finder (word):\n",
    "    if word.lower() == word.lower()[::-1]:\n",
    "        return True\n",
    "    else:\n",
    "        return False\n",
    "    \n",
    "#Let's try it out.\n",
    "    \n",
    "print(palindrome_finder('Level'))\n",
    "print(palindrome_finder('Supposes'))"
   ]
  },
  {
   "cell_type": "markdown",
   "metadata": {},
   "source": [
    "20. Write a Python function that takes a string as an argument and returns the string with all the vowels replaced with the letter 'oodle'.\n"
   ]
  },
  {
   "cell_type": "code",
   "execution_count": 1,
   "metadata": {},
   "outputs": [
    {
     "data": {
      "text/plain": [
       "'moodlenoodle'"
      ]
     },
     "execution_count": 1,
     "metadata": {},
     "output_type": "execute_result"
    }
   ],
   "source": [
    "#SOLUTION\n",
    "def silly (word):\n",
    "\n",
    "    output = ''\n",
    "\n",
    "    for char in word.lower():\n",
    "\n",
    "        if char in 'aeiou':\n",
    "            output += 'oodle'\n",
    "\n",
    "        else: \n",
    "            output += char\n",
    "\n",
    "    return output\n",
    "\n",
    "#Let's try it out.\n",
    "\n",
    "silly('Mona')"
   ]
  }
 ],
 "metadata": {
  "kernelspec": {
   "display_name": "Python 3 (ipykernel)",
   "language": "python",
   "name": "python3"
  },
  "language_info": {
   "codemirror_mode": {
    "name": "ipython",
    "version": 3
   },
   "file_extension": ".py",
   "mimetype": "text/x-python",
   "name": "python",
   "nbconvert_exporter": "python",
   "pygments_lexer": "ipython3",
   "version": "3.11.4"
  },
  "vscode": {
   "interpreter": {
    "hash": "96e0a4d32f1918f770291244863a4a1e044b05d1a3b8d455e2e179187e01062a"
   }
  }
 },
 "nbformat": 4,
 "nbformat_minor": 2
}
