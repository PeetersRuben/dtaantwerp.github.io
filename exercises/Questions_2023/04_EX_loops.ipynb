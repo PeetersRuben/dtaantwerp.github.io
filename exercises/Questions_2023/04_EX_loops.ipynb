{
 "cells": [
  {
   "cell_type": "markdown",
   "metadata": {},
   "source": [
    "# Exercise notebook 4 - Loops"
   ]
  },
  {
   "cell_type": "markdown",
   "metadata": {},
   "source": [
    "This exercise notebook complements the notebook of **Control structures - for and while loops**. <br> Use this [notebook](https://github.com/dtaantwerp/dtaantwerp.github.io/blob/53c91013df4514a943a9fad441fb5f28dc6f6bab/notebooks/05_W1_Fri_Control_Structures_Loops_For_While.ipynb) for a complete explanation of the theory.\n",
    "\n",
    "Try to prepare the <ins>underlined exercises</ins> for the exercise session. "
   ]
  },
  {
   "cell_type": "markdown",
   "metadata": {},
   "source": [
    "1. <ins> Print every element of this list below, using a for-loop."
   ]
  },
  {
   "cell_type": "code",
   "execution_count": 1,
   "metadata": {},
   "outputs": [
    {
     "name": "stdout",
     "output_type": "stream",
     "text": [
      "apple\n",
      "pear\n",
      "banana\n",
      "kiwi\n",
      "melon\n"
     ]
    }
   ],
   "source": [
    "fruit = ['apple', 'pear', 'banana', 'kiwi', 'melon']\n",
    "\n",
    "#CODE HERE\n",
    "for element in fruit:\n",
    "    print(element)"
   ]
  },
  {
   "cell_type": "markdown",
   "metadata": {},
   "source": [
    "2. <ins>For each element in the list check if the element contains the letter 'i'."
   ]
  },
  {
   "cell_type": "code",
   "execution_count": 12,
   "metadata": {},
   "outputs": [
    {
     "name": "stdout",
     "output_type": "stream",
     "text": [
      "This does not contains 'l'\n",
      "is does not contains 'l'\n",
      "a does not contains 'l'\n",
      "list contains 'l'\n",
      "of does not contains 'l'\n",
      "words does not contains 'l'\n"
     ]
    }
   ],
   "source": [
    "words = ['This', 'is', 'a', 'list', 'of', 'words']\n",
    "\n",
    "\n",
    "#CODE HERE\n",
    "for element in words:\n",
    "    if 'l' in element:\n",
    "        print(f\"{element} contains 'l'\")\n",
    "    else:\n",
    "        print(f\"{element} does not contain 'l'\")"
   ]
  },
  {
   "cell_type": "markdown",
   "metadata": {},
   "source": [
    "3. <ins> Count how many characters the following list of words contains and store this in the variable 'total_words'."
   ]
  },
  {
   "cell_type": "code",
   "execution_count": 7,
   "metadata": {},
   "outputs": [
    {
     "name": "stdout",
     "output_type": "stream",
     "text": [
      "101\n"
     ]
    }
   ],
   "source": [
    "opening = ['In', 'the', 'beginning', 'the', 'Universe', 'was', 'created,', 'this', 'had', 'made', 'many', 'people', 'very', 'angry', 'and', 'has', 'been', 'widely', 'regarded', 'as', 'a', 'bad', 'move.']\n",
    "total_words = 0\n",
    "\n",
    "#CODE HERE\n",
    "for word in opening:\n",
    "    total_words += len(word)\n",
    "print(total_words)"
   ]
  },
  {
   "cell_type": "markdown",
   "metadata": {},
   "source": [
    "4. <ins>Combine a for-loop with a condition (if-statement): loop over the letters in the list, but only print the letter if it's uppercase."
   ]
  },
  {
   "cell_type": "code",
   "execution_count": 14,
   "metadata": {},
   "outputs": [
    {
     "name": "stdout",
     "output_type": "stream",
     "text": [
      "Y\n",
      "M\n",
      "C\n",
      "A\n"
     ]
    }
   ],
   "source": [
    "letters = ['a', 'n', 'Y', 'e', 'm','M', 'o', 'C', 'n', 'A', 'e']\n",
    "\n",
    "#CODE HERE\n",
    "for l in letters:\n",
    "    if l.isupper() == True:\n",
    "        print(l)"
   ]
  },
  {
   "cell_type": "markdown",
   "metadata": {},
   "source": [
    "5. <ins> Loop over the letters again, but this time store all lowercase letters in an empty list. Then print the list to see if it worked."
   ]
  },
  {
   "cell_type": "code",
   "execution_count": 16,
   "metadata": {},
   "outputs": [
    {
     "name": "stdout",
     "output_type": "stream",
     "text": [
      "['a', 'n', 'e', 'm', 'o', 'n', 'e']\n"
     ]
    }
   ],
   "source": [
    "letters = ['a', 'n', 'Y', 'e', 'm','M', 'o', 'C', 'n', 'A', 'e']\n",
    "\n",
    "lowercase = []\n",
    "\n",
    "#CODE HERE\n",
    "for l in letters:\n",
    "    if l.islower() ==  True:\n",
    "        lowercase.append(l)\n",
    "print(lowercase)"
   ]
  },
  {
   "cell_type": "markdown",
   "metadata": {},
   "source": [
    "6. <ins> Print the first letter of each word in the phonetic alphabet."
   ]
  },
  {
   "cell_type": "code",
   "execution_count": 19,
   "metadata": {},
   "outputs": [
    {
     "name": "stdout",
     "output_type": "stream",
     "text": [
      "A\n",
      "B\n",
      "C\n",
      "D\n",
      "E\n",
      "F\n"
     ]
    }
   ],
   "source": [
    "phonetic_alphabet = [[\"Alpha\", \"Bravo\", \"Charlie\"],[\"Delta\", \"Echo\", \"Foxtrot\"]]\n",
    "\n",
    "#CODE HERE\n",
    "for list in phonetic_alphabet:\n",
    "    for word in list:\n",
    "                print(word[0])"
   ]
  },
  {
   "cell_type": "markdown",
   "metadata": {},
   "source": [
    "7. <ins> Create a for-loop that checks the length of the word and adds that number of characters to the counter. Use the 'continue' statement so that the for-loop skips words that consist of only one or two letters.\n",
    "\n",
    "If all goes to plan by the end of the for-loop, the counter should be 40. "
   ]
  },
  {
   "cell_type": "code",
   "execution_count": 20,
   "metadata": {},
   "outputs": [
    {
     "name": "stdout",
     "output_type": "stream",
     "text": [
      "40\n"
     ]
    }
   ],
   "source": [
    "opening = ['I', 'think', 'this', 'is', 'the', 'beginning', 'of', 'a', 'beautiful', 'friendship']\n",
    "counter = 0 \n",
    "\n",
    "#CODE HERE\n",
    "for word in opening:\n",
    "    if len(word) > 2:\n",
    "        counter += len(word)\n",
    "print(counter)"
   ]
  },
  {
   "cell_type": "markdown",
   "metadata": {},
   "source": [
    "8. <ins>For each word in the list, if the word begins with a vowel, print the word along with the length of that word. <br>\n",
    "**The output should look like this:** \n",
    "- Alpha 5\n",
    "- Echo 4\n",
    "- Indiana 7"
   ]
  },
  {
   "cell_type": "code",
   "execution_count": 18,
   "metadata": {},
   "outputs": [
    {
     "name": "stdout",
     "output_type": "stream",
     "text": [
      "Alpha 5\n",
      "Echo 4\n",
      "Indiana 7\n"
     ]
    }
   ],
   "source": [
    "test = [[\"Alpha\", \"Bravo\", \"Charlie\"],[\"Delta\", \"Echo\", \"Foxtrot\"], [\"Golf\", \"Hotel\", \"Indiana\", \"Juliet\", \"Kilo\"],[\"Lima\", \"November\", \"Mike\"]]\n",
    "vowels = \"aeiou\"\n",
    "\n",
    "#CODE HERE\n",
    "for l in test:\n",
    "    for word in l:\n",
    "        for letter in word:\n",
    "            if letter == word[0] and letter in vowels.upper():\n",
    "                 print(word, len(word))\n",
    "        "
   ]
  },
  {
   "cell_type": "markdown",
   "metadata": {},
   "source": [
    "9. <ins> Create a while-loop that prints how many letters there are in every item of this list."
   ]
  },
  {
   "cell_type": "code",
   "execution_count": 12,
   "metadata": {},
   "outputs": [
    {
     "name": "stdout",
     "output_type": "stream",
     "text": [
      "1\n",
      "4\n",
      "2\n",
      "3\n"
     ]
    }
   ],
   "source": [
    "counter = 0\n",
    "a_sentence = [\"I\", 'want', 'to', 'fly']\n",
    "\n",
    "#CODE HERE\n",
    "while True:\n",
    "    if counter == len(a_sentence):\n",
    "        break\n",
    "    for word in a_sentence:\n",
    "        print(len(word))\n",
    "        counter += 1\n",
    "    \n",
    "        "
   ]
  },
  {
   "cell_type": "markdown",
   "metadata": {},
   "source": [
    "10. <ins> Create a while-loop that prints a statement while the counter is lower than 10 (increment the counter with + 1 after each loop).\n",
    "<br> Make sure that the while-loop breaks when the counter hits a multiple of five.\n"
   ]
  },
  {
   "cell_type": "code",
   "execution_count": 15,
   "metadata": {},
   "outputs": [
    {
     "name": "stdout",
     "output_type": "stream",
     "text": [
      "keep going!\n",
      "keep going!\n",
      "keep going!\n",
      "keep going!\n",
      "keep going!\n",
      "keep going!\n",
      "keep going!\n",
      "keep going!\n",
      "keep going!\n"
     ]
    }
   ],
   "source": [
    "counter = 1\n",
    "\n",
    "#CODE HERE\n",
    "while True:\n",
    "    if counter > 5 and counter % 5 == 0:\n",
    "        break\n",
    "    if counter < 10:\n",
    "        print(\"keep going!\")\n",
    "        counter += 1\n"
   ]
  },
  {
   "cell_type": "markdown",
   "metadata": {},
   "source": [
    "11. <ins> Write a for-loop that prints a statement every time it comes across the letter 's' in de list.\n",
    "- rewrite the for-loop to make sure that the loop stops after it finds the first 's'.\n"
   ]
  },
  {
   "cell_type": "code",
   "execution_count": 21,
   "metadata": {},
   "outputs": [
    {
     "name": "stdout",
     "output_type": "stream",
     "text": [
      "found one: sleepy\n"
     ]
    }
   ],
   "source": [
    "dwarves = ['happy', 'angry', 'sleepy', 'sneezy', 'dopey', 'bashful', 'doc']\n",
    "found = False\n",
    "\n",
    "#CODE HERE\n",
    "for word in dwarves:\n",
    "    for letter in word:\n",
    "        if found == True:\n",
    "            break\n",
    "        if letter == \"s\":\n",
    "            print(f\"found one: {word}\")\n",
    "            found = True"
   ]
  },
  {
   "cell_type": "markdown",
   "metadata": {},
   "source": [
    "12. There are two groups of dancers, those who like to lead and those who like to follow. Can you create a for-loop that pairs each leader with a follower. Make sure that every leader has danced with every follower."
   ]
  },
  {
   "cell_type": "code",
   "execution_count": 47,
   "metadata": {},
   "outputs": [
    {
     "name": "stdout",
     "output_type": "stream",
     "text": [
      "Lisa Fred\n",
      "Lisa Nick\n",
      "Lisa Layla\n",
      "Lisa Samantha\n",
      "Tom Fred\n",
      "Tom Nick\n",
      "Tom Layla\n",
      "Tom Samantha\n",
      "Jane Fred\n",
      "Jane Nick\n",
      "Jane Layla\n",
      "Jane Samantha\n",
      "John Fred\n",
      "John Nick\n",
      "John Layla\n",
      "John Samantha\n"
     ]
    }
   ],
   "source": [
    "leaders = ['Lisa', 'Tom', 'Jane', 'John']\n",
    "followers = ['Fred', 'Nick', 'Layla', 'Samantha']\n",
    "\n",
    "couples = []\n",
    "#CODE HERE\n",
    "for l in leaders:\n",
    "    for f in followers:\n",
    "        print(l,f)"
   ]
  },
  {
   "cell_type": "markdown",
   "metadata": {},
   "source": [
    "13. Store the correct Batmen and Catwomen in the correct list of the corresponding director.\n",
    "- Christian Bale and Anne Hathaway should be stored in 'Nolan'\n",
    "- Michael Kaeton and Michelle Pfeiffer should be stored in 'Burton'\n",
    "- Robert Pattinson and Zoë Kravitz should be stored in 'Reeves'\n",
    "\n",
    "the output should look like this: ['Christian Bale', 'Anne Hathaway'] ['Michael Keaton', 'Michelle Pfeiffer'] ['Robert Pattinson', 'Zoë Kravitz']"
   ]
  },
  {
   "cell_type": "code",
   "execution_count": 17,
   "metadata": {},
   "outputs": [
    {
     "name": "stdout",
     "output_type": "stream",
     "text": [
      "['Christian Bale', 'Anne Hathaway']\n",
      "['Michael Keaton', 'Michelle Pfeiffer']\n",
      "['Robert Pattinson', 'Zoë Kravitz']\n"
     ]
    }
   ],
   "source": [
    "batman = [['Christian Bale', 'Michael Keaton', 'Robert Pattinson'],['Anne Hathaway', 'Michelle Pfeiffer', 'Zoë Kravitz']]\n",
    "\n",
    "Nolan = []\n",
    "Burton = []\n",
    "Reeves = []\n",
    "\n",
    "#CODE HERE\n",
    "for l in batman:\n",
    "        Nolan.append(l[0])\n",
    "        Burton.append(l[1])\n",
    "        Reeves.append(l[2])\n",
    "print(Nolan)\n",
    "print(Burton)\n",
    "print(Reeves)"
   ]
  },
  {
   "cell_type": "markdown",
   "metadata": {},
   "source": [
    "14. Combine a for-loop with a condition: for each word in the list, print the word if the first letter of the word is uppercase."
   ]
  },
  {
   "cell_type": "code",
   "execution_count": 61,
   "metadata": {},
   "outputs": [
    {
     "name": "stdout",
     "output_type": "stream",
     "text": [
      "Pisa\n",
      "Italy\n",
      "Giovanni\n",
      "Rome\n"
     ]
    }
   ],
   "source": [
    "country = ['pizza', 'Pisa', 'Italy', 'Giovanni', 'wine', 'pasta', 'Rome']\n",
    "\n",
    "#CODE HERE\n",
    "for word in country:\n",
    "    if word[0].isupper():\n",
    "        print(word)"
   ]
  },
  {
   "cell_type": "markdown",
   "metadata": {},
   "source": [
    "15. Print each letter seperately of the first item of the list using a for loop."
   ]
  },
  {
   "cell_type": "code",
   "execution_count": 70,
   "metadata": {},
   "outputs": [
    {
     "name": "stdout",
     "output_type": "stream",
     "text": [
      "a p p l e "
     ]
    }
   ],
   "source": [
    "fruit = ['apple', 'pear', 'banana', 'kiwi', 'melon']\n",
    "\n",
    "#CODE HERE\n",
    "for word in fruit:\n",
    "    if word == fruit[0]:\n",
    "        for letter in word:\n",
    "            print(letter, end = \" \")\n",
    " "
   ]
  },
  {
   "cell_type": "markdown",
   "metadata": {},
   "source": [
    "16. Below you will find a shopping list\n",
    "- Loop over the ingredients in the shopping list\n",
    "- Print \"Add {ingredient} to bowl\"\n",
    "- Skip the milk for now using \"continue\""
   ]
  },
  {
   "cell_type": "code",
   "execution_count": 78,
   "metadata": {},
   "outputs": [
    {
     "name": "stdout",
     "output_type": "stream",
     "text": [
      "Add flour to bowl\n",
      "Add sugar to bowl\n",
      "Add eggs to bowl\n",
      "Add butter to bowl\n",
      "Add vanilla to bowl\n"
     ]
    }
   ],
   "source": [
    "shopping_list = ['flour', 'sugar', 'eggs', 'milk', 'butter', 'vanilla']\n",
    "\n",
    "#CODE HERE\n",
    "for ingredient in shopping_list:\n",
    "    if ingredient == \"milk\":\n",
    "        continue \n",
    "    else:\n",
    "            print(f\"Add {ingredient} to bowl\")\n",
    "        "
   ]
  },
  {
   "cell_type": "markdown",
   "metadata": {},
   "source": [
    "17. Add the milk in steps of 100ml\n",
    "- First create a variable that says how much ml you added (starting with 0)\n",
    "- Initiate a loop that stops if you added 450ml of milk or more\n",
    "- Use the loop to add milk in steps of 100ml\n",
    "- At each step, test whether you used more than 450ml in total\n",
    "- Break the loop if this is the case and print \"You used too much milk!\""
   ]
  },
  {
   "cell_type": "code",
   "execution_count": 17,
   "metadata": {},
   "outputs": [
    {
     "name": "stdout",
     "output_type": "stream",
     "text": [
      "keep going\n",
      "keep going\n",
      "keep going\n",
      "keep going\n",
      "keep going\n",
      "You used to much milk!\n"
     ]
    }
   ],
   "source": [
    "ml = 0\n",
    "\n",
    "#CODE HERE\n",
    "while True:\n",
    "    if ml > 450:\n",
    "        print(\"You used to much milk!\")\n",
    "        break\n",
    "    else:\n",
    "        ml += 100\n",
    "        print(\"keep going\")"
   ]
  },
  {
   "cell_type": "markdown",
   "metadata": {},
   "source": [
    "18. Turn this sentence into a list of words using the .split() method. "
   ]
  },
  {
   "cell_type": "code",
   "execution_count": 3,
   "metadata": {},
   "outputs": [],
   "source": [
    "paragraph = '''October arrived, spreading a damp chill over the grounds and into the castle. \n",
    "    Madam Pomfrey, the nurse, was kept busy by a sudden spate of colds among the staff and students. \n",
    "    Her Pepperup potion worked instantly, though it left the drinker smoking at the ears for several \n",
    "    hours afterward. Ginny Weasley, who had been looking pale, was bullied into taking some by Percy. \n",
    "    The steam pouring from under her vivid hair gave the impression that her whole head was on fire.'''"
   ]
  },
  {
   "cell_type": "code",
   "execution_count": 10,
   "metadata": {},
   "outputs": [
    {
     "name": "stdout",
     "output_type": "stream",
     "text": [
      "['October', 'arrived,', 'spreading', 'a', 'damp', 'chill', 'over', 'the', 'grounds', 'and', 'into', 'the', 'castle', 'Madam', 'Pomfrey,', 'the', 'nurse,', 'was', 'kept', 'busy', 'by', 'a', 'sudden', 'spate', 'of', 'colds', 'among', 'the', 'staff', 'and', 'students', 'Her', 'Pepperup', 'potion', 'worked', 'instantly,', 'though', 'it', 'left', 'the', 'drinker', 'smoking', 'at', 'the', 'ears', 'for', 'several', 'hours', 'afterward', 'Ginny', 'Weasley,', 'who', 'had', 'been', 'looking', 'pale,', 'was', 'bullied', 'into', 'taking', 'some', 'by', 'Percy', 'The', 'steam', 'pouring', 'from', 'under', 'her', 'vivid', 'hair', 'gave', 'the', 'impression', 'that', 'her', 'whole', 'head', 'was', 'on', 'fire']\n"
     ]
    },
    {
     "data": {
      "text/plain": [
       "list"
      ]
     },
     "execution_count": 10,
     "metadata": {},
     "output_type": "execute_result"
    }
   ],
   "source": [
    "# CODE HERE\n",
    "par = paragraph.replace(\".\", \"\")\n",
    "\n",
    "p_list = par.split()\n",
    "print(p_list)\n",
    "type(p_list)"
   ]
  },
  {
   "cell_type": "markdown",
   "metadata": {},
   "source": [
    "19. Calculate the average wordlength of the paragraph of the previous exercise."
   ]
  },
  {
   "cell_type": "code",
   "execution_count": 13,
   "metadata": {},
   "outputs": [
    {
     "name": "stdout",
     "output_type": "stream",
     "text": [
      "4.703703703703703\n"
     ]
    }
   ],
   "source": [
    "total_letters = 0\n",
    "\n",
    "#CODE HERE\n",
    "for word in p_list:\n",
    "    total_letters  += len(word)\n",
    "print(total_letters/len(p_list))"
   ]
  }
 ],
 "metadata": {
  "kernelspec": {
   "display_name": "Python 3 (ipykernel)",
   "language": "python",
   "name": "python3"
  },
  "language_info": {
   "codemirror_mode": {
    "name": "ipython",
    "version": 3
   },
   "file_extension": ".py",
   "mimetype": "text/x-python",
   "name": "python",
   "nbconvert_exporter": "python",
   "pygments_lexer": "ipython3",
   "version": "3.11.4"
  },
  "vscode": {
   "interpreter": {
    "hash": "96e0a4d32f1918f770291244863a4a1e044b05d1a3b8d455e2e179187e01062a"
   }
  }
 },
 "nbformat": 4,
 "nbformat_minor": 2
}
