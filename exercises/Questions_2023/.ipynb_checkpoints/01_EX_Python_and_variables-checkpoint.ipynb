{
 "cells": [
  {
   "cell_type": "markdown",
   "metadata": {},
   "source": [
    "# Exercise notebook 1 - Python and variables"
   ]
  },
  {
   "cell_type": "markdown",
   "metadata": {},
   "source": [
    "This Exercise notebook complements the Chapter on *python and variables*. <br>\n",
    "Try to prepare the <ins>underlined exercises </ins> for the exercise sessions.\n",
    "\n"
   ]
  },
  {
   "cell_type": "markdown",
   "metadata": {},
   "source": [
    "1. <ins>create a variable called first_name, and put your own name as value. "
   ]
  },
  {
   "cell_type": "code",
   "execution_count": 1,
   "metadata": {},
   "outputs": [],
   "source": [
    "first_name = \"Ruben\""
   ]
  },
  {
   "cell_type": "markdown",
   "metadata": {},
   "source": [
    "2. <ins> Print the variable 'first_name' using the print function. </ins>"
   ]
  },
  {
   "cell_type": "code",
   "execution_count": 3,
   "metadata": {},
   "outputs": [
    {
     "name": "stdout",
     "output_type": "stream",
     "text": [
      "Ruben\n"
     ]
    }
   ],
   "source": [
    "print(first_name)"
   ]
  },
  {
   "cell_type": "markdown",
   "metadata": {},
   "source": [
    "3. <ins>Create another variable 'last_name' and add your surname as a value. Concatenate the two strings and add this to a variable 'full_name'. <br> *Make sure that your first name and surname are divided by a whitespace* </ins>"
   ]
  },
  {
   "cell_type": "code",
   "execution_count": 6,
   "metadata": {},
   "outputs": [
    {
     "data": {
      "text/plain": [
       "'Ruben Peeters'"
      ]
     },
     "execution_count": 6,
     "metadata": {},
     "output_type": "execute_result"
    }
   ],
   "source": [
    "last_name = \"Peeters\"\n",
    "full_name = first_name +\" \"+ last_name\n",
    "full_name"
   ]
  },
  {
   "cell_type": "markdown",
   "metadata": {},
   "source": [
    "4. <ins> Create two more variables 'x' and 'y' and assign a number to each variable. </ins>"
   ]
  },
  {
   "cell_type": "code",
   "execution_count": 10,
   "metadata": {},
   "outputs": [],
   "source": [
    "x = 2\n",
    "y = 6"
   ]
  },
  {
   "cell_type": "markdown",
   "metadata": {},
   "source": [
    "5. <ins>Multiply the above two numbers together using their variables and store the result into a new variable. <br>Print the new variable to check if the multiplication worked.</ins>"
   ]
  },
  {
   "cell_type": "code",
   "execution_count": 11,
   "metadata": {},
   "outputs": [
    {
     "name": "stdout",
     "output_type": "stream",
     "text": [
      "12\n"
     ]
    }
   ],
   "source": [
    "z = x*y\n",
    "print(z)"
   ]
  },
  {
   "cell_type": "markdown",
   "metadata": {},
   "source": [
    "6. <ins> Use the same multiplication method to repeat *a string* several times.</ins>"
   ]
  },
  {
   "cell_type": "code",
   "execution_count": 12,
   "metadata": {},
   "outputs": [
    {
     "data": {
      "text/plain": [
       "'repeatrepeatrepeatrepeatrepeatrepeatrepeatrepeatrepeat'"
      ]
     },
     "execution_count": 12,
     "metadata": {},
     "output_type": "execute_result"
    }
   ],
   "source": [
    "\"repeat\"*9"
   ]
  },
  {
   "cell_type": "markdown",
   "metadata": {},
   "source": [
    "7. <ins>Change the cell so that output will be 'True'"
   ]
  },
  {
   "cell_type": "code",
   "execution_count": 13,
   "metadata": {},
   "outputs": [
    {
     "data": {
      "text/plain": [
       "True"
      ]
     },
     "execution_count": 13,
     "metadata": {},
     "output_type": "execute_result"
    }
   ],
   "source": [
    "x = 12\n",
    "y = 3*4\n",
    "x == y"
   ]
  },
  {
   "cell_type": "markdown",
   "metadata": {},
   "source": [
    "8. <ins> Can you explain why an error occurs when running the cell below and fix the error(s)? </ins>"
   ]
  },
  {
   "cell_type": "code",
   "execution_count": 16,
   "metadata": {},
   "outputs": [],
   "source": [
    "my_name = 'Tommy'\n",
    "river_fish_ = 'herring' \n",
    "nr_spartans = 300\n",
    "Equals10 = 15 \n",
    "age = 46 \n",
    "Time = 'Noon' \n",
    "Cruise = Hardy = Hanks = 'Tom' \n",
    "\n",
    "# my-name has a dash in the variable name which python recognizes as a subtraction\n",
    "# 300 was used as variable name but was a number which is a reserved word in Python\n",
    "# Age which is character/string was used as a variable name, which is not allowed\n",
    "# Noon was set between unequal quotation marks -> \" \" and ' '  were mixed\n"
   ]
  },
  {
   "cell_type": "markdown",
   "metadata": {},
   "source": [
    "9. <ins> There are 94 taken seats in the cinema. 46 of the seats are taken by students, who only have to pay 8,5 euros entry. <br>The rest has to pay 10.50 euros. How much would it cost to pay for everyone's ticket? <ins>"
   ]
  },
  {
   "cell_type": "code",
   "execution_count": 19,
   "metadata": {},
   "outputs": [
    {
     "data": {
      "text/plain": [
       "895.0"
      ]
     },
     "execution_count": 19,
     "metadata": {},
     "output_type": "execute_result"
    }
   ],
   "source": [
    "total_seats = 94\n",
    "student_seats = 46\n",
    "student_price = 8.5\n",
    "adult_price = 10.5\n",
    "\n",
    "\n",
    "total_cost = student_seats*student_price + (total_seats-student_seats)*adult_price\n",
    "total_cost"
   ]
  },
  {
   "cell_type": "markdown",
   "metadata": {},
   "source": [
    "## Additional exercises"
   ]
  },
  {
   "cell_type": "markdown",
   "metadata": {},
   "source": [
    "These are extra. You do not need to prepare them for the exercise session."
   ]
  },
  {
   "cell_type": "markdown",
   "metadata": {},
   "source": [
    "10. Suppose the cover price of a book is 24.95 EUR, but bookstores get a 40 percent discount. Shipping costs 3 EUR for the first copy and 75 cents for each additional copy. What is the total wholesale cost for 60 copies? Print the result in a pretty fashion, using casting where necessary!"
   ]
  },
  {
   "cell_type": "code",
   "execution_count": 45,
   "metadata": {},
   "outputs": [
    {
     "name": "stdout",
     "output_type": "stream",
     "text": [
      "The wholesale cost for 60 copies is 946.2 EUR\n"
     ]
    }
   ],
   "source": [
    "cover_price = 24.95\n",
    "discount = 0.4\n",
    "shipping = 0.75\n",
    "nr_books = 60\n",
    "discount_price = cover_price-(cover_price*discount)\n",
    "\n",
    "total_cost = round(nr_books*discount_price + 3+shipping*nr_books, 2)\n",
    "\n",
    "print(\"The wholesale cost for \" + str(nr_books)+ \" copies is \"+ str(total_cost)+ \" EUR\")\n"
   ]
  },
  {
   "cell_type": "markdown",
   "metadata": {},
   "source": [
    "11. Can you identify and explain the errors in the following lines of code? Correct them please!"
   ]
  },
  {
   "cell_type": "code",
   "execution_count": 31,
   "metadata": {},
   "outputs": [
    {
     "name": "stdout",
     "output_type": "stream",
     "text": [
      "A message\n",
      "A message\n",
      "A message\n"
     ]
    }
   ],
   "source": [
    "print(\"A message\")\n",
    "print(\"A message\")  \n",
    "print('A message') \n",
    "      \n",
    "#a . after the line\n",
    "# redundant quotation mark\n",
    "#redundant quotation mark/mixing of quotation marks"
   ]
  },
  {
   "cell_type": "markdown",
   "metadata": {},
   "source": [
    "12. Calculate the surface of a circle with a radius of 6. The formula is radius times radius times pi (3.14159)."
   ]
  },
  {
   "cell_type": "code",
   "execution_count": 37,
   "metadata": {},
   "outputs": [
    {
     "data": {
      "text/plain": [
       "113.09724"
      ]
     },
     "execution_count": 37,
     "metadata": {},
     "output_type": "execute_result"
    }
   ],
   "source": [
    "radius = 6\n",
    "pi = 3.14159\n",
    "\n",
    "surface = pi*(radius**2)\n",
    "surface"
   ]
  },
  {
   "cell_type": "markdown",
   "metadata": {},
   "source": [
    "13. Use Python as a calculator to calculate the number of seconds in seven years (in one line of code). Assign the output to a variable with a clear variable name. Print the result."
   ]
  },
  {
   "cell_type": "code",
   "execution_count": 38,
   "metadata": {},
   "outputs": [
    {
     "name": "stdout",
     "output_type": "stream",
     "text": [
      "220752000\n"
     ]
    }
   ],
   "source": [
    "seconds_7_years = 7*365*24*60*60\n",
    "print(seconds_7_years)\n",
    "#does not include extra days for leap years"
   ]
  },
  {
   "cell_type": "markdown",
   "metadata": {},
   "source": [
    "14. Assign a number to the variable 'temperature'. Make sure you can print the statement \"it is [temperature] degrees today\" using the variable.\n"
   ]
  },
  {
   "cell_type": "code",
   "execution_count": 41,
   "metadata": {},
   "outputs": [
    {
     "name": "stdout",
     "output_type": "stream",
     "text": [
      "It is 9 degrees today\n"
     ]
    }
   ],
   "source": [
    "temperature = 9\n",
    "\n",
    "print(\"It is \"+ str(temperature)+\" degrees today\")"
   ]
  },
  {
   "cell_type": "markdown",
   "metadata": {},
   "source": [
    "15. Can you write some code that swaps the values of these two variables? Hint: create an extra variable."
   ]
  },
  {
   "cell_type": "code",
   "execution_count": 46,
   "metadata": {},
   "outputs": [],
   "source": [
    "first_number = 3\n",
    "second_number = 5\n",
    "temp = second_number\n",
    "second_number = first_number\n",
    "first_number = temp\n",
    "\n",
    "#code here"
   ]
  },
  {
   "cell_type": "markdown",
   "metadata": {},
   "source": [
    "16. Can you explain why the first cell below runs, and the second doesn't. Change the cells to make sure the error no longer occurs.\n"
   ]
  },
  {
   "cell_type": "code",
   "execution_count": 22,
   "metadata": {},
   "outputs": [
    {
     "data": {
      "text/plain": [
       "'Hansel Gretel'"
      ]
     },
     "execution_count": 22,
     "metadata": {},
     "output_type": "execute_result"
    }
   ],
   "source": [
    "brother = 'Hansel '\n",
    "sister = 'Gretel'\n",
    "siblings = brother + sister\n",
    "siblings"
   ]
  },
  {
   "cell_type": "code",
   "execution_count": 47,
   "metadata": {},
   "outputs": [
    {
     "data": {
      "text/plain": [
       "'12 monkeys'"
      ]
     },
     "execution_count": 47,
     "metadata": {},
     "output_type": "execute_result"
    }
   ],
   "source": [
    "amount = 12\n",
    "animals = ' monkeys'\n",
    "movie_title = str(amount) + animals\n",
    "movie_title\n",
    "\n",
    "#This line tries to print integer and string together so the type of amount needs to be changed."
   ]
  },
  {
   "cell_type": "markdown",
   "metadata": {},
   "source": [
    "17. Print the first_name and last_name variables you created in an earlier exercise using only one print statement."
   ]
  },
  {
   "cell_type": "code",
   "execution_count": 48,
   "metadata": {},
   "outputs": [
    {
     "name": "stdout",
     "output_type": "stream",
     "text": [
      "Ruben Peeters\n"
     ]
    }
   ],
   "source": [
    "print(first_name + \" \"+ last_name)"
   ]
  },
  {
   "cell_type": "markdown",
   "metadata": {},
   "source": [
    "18. Think about the output before running it. What do you think this cell will return?"
   ]
  },
  {
   "cell_type": "code",
   "execution_count": 49,
   "metadata": {},
   "outputs": [],
   "source": [
    "x = 3\n",
    "y = 15\n",
    "\n",
    "b = y\n",
    "y = x\n",
    "x = b - 1\n",
    "\n",
    "#print(b) 15\n",
    "#print(y) 3\n",
    "#print(x) 14"
   ]
  },
  {
   "cell_type": "markdown",
   "metadata": {},
   "source": [
    "19. A bit of math. Add brackets to change the value of x so that the statement returns True."
   ]
  },
  {
   "cell_type": "code",
   "execution_count": 62,
   "metadata": {},
   "outputs": [
    {
     "data": {
      "text/plain": [
       "True"
      ]
     },
     "execution_count": 62,
     "metadata": {},
     "output_type": "execute_result"
    }
   ],
   "source": [
    "x = 15 - 6 * 2 - (1 + 2)\n",
    "\n",
    "x == 0"
   ]
  },
  {
   "cell_type": "markdown",
   "metadata": {},
   "source": [
    "20. There are 10 books that will be evenly divided among 3 students. Can you create a python cell to in which you calculate how many books will be left after the even division. TIP: look online to check what the % -operator does."
   ]
  },
  {
   "cell_type": "code",
   "execution_count": 56,
   "metadata": {},
   "outputs": [
    {
     "data": {
      "text/plain": [
       "1"
      ]
     },
     "execution_count": 56,
     "metadata": {},
     "output_type": "execute_result"
    }
   ],
   "source": [
    "books = 10\n",
    "students = 3\n",
    "\n",
    "books_left = books % students\n",
    "books_left"
   ]
  },
  {
   "cell_type": "markdown",
   "metadata": {},
   "source": [
    "Bonus: can you try to recreate the previous exercise, without using the %-operator? Change the number of books to check if it worked."
   ]
  },
  {
   "cell_type": "code",
   "execution_count": 61,
   "metadata": {},
   "outputs": [
    {
     "data": {
      "text/plain": [
       "1"
      ]
     },
     "execution_count": 61,
     "metadata": {},
     "output_type": "execute_result"
    }
   ],
   "source": [
    "books_left = books - (books//students)*students\n",
    "books_left"
   ]
  }
 ],
 "metadata": {
  "kernelspec": {
   "display_name": "Python 3 (ipykernel)",
   "language": "python",
   "name": "python3"
  },
  "language_info": {
   "codemirror_mode": {
    "name": "ipython",
    "version": 3
   },
   "file_extension": ".py",
   "mimetype": "text/x-python",
   "name": "python",
   "nbconvert_exporter": "python",
   "pygments_lexer": "ipython3",
   "version": "3.11.4"
  },
  "vscode": {
   "interpreter": {
    "hash": "96e0a4d32f1918f770291244863a4a1e044b05d1a3b8d455e2e179187e01062a"
   }
  }
 },
 "nbformat": 4,
 "nbformat_minor": 2
}
