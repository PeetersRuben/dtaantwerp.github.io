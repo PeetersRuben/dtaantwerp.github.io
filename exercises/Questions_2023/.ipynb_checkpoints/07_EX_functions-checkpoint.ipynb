{
 "cells": [
  {
   "cell_type": "markdown",
   "metadata": {},
   "source": [
    "# Exercise notebook 7 - Functions"
   ]
  },
  {
   "cell_type": "markdown",
   "metadata": {},
   "source": [
    "This exercise notebook complements the notebook of **Functions**. <br> Use this [notebook](https://github.com/dtaantwerp/dtaantwerp.github.io/blob/53c91013df4514a943a9fad441fb5f28dc6f6bab/notebooks/08_W2_Wed_Functions.ipynb) for a complete explanation of the theory.\n",
    "\n",
    "#\n",
    "\n",
    "Try to prepare the <ins>underlined exercises</ins> for the exercise session. \n",
    "\n",
    "==============================================================================="
   ]
  },
  {
   "cell_type": "markdown",
   "metadata": {},
   "source": [
    "Remember that the syntax of a function is always roughly the same:\n",
    "\n",
    "```python\n",
    "def name(arguments):\n",
    "    body\n",
    "    return \n",
    "```"
   ]
  },
  {
   "cell_type": "markdown",
   "metadata": {},
   "source": [
    "1. <ins> Can you rewrite the following piece of code as a function called 'acrostic'. Check if your function worked by applying it on the first and second excerpt."
   ]
  },
  {
   "cell_type": "code",
   "execution_count": 63,
   "metadata": {},
   "outputs": [
    {
     "name": "stdout",
     "output_type": "stream",
     "text": [
      "HEAR\n"
     ]
    }
   ],
   "source": [
    "excerpt1 = '''How the Chimney-sweepers cry\n",
    "Every blackning Church appalls,\n",
    "And the hapless Soldiers sigh\n",
    "Runs in blood down Palace walls'''\n",
    "\n",
    "excerpt2 = '''On the shore, I stand and gaze\n",
    "Crystal clear waves, my mind ablaze\n",
    "Endlessly stretching, vast and blue\n",
    "A world beneath, unexplored and new\n",
    "Nature's force, powerful and grand'''\n",
    "\n",
    "result = ''\n",
    "\n",
    "for item in excerpt1.split('\\n'):\n",
    "    result += item[0]\n",
    "print(result)"
   ]
  },
  {
   "cell_type": "code",
   "execution_count": 8,
   "metadata": {},
   "outputs": [
    {
     "name": "stdout",
     "output_type": "stream",
     "text": [
      "OCEAN\n"
     ]
    }
   ],
   "source": [
    "#CODE HERE\n",
    "def acrostic(text):\n",
    "    result = ''\n",
    "    for item in text.split('\\n'):\n",
    "        result += item[0]\n",
    "    print(result)\n",
    "    \n",
    "acrostic(excerpt2)"
   ]
  },
  {
   "cell_type": "markdown",
   "metadata": {},
   "source": [
    "2.  <ins> Write a function that searches a given text for words that meet two conditions: \n",
    "- they are longer than a specified minimum length, \n",
    "- they start with a specified letter. \n",
    "\n",
    "However, the function should  allow easy customization of these parameters, so that they can be changed to search for words of a different minimum length and starting with a different letter. For example, the function should be flexible enough to search for words longer than 3 characters and starting with 'c', simply by changing the parameters passed to it.\n"
   ]
  },
  {
   "cell_type": "code",
   "execution_count": 70,
   "metadata": {},
   "outputs": [
    {
     "data": {
      "text/plain": [
       "['cat']"
      ]
     },
     "execution_count": 70,
     "metadata": {},
     "output_type": "execute_result"
    }
   ],
   "source": [
    "#CODE HERE\n",
    "def my_func(text, minimum, letter):\n",
    "    words = text.lower().split()\n",
    "    found = []\n",
    "    for word in words:\n",
    "        if len(word) >= minimum and word[0] == letter:\n",
    "            found.append(word)\n",
    "    return found\n",
    "        \n",
    "my_func(\"I really enjoy playing with my cat\", 3, \"c\")\n",
    "        "
   ]
  },
  {
   "cell_type": "markdown",
   "metadata": {},
   "source": [
    "3. <ins> Rewrite the function of the previous exercise, but make sure that the default-settings are words longer than 4 characters and starting with 's'. Try it out on the two excerpts of exercise 1."
   ]
  },
  {
   "cell_type": "code",
   "execution_count": 73,
   "metadata": {},
   "outputs": [
    {
     "name": "stdout",
     "output_type": "stream",
     "text": [
      "['soldiers', 'sigh']\n",
      "['shore,', 'stand', 'stretching,']\n"
     ]
    }
   ],
   "source": [
    "#CODE HERE\n",
    "def my_func(text, minimum= 4, letter = \"s\"):\n",
    "    words = text.lower().split()\n",
    "    found = []\n",
    "    for word in words:\n",
    "        if len(word) >= minimum and word[0] == letter:\n",
    "            found.append(word)\n",
    "    return found\n",
    "        \n",
    "print(my_func(excerpt1))\n",
    "print(my_func(excerpt2))\n",
    "        "
   ]
  },
  {
   "cell_type": "markdown",
   "metadata": {},
   "source": [
    "4. <ins> What will happen if you run the function you wrote in exercise 3, without passing any arguments?"
   ]
  },
  {
   "cell_type": "code",
   "execution_count": null,
   "metadata": {},
   "outputs": [],
   "source": [
    "ex_3()\n",
    "\n",
    "#You do not necessarily have to pass the default arguments when calling the function.\n",
    "#However, the 'text' argument has no default setting and should therefore always be specified.\n",
    "#If you do not specify this when calling the argument, it will throw a TypeError 'missing x required prepositional argument'"
   ]
  },
  {
   "cell_type": "markdown",
   "metadata": {},
   "source": [
    "5. <ins> Create a function in which the alphabet dictionary is updated with the C and D, using the **kwargs argument.\n",
    " - C for charlie\n",
    " - D for delta"
   ]
  },
  {
   "cell_type": "code",
   "execution_count": 75,
   "metadata": {},
   "outputs": [
    {
     "data": {
      "text/plain": [
       "{'A': 'alpha', 'B': 'bravo', 'C': 'charlie', 'D': 'delta'}"
      ]
     },
     "execution_count": 75,
     "metadata": {},
     "output_type": "execute_result"
    }
   ],
   "source": [
    "alphabet = {'A': 'alpha', 'B': 'bravo'}\n",
    "\n",
    "#CODE HERE\n",
    "def update(alphabet, **kwargs):\n",
    "    alphabet.update(kwargs)\n",
    "    return alphabet\n",
    "\n",
    "#run function\n",
    "update(alphabet, C= \"charlie\", D = \"delta\")"
   ]
  },
  {
   "cell_type": "markdown",
   "metadata": {},
   "source": [
    "6. <ins> Think about the output before running the cell. What will be printed?"
   ]
  },
  {
   "cell_type": "code",
   "execution_count": null,
   "metadata": {},
   "outputs": [],
   "source": [
    "import math\n",
    "nr = 9\n",
    "\n",
    "def toy_function (nr):\n",
    "    nr = math.sqrt(nr)\n",
    "    return nr + 1\n",
    "\n",
    "print(toy_function(nr))\n",
    "print(nr)"
   ]
  },
  {
   "cell_type": "markdown",
   "metadata": {},
   "source": [
    "7. <ins>Replicate the \"len()\" function: the function should take an iterable as its only argument and return the length of that iterable (without using \"len()\"). <br>Test whether your function works by applying it to a string, list, dictionary and tuple."
   ]
  },
  {
   "cell_type": "code",
   "execution_count": 80,
   "metadata": {},
   "outputs": [],
   "source": [
    "#CODE HERE\n",
    "def my_len(iterable):\n",
    "    count = 0\n",
    "    for el in iterable:\n",
    "        count += 1\n",
    "    return count\n"
   ]
  },
  {
   "cell_type": "code",
   "execution_count": 81,
   "metadata": {},
   "outputs": [
    {
     "name": "stdout",
     "output_type": "stream",
     "text": [
      "4\n",
      "5\n",
      "8\n",
      "4\n"
     ]
    }
   ],
   "source": [
    "#Let's try it out.\n",
    "\n",
    "print(my_len('word'))\n",
    "print(my_len(['this', 'is', 'a', 'tokenized', 'sentence']))\n",
    "print(my_len({0: 'this', 1: 'is', 2: 'a', 3: 'tokenized', 4: 'sentence', 5: 'with', 6:'token', 7:'positions'}))\n",
    "print(my_len(('this', 'is', 'a', 'tuple')))"
   ]
  },
  {
   "cell_type": "code",
   "execution_count": 82,
   "metadata": {},
   "outputs": [
    {
     "name": "stdout",
     "output_type": "stream",
     "text": [
      "4\n",
      "5\n",
      "8\n",
      "4\n"
     ]
    }
   ],
   "source": [
    "print(len('word'))\n",
    "print(len(['this', 'is', 'a', 'tokenized', 'sentence']))\n",
    "print(len({0: 'this', 1: 'is', 2: 'a', 3: 'tokenized', 4: 'sentence', 5: 'with', 6:'token', 7:'positions'}))\n",
    "print(len(('this', 'is', 'a', 'tuple')))"
   ]
  },
  {
   "cell_type": "markdown",
   "metadata": {},
   "source": [
    "8. Replicate the \"sum()\" function. <br>\n",
    "Define a function that takes a list of numbers as its only argument and that returns the sum of the numbers in that list (do not use \"sum()\" itself)"
   ]
  },
  {
   "cell_type": "code",
   "execution_count": 12,
   "metadata": {},
   "outputs": [
    {
     "name": "stdout",
     "output_type": "stream",
     "text": [
      "5\n"
     ]
    }
   ],
   "source": [
    "#CODE HERE\n",
    "def my_sum(integers):\n",
    "    total = 0\n",
    "    for el in integers:\n",
    "        total += int(el)\n",
    "    return total\n",
    "\n",
    "print(my_sum([1,2,5,2,9]))\n",
    "print(sum([1,2,5,2,9]))\n"
   ]
  },
  {
   "cell_type": "markdown",
   "metadata": {},
   "source": [
    "9. Recreate your own sum-function of the previous exercises, but this time using *args."
   ]
  },
  {
   "cell_type": "code",
   "execution_count": 89,
   "metadata": {},
   "outputs": [
    {
     "name": "stdout",
     "output_type": "stream",
     "text": [
      "19\n",
      "19\n"
     ]
    }
   ],
   "source": [
    "#CODE HERE\n",
    "def my_sum(*args):\n",
    "    total = 0\n",
    "    for el in args:\n",
    "        total += int(el)\n",
    "    return total\n",
    "\n",
    "print(my_sum(1,2,5,2,9))\n",
    "print(sum([1,2,5,2,9]))"
   ]
  },
  {
   "cell_type": "markdown",
   "metadata": {},
   "source": [
    "10. Write a function that takes three numbers as input and returns the largest of those number (without using \"max()\").\n"
   ]
  },
  {
   "cell_type": "code",
   "execution_count": 23,
   "metadata": {},
   "outputs": [
    {
     "data": {
      "text/plain": [
       "6"
      ]
     },
     "execution_count": 23,
     "metadata": {},
     "output_type": "execute_result"
    }
   ],
   "source": [
    "#CODE HERE\n",
    "def largest(nr1, nr2, nr3):\n",
    "    if nr1> nr2 and nr1 > nr3:\n",
    "        return(nr1)\n",
    "    elif nr2> nr1 and nr2 > nr3:\n",
    "        return (nr2)\n",
    "    else:\n",
    "        return(nr3)\n",
    "    \n",
    "largest(2,1,1)\n",
    "\n",
    "#\n",
    "\n"
   ]
  },
  {
   "cell_type": "markdown",
   "metadata": {},
   "source": [
    "11. Recreate the max() function in order to identify the largest number in **any** series of numbers."
   ]
  },
  {
   "cell_type": "code",
   "execution_count": 64,
   "metadata": {},
   "outputs": [
    {
     "data": {
      "text/plain": [
       "6"
      ]
     },
     "execution_count": 64,
     "metadata": {},
     "output_type": "execute_result"
    }
   ],
   "source": [
    "#CODE HERE\n",
    "def largest(*args):\n",
    "    lst = sorted(args)\n",
    "    return lst[-1]\n",
    "\n",
    "\n",
    "largest(1,4,6)"
   ]
  },
  {
   "cell_type": "markdown",
   "metadata": {},
   "source": [
    "12. Create a function that behaves similarly to the .pop() list method\n",
    "- Define a function that takes a list as input\n",
    "- Modify the list so that the last item  is removed (without using \"pop()\")\n",
    "- Return a tuple containing the modified list and the deleted element"
   ]
  },
  {
   "cell_type": "code",
   "execution_count": 90,
   "metadata": {},
   "outputs": [
    {
     "data": {
      "text/plain": [
       "(['first', 'word', 'best'], 'thing')"
      ]
     },
     "execution_count": 90,
     "metadata": {},
     "output_type": "execute_result"
    }
   ],
   "source": [
    "#CODE HERE\n",
    "def my_pop(lst):\n",
    "    output = lst[:-1], lst[-1]\n",
    "    return output\n",
    "   \n",
    "my_pop([\"first\", \"word\", \"best\", \"thing\"])"
   ]
  },
  {
   "cell_type": "markdown",
   "metadata": {},
   "source": [
    "13. Write a function you can use to greet any number of people by printing \"Hello there, {name}!\""
   ]
  },
  {
   "cell_type": "code",
   "execution_count": 54,
   "metadata": {},
   "outputs": [
    {
     "name": "stdout",
     "output_type": "stream",
     "text": [
      "Hello there, general Ruben\n",
      "Hello there, general Milan\n",
      "Hello there, general Kenobi\n",
      "None\n",
      "['Hello there Ruben', 'Hello there Milan', 'Hello there Kenobi']\n"
     ]
    }
   ],
   "source": [
    "#CODE HERE\n",
    "def greet(*args):\n",
    "    for name in args:\n",
    "        print(f\"Hello there, general {name}\")\n",
    "\n",
    "test = greet(\"Ruben\", \"Milan\", \"Kenobi\")\n",
    "print(test)\n",
    "\n",
    "\n",
    "#test prints None because return is not used in the function. Without return, no values will be returned.\n",
    "\n",
    "\n",
    "#So to return it\n",
    "def gret(*args):\n",
    "    output = []\n",
    "    for name in args:\n",
    "        greetings = f\"Hello there {name}\"\n",
    "        output.append(greetings)\n",
    "    return output\n",
    "\n",
    "test = gret(\"Ruben\", \"Milan\", \"Kenobi\")\n",
    "print(test)"
   ]
  },
  {
   "cell_type": "markdown",
   "metadata": {},
   "source": [
    "14. Preprocess text data using decomposition and functions within functions. Assume you want to preprocess a corpus of text. Below, you can find the first lines of the first Harry Potter novel to experiment.\n",
    "- Create a function that accepts a sentence as input and returns a tokenized sentence (split across whitespace)\n",
    "- Create a function that accepts a sentence as input and returns a lowercased sentence\n",
    "- Create a function that accepts a list of sentences as input and that returns a list of preprocessed sentences (use the functions created in step 1 and 2)\n",
    "- The preprocessing function should allow you to pass arguments that determine whether you want to lowercase and/or tokenize (or not)\n",
    "- Make sure to include a description of your function so that \"help(your_function)\" displays information about how your function works"
   ]
  },
  {
   "cell_type": "code",
   "execution_count": 56,
   "metadata": {},
   "outputs": [],
   "source": [
    "corpus = [\"\"\"Mr. and Mrs. Dursley, of number four, Privet Drive, were proud to say that they were perfectly normal, \n",
    "thank you very much.\"\"\", \"\"\"They were the last people you’d expect to be involved in anything strange or mysterious,\n",
    "because they just didn’t hold with such nonsense.\"\"\", \"\"\"Mr. Dursley was the director of a firm called Grunnings,\n",
    "which made drills.\"\"\", \"\"\"He was a big, beefy man with hardly any neck, although he did have a very large mustache.\"\"\",\n",
    "\"\"\"Mrs. Dursley was thin and blonde and had nearly twice the usual amount of neck, \n",
    "which came in very useful as she spent so much of hertime craning over garden fences, spying on the neighbors.\"\"\", \n",
    "\"\"\"The Dursleys had a small son called Dudley and in their opinion there was no finer boy anywhere.\"\"\"]"
   ]
  },
  {
   "cell_type": "code",
   "execution_count": 62,
   "metadata": {},
   "outputs": [
    {
     "name": "stdout",
     "output_type": "stream",
     "text": [
      "Help on function preprocess in module __main__:\n",
      "\n",
      "preprocess(corpus, token=True, lower=True)\n",
      "    This function takes a corpus and two arguments\n",
      "\n"
     ]
    }
   ],
   "source": [
    "#CODE HERE\n",
    "def tokenize(sentence):\n",
    "    return sentence.split()\n",
    "\n",
    "def lowercase(sentence):\n",
    "    return sentence.lower()\n",
    "\n",
    "def preprocess (corpus, token = True, lower =  True):\n",
    "    '''This function takes a corpus and two arguments'''\n",
    "    result = []\n",
    "    for sentence in corpus:\n",
    "        if lower:\n",
    "            sentence = lowercase(sentence)\n",
    "        if token:\n",
    "            sentence = tokenize(sentence)\n",
    "        result.append(sentence)\n",
    "    return result\n",
    "\n",
    "preprocess(corpus)\n",
    "help(preprocess)\n",
    "\n",
    "#Difference between .append and .extend\n",
    "#append gives list within lists because it combines list outputs\n",
    "#extend adds items to the existing list"
   ]
  },
  {
   "cell_type": "markdown",
   "metadata": {},
   "source": [
    "15. Import the random-module as r and create a function that takes two integers as input and returns a random integer within the range of those two integers."
   ]
  },
  {
   "cell_type": "code",
   "execution_count": 104,
   "metadata": {},
   "outputs": [
    {
     "data": {
      "text/plain": [
       "2"
      ]
     },
     "execution_count": 104,
     "metadata": {},
     "output_type": "execute_result"
    }
   ],
   "source": [
    "#CODE HERE\n",
    "import random\n",
    "\n",
    "def create_rand(lower, upper):\n",
    "    ran = random.randint(lower, upper)\n",
    "    return ran\n",
    "create_rand(1, 6)"
   ]
  },
  {
   "cell_type": "markdown",
   "metadata": {},
   "source": [
    "16. Create a function that takes a list of items as input and returns the list in a random order."
   ]
  },
  {
   "cell_type": "code",
   "execution_count": 109,
   "metadata": {},
   "outputs": [
    {
     "data": {
      "text/plain": [
       "['I', 'Move', 'Like', 'To', 'It']"
      ]
     },
     "execution_count": 109,
     "metadata": {},
     "output_type": "execute_result"
    }
   ],
   "source": [
    "#CODE HERE\n",
    "import random\n",
    "\n",
    "def rand_return(lst):\n",
    "    random.shuffle(lst)\n",
    "    return lst\n",
    "\n",
    "rand_return([\"I\",\"Like\", \"To\", \"Move\", \"It\"])"
   ]
  },
  {
   "cell_type": "markdown",
   "metadata": {},
   "source": [
    "17. Create a function that takes a random sample from a list. \n",
    "- Make sure that the number of samples taken from the list is easily customised, but the default is 1."
   ]
  },
  {
   "cell_type": "code",
   "execution_count": 115,
   "metadata": {},
   "outputs": [
    {
     "name": "stdout",
     "output_type": "stream",
     "text": [
      "Help on method sample in module random:\n",
      "\n",
      "sample(population, k, *, counts=None) method of random.Random instance\n",
      "    Chooses k unique random elements from a population sequence.\n",
      "    \n",
      "    Returns a new list containing elements from the population while\n",
      "    leaving the original population unchanged.  The resulting list is\n",
      "    in selection order so that all sub-slices will also be valid random\n",
      "    samples.  This allows raffle winners (the sample) to be partitioned\n",
      "    into grand prize and second place winners (the subslices).\n",
      "    \n",
      "    Members of the population need not be hashable or unique.  If the\n",
      "    population contains repeats, then each occurrence is a possible\n",
      "    selection in the sample.\n",
      "    \n",
      "    Repeated elements can be specified one at a time or with the optional\n",
      "    counts parameter.  For example:\n",
      "    \n",
      "        sample(['red', 'blue'], counts=[4, 2], k=5)\n",
      "    \n",
      "    is equivalent to:\n",
      "    \n",
      "        sample(['red', 'red', 'red', 'red', 'blue', 'blue'], k=5)\n",
      "    \n",
      "    To choose a sample from a range of integers, use range() for the\n",
      "    population argument.  This is especially fast and space efficient\n",
      "    for sampling from a large population:\n",
      "    \n",
      "        sample(range(10000000), 60)\n",
      "\n"
     ]
    }
   ],
   "source": [
    "#CODE HERE\n",
    "def rand_sample(pop, nr_sample = 1):\n",
    "    samp = random.sample(pop, nr_sample)\n",
    "    return samp\n",
    "\n",
    "rand_sample([1,3,5,2,5,7,8,3,6,7,9,9,9,9,9,1], 2)\n",
    "\n",
    "help(random.sample)\n",
    "\n",
    "#dit antwoord is wat de oplossing bevestigd, maar is niet helemaal juist.\n",
    "#want k is sample size, niet het aantal verschillende samples dat je neemt.\n",
    "\n"
   ]
  },
  {
   "cell_type": "markdown",
   "metadata": {},
   "source": [
    "18. Create a function that takes a string as input and returns the nr of vowels, consonantans and punctuations.\n",
    "- Make sure you ignore whitespaces.\n",
    "- Include a description of your function. "
   ]
  },
  {
   "cell_type": "code",
   "execution_count": 149,
   "metadata": {},
   "outputs": [
    {
     "name": "stdout",
     "output_type": "stream",
     "text": [
      "The number of vowels is 2\n",
      "The number of consonants is 2\n",
      "The number of punctuation marks is 1\n"
     ]
    }
   ],
   "source": [
    "#CODE HERE\n",
    "def vcp(text):\n",
    "    '''Function that takes a string as input and returns the nr of vowels, consonantans and punctuations.'''\n",
    "    vowels = 0\n",
    "    cons = 0\n",
    "    punc = 0\n",
    "    for char in text:\n",
    "        if char.lower() in \"aeiou\":\n",
    "            vowels += 1\n",
    "        elif char.isalpha() and char.lower() not in \"aieou\":\n",
    "            cons += 1\n",
    "        elif char == \" \":\n",
    "            continue\n",
    "        elif char.isnumeric() == True:\n",
    "            continue\n",
    "        else:\n",
    "            punc += 1\n",
    "            \n",
    "    print(f\"The number of vowels is {vowels}\")\n",
    "    print(f\"The number of consonants is {cons}\")\n",
    "    print(f\"The number of punctuation marks is {punc}\")\n",
    "    \n",
    "vcp(\"TeEt9. \")"
   ]
  },
  {
   "cell_type": "markdown",
   "metadata": {},
   "source": [
    "19. Write a Python function that takes a string as an argument and returns True if the string is a palindrome (i.e., reads the same backward as forward) and False otherwise."
   ]
  },
  {
   "cell_type": "code",
   "execution_count": 133,
   "metadata": {},
   "outputs": [
    {
     "name": "stdout",
     "output_type": "stream",
     "text": [
      "it's just a word\n"
     ]
    }
   ],
   "source": [
    "#CODE HERE\n",
    "def palindrome(word):\n",
    "    if word.lower()[::-1] == word.lower():\n",
    "        print(\"it's a palindrome\")\n",
    "    else:\n",
    "        print(\"it's just a word\")\n",
    "        \n",
    "palindrome(\"spoon\")"
   ]
  },
  {
   "cell_type": "markdown",
   "metadata": {},
   "source": [
    "20. Write a Python function that takes a string as an argument and returns the string with all the vowels replaced with the letter 'oodle'.\n"
   ]
  },
  {
   "cell_type": "code",
   "execution_count": 128,
   "metadata": {},
   "outputs": [
    {
     "data": {
      "text/plain": [
       "'thoodles oodles oodle toodlest'"
      ]
     },
     "execution_count": 128,
     "metadata": {},
     "output_type": "execute_result"
    }
   ],
   "source": [
    "#CODE HERE\n",
    "def rep_vow(text):\n",
    "    text2 =\"\"\n",
    "    for char in text:\n",
    "        if char in \"aeiou\":\n",
    "            text2 += \"oodle\"\n",
    "        else:\n",
    "            text2 += char\n",
    "    return text2\n",
    "\n",
    "rep_vow(\"this is a test\")"
   ]
  }
 ],
 "metadata": {
  "kernelspec": {
   "display_name": "Python 3 (ipykernel)",
   "language": "python",
   "name": "python3"
  },
  "language_info": {
   "codemirror_mode": {
    "name": "ipython",
    "version": 3
   },
   "file_extension": ".py",
   "mimetype": "text/x-python",
   "name": "python",
   "nbconvert_exporter": "python",
   "pygments_lexer": "ipython3",
   "version": "3.11.4"
  },
  "vscode": {
   "interpreter": {
    "hash": "96e0a4d32f1918f770291244863a4a1e044b05d1a3b8d455e2e179187e01062a"
   }
  }
 },
 "nbformat": 4,
 "nbformat_minor": 2
}
