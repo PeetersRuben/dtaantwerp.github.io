{
 "cells": [
  {
   "cell_type": "markdown",
   "metadata": {},
   "source": [
    "# Exercise notebook 6 - Frequency distributions"
   ]
  },
  {
   "cell_type": "markdown",
   "metadata": {},
   "source": [
    "This exercise notebook complements the notebook of **Frequency Distributions in Python Counting**. <br> Use this [notebook](https://github.com/dtaantwerp/dtaantwerp.github.io/blob/53c91013df4514a943a9fad441fb5f28dc6f6bab/notebooks/07_W2_Mon_Frequency_Distribution_in_Python_Counting_Text.ipynb) for a complete explanation of the theory.\n",
    "\n",
    "Try to prepare the <ins>underlined exercises</ins> for the exercise session. \n",
    "<br>\n",
    "<br>\n",
    "<br>\n",
    "\n",
    "We know it's helpful, but we ask you to only use the `Counter()` object if it is specified in the exercise."
   ]
  },
  {
   "cell_type": "markdown",
   "metadata": {},
   "source": [
    "1. <ins> Create a **character-based** frequency dictionary of the string below. \n",
    "- Make sure that uppercase and lowercase letters are interpreted as the same letter.\n"
   ]
  },
  {
   "cell_type": "code",
   "execution_count": 13,
   "metadata": {},
   "outputs": [
    {
     "name": "stdout",
     "output_type": "stream",
     "text": [
      "{'t': 65, 'h': 40, 'e': 65, ' ': 120, 'a': 54, 'r': 36, 'i': 58, 's': 40, 'c': 16, 'o': 40, 'f': 18, 'b': 13, 'u': 21, 'l': 27, 'n': 40, 'g': 16, '.': 13, 'v': 2, 'd': 7, '\\n': 17, '’': 1, 'm': 16, 'w': 11, 'p': 4, 'y': 7, 'k': 3, ',': 1}\n"
     ]
    }
   ],
   "source": [
    "Dorian = '''The artist is the creator of beautiful things. To reveal art and\n",
    "conceal the artist is art’s aim. The critic is he who can translate\n",
    "into another manner or a new material his impression of beautiful\n",
    "things.\n",
    "\n",
    "The highest as the lowest form of criticism is a mode of autobiography.\n",
    "Those who find ugly meanings in beautiful things are corrupt without\n",
    "being charming. This is a fault.\n",
    "\n",
    "Those who find beautiful meanings in beautiful things are the\n",
    "cultivated. For these there is hope. They are the elect to whom\n",
    "beautiful things mean only beauty.\n",
    "\n",
    "There is no such thing as a moral or an immoral book. Books are well\n",
    "written, or badly written. That is all.\n",
    "\n",
    "The nineteenth century dislike of realism is the rage of Caliban seeing\n",
    "his own face in a glass.'''\n",
    "\n",
    "#CODE HERE\n",
    "text = Dorian.lower()\n",
    "d = {}\n",
    "\n",
    "for char in text:\n",
    "    if char in d:\n",
    "        d[char] += 1\n",
    "    else:\n",
    "        d[char] = 1\n",
    "print(d)\n",
    "        \n",
    "        "
   ]
  },
  {
   "cell_type": "markdown",
   "metadata": {},
   "source": [
    "2. <ins> Create another frequency dictionary in which  you count **only the uppercase** letters in the text above."
   ]
  },
  {
   "cell_type": "code",
   "execution_count": 7,
   "metadata": {},
   "outputs": [
    {
     "name": "stdout",
     "output_type": "stream",
     "text": [
      "{'T': 11, 'F': 1, 'B': 1, 'C': 1}\n"
     ]
    }
   ],
   "source": [
    "#CODE HERE\n",
    "text2 =  Dorian\n",
    "d2 = {}\n",
    "\n",
    "for char in text2:\n",
    "    if char.isupper():\n",
    "        if char in d2:\n",
    "            d2[char] += 1\n",
    "        else:\n",
    "            d2[char] = 1\n",
    "print(d2)"
   ]
  },
  {
   "cell_type": "markdown",
   "metadata": {},
   "source": [
    "3. <ins> Create another character-level frequency dictionary based on the Dorian excerpt but this time:\n",
    "- make sure that uppercase and lowercase characters are interpreted as the same,\n",
    "- ignore punctuation,\n",
    "- ignore whitespaces and linebreaks."
   ]
  },
  {
   "cell_type": "code",
   "execution_count": 9,
   "metadata": {},
   "outputs": [
    {
     "name": "stdout",
     "output_type": "stream",
     "text": [
      "{'t': 5, 'h': 40, 'e': 65, 'a': 54, 'r': 36, 'i': 58, 's': 40, 'c': 2, 'o': 40, 'f': 5, 'b': 3, 'u': 21, 'l': 27, 'n': 40, 'g': 16, 'v': 2, 'd': 7, 'm': 16, 'w': 11, 'p': 4, 'y': 7, 'k': 3}\n"
     ]
    }
   ],
   "source": [
    "#CODE HERE\n",
    "d3 = {}\n",
    "\n",
    "for char in text2:\n",
    "    if char.isalnum():\n",
    "        if char in d3:\n",
    "            d3[char.lower()] += 1\n",
    "        else:\n",
    "            d3[char.lower()] =1\n",
    "print(d3)"
   ]
  },
  {
   "cell_type": "markdown",
   "metadata": {},
   "source": [
    "4. <ins> Write a piece of code that identifies all the letters of the alphabet that **do not** occur in the text."
   ]
  },
  {
   "cell_type": "code",
   "execution_count": 62,
   "metadata": {},
   "outputs": [
    {
     "name": "stdout",
     "output_type": "stream",
     "text": [
      "['j', 'q', 'x', 'z']\n",
      "['j', 'q', 'x', 'z']\n",
      "{'j', 'z', 'x', 'q'}\n"
     ]
    }
   ],
   "source": [
    "#CODE HERE -> create dictionary of all letters, and then filter out the letters of the alphabet not in the list\n",
    "intext = {}\n",
    "alphabet = \"abcdefghijklmnopqrstuvwxyz\"\n",
    "\n",
    "for char in text:\n",
    "    if char.isalnum():\n",
    "        if char in intext:\n",
    "            intext[char.lower()] += 1\n",
    "        else: \n",
    "            intext[char.lower()] =1\n",
    "keys  = \",\".join(intext.keys())\n",
    "\n",
    "notintext = []\n",
    "for char in alphabet:\n",
    "    if char not in intext:\n",
    "        notintext.append(char)\n",
    "print(notintext)\n",
    "\n",
    "\n",
    "        \n",
    "#solution with prefilled frequency distribution which then filters out only 0 values\n",
    "alphabet_s = []\n",
    "for char in alphabet:\n",
    "    alphabet_s.append(char)\n",
    "\n",
    "d4 = dict.fromkeys(alphabet_s, 0)\n",
    "notintext2 = []\n",
    "#print(d4)\n",
    "\n",
    "for char in text:\n",
    "    if char.isalnum():\n",
    "        d4[char.lower()] += 1\n",
    "for key, value in d4.items():\n",
    "    if value == 0:\n",
    "         notintext2.append(key)\n",
    "            \n",
    "print(notintext2)\n",
    "\n",
    "#easy solution without a forloop\n",
    "set1 = set(text2)\n",
    "set2 = set(alphabet)\n",
    "notintext3 = set2 - set1\n",
    "print(notintext3)\n"
   ]
  },
  {
   "cell_type": "markdown",
   "metadata": {},
   "source": [
    "5. <ins> Can you recreate the piece of code you wrote in exercise 1, but this time using 'try' and 'except' statements?"
   ]
  },
  {
   "cell_type": "code",
   "execution_count": 70,
   "metadata": {},
   "outputs": [
    {
     "name": "stdout",
     "output_type": "stream",
     "text": [
      "{'t': 65, 'h': 40, 'e': 65, ' ': 120, 'a': 54, 'r': 36, 'i': 58, 's': 40, 'c': 16, 'o': 40, 'f': 18, 'b': 13, 'u': 21, 'l': 27, 'n': 40, 'g': 16, '.': 13, 'v': 2, 'd': 7, '\\n': 17, '’': 1, 'm': 16, 'w': 11, 'p': 4, 'y': 7, 'k': 3, ',': 1}\n"
     ]
    }
   ],
   "source": [
    "#CODE HERE\n",
    "dict1 = {}\n",
    "\n",
    "for char in Dorian.lower():\n",
    "        try:\n",
    "            dict1[char] += 1\n",
    "        except:\n",
    "            dict1[char] = 1\n",
    "            \n",
    "print(dict1)"
   ]
  },
  {
   "cell_type": "markdown",
   "metadata": {},
   "source": [
    "6. <ins> Create a **word-based** frequency dictionary of the following string."
   ]
  },
  {
   "cell_type": "code",
   "execution_count": 66,
   "metadata": {},
   "outputs": [
    {
     "name": "stdout",
     "output_type": "stream",
     "text": [
      "{'congratulations!': 1, 'today': 1, 'is': 1, 'your': 6, 'day.': 1, \"you're\": 4, 'off': 2, 'to': 5, 'great': 1, 'places!': 1, 'and': 6, 'away!': 1, 'you': 9, 'have': 2, 'brains': 2, 'in': 3, 'head.': 1, 'feet': 1, 'shoes.': 1, 'can': 1, 'steer': 1, 'yourself': 1, 'any': 3, 'direction': 1, 'choose.': 1, 'on': 1, 'own.': 1, 'know': 1, 'what': 1, 'know.': 1, 'are': 1, 'the': 1, 'guy': 1, \"who'll\": 1, 'decide': 1, 'where': 1, 'go.': 1, \"you'll\": 3, 'look': 2, 'up': 1, 'down': 2, 'streets.': 1, \"'em\": 1, 'over': 1, 'with': 2, 'care.about': 1, 'some': 1, 'will': 1, 'say,': 1, '\"i': 1, \"don't\": 1, 'choose': 1, 'go': 3, 'there.\"': 1, 'head': 2, 'full': 2, 'of': 4, 'shoes': 1, 'feet,': 1, 'too': 1, 'smart': 1, 'not-so-good': 1, 'street.': 1, 'may': 1, 'not': 1, 'find': 1, 'want': 1, 'down.': 1, 'that': 1, 'case,': 1, 'course,': 1, 'straight': 1, 'out': 1, 'town.': 1}\n"
     ]
    }
   ],
   "source": [
    "Seuss = \"\"\"Congratulations! Today is your day. You're off to Great Places! You're off and away! \n",
    "            You have brains in your head. You have feet in your shoes. You can steer yourself Any direction you choose.\n",
    "            You're on your own. And you know what you know. And YOU are the guy who'll decide where to go.\n",
    "            You'll look up and down streets. Look 'em over with care.About some you will say, \"I don't choose to go there.\"\n",
    "            With your head full of brains and your shoes full of feet, You're too smart to go down any not-so-good street.\n",
    "            And you may not find any You'll want to go down. In that case, of course, You'll head straight out of town.\"\"\"\n",
    "\n",
    "#CODE HERE\n",
    "dic = {}\n",
    "\n",
    "for word in Seuss.lower().split():\n",
    "    if word in dic:\n",
    "        dic[word] += 1\n",
    "    else:\n",
    "        dic[word] = 1\n",
    "        \n",
    "print(dic)"
   ]
  },
  {
   "cell_type": "markdown",
   "metadata": {},
   "source": [
    "6. Below you'll find a list of strings, try to convert each item in the list to an integer. You'll notice that this will raise an error. Try to work your way around the error by using 'except'."
   ]
  },
  {
   "cell_type": "code",
   "execution_count": 77,
   "metadata": {},
   "outputs": [
    {
     "name": "stdout",
     "output_type": "stream",
     "text": [
      "[9, 5, 6, 8]\n"
     ]
    }
   ],
   "source": [
    "a_list = ['9', '5', 'N/A', '6', '8']\n",
    "converted_list = []\n",
    "\n",
    "#CODE HERE\n",
    "for el in a_list:\n",
    "    try:\n",
    "        converted_list.append(int(el))\n",
    "    except:\n",
    "        pass\n",
    "print(converted_list)"
   ]
  },
  {
   "cell_type": "markdown",
   "metadata": {},
   "source": [
    "7. By making use of the Counter() object, count how often each character occurs in the Seuss excerpt. "
   ]
  },
  {
   "cell_type": "code",
   "execution_count": 85,
   "metadata": {},
   "outputs": [
    {
     "name": "stdout",
     "output_type": "stream",
     "text": [
      "Counter({' ': 173, 'o': 74, 'e': 41, 'a': 36, 't': 35, 'y': 32, 'n': 31, 'u': 31, 'r': 27, 's': 23, 'd': 20, 'l': 19, 'h': 18, 'i': 16, 'w': 15, 'f': 14, '.': 13, 'c': 10, \"'\": 10, 'g': 9, '\\n': 5, 'k': 4, 'm': 4, ',': 4, '!': 3, 'v': 3, 'b': 3, 'p': 2, '\"': 2, '-': 2})\n"
     ]
    }
   ],
   "source": [
    "#CODE HERE\n",
    "from collections import Counter \n",
    "\n",
    "count = Counter()\n",
    "count.update(Counter(Seuss.lower()))\n",
    "print(count)\n",
    "    "
   ]
  },
  {
   "cell_type": "markdown",
   "metadata": {},
   "source": [
    "8. Update the counter with the characters of the Dorian excerpt. "
   ]
  },
  {
   "cell_type": "code",
   "execution_count": 86,
   "metadata": {},
   "outputs": [
    {
     "name": "stdout",
     "output_type": "stream",
     "text": [
      "Counter({' ': 293, 'o': 114, 'e': 106, 't': 100, 'a': 90, 'i': 74, 'n': 71, 'r': 63, 's': 63, 'h': 58, 'u': 52, 'l': 46, 'y': 39, 'f': 32, 'd': 27, 'c': 26, '.': 26, 'w': 26, 'g': 25, '\\n': 22, 'm': 20, 'b': 16, \"'\": 10, 'k': 7, 'p': 6, 'v': 5, ',': 5, '!': 3, '\"': 2, '-': 2, '’': 1})\n"
     ]
    }
   ],
   "source": [
    "#CODE HERE\n",
    "count.update(Counter(Dorian.lower()))\n",
    "print(count)\n"
   ]
  },
  {
   "cell_type": "markdown",
   "metadata": {},
   "source": [
    "9. Print the five most common characters of the culminated count of the Dorian and Seuss excerpts."
   ]
  },
  {
   "cell_type": "code",
   "execution_count": 87,
   "metadata": {},
   "outputs": [
    {
     "data": {
      "text/plain": [
       "[(' ', 293), ('o', 114), ('e', 106), ('t', 100), ('a', 90)]"
      ]
     },
     "execution_count": 87,
     "metadata": {},
     "output_type": "execute_result"
    }
   ],
   "source": [
    "#CODE HERE\n",
    "count.most_common(5)"
   ]
  },
  {
   "cell_type": "markdown",
   "metadata": {},
   "source": [
    "10. *A bit more difficult*: create a word-based frequency dictionary of the following text. \n",
    "- Lowercase the text\n",
    "- Make sure that the punctuation is seperatad from the word, i.e. the word 'accent' in the first line should be interpreted as the word 'accent' and a comma and not \"accent,\".\n",
    "- Once the preprocessing steps are completed you can create the frequency dictionary with the Counter object.\n",
    "- Print the 10 most common tokens in the text. \n",
    "\n",
    "The output should look like this: \n",
    "`[(',', 22),\n",
    " ('the', 20),\n",
    " ('of', 9),\n",
    " ('and', 7),\n",
    " ('in', 7),\n",
    " (';', 6),\n",
    " ('has', 4),\n",
    " ('to', 4),\n",
    " ('a', 4),\n",
    " ('is', 4)]`"
   ]
  },
  {
   "cell_type": "code",
   "execution_count": 93,
   "metadata": {},
   "outputs": [
    {
     "data": {
      "text/plain": [
       "[(',', 22),\n",
       " ('the', 20),\n",
       " ('of', 9),\n",
       " ('and', 7),\n",
       " ('in', 7),\n",
       " (';', 6),\n",
       " ('has', 4),\n",
       " ('to', 4),\n",
       " ('a', 4),\n",
       " ('is', 4)]"
      ]
     },
     "execution_count": 93,
     "metadata": {},
     "output_type": "execute_result"
    }
   ],
   "source": [
    "text = \"\"\"The hour when history speaks with its free and venerable accent, has\n",
    "not yet sounded for him; the moment has not come to pronounce a\n",
    "definite judgment on this king; the austere and illustrious historian\n",
    "Louis Blanc has himself recently softened his first verdict; Louis\n",
    "Philippe was elected by those two almosts which are called the 221\n",
    "and 1830, that is to say, by a half-Parliament, and a half-revolution;\n",
    "and in any case, from the superior point of view where philosophy must\n",
    "place itself, we cannot judge him here, as the reader has seen above,\n",
    "except with certain reservations in the name of the absolute democratic\n",
    "principle; in the eyes of the absolute, outside these two rights, the\n",
    "right of man in the first place, the right of the people in the second,\n",
    "all is usurpation; but what we can say, even at the present day, that\n",
    "after making these reserves is, that to sum up the whole, and in\n",
    "whatever manner he is considered, Louis Philippe, taken in himself, and\n",
    "from the point of view of human goodness, will remain, to use the\n",
    "antique language of ancient history, one of the best princes who ever\n",
    "sat on a throne.\"\"\"\n",
    "\n",
    "#CODE HERE\n",
    "all_words = []\n",
    "for words in text.lower().split():\n",
    "    if words[-1] not in alphabet:\n",
    "        all_words.append(words[0:-1])\n",
    "        all_words.append(words[-1])\n",
    "    else:\n",
    "        all_words.append(words)\n",
    "#print(all_words)\n",
    "\n",
    "\n",
    "freq = Counter(all_words)\n",
    "freq.most_common(10)"
   ]
  },
  {
   "cell_type": "markdown",
   "metadata": {},
   "source": [
    "11. Write a piece of code that takes in a list of integers and returns a dictionary where the keys are the unique integers in the list and the values are their frequency in the list."
   ]
  },
  {
   "cell_type": "code",
   "execution_count": 98,
   "metadata": {},
   "outputs": [
    {
     "name": "stdout",
     "output_type": "stream",
     "text": [
      "{1: 1, 2: 2, 3: 3, 4: 2, 5: 3, 6: 1, 7: 1, 8: 1, 9: 1}\n"
     ]
    }
   ],
   "source": [
    "#CODE HERE \n",
    "lstint = [1,2,3,3, 3, 2,4,4,5,5,5,6,7,8,9]\n",
    "dicin = {}\n",
    "\n",
    "for elin in lstint:\n",
    "    if elin in dicin:\n",
    "        dicin[elin] += 1\n",
    "    else: \n",
    "        dicin[elin] = 1\n",
    "\n",
    "print(dicin)"
   ]
  },
  {
   "cell_type": "code",
   "execution_count": null,
   "metadata": {},
   "outputs": [],
   "source": [
    "# Code that takes a list of integers and returns the int as a key and value\n",
    "for el in lstint:\n",
    "    dicin[el] = int(el)\n",
    "    \n",
    "print(dicin)"
   ]
  },
  {
   "cell_type": "markdown",
   "metadata": {},
   "source": [
    "12. Convert frequency dictionary to relative frequency dictionary\n",
    "\n",
    "- Create a character level frequency dictionary of the text below. \n",
    "- Make a copy of the frequency dictionary. Use copy() method; \n",
    "- Calculate the number of all characters in the text;\n",
    "- Iterate over the frequency dictionary to update a count to relative frequency;\n",
    "- Print relative frequency."
   ]
  },
  {
   "cell_type": "code",
   "execution_count": 103,
   "metadata": {},
   "outputs": [
    {
     "name": "stdout",
     "output_type": "stream",
     "text": [
      "{'I': 4, ' ': 35, 'c': 6, 'a': 15, 'n': 18, 'b': 2, 'u': 5, 'y': 9, 'm': 7, 's': 8, 'e': 14, 'l': 7, 'f': 5, 'o': 10, 'w': 2, 'r': 6, '\\n': 6, 'W': 1, 'i': 4, 't': 10, 'h': 7, 'd': 8, 'T': 1, 'k': 2, 'S': 1, 'g': 2, \"'\": 1, 'A': 1, 'Y': 1, ',': 1, 'v': 1}\n",
      "{'I': 0.02, ' ': 0.175, 'c': 0.03, 'a': 0.075, 'n': 0.09, 'b': 0.01, 'u': 0.025, 'y': 0.045, 'm': 0.035, 's': 0.04, 'e': 0.07, 'l': 0.035, 'f': 0.025, 'o': 0.05, 'w': 0.01, 'r': 0.03, '\\n': 0.03, 'W': 0.005, 'i': 0.02, 't': 0.05, 'h': 0.035, 'd': 0.04, 'T': 0.005, 'k': 0.01, 'S': 0.005, 'g': 0.01, \"'\": 0.005, 'A': 0.005, 'Y': 0.005, ',': 0.005, 'v': 0.005}\n"
     ]
    }
   ],
   "source": [
    "flowers = \"\"\"I can buy myself flowers\n",
    "Write my name in the sand\n",
    "Talk to myself for hours\n",
    "Say things you don't understand\n",
    "I can take myself dancing\n",
    "And I can hold my own hand\n",
    "Yeah, I can love me better than you can\"\"\"\n",
    "\n",
    "#CODE HERE\n",
    "freq = {}\n",
    "\n",
    "for char in flowers:\n",
    "    if char in freq:\n",
    "        freq[char] += 1\n",
    "    else:\n",
    "        freq[char] = 1\n",
    "print(freq)\n",
    "        \n",
    "rel_freq = freq.copy()\n",
    "size  = len(flowers)\n",
    "\n",
    "for el in freq:\n",
    "    rel_freq[el] /= size\n",
    "\n",
    "print(rel_freq)"
   ]
  },
  {
   "cell_type": "markdown",
   "metadata": {},
   "source": [
    "13. Recreate the frequency dictionary from te previous exercise using the Counter() object and then print the 5 least common letters."
   ]
  },
  {
   "cell_type": "code",
   "execution_count": 111,
   "metadata": {},
   "outputs": [
    {
     "name": "stdout",
     "output_type": "stream",
     "text": [
      "[(\"'\", 1), ('A', 1), ('Y', 1), (',', 1), ('v', 1)]\n"
     ]
    }
   ],
   "source": [
    "#CODE HERE\n",
    "freq1 = Counter(flowers)\n",
    "\n",
    "print(freq1.most_common()[-5:])"
   ]
  },
  {
   "cell_type": "markdown",
   "metadata": {},
   "source": [
    "14. Write a piece of code that takes in a list of words and returns the length of the longest word in the list."
   ]
  },
  {
   "cell_type": "code",
   "execution_count": 112,
   "metadata": {},
   "outputs": [
    {
     "name": "stdout",
     "output_type": "stream",
     "text": [
      "10\n"
     ]
    }
   ],
   "source": [
    "#CODE HERE\n",
    "lst = flowers.split()\n",
    "lengths = []\n",
    "\n",
    "for word in lst:\n",
    "    lengths.append(len(word))\n",
    "print(max(lengths))"
   ]
  },
  {
   "cell_type": "code",
   "execution_count": null,
   "metadata": {},
   "outputs": [],
   "source": []
  }
 ],
 "metadata": {
  "kernelspec": {
   "display_name": "Python 3 (ipykernel)",
   "language": "python",
   "name": "python3"
  },
  "language_info": {
   "codemirror_mode": {
    "name": "ipython",
    "version": 3
   },
   "file_extension": ".py",
   "mimetype": "text/x-python",
   "name": "python",
   "nbconvert_exporter": "python",
   "pygments_lexer": "ipython3",
   "version": "3.11.4"
  },
  "vscode": {
   "interpreter": {
    "hash": "96e0a4d32f1918f770291244863a4a1e044b05d1a3b8d455e2e179187e01062a"
   }
  }
 },
 "nbformat": 4,
 "nbformat_minor": 2
}
