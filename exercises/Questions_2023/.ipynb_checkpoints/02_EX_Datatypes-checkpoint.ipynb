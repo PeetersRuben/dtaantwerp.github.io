{
 "cells": [
  {
   "cell_type": "markdown",
   "metadata": {},
   "source": [
    "# Exercises on Datatypes\n",
    "\n",
    "This exercise notebook complements the notebook of **Datatypes**. Use this [notebook](https://github.com/dtaantwerp/dtaantwerp.github.io/blob/DTA_Bootcamp_2021_students/notebooks/03_W1_Wed_Data_Types_Lists_Dictionaries.ipynb) for a complete explanation of the theory.\n",
    "\n",
    "Try to prepare the <ins>underlined exercises</ins> for the exercise session. "
   ]
  },
  {
   "cell_type": "markdown",
   "metadata": {},
   "source": [
    "1. <ins> What are the datatypes of the variables below? Check if you were right, using the type() function."
   ]
  },
  {
   "cell_type": "code",
   "execution_count": 6,
   "metadata": {},
   "outputs": [
    {
     "name": "stdout",
     "output_type": "stream",
     "text": [
      "<class 'bool'>\n",
      "<class 'tuple'>\n",
      "<class 'int'>\n",
      "<class 'float'>\n",
      "<class 'list'>\n",
      "<class 'float'>\n",
      "<class 'int'>\n"
     ]
    }
   ],
   "source": [
    "A = False # bool\n",
    "B = ('Hello', 'there') #Tuple\n",
    "C = 24601 #integer\n",
    "D = 3.14 #float\n",
    "E = ['Hello', False, 24601, 3.14]  #list\n",
    "F = 5 + 1.0 #float\n",
    "G = 15 - 20 #integer\n",
    "\n",
    "# CODE HERE\n",
    "print(type(A))\n",
    "print(type(B))\n",
    "print(type(C))\n",
    "print(type(D))\n",
    "print(type(E))\n",
    "print(type(F))\n",
    "print(type(G))"
   ]
  },
  {
   "cell_type": "markdown",
   "metadata": {},
   "source": [
    "2. <ins> Convert temperature from Celsius to Fahrenheit. Use the following formula: f = 9/5*c+32. <br>What will be the datatype of the output?"
   ]
  },
  {
   "cell_type": "code",
   "execution_count": 8,
   "metadata": {},
   "outputs": [
    {
     "name": "stdout",
     "output_type": "stream",
     "text": [
      "53.6\n"
     ]
    },
    {
     "data": {
      "text/plain": [
       "float"
      ]
     },
     "execution_count": 8,
     "metadata": {},
     "output_type": "execute_result"
    }
   ],
   "source": [
    "C = 12\n",
    "F = (9/5*C) +32\n",
    "\n",
    "print(F)\n",
    "type(F)\n"
   ]
  },
  {
   "cell_type": "markdown",
   "metadata": {},
   "source": [
    "3. <ins> Indexing a string </ins>\n",
    "- Print the first letter of the string.\n",
    "- Print the last letter of the string.\n",
    "- Print only 'men'.\n",
    "- Print everything except the last letter.\n",
    "\n",
    "    "
   ]
  },
  {
   "cell_type": "code",
   "execution_count": 27,
   "metadata": {},
   "outputs": [
    {
     "name": "stdout",
     "output_type": "stream",
     "text": [
      "T\n",
      "t\n",
      "men\n",
      "Three men in a boa\n"
     ]
    }
   ],
   "source": [
    "title = 'Three men in a boat'\n",
    "\n",
    "#CODE HERE\n",
    "\n",
    "print(title[0])\n",
    "print(title[-1])\n",
    "print(title[6:9])\n",
    "print(title[:-1])"
   ]
  },
  {
   "cell_type": "markdown",
   "metadata": {},
   "source": [
    "4. <ins>Indexing a dictionary: print the **values** of the following keys to find their capitals: </ins>\n",
    "- New Mexico\n",
    "- Maine\n",
    "- Oregon\n"
   ]
  },
  {
   "cell_type": "code",
   "execution_count": 31,
   "metadata": {},
   "outputs": [
    {
     "name": "stdout",
     "output_type": "stream",
     "text": [
      "Santa Fe\n",
      "Augusta\n",
      "Salem\n"
     ]
    }
   ],
   "source": [
    "states = {'California':'Sacramento', 'Arizona':'Phoenix', 'Maine':'Augusta', 'New Jersey':'Trenton',\n",
    "      'New Mexico':'Santa Fe', 'Oregon':'Salem', 'Texas':'Austin', 'Wyoming':'Cheyenne'}\n",
    "\n",
    "\n",
    "#CODE HERE\n",
    "print(states[\"New Mexico\"])\n",
    "print(states[\"Maine\"])\n",
    "print(states[\"Oregon\"])\n"
   ]
  },
  {
   "cell_type": "markdown",
   "metadata": {},
   "source": [
    "5. <ins> Boolean operators: change the statement so that the output will be True<ins>"
   ]
  },
  {
   "cell_type": "code",
   "execution_count": 33,
   "metadata": {},
   "outputs": [
    {
     "data": {
      "text/plain": [
       "True"
      ]
     },
     "execution_count": 33,
     "metadata": {},
     "output_type": "execute_result"
    }
   ],
   "source": [
    "x = 3\n",
    "isinstance(x, int)"
   ]
  },
  {
   "cell_type": "code",
   "execution_count": 35,
   "metadata": {},
   "outputs": [
    {
     "data": {
      "text/plain": [
       "True"
      ]
     },
     "execution_count": 35,
     "metadata": {},
     "output_type": "execute_result"
    }
   ],
   "source": [
    "capitals= {'Belgium': 'Brussels', 'Barbados': 'Bridgetown', 'Lithuania': 'Vilnius'}\n",
    "isinstance(capitals, dict)"
   ]
  },
  {
   "cell_type": "code",
   "execution_count": 41,
   "metadata": {},
   "outputs": [
    {
     "data": {
      "text/plain": [
       "True"
      ]
     },
     "execution_count": 41,
     "metadata": {},
     "output_type": "execute_result"
    }
   ],
   "source": [
    "flag = {'red', 'white', 'blue'}\n",
    "isinstance(flag, set)\n"
   ]
  },
  {
   "cell_type": "markdown",
   "metadata": {},
   "source": [
    "6. <ins> Turn the string into a list. Check if the variable x and variably y is in the list. <br> \n",
    "- <ins> Remove the last element from the list, using the pop() function.\n",
    "- <ins>Append another item to the list.\n",
    "- <ins>Sort the list, so that the letters are in alphabetical order.\n",
    "\n"
   ]
  },
  {
   "cell_type": "code",
   "execution_count": 50,
   "metadata": {},
   "outputs": [
    {
     "name": "stdout",
     "output_type": "stream",
     "text": [
      "['t', 'u', 'r', 'n', ' ', 't', 'h', 'i', 's', ' ', 's', 'e', 'n', 't', 'e', 'n', 'c', 'e', ' ', 'i', 'n', 't', 'o', ' ', 'a', ' ', 'l', 'i', 's', 't']\n",
      "5\n",
      "0\n",
      "['t', 'u', 'r', 'n', ' ', 't', 'h', 'i', 's', ' ', 's', 'e', 'n', 't', 'e', 'n', 'c', 'e', ' ', 'i', 'n', 't', 'o', ' ', 'a', ' ', 'l', 'i', 's']\n",
      "['t', 'u', 'r', 'n', ' ', 't', 'h', 'i', 's', ' ', 's', 'e', 'n', 't', 'e', 'n', 'c', 'e', ' ', 'i', 'n', 't', 'o', ' ', 'a', ' ', 'l', 'i', 's', 'z']\n",
      "[' ', ' ', ' ', ' ', ' ', 'a', 'c', 'e', 'e', 'e', 'h', 'i', 'i', 'i', 'l', 'n', 'n', 'n', 'n', 'o', 'r', 's', 's', 's', 't', 't', 't', 't', 'u', 'z']\n"
     ]
    }
   ],
   "source": [
    "sentence = 'turn this sentence into a list'\n",
    "x = 't'\n",
    "y = 'y'\n",
    "\n",
    "#CODE HERE\n",
    "l_sentence = list(sentence)\n",
    "print(l_sentence)\n",
    "\n",
    "print(l_sentence.count(x))\n",
    "print(l_sentence.count(y))\n",
    "\n",
    "l_sentence.pop()\n",
    "print(l_sentence)\n",
    "\n",
    "l_sentence.append('z')\n",
    "print(l_sentence)\n",
    "\n",
    "l_sentence.sort()\n",
    "print(l_sentence)\n",
    "\n",
    "\n",
    "\n",
    "\n",
    "\n"
   ]
  },
  {
   "cell_type": "markdown",
   "metadata": {},
   "source": [
    "7a. <ins> Change the print statement so that the variable is printed between quotation marks. <br>\n",
    "i.e. the output should be *\"Polly\"* rather than *Polly* </ins>"
   ]
  },
  {
   "cell_type": "code",
   "execution_count": 58,
   "metadata": {},
   "outputs": [
    {
     "name": "stdout",
     "output_type": "stream",
     "text": [
      "\"Polly\"\n"
     ]
    }
   ],
   "source": [
    "dog = '\"Polly\"'\n",
    "print(dog)"
   ]
  },
  {
   "cell_type": "markdown",
   "metadata": {},
   "source": [
    "7b. <ins> print the variable dog, but this time make sure that everything is in lowercase </ins><br>\n",
    "<br>Hint: use the .lower() method we saw in the theory notebook."
   ]
  },
  {
   "cell_type": "code",
   "execution_count": 61,
   "metadata": {},
   "outputs": [
    {
     "data": {
      "text/plain": [
       "'\"polly\"'"
      ]
     },
     "execution_count": 61,
     "metadata": {},
     "output_type": "execute_result"
    }
   ],
   "source": [
    "#CODE HERE\n",
    "dog.lower()\n"
   ]
  },
  {
   "cell_type": "markdown",
   "metadata": {},
   "source": [
    "<ins>8. Create a variable which prints the following statement: </ins> <br>\n",
    "<br> *Welcome to Python club \"PHILEAS FOGG\" We are happy to have you with us!* <br>\n",
    "<br> Hint: use the .upper() method to make the first and lastname uppercase. You will have to insert the spaces."
   ]
  },
  {
   "cell_type": "code",
   "execution_count": 72,
   "metadata": {},
   "outputs": [
    {
     "name": "stdout",
     "output_type": "stream",
     "text": [
      "Welcome to Python club \"PHILEAS FOGG\" We are happy to have you with us!\n"
     ]
    }
   ],
   "source": [
    "first_name = 'Phileas'\n",
    "fn2 = first_name.upper()\n",
    "last_name = 'Fogg'\n",
    "ln2 = last_name.upper()\n",
    "part_1 = 'Welcome to Python club'\n",
    "part_2 = 'We are happy to have you with us!'\n",
    "greeting = f'{part_1} \\\"{fn2} {ln2}\\\" {part_2}'\n",
    "print(greeting)\n"
   ]
  },
  {
   "cell_type": "markdown",
   "metadata": {},
   "source": [
    "9. <ins> Create a list of numbers using range(): </ins>\n",
    "- <ins>Create a list of all numbers between 0 and 10 (10 should be included in the list).\n",
    "- <ins>Create a list of numbers between one and twenty, only consisting of uneven numbers.\n",
    "- <ins>Create another list in which the following sequence is generated: [0, 3, 6, 9, 12, 15]."
   ]
  },
  {
   "cell_type": "code",
   "execution_count": 79,
   "metadata": {},
   "outputs": [
    {
     "name": "stdout",
     "output_type": "stream",
     "text": [
      "[0, 1, 2, 3, 4, 5, 6, 7, 8, 9, 10]\n",
      "[1, 3, 5, 7, 9, 11, 13, 15, 17, 19]\n",
      "[0, 3, 6, 9, 12, 15]\n"
     ]
    }
   ],
   "source": [
    "\n",
    "LIST1 = list(range(11))\n",
    "\n",
    "LIST2 = list(range(1,21,2))\n",
    "\n",
    "LIST3 = list(range(0,16,3))\n",
    "\n",
    "print(LIST1)\n",
    "print(LIST2)\n",
    "print(LIST3)\n",
    "\n"
   ]
  },
  {
   "cell_type": "markdown",
   "metadata": {},
   "source": [
    "10. <ins> Count how often the character \"w\" occurs in the sentences below. <br> </ins>\n",
    "\n",
    "Make sure that you find both the uppercase and lowercase w's."
   ]
  },
  {
   "cell_type": "code",
   "execution_count": 84,
   "metadata": {},
   "outputs": [
    {
     "name": "stdout",
     "output_type": "stream",
     "text": [
      "6\n",
      "6\n"
     ]
    }
   ],
   "source": [
    "sentence1 = \"How much wood would a woodchuck chuck if a woodchuck could chuck wood?\"\n",
    "sentence2 = \"Where now? Who now? When now?\"\n",
    "\n",
    "# CODE HERE\n",
    "count_1 = sentence1.count('w') + sentence1.count('W')\n",
    "count_2 = sentence2.count('w') + sentence2.count('W')\n",
    "print(count_1)\n",
    "print(count_2)"
   ]
  },
  {
   "cell_type": "markdown",
   "metadata": {},
   "source": [
    "11. <ins>implement the variables into the string using the *.format()* method."
   ]
  },
  {
   "cell_type": "code",
   "execution_count": 91,
   "metadata": {},
   "outputs": [
    {
     "name": "stdout",
     "output_type": "stream",
     "text": [
      "on Sundays, I walk my dog and after I go to the cinema.\n"
     ]
    }
   ],
   "source": [
    "activity = 'cinema'\n",
    "pet = 'dog'\n",
    "\n",
    "\n",
    "\n",
    "print('on Sundays, I walk my {} and after I go to the {}.'.format(pet, activity))\n"
   ]
  },
  {
   "cell_type": "code",
   "execution_count": 90,
   "metadata": {},
   "outputs": [
    {
     "name": "stdout",
     "output_type": "stream",
     "text": [
      "My grandma turned 101 years old last week.\n"
     ]
    }
   ],
   "source": [
    "person = 'grandma'\n",
    "age = 101\n",
    "\n",
    "\n",
    "print('My {} turned {} years old last week.'.format(person, age))"
   ]
  },
  {
   "cell_type": "markdown",
   "metadata": {},
   "source": [
    "12. Recreate the previous two string, but this time use the f'string method."
   ]
  },
  {
   "cell_type": "code",
   "execution_count": 92,
   "metadata": {},
   "outputs": [
    {
     "name": "stdout",
     "output_type": "stream",
     "text": [
      "on Sundays, I walk my dog and after I go to the cinema.\n",
      "My grandma turned 101 years old last week.\n"
     ]
    }
   ],
   "source": [
    "#CODE HERE\n",
    "print(f'on Sundays, I walk my {pet} and after I go to the {activity}.')\n",
    "print(f'My {person} turned {age} years old last week.')\n"
   ]
  },
  {
   "cell_type": "markdown",
   "metadata": {},
   "source": [
    "13. What is wrong with this print-statement? Change it so that the following output is printed: <br> \n",
    "<br>*all 4 1, and 1 4 all* <br>\n",
    "<br>Hint: use the str() function to make sure that the integers are interpreted as strings."
   ]
  },
  {
   "cell_type": "code",
   "execution_count": 94,
   "metadata": {},
   "outputs": [
    {
     "name": "stdout",
     "output_type": "stream",
     "text": [
      "all 4 1, and 1 4 all\n"
     ]
    }
   ],
   "source": [
    "print('all ' + str(4) + ' ' + str(1) + ', and ' + str(1) + ' '+ str(4) + ' all')"
   ]
  },
  {
   "cell_type": "markdown",
   "metadata": {},
   "source": [
    "14. Before running the cel, think about what the output will be. What is the value and type of x? "
   ]
  },
  {
   "cell_type": "code",
   "execution_count": 23,
   "metadata": {},
   "outputs": [],
   "source": [
    "x = '9' #string\n",
    "x = float(x) #float\n",
    "x = str(x/2) #string\n",
    "x = int(float(x)) #integer\n",
    "\n",
    "#print(x)\n",
    "#print(type(x))"
   ]
  },
  {
   "cell_type": "markdown",
   "metadata": {},
   "source": [
    "15. Write a script that counts the relative frequency of any given character in a text. It should take both the uppercase and lowercase occurences of the character into account."
   ]
  },
  {
   "cell_type": "code",
   "execution_count": 95,
   "metadata": {},
   "outputs": [
    {
     "name": "stdout",
     "output_type": "stream",
     "text": [
      "104\n"
     ]
    }
   ],
   "source": [
    "text = '''And for this reason, I said, money and honour have no attraction for them; good men do not wish to be openly demanding payment for governing and so to get the name of hirelings, nor by secretly helping themselves out of the public revenues to get the name of thieves. And not being ambitious they do not care about honour. Wherefore necessity must be laid upon them, and they must be induced to serve from the fear of punishment. And this, as I imagine, is the reason why the forwardness to take office, instead of waiting to be compelled, has been deemed dishonourable. Now the worst part of the punishment is that he who refuses to rule is liable to be ruled by one who is worse than himself. And the fear of this, as I conceive, induces the good to take office, not because they would, but because they cannot help --not under the idea that they are going to have any benefit or enjoyment themselves, but as a necessity, and because they are not able to commit the task of ruling to any one who is better than themselves, or indeed as good. For there is reason to think that if a city were composed entirely of good men, then to avoid office would be as much an object of contention as to obtain office is at present; then we should have plain proof that the true ruler is not meant by nature to regard his own interest, but that of his subjects; and every one who knew this would choose rather to receive a benefit from another than to have the trouble of conferring one. So far am I from agreeing with Thrasymachus that justice is the interest of the stronger. This latter question need not be further discussed at present; but when Thrasymachus says that the life of the unjust is more advantageous than that of the just, his new statement appears to me to be of a far more serious character. Which of us has spoken truly? And which sort of life, Glaucon, do you prefer?'''\n",
    "character = 'a'\n",
    "\n",
    "#CODE HERE\n",
    "text2 = text.lower()\n",
    "print(text2.count(character))"
   ]
  },
  {
   "cell_type": "markdown",
   "metadata": {},
   "source": [
    "16. Write a program that assigns the result of `9.5 * 4.5 - 2.5 * 345.5 - 3.5` to a variable. Print this variable. Use round brackets to indicate 'operator precedence' and **make sure that subtractions are performed before multiplications**. When you convert the outcome to a string, how many characters does it count?"
   ]
  },
  {
   "cell_type": "code",
   "execution_count": 101,
   "metadata": {},
   "outputs": [
    {
     "name": "stdout",
     "output_type": "stream",
     "text": [
      "6498.0\n",
      "6\n"
     ]
    }
   ],
   "source": [
    "#CODE HERE\n",
    "x = 9.5 * (4.5 - 2.5) * (345.5 - 3.5)\n",
    "print(x)\n",
    "xtext = str(x)\n",
    "print(len(xtext))\n"
   ]
  },
  {
   "cell_type": "markdown",
   "metadata": {},
   "source": [
    "17. Calculate how many shipping boxes can fit in a shipping container\n",
    "\n",
    "    Shipping container size: w = 2.43m, l = 6.06m, h = 2.59m  \n",
    "    Box size: w = 33cm, l = 48cm , h = 32cm\n",
    "\n",
    "    1. Calculate container volume;\n",
    "    2. Calculate box volume (convert cm to m);\n",
    "    3. Calculate how many boxes can fit in one container. Keep in mind that this should be a round number, since we cannot ship half a box."
   ]
  },
  {
   "cell_type": "code",
   "execution_count": 106,
   "metadata": {},
   "outputs": [
    {
     "name": "stdout",
     "output_type": "stream",
     "text": [
      "752.0\n"
     ]
    }
   ],
   "source": [
    "#CODE HERE\n",
    "cont_vol = 2.43 * 6.06 * 2.59\n",
    "box_vol = 33/100 * 48/100 * 32/100\n",
    "\n",
    "fit = cont_vol // box_vol\n",
    "print(fit)"
   ]
  },
  {
   "cell_type": "markdown",
   "metadata": {},
   "source": [
    "18. Index a list:\n",
    "- Print the first element of the list.\n",
    "- Print the last element of the list.\n",
    "- Print the last letter of the third element in the list.\n",
    "- Print the second, third and fourth element of the list.\n",
    "- Print the first, third, fifth and seventh item (all uneven items).\n",
    "- Print the second, fourth and sixth item (all even items)."
   ]
  },
  {
   "cell_type": "code",
   "execution_count": 117,
   "metadata": {},
   "outputs": [
    {
     "name": "stdout",
     "output_type": "stream",
     "text": [
      "Abu Dhabi\n",
      "Gdansk\n",
      "a\n",
      "['Boston', 'Cremona', 'Douz']\n",
      "['Abu Dhabi', 'Cremona', 'Edinburgh', 'Gdansk']\n",
      "['Boston', 'Douz', 'Fitton']\n"
     ]
    }
   ],
   "source": [
    "Cities = ['Abu Dhabi', 'Boston', 'Cremona', 'Douz', 'Edinburgh', 'Fitton', 'Gdansk']\n",
    "\n",
    "#CODE HERE\n",
    "print(Cities[0])\n",
    "print(Cities[-1])\n",
    "print(str(Cities[2][-1]))\n",
    "print(Cities[1:4])\n",
    "print(Cities[0:8:2])\n",
    "print(Cities[1:7:2])\n",
    "\n",
    "\n",
    "\n",
    "\n"
   ]
  },
  {
   "cell_type": "markdown",
   "metadata": {},
   "source": [
    "19. Before running the cell, what do you think the output will be? Check if you were right."
   ]
  },
  {
   "cell_type": "code",
   "execution_count": 119,
   "metadata": {},
   "outputs": [
    {
     "name": "stdout",
     "output_type": "stream",
     "text": [
      "<class 'list'>\n"
     ]
    }
   ],
   "source": [
    "word = 'addressee' # string\n",
    "word = set(word) #set\n",
    "word = sorted(word) #list\n",
    "print(type(word))\n",
    "\n"
   ]
  },
  {
   "cell_type": "markdown",
   "metadata": {},
   "source": [
    "20. Reformat the string below so that the output looks like this: \n",
    "\n",
    "Line one <br>\n",
    "&emsp;   &emsp; &emsp;Line two <br>\n",
    "Line Three"
   ]
  },
  {
   "cell_type": "code",
   "execution_count": 124,
   "metadata": {},
   "outputs": [
    {
     "name": "stdout",
     "output_type": "stream",
     "text": [
      "Line one \n",
      "\tLine two \n",
      "Line Three\n"
     ]
    }
   ],
   "source": [
    "reformat = 'Line one \\n\\tLine two \\nLine Three'\n",
    "print(reformat)\n"
   ]
  },
  {
   "cell_type": "markdown",
   "metadata": {},
   "source": [
    "## 21. If you have extra time, you can try this (slightly larger) exercise."
   ]
  },
  {
   "cell_type": "markdown",
   "metadata": {},
   "source": [
    "21a. Below you will find three recipes (three lists). \n",
    "\n",
    "1. Add 'white pepper' to lasagna ingredients\n",
    "2. Remove 'black pepper' from lasagna ingredients\n",
    "3. Obtain index on 'vegetable oil' in chicken_fajitas;\n",
    "4. Replace 'vegetable oil' in chicken_fajitas list with 'olive oil';\n",
    "5. Sort chicken_fajitas list in alphabetical order;\n",
    "6. Print every third ingredient of chicken_fajitas list;\n",
    "7. Reverse list chicken_fajitas;\n",
    "8. Create a list of all recipes, i.e. a list of lists\n",
    "9. Print the first five ingredients of the first recipe in recipes."
   ]
  },
  {
   "cell_type": "code",
   "execution_count": 156,
   "metadata": {},
   "outputs": [],
   "source": [
    "lasagna = [\n",
    "    'chicken breast', \n",
    "    'italian seasoning', \n",
    "    'garlic powder',\n",
    "    'marinara sauce',\n",
    "    'grated parmesan cheese',\n",
    "    'mozzarella cheese',\n",
    "    'ricotta cheese',\n",
    "    'eggs',\n",
    "    'parsley',\n",
    "    'salt',\n",
    "    'black pepper']\n",
    "\n",
    "roasted_veggies = [\n",
    "    'red onion',\n",
    "    'red bell pepper',\n",
    "    'broccoli',\n",
    "    'yellow squash',\n",
    "    'zucchini squash',\n",
    "    'garlic',\n",
    "    'olive oil',\n",
    "    'garlic powder',\n",
    "    'salt',\n",
    "    'black pepper']\n",
    "\n",
    "chicken_fajitas = [\n",
    "    'chicken breast',\n",
    "    'fajita seasoning',\n",
    "    'vegetable oil',\n",
    "    'lime',\n",
    "    'green bell pepper',\n",
    "    'red bell pepper',\n",
    "    'yellow onion',\n",
    "    'butter',\n",
    "    'garlic']"
   ]
  },
  {
   "cell_type": "code",
   "execution_count": 134,
   "metadata": {},
   "outputs": [
    {
     "name": "stdout",
     "output_type": "stream",
     "text": [
      "['chicken breast', 'italian seasoning', 'garlic powder', 'marinara sauce', 'grated parmesan cheese', 'mozzarella cheese', 'ricotta cheese', 'eggs', 'parsley', 'salt', 'black pepper', 'white pepper']\n"
     ]
    }
   ],
   "source": [
    "#1\n",
    "\n",
    "#CODE HERE\n",
    "lasagna.append('white pepper')\n",
    "print(lasagna)"
   ]
  },
  {
   "cell_type": "code",
   "execution_count": 135,
   "metadata": {},
   "outputs": [
    {
     "name": "stdout",
     "output_type": "stream",
     "text": [
      "['chicken breast', 'italian seasoning', 'garlic powder', 'marinara sauce', 'grated parmesan cheese', 'mozzarella cheese', 'ricotta cheese', 'eggs', 'parsley', 'salt', 'white pepper']\n"
     ]
    }
   ],
   "source": [
    "#2\n",
    "\n",
    "#CODE HERE\n",
    "lasagna.remove('black pepper')\n",
    "print(lasagna)"
   ]
  },
  {
   "cell_type": "code",
   "execution_count": 136,
   "metadata": {},
   "outputs": [
    {
     "name": "stdout",
     "output_type": "stream",
     "text": [
      "2\n"
     ]
    }
   ],
   "source": [
    "#3\n",
    "\n",
    "#CODE HERE\n",
    "print(chicken_fajitas.index('vegetable oil'))"
   ]
  },
  {
   "cell_type": "code",
   "execution_count": 139,
   "metadata": {},
   "outputs": [
    {
     "name": "stdout",
     "output_type": "stream",
     "text": [
      "olive oil\n"
     ]
    }
   ],
   "source": [
    "#4\n",
    "\n",
    "#CODE HERE\n",
    "chicken_fajitas[2] = \"olive oil\"\n",
    "print(chicken_fajitas[2])"
   ]
  },
  {
   "cell_type": "code",
   "execution_count": 142,
   "metadata": {},
   "outputs": [
    {
     "name": "stdout",
     "output_type": "stream",
     "text": [
      "['butter', 'chicken breast', 'fajita seasoning', 'garlic', 'green bell pepper', 'lime', 'olive oil', 'red bell pepper', 'yellow onion']\n"
     ]
    }
   ],
   "source": [
    "#5\n",
    "\n",
    "#CODE HERE\n",
    "chicken_fajitas.sort()\n",
    "print(chicken_fajitas)"
   ]
  },
  {
   "cell_type": "code",
   "execution_count": 143,
   "metadata": {},
   "outputs": [
    {
     "name": "stdout",
     "output_type": "stream",
     "text": [
      "['butter', 'garlic', 'olive oil']\n"
     ]
    }
   ],
   "source": [
    "#6\n",
    "\n",
    "#CODE HERE\n",
    "print(chicken_fajitas[0::3])"
   ]
  },
  {
   "cell_type": "code",
   "execution_count": 146,
   "metadata": {},
   "outputs": [
    {
     "name": "stdout",
     "output_type": "stream",
     "text": [
      "['garlic', 'butter', 'yellow onion', 'red bell pepper', 'green bell pepper', 'lime', 'vegetable oil', 'fajita seasoning', 'chicken breast']\n"
     ]
    }
   ],
   "source": [
    "#7\n",
    "\n",
    "#CODE HERE\n",
    "chicken_fajitas.reverse()\n",
    "print(chicken_fajitas)"
   ]
  },
  {
   "cell_type": "code",
   "execution_count": 157,
   "metadata": {},
   "outputs": [
    {
     "data": {
      "text/plain": [
       "[['chicken breast',\n",
       "  'italian seasoning',\n",
       "  'garlic powder',\n",
       "  'marinara sauce',\n",
       "  'grated parmesan cheese',\n",
       "  'mozzarella cheese',\n",
       "  'ricotta cheese',\n",
       "  'eggs',\n",
       "  'parsley',\n",
       "  'salt',\n",
       "  'black pepper'],\n",
       " ['red onion',\n",
       "  'red bell pepper',\n",
       "  'broccoli',\n",
       "  'yellow squash',\n",
       "  'zucchini squash',\n",
       "  'garlic',\n",
       "  'olive oil',\n",
       "  'garlic powder',\n",
       "  'salt',\n",
       "  'black pepper'],\n",
       " ['chicken breast',\n",
       "  'fajita seasoning',\n",
       "  'vegetable oil',\n",
       "  'lime',\n",
       "  'green bell pepper',\n",
       "  'red bell pepper',\n",
       "  'yellow onion',\n",
       "  'butter',\n",
       "  'garlic']]"
      ]
     },
     "execution_count": 157,
     "metadata": {},
     "output_type": "execute_result"
    }
   ],
   "source": [
    "#8\n",
    "\n",
    "#CODE HERE\n",
    "recipes = [lasagna, roasted_veggies, chicken_fajitas]\n",
    "recipes"
   ]
  },
  {
   "cell_type": "code",
   "execution_count": 160,
   "metadata": {},
   "outputs": [
    {
     "name": "stdout",
     "output_type": "stream",
     "text": [
      "['chicken breast', 'italian seasoning', 'garlic powder', 'marinara sauce', 'grated parmesan cheese']\n"
     ]
    }
   ],
   "source": [
    "#9\n",
    "\n",
    "#CODE HERE:\n",
    "print(recipes[0][0:5])"
   ]
  },
  {
   "cell_type": "markdown",
   "metadata": {},
   "source": [
    "21b.  Create a shopping list from the list of ingredients for recipes.\n",
    "   \n",
    "The list should consist only of unique ingredients, sorted in alphabetical order.\n",
    "\n",
    "To-do:  \n",
    "1. Combine all ingredients into one list (not a list of lists);\n",
    "2. Obtain unique items;\n",
    "3. Sort list of ingredients alphabetically from A-Z;\n",
    "4. Print shopping list."
   ]
  },
  {
   "cell_type": "code",
   "execution_count": 165,
   "metadata": {},
   "outputs": [
    {
     "name": "stdout",
     "output_type": "stream",
     "text": [
      "['black pepper', 'broccoli', 'butter', 'chicken breast', 'eggs', 'fajita seasoning', 'garlic', 'garlic powder', 'grated parmesan cheese', 'green bell pepper', 'italian seasoning', 'lime', 'marinara sauce', 'mozzarella cheese', 'olive oil', 'parsley', 'red bell pepper', 'red onion', 'ricotta cheese', 'salt', 'vegetable oil', 'yellow onion', 'yellow squash', 'zucchini squash']\n"
     ]
    }
   ],
   "source": [
    "#CODE HERE\n",
    "recipes = lasagna + roasted_veggies + chicken_fajitas\n",
    "s = set(recipes)\n",
    "ingredients = sorted(s)\n",
    "print(ingredients)"
   ]
  }
 ],
 "metadata": {
  "kernelspec": {
   "display_name": "Python 3 (ipykernel)",
   "language": "python",
   "name": "python3"
  },
  "language_info": {
   "codemirror_mode": {
    "name": "ipython",
    "version": 3
   },
   "file_extension": ".py",
   "mimetype": "text/x-python",
   "name": "python",
   "nbconvert_exporter": "python",
   "pygments_lexer": "ipython3",
   "version": "3.11.4"
  },
  "vscode": {
   "interpreter": {
    "hash": "96e0a4d32f1918f770291244863a4a1e044b05d1a3b8d455e2e179187e01062a"
   }
  }
 },
 "nbformat": 4,
 "nbformat_minor": 4
}
