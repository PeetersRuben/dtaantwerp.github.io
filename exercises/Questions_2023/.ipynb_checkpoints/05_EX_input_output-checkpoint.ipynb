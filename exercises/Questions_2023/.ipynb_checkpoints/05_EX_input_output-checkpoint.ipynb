{
 "cells": [
  {
   "cell_type": "markdown",
   "metadata": {},
   "source": [
    "# Exercise notebook 5 - Input and output files"
   ]
  },
  {
   "cell_type": "markdown",
   "metadata": {},
   "source": [
    "This exercise notebook complements the notebook of **input and output files**. <br> Use this [notebook](https://github.com/dtaantwerp/dtaantwerp.github.io/blob/53c91013df4514a943a9fad441fb5f28dc6f6bab/notebooks/06_W2_Mon_Input_Output_Files.ipynb) for a complete explanation of the theory.\n",
    "\n",
    "Try to prepare the <ins>underlined exercises</ins> for the exercise session. "
   ]
  },
  {
   "cell_type": "markdown",
   "metadata": {},
   "source": [
    "1. <ins> Remember the user input()? Write a piece of code that asks the user to give two numbers and then returns the largest of the two numbers. </ins> <br> <br> Make sure that the numbers of the user input are interpreted as integers."
   ]
  },
  {
   "cell_type": "code",
   "execution_count": 77,
   "metadata": {},
   "outputs": [
    {
     "name": "stdout",
     "output_type": "stream",
     "text": [
      "write number 12\n",
      "write number 22\n",
      "the largest number is 2\n"
     ]
    }
   ],
   "source": [
    "#CODE HERE\n",
    "x = int(input(\"write number 1\"))\n",
    "y = int(input(\"write number 2\"))\n",
    "\n",
    "print(f\"the largest number is {max(x, y)}\")"
   ]
  },
  {
   "cell_type": "markdown",
   "metadata": {},
   "source": [
    "2. <ins> Write a piece of code that stores a random number between one and five into the variable 'random_number'. <br>\n",
    "</ins> <br>Hint: you first need to import something for this."
   ]
  },
  {
   "cell_type": "code",
   "execution_count": 2,
   "metadata": {},
   "outputs": [
    {
     "name": "stdout",
     "output_type": "stream",
     "text": [
      "3\n"
     ]
    }
   ],
   "source": [
    "#CODE HERE\n",
    "import random\n",
    "random_number = random.randint(1,5)\n",
    "\n",
    "print(random_number)"
   ]
  },
  {
   "cell_type": "markdown",
   "metadata": {},
   "source": [
    "3. <ins> Create a guessing game based on random numbers:\n",
    "- Similar to the previous exercise, store a random number (between one and five) in a variable marked as 'correct_number'.\n",
    "- Create a counter variable and set it to 0.\n",
    "- Ask the user to guess the right number by making use of the input() function, make sure that the input is interpreted as an integer.\n",
    "- If the number is the correct number print \"you have won!\" and stop the game.\n",
    "- If it is not correct, increment the counter with +1.\n",
    "- Make sure that the game breaks once the counter hits 3."
   ]
  },
  {
   "cell_type": "code",
   "execution_count": 23,
   "metadata": {},
   "outputs": [
    {
     "name": "stdout",
     "output_type": "stream",
     "text": [
      "Guess the right number2\n",
      "try again\n",
      "Guess the right number3\n",
      "try again\n",
      "Guess the right number4\n",
      "try again\n"
     ]
    }
   ],
   "source": [
    "#CODE HERE\n",
    "correct_number = random.randint(1,5)\n",
    "count = 0\n",
    "\n",
    "while count < 3:\n",
    "    nr = int(input(\"Guess the right number\"))\n",
    "    if nr == correct_number:\n",
    "        print(\"correct!\")\n",
    "        break\n",
    "    else:\n",
    "        print(\"try again\")\n",
    "        count += 1\n",
    "        \n"
   ]
  },
  {
   "cell_type": "markdown",
   "metadata": {},
   "source": [
    "4. <ins> Download _The Adventures of Sherlock Holmes_ by Arthur Conan Doyle from Project Gutenberg: https://www.gutenberg.org/ebooks/1661 <br>\n",
    " and load the text."
   ]
  },
  {
   "cell_type": "code",
   "execution_count": 2,
   "metadata": {},
   "outputs": [],
   "source": [
    "#CODE HERE\n",
    "with open('sherlock.txt', encoding = \"utf-8\") as b:\n",
    "    sherlock = b.read()\n",
    "    \n",
    "#print(sherlock)"
   ]
  },
  {
   "cell_type": "markdown",
   "metadata": {},
   "source": [
    "5. <ins> Split the text on the newline characters (\\n) in order to obtain the lines. \n",
    "- Print the first line. \n",
    "- How many lines are there in the novel?"
   ]
  },
  {
   "cell_type": "code",
   "execution_count": 3,
   "metadata": {},
   "outputs": [
    {
     "name": "stdout",
     "output_type": "stream",
     "text": [
      "﻿The Project Gutenberg eBook of The Adventures of Sherlock Holmes\n",
      "12308\n"
     ]
    }
   ],
   "source": [
    "#CODE HERE\n",
    "lines = sherlock.split(\"\\n\")\n",
    "print(lines[0])\n",
    "\n",
    "print(len(lines))"
   ]
  },
  {
   "cell_type": "markdown",
   "metadata": {},
   "source": [
    "6. <ins> Print the first ten lines. You'll notice that there are some empty lines, remove those from the list using the .remove() method. How many lines remain?"
   ]
  },
  {
   "cell_type": "code",
   "execution_count": 47,
   "metadata": {},
   "outputs": [
    {
     "data": {
      "text/plain": [
       "12303"
      ]
     },
     "execution_count": 47,
     "metadata": {},
     "output_type": "execute_result"
    }
   ],
   "source": [
    "#CODE HERE\n",
    "#print(lines[0:10])\n",
    "\n",
    "for line in lines:\n",
    "    if line == 0:\n",
    "        lines.remove()\n",
    "len(lines)"
   ]
  },
  {
   "cell_type": "markdown",
   "metadata": {},
   "source": [
    "7. <ins> Write a piece of code that lowercases the entire text."
   ]
  },
  {
   "cell_type": "code",
   "execution_count": 80,
   "metadata": {},
   "outputs": [],
   "source": [
    "#CODE HERE\n",
    "l_sherlock = sherlock.lower()\n",
    "#print(l_sherlock)"
   ]
  },
  {
   "cell_type": "markdown",
   "metadata": {},
   "source": [
    "8. <ins> Count how often the name 'Sherlock' is mentioned in the text."
   ]
  },
  {
   "cell_type": "code",
   "execution_count": 82,
   "metadata": {},
   "outputs": [
    {
     "name": "stdout",
     "output_type": "stream",
     "text": [
      "101\n"
     ]
    }
   ],
   "source": [
    "#CODE HERE\n",
    "print(l_sherlock.count(\"sherlock\"))\n"
   ]
  },
  {
   "cell_type": "markdown",
   "metadata": {},
   "source": [
    "9. <ins>Write a piece of code that removes the punctuation of the string below."
   ]
  },
  {
   "cell_type": "code",
   "execution_count": 4,
   "metadata": {},
   "outputs": [
    {
     "ename": "TypeError",
     "evalue": "'str' object is not callable",
     "output_type": "error",
     "traceback": [
      "\u001b[1;31m---------------------------------------------------------------------------\u001b[0m",
      "\u001b[1;31mTypeError\u001b[0m                                 Traceback (most recent call last)",
      "Cell \u001b[1;32mIn[4], line 5\u001b[0m\n\u001b[0;32m      2\u001b[0m punc \u001b[38;5;241m=\u001b[39m punctuation\n\u001b[0;32m      4\u001b[0m \u001b[38;5;28;01mimport\u001b[39;00m \u001b[38;5;21;01mstring\u001b[39;00m\n\u001b[1;32m----> 5\u001b[0m string\u001b[38;5;241m.\u001b[39mascii_lowercase()\n",
      "\u001b[1;31mTypeError\u001b[0m: 'str' object is not callable"
     ]
    }
   ],
   "source": [
    "from string import punctuation\n",
    "punc = punctuation\n",
    "\n",
    "import string\n",
    "string.ascii_lowercase()"
   ]
  },
  {
   "cell_type": "code",
   "execution_count": 86,
   "metadata": {},
   "outputs": [
    {
     "name": "stdout",
     "output_type": "stream",
     "text": [
      "Alice was beginning to get very tired of sitting by her sister on the bank \n",
      "        and of having nothing to do once or twice she had peeped into the book her \n",
      "        sister was reading but it had no pictures or conversations in it and what is \n",
      "        the use of a book thought Alice without pictures or conversation\n"
     ]
    }
   ],
   "source": [
    "punc = '''!()-[]{};:'\"\\,<>./?@#$%^&*”_~“'''\n",
    "\n",
    "opening = \"\"\"Alice was beginning to get very tired of sitting by her sister on the bank, \n",
    "        and of having nothing to do: once or twice she had peeped into the book her \n",
    "        sister was reading, but it had no pictures or conversations in it, “and what is \n",
    "        the use of a book,” thought Alice, “without pictures or conversation?”\"\"\"\n",
    "\n",
    "#CODE HERE       \n",
    "\n",
    "for char in opening:\n",
    "    if char in punc:\n",
    "        opening  = opening.replace(char, \"\")\n",
    "        \n",
    "print(opening)\n",
    " "
   ]
  },
  {
   "cell_type": "markdown",
   "metadata": {},
   "source": [
    "10. Create a rock-paper-scissors game.\n",
    "- Make the computer choose a random move (either rock, paper or scissors).\n",
    "- Store the choice of the user in a variable (by  using the input() function).\n",
    "- Remember the rules:\n",
    "    - Rock beats scissors\n",
    "    - Scissors beats paper\n",
    "    - Paper beats rock\n",
    "- Make sure that there are three possible outcomes in the game:\n",
    "    - The user wins.\n",
    "    - The computer wins.\n",
    "    - It's a tie!"
   ]
  },
  {
   "cell_type": "code",
   "execution_count": 69,
   "metadata": {},
   "outputs": [
    {
     "name": "stdout",
     "output_type": "stream",
     "text": [
      "Choose Rock, Paper or Scissorsscissors\n",
      "It's a tie!\n"
     ]
    }
   ],
   "source": [
    "#CODE HERE\n",
    "rand = random.choice([\"rock\", \"paper\", \"scissors\"])\n",
    "guess = input(\"Choose Rock, Paper or Scissors\").lower()\n",
    "\n",
    "if rand == guess:\n",
    "    print(\"It's a tie!\")\n",
    "elif rand == \"rock\" and guess == \"paper\":\n",
    "    print(f\"The user wins!, the computer had {rand}\")\n",
    "elif rand == \"paper\" and guess == \"rock\":\n",
    "    print(f\"The computer wins, the computer had {rand}\")\n",
    "elif rand == \"scissors\" and guess == \"paper\":\n",
    "    print(f\"The computer wins, the computer had {rand}\")\n",
    "elif rand == \"scissors\" and guess == \"rock\":\n",
    "    print(f\"The user wins!, the computer had {rand}\")\n",
    "else:\n",
    "        print(\"Something went wrong, try again\")\n"
   ]
  },
  {
   "cell_type": "markdown",
   "metadata": {},
   "source": [
    "11. Create a new txt-file."
   ]
  },
  {
   "cell_type": "code",
   "execution_count": 95,
   "metadata": {},
   "outputs": [],
   "source": [
    "#CODE HERE\n",
    "outf = open('sherlock_lines.txt', 'r')\n",
    "outf.close()\n"
   ]
  },
  {
   "cell_type": "markdown",
   "metadata": {},
   "source": [
    "12. Iterate over the lines of the Sherlock novel. If the line starts with 'Sherlock', store the line in your newly created txt-file. <br>\n",
    "Make sure you close te file when the loop has finished.\n",
    "\n",
    "Hint: make sure that the empty lines in the Sherlock file are removed."
   ]
  },
  {
   "cell_type": "code",
   "execution_count": 5,
   "metadata": {},
   "outputs": [
    {
     "ename": "IndexError",
     "evalue": "list index out of range",
     "output_type": "error",
     "traceback": [
      "\u001b[1;31m---------------------------------------------------------------------------\u001b[0m",
      "\u001b[1;31mIndexError\u001b[0m                                Traceback (most recent call last)",
      "Cell \u001b[1;32mIn[5], line 9\u001b[0m\n\u001b[0;32m      6\u001b[0m         lines\u001b[38;5;241m.\u001b[39mremove(line)\n\u001b[0;32m      8\u001b[0m \u001b[38;5;28;01mfor\u001b[39;00m line \u001b[38;5;129;01min\u001b[39;00m lines:\n\u001b[1;32m----> 9\u001b[0m     \u001b[38;5;28;01mif\u001b[39;00m line\u001b[38;5;241m.\u001b[39msplit()[\u001b[38;5;241m0\u001b[39m] \u001b[38;5;241m==\u001b[39m \u001b[38;5;124m'\u001b[39m\u001b[38;5;124mSherlock\u001b[39m\u001b[38;5;124m'\u001b[39m:\n\u001b[0;32m     10\u001b[0m         \u001b[38;5;66;03m#outf.write(line + '\\n')\u001b[39;00m\n\u001b[0;32m     11\u001b[0m         \u001b[38;5;28mprint\u001b[39m(line)\n",
      "\u001b[1;31mIndexError\u001b[0m: list index out of range"
     ]
    }
   ],
   "source": [
    "#CODE HERE\n",
    "outf = open('sherlock_lines.txt', 'r')\n",
    "\n",
    "for line in lines:\n",
    "    if len(line) == 0:\n",
    "        lines.remove(line)\n",
    "        \n",
    "for line in lines:\n",
    "    if line.split()[0] == 'Sherlock':\n",
    "        #outf.write(line + '\\n')\n",
    "        print(line)\n",
    "#outf.close()"
   ]
  },
  {
   "cell_type": "markdown",
   "metadata": {},
   "source": [
    "13. Look up online what the round() function does. Can you round the float below to 2 decimals?"
   ]
  },
  {
   "cell_type": "code",
   "execution_count": 9,
   "metadata": {},
   "outputs": [
    {
     "name": "stdout",
     "output_type": "stream",
     "text": [
      "7.98\n"
     ]
    }
   ],
   "source": [
    "number = 7.983862\n",
    "\n",
    "#CODE HERE\n",
    "n_round = round(number, 2)\n",
    "print(n_round)"
   ]
  },
  {
   "cell_type": "markdown",
   "metadata": {},
   "source": [
    "14. In the cell below, we created a frequency dictionary (more of that in the next notebook). It is a dictionary that keeps track how often each word occurs in the text. \n",
    "- Create a list called 'common_words' in which you store all the words that occur more than 1000 times. \n",
    "- You will need to iterate over the frequency dictionary in order to do this.\n",
    "- if the **value** of an item in the dictionary is higher or equal to 1000,\n",
    "- You need to store the **key** in the list of 'common_words'."
   ]
  },
  {
   "cell_type": "code",
   "execution_count": 6,
   "metadata": {},
   "outputs": [
    {
     "name": "stdout",
     "output_type": "stream",
     "text": [
      "['of', 'is', 'the', 'in', 'and', 'you', 'to', 'I', 'his', 'was', 'that', 'he', 'a']\n"
     ]
    }
   ],
   "source": [
    "freq_dic = {} # we create the frequency dictionary in the lines below\n",
    "for word in sherlock.split():\n",
    "    if word in freq_dic:\n",
    "        freq_dic[word] += 1\n",
    "    else:\n",
    "        freq_dic[word] = 1\n",
    "\n",
    "common_words = [] #store the most common words in this list.\n",
    "\n",
    "#CODE HERE\n",
    "for key, value in freq_dic.items():\n",
    "    if value >= 1000:\n",
    "        common_words.append(key)\n",
    "        \n",
    "print(common_words)\n",
    "    "
   ]
  },
  {
   "cell_type": "markdown",
   "metadata": {},
   "source": [
    "15. Check if the file MT.txt is empty, without printing or opening the file."
   ]
  },
  {
   "cell_type": "code",
   "execution_count": 7,
   "metadata": {},
   "outputs": [
    {
     "name": "stdout",
     "output_type": "stream",
     "text": [
      "1457\n"
     ]
    }
   ],
   "source": [
    "#CODE HERE\n",
    "import os\n",
    "size = os.path.getsize(\"../../data/MT.txt\")\n",
    "print(size)\n",
    "\n",
    "#file is not empty"
   ]
  },
  {
   "cell_type": "markdown",
   "metadata": {},
   "source": [
    "16. Check if the following words are in the txt-file:\n",
    "- storm\n",
    "- perfect\n",
    "- trooper\n",
    "<br><br>Keep in mind that some of the words in the text can be uppercase."
   ]
  },
  {
   "cell_type": "code",
   "execution_count": 13,
   "metadata": {},
   "outputs": [
    {
     "name": "stdout",
     "output_type": "stream",
     "text": [
      "Perfect is in there\n",
      "Trooper is in there\n",
      "Perfect is in there\n",
      "Trooper is in there\n",
      "Trooper is in there\n",
      "the keywords are not in it\n"
     ]
    }
   ],
   "source": [
    "#CODE HERE\n",
    "with open(\"../../data/MT.txt\", encoding = \"utf-8\") as c:\n",
    "    mt = c.read()\n",
    "    #print(mt)\n",
    "    \n",
    "\n",
    "for word in mt.split():\n",
    "    if word.lower() == \"storm\":\n",
    "        print(\"Storm is in there\")\n",
    "    elif word.lower() == \"perfect\":\n",
    "        print(\"Perfect is in there\")\n",
    "    elif word.lower() == \"trooper\":\n",
    "        print(\"Trooper is in there\")\n",
    "else:\n",
    "    print(\"the keywords are not in it\")\n",
    "\n",
    "    "
   ]
  },
  {
   "cell_type": "code",
   "execution_count": 16,
   "metadata": {},
   "outputs": [
    {
     "name": "stdout",
     "output_type": "stream",
     "text": [
      "Keyword storm is not in there\n",
      "Keyword trooper is in there.\n",
      "Keyword perfect is in there.\n"
     ]
    }
   ],
   "source": [
    "#other solution\n",
    "keywords = ['storm', 'trooper', 'perfect']\n",
    "\n",
    "for item in keywords:\n",
    "    if item in mt.lower():\n",
    "        print(f\"Keyword {item} is in there.\")\n",
    "    else:\n",
    "        print(f\"Keyword {item} is not in there\")"
   ]
  },
  {
   "cell_type": "markdown",
   "metadata": {},
   "source": [
    "17. Count how many lines there are in the text."
   ]
  },
  {
   "cell_type": "code",
   "execution_count": 28,
   "metadata": {},
   "outputs": [
    {
     "name": "stdout",
     "output_type": "stream",
     "text": [
      "28\n",
      "28\n"
     ]
    }
   ],
   "source": [
    "#CODE HERE\n",
    "mt_lines = mt.split('\\n')\n",
    "#print(mt_lines)\n",
    "\n",
    "print(len(mt_lines))\n",
    "\n",
    "#for loop solution\n",
    "counter = 0\n",
    "for lines in mt.split('\\n'):\n",
    "    counter += 1\n",
    "print(counter)"
   ]
  },
  {
   "cell_type": "markdown",
   "metadata": {},
   "source": [
    "18. Create a list of all the unique words in the text."
   ]
  },
  {
   "cell_type": "code",
   "execution_count": 47,
   "metadata": {},
   "outputs": [
    {
     "name": "stdout",
     "output_type": "stream",
     "text": [
      "100\n",
      "100\n"
     ]
    }
   ],
   "source": [
    "#CODE HERE\n",
    "#print(mt_lines)\n",
    "wordlist = []\n",
    "for word in mt.split():\n",
    "\n",
    "        wordlist.append(word.lower())\n",
    "    \n",
    "unique = list(set(wordlist))\n",
    "#print(unique)\n",
    "\n",
    "#or solution 2\n",
    "wordlist2 = []\n",
    "for word in mt.split():\n",
    "        if word.lower() not in wordlist2:\n",
    "            wordlist2.append(word.lower())\n",
    "        else:\n",
    "            continue\n",
    "print(len(wordlist2))\n",
    "\n",
    "print(len(unique))"
   ]
  },
  {
   "cell_type": "markdown",
   "metadata": {},
   "source": [
    "19. Accept two input values from the user in one input() call."
   ]
  },
  {
   "cell_type": "code",
   "execution_count": 53,
   "metadata": {},
   "outputs": [
    {
     "name": "stdout",
     "output_type": "stream",
     "text": [
      "give two values: 2 4\n",
      "2\n",
      "4\n"
     ]
    }
   ],
   "source": [
    "#CODE HERE\n",
    "user_input1, user_input2 = input(\"give two values: \").split()\n",
    "\n",
    "print(user_input1)\n",
    "print(user_input2)"
   ]
  }
 ],
 "metadata": {
  "kernelspec": {
   "display_name": "Python 3 (ipykernel)",
   "language": "python",
   "name": "python3"
  },
  "language_info": {
   "codemirror_mode": {
    "name": "ipython",
    "version": 3
   },
   "file_extension": ".py",
   "mimetype": "text/x-python",
   "name": "python",
   "nbconvert_exporter": "python",
   "pygments_lexer": "ipython3",
   "version": "3.11.4"
  },
  "vscode": {
   "interpreter": {
    "hash": "96e0a4d32f1918f770291244863a4a1e044b05d1a3b8d455e2e179187e01062a"
   }
  }
 },
 "nbformat": 4,
 "nbformat_minor": 2
}
