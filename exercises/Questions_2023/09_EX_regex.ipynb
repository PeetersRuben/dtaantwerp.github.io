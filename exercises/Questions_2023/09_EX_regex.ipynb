{
 "cells": [
  {
   "cell_type": "markdown",
   "metadata": {},
   "source": [
    "# Exercise notebook 9 - Regular expressions"
   ]
  },
  {
   "cell_type": "markdown",
   "metadata": {},
   "source": [
    "This exercise notebook complements the notebook of **regular expressions**. <br> Use this [notebook](https://github.com/dtaantwerp/dtaantwerp.github.io/blob/53c91013df4514a943a9fad441fb5f28dc6f6bab/notebooks/10_W2_Fri_Regular_Expressions.ipynb) for a complete explanation of the theory.\n",
    "\n",
    "#\n",
    "\n",
    "Try to prepare the <ins>underlined exercises</ins> for the exercise session. \n",
    "\n",
    "==============================================================================="
   ]
  },
  {
   "cell_type": "markdown",
   "metadata": {},
   "source": [
    "First of all, you'll have to import the re module."
   ]
  },
  {
   "cell_type": "code",
   "execution_count": null,
   "metadata": {},
   "outputs": [],
   "source": [
    "#CODE HERE"
   ]
  },
  {
   "cell_type": "markdown",
   "metadata": {},
   "source": [
    "1. <ins> Use \"re.findall()\" to find all substrings in  \"My nr. 1 childhood song is 'Supercalifragilisticexpialidocious'!!!\" that match </ins>\n",
    "    1.  \"i\"\n",
    "    2. \"song\"\n",
    "    3. \"nr.\"\n",
    "    4. \"a\" or \"o\"\n",
    "    5. any vowel\n",
    "    6. any character that is not a vowel\n",
    "    7. any number (use \"[]\")\n",
    "    8. any number (use a special character)\n",
    "    9. any two-digit number\n",
    "    10. any single lowercase alphabetical character\n",
    "    11. any single uppercase alphabetical character\n",
    "    12. any single upper- or lowercase alphabetical character (no numbers)\n",
    "    13. any single alphanumerical character\n",
    "    14. any single non-alphanumerical character\n",
    "    15. any whitespace character\n",
    "    16. any non-whitespace character\n",
    "    17. any sequence consisting of at least one non-alphanumerical character\n",
    "    18. any sequence consisting of one uppercase letter followed one or more lowercase letter(s)\n",
    "\n",
    "First, assign a variable name to the string  so that you can refer to it more easily."
   ]
  },
  {
   "cell_type": "code",
   "execution_count": null,
   "metadata": {},
   "outputs": [],
   "source": [
    "# assign a variable to the string\n",
    "text = \"My nr. 1 childhood song is 'Supercalifragilisticexpialidocious'!!!\"\n",
    "import re"
   ]
  },
  {
   "cell_type": "code",
   "execution_count": null,
   "metadata": {},
   "outputs": [],
   "source": [
    "#A CODE HERE\n",
    "re.findall(\"i\", text)"
   ]
  },
  {
   "cell_type": "code",
   "execution_count": null,
   "metadata": {},
   "outputs": [],
   "source": [
    "#B CODE HERE\n",
    "re.findall(\"song\", text)"
   ]
  },
  {
   "cell_type": "code",
   "execution_count": null,
   "metadata": {},
   "outputs": [],
   "source": [
    "#C CODE HERE\n",
    "re.findall(\"nr\", text)"
   ]
  },
  {
   "cell_type": "code",
   "execution_count": null,
   "metadata": {},
   "outputs": [],
   "source": [
    "#D CODE HERE\n",
    "find = \"a|o\"\n",
    "re.findall(find, text)"
   ]
  },
  {
   "cell_type": "code",
   "execution_count": null,
   "metadata": {},
   "outputs": [],
   "source": [
    "#E CODE HERE\n",
    "\n",
    "#re.findall(\"[aeiouAEIOU]\", text)"
   ]
  },
  {
   "cell_type": "code",
   "execution_count": null,
   "metadata": {},
   "outputs": [],
   "source": [
    "#F CODE HERE\n",
    "#re.findall(\"[^aeiouAEIOU]\", text)"
   ]
  },
  {
   "cell_type": "code",
   "execution_count": null,
   "metadata": {},
   "outputs": [],
   "source": [
    "#G CODE HERE\n",
    "re.findall(\"[0-9]\", text)"
   ]
  },
  {
   "cell_type": "code",
   "execution_count": null,
   "metadata": {},
   "outputs": [],
   "source": [
    "#H CODE HERE\n",
    "re.findall(\"\\d\", text)"
   ]
  },
  {
   "cell_type": "code",
   "execution_count": null,
   "metadata": {},
   "outputs": [],
   "source": [
    "#I CODE HERE\n",
    "re.findall(\"\\d{2}\", text)"
   ]
  },
  {
   "cell_type": "code",
   "execution_count": null,
   "metadata": {},
   "outputs": [],
   "source": [
    "#J CODE HERE\n",
    "re.findall(\"[a-z]{1}\", text)"
   ]
  },
  {
   "cell_type": "code",
   "execution_count": null,
   "metadata": {},
   "outputs": [],
   "source": [
    "#K CODE HERE\n",
    "re.findall(\"[A-Z]\", text)\n"
   ]
  },
  {
   "cell_type": "code",
   "execution_count": null,
   "metadata": {},
   "outputs": [],
   "source": [
    "#L CODE HERE\n",
    "re.findall(\"[A-z]\", text)"
   ]
  },
  {
   "cell_type": "code",
   "execution_count": null,
   "metadata": {},
   "outputs": [],
   "source": [
    "#M CODE HERE\n",
    "re.findall(\"\\w\", text)"
   ]
  },
  {
   "cell_type": "code",
   "execution_count": null,
   "metadata": {},
   "outputs": [],
   "source": [
    "#N CODE HERE\n",
    "re.findall(\"\\W\", text)"
   ]
  },
  {
   "cell_type": "code",
   "execution_count": null,
   "metadata": {},
   "outputs": [],
   "source": [
    "#O CODE HERE\n",
    "re.findall(\"\\s\", text)"
   ]
  },
  {
   "cell_type": "code",
   "execution_count": null,
   "metadata": {},
   "outputs": [],
   "source": [
    "#P CODE HERE\n",
    "re.findall(\"\\S\", text)"
   ]
  },
  {
   "cell_type": "code",
   "execution_count": null,
   "metadata": {},
   "outputs": [],
   "source": [
    "#Q CODE HERE\n",
    "re.findall(\"[0-z]+\", text)"
   ]
  },
  {
   "cell_type": "code",
   "execution_count": null,
   "metadata": {},
   "outputs": [],
   "source": [
    "#R CODE HERE\n",
    "re.findall(\"^[A-Z]{1}[a-z]+\", text)"
   ]
  },
  {
   "cell_type": "markdown",
   "metadata": {},
   "source": [
    "2. <ins> Look for the occurence of first 'a' and then 'w' using re.match() and re.search(). What is the difference between re.match() and re.search()? <ins>"
   ]
  },
  {
   "cell_type": "code",
   "execution_count": null,
   "metadata": {},
   "outputs": [],
   "source": [
    "y = 'what is the difference between match and search?'\n",
    "print(y)\n",
    "#CODE HERE\n",
    "res  = re.match(\"a\", y)\n",
    "#print(res.pos)\n",
    "\n",
    "res2 = re.search(\"a\", y)\n",
    "print(res2.pos)\n",
    "\n",
    "#search searches the whole string and match only the start of the string. "
   ]
  },
  {
   "cell_type": "markdown",
   "metadata": {},
   "source": [
    "3. <ins> Write a function that accepts a pattern and a string as input and returns the span of the first occurence of the match if the pattern occurs in the string <ins> \n",
    "- First, define a function `get_span(pattern, search_string)`  and its arguments\n",
    "- Then, determine which regex function is the most appropriate for finding the first occurence of a pattern in a string (findall(), match(), search() or finditer()) and write the function\n",
    "- If there is a match, return the span of the match. If not, return \"No match was found\"\n",
    "- Test whether your function works by searching the following patterns in the string below:\n",
    "    - expression that matches \"Dursley\" or \"Dursleys\"\n",
    "    - expression that matches \"Harry\" or \"Harry Potter\"\n",
    "    - expression that matches \"Mr.\" or \"Mrs.\""
   ]
  },
  {
   "cell_type": "code",
   "execution_count": null,
   "metadata": {},
   "outputs": [],
   "source": [
    "string = \"\"\"Mr. and Mrs. Dursley, of number four, Privet Drive, were proud to say\n",
    "that they were perfectly normal, thank you very much. They were the last people\n",
    "you’d expect to be involved in anything strange or mysterious, because they just\n",
    "didn’t hold with such nonsense.\"\"\""
   ]
  },
  {
   "cell_type": "code",
   "execution_count": null,
   "metadata": {},
   "outputs": [],
   "source": [
    "#CODE HERE\n",
    "def get_span(pattern, search_string):\n",
    "    res = re.search(pattern, search_string)\n",
    "    if res : #if there is a match found.\n",
    "        return res.span()\n",
    "\n",
    "    else:\n",
    "        return 'No match was found'"
   ]
  },
  {
   "cell_type": "code",
   "execution_count": null,
   "metadata": {},
   "outputs": [],
   "source": [
    "#Let's try it out\n",
    "print(get_span(\"Dursleys?\", string))\n",
    "print(get_span('Harry (Potter)?', string))\n",
    "print(get_span('Mrs?\\.', string))"
   ]
  },
  {
   "cell_type": "markdown",
   "metadata": {},
   "source": [
    "4. <ins> Recreate the function of the previous exercise, but make sure it returns a list of all matching spans in the string."
   ]
  },
  {
   "cell_type": "code",
   "execution_count": null,
   "metadata": {},
   "outputs": [],
   "source": [
    "#CODE HERE\n",
    "def get_span2(pattern, search_string):\n",
    "    res = re.findall(pattern, search_string)\n",
    "    if res : #if there is a match found.\n",
    "        return res.span()\n",
    "\n",
    "    else:\n",
    "        return 'No match was found'"
   ]
  },
  {
   "cell_type": "code",
   "execution_count": null,
   "metadata": {},
   "outputs": [],
   "source": [
    "#Try it out.\n",
    "get_span2(\"Dursleys?\", string)"
   ]
  },
  {
   "cell_type": "code",
   "execution_count": null,
   "metadata": {},
   "outputs": [],
   "source": [
    "get_span2('Harry (Potter)?', string)"
   ]
  },
  {
   "cell_type": "code",
   "execution_count": null,
   "metadata": {},
   "outputs": [],
   "source": [
    "get_span2('Mrs?\\.', string)"
   ]
  },
  {
   "cell_type": "markdown",
   "metadata": {},
   "source": [
    "5. <ins> Write a regular expression that finds all the email adresses in the string below."
   ]
  },
  {
   "cell_type": "code",
   "execution_count": null,
   "metadata": {},
   "outputs": [],
   "source": [
    "x = \"\"\" I wanted to follow up on our meeting from last week and see if you had any further questions.\n",
    "        If so, please don't hesitate to reach out to me at my email address, john_doe1234@gmail.com.\n",
    "        Also, I wanted to let you know about an upcoming event that my friend is organising (RitaFraser@gmail.com).\n",
    "        It's a networking event for professionals in our industry and it will be held on March 25th. \n",
    "        If you're interested in attending, please RSVP to events@industrypros.com.\"\"\""
   ]
  },
  {
   "cell_type": "code",
   "execution_count": null,
   "metadata": {},
   "outputs": [],
   "source": [
    "#CODE HERE"
   ]
  },
  {
   "cell_type": "markdown",
   "metadata": {},
   "source": [
    "6. Write a regex that finds all the punctuation in the string above."
   ]
  },
  {
   "cell_type": "code",
   "execution_count": null,
   "metadata": {},
   "outputs": [],
   "source": [
    "#CODE HERE"
   ]
  },
  {
   "cell_type": "markdown",
   "metadata": {},
   "source": [
    "7. Find all the words in the text below that occur before a word that starts with the letter \"a\"?\n",
    "\n",
    "- the output should look like this:  ['there', 'South', 'who', 'West', 'East', 'I', 'going', 'from', 'Attila', 'Carpathians']\n",
    "        "
   ]
  },
  {
   "cell_type": "code",
   "execution_count": null,
   "metadata": {},
   "outputs": [],
   "source": [
    "Stoker = '''In the population of Transylvania there are four distinct nationalities:\n",
    "Saxons in the South, and mixed with them the Wallachs, who are the\n",
    "descendants of the Dacians; Magyars in the West, and Szekelys in the\n",
    "East and North. I am going among the latter, who claim to be descended\n",
    "from Attila and the Huns. This may be so, for when the Magyars conquered\n",
    "the country in the eleventh century they found the Huns settled in it. I\n",
    "read that every known superstition in the world is gathered into the\n",
    "horseshoe of the Carpathians, as if it were the centre of some sort of\n",
    "imaginative whirlpool; if so my stay may be very interesting.'''"
   ]
  },
  {
   "cell_type": "code",
   "execution_count": null,
   "metadata": {},
   "outputs": [],
   "source": [
    "#CODE HERE"
   ]
  },
  {
   "cell_type": "markdown",
   "metadata": {},
   "source": [
    "8. Create a regex that extracts all the word that begin with 'p' and end with 'l' from the sentence below. Only words that are four characters or less should be extracted.\n",
    "*Hint: you can use a range in the quantifier -> {0, 2} in order to only extract words that are four characters or less.*"
   ]
  },
  {
   "cell_type": "code",
   "execution_count": null,
   "metadata": {},
   "outputs": [],
   "source": [
    "test = 'After I peal an orange and pedal to Paul, I am going to the pool with my playful pall!'\n",
    "\n",
    "#CODE HERE"
   ]
  },
  {
   "cell_type": "markdown",
   "metadata": {},
   "source": [
    "9. Look for all the words that contain three consecutive vowels."
   ]
  },
  {
   "cell_type": "code",
   "execution_count": null,
   "metadata": {},
   "outputs": [],
   "source": [
    "Oliver = '''The pace at which they went, was such a very lazy, ill-looking saunter, that Oliver soon began \n",
    "to think his companions were going to deceive the old gentleman, by not going to work at all. \n",
    "The Dodger had a vicious propensity, too, of pulling the caps from the heads of small boys and tossing them down areas; \n",
    "while Charley Bates exhibited some very loose notions concerning the rights of property, by pilfering divers apples \n",
    "and onions from the stalls at the kennel sides, and thrusting them into pockets which were so surprisingly capacious, \n",
    "that they seemed to undermine his whole suit of clothes in every direction. These things looked so bad, \n",
    "that Oliver was on the point of declaring his intention of seeking his way back, in the best way he could; \n",
    "when his thoughts were suddenly directed into another channel, by a very mysterious change of behaviour on the part of the Dodger.'''"
   ]
  },
  {
   "cell_type": "code",
   "execution_count": null,
   "metadata": {},
   "outputs": [],
   "source": [
    "#CODE HERE"
   ]
  },
  {
   "cell_type": "markdown",
   "metadata": {},
   "source": [
    "10. Find all the words before a linebreak. <br>\n",
    "The output should look like this:\n",
    "['began', 'all', 'areas', 'apples', 'capacious', 'bad', 'could']"
   ]
  },
  {
   "cell_type": "code",
   "execution_count": null,
   "metadata": {},
   "outputs": [],
   "source": [
    "#CODE HERE"
   ]
  }
 ],
 "metadata": {
  "kernelspec": {
   "display_name": "Python 3 (ipykernel)",
   "language": "python",
   "name": "python3"
  },
  "language_info": {
   "codemirror_mode": {
    "name": "ipython",
    "version": 3
   },
   "file_extension": ".py",
   "mimetype": "text/x-python",
   "name": "python",
   "nbconvert_exporter": "python",
   "pygments_lexer": "ipython3",
   "version": "3.11.4"
  },
  "vscode": {
   "interpreter": {
    "hash": "96e0a4d32f1918f770291244863a4a1e044b05d1a3b8d455e2e179187e01062a"
   }
  }
 },
 "nbformat": 4,
 "nbformat_minor": 2
}
